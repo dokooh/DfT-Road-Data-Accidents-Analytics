{
 "cells": [
  {
   "cell_type": "code",
   "execution_count": 1,
   "id": "f8f22df2",
   "metadata": {},
   "outputs": [
    {
     "data": {
      "text/html": [
       "        <script type=\"text/javascript\">\n",
       "        window.PlotlyConfig = {MathJaxConfig: 'local'};\n",
       "        if (window.MathJax) {MathJax.Hub.Config({SVG: {font: \"STIX-Web\"}});}\n",
       "        if (typeof require !== 'undefined') {\n",
       "        require.undef(\"plotly\");\n",
       "        requirejs.config({\n",
       "            paths: {\n",
       "                'plotly': ['https://cdn.plot.ly/plotly-latest.min']\n",
       "            }\n",
       "        });\n",
       "        require(['plotly'], function(Plotly) {\n",
       "            window._Plotly = Plotly;\n",
       "        });\n",
       "        }\n",
       "        </script>\n",
       "        "
      ]
     },
     "metadata": {},
     "output_type": "display_data"
    }
   ],
   "source": [
    "import pandas as pd\n",
    "import seaborn as sns\n",
    "import matplotlib.pyplot as plt\n",
    "\n",
    "# Import statements required for Plotly \n",
    "import plotly.offline as py\n",
    "py.init_notebook_mode(connected=True)\n",
    "import plotly.graph_objs as go\n",
    "import plotly.tools as tls\n",
    "\n",
    "from sklearn.ensemble import RandomForestClassifier, GradientBoostingClassifier\n",
    "from sklearn.linear_model import LogisticRegression\n",
    "from sklearn.metrics import (accuracy_score, log_loss, classification_report)\n",
    "from sklearn.model_selection import train_test_split\n",
    "from imblearn.over_sampling import SMOTE\n",
    "from sklearn.preprocessing import StandardScaler\n",
    "from sklearn.model_selection import StratifiedShuffleSplit\n",
    "\n",
    "from supervised.automl import AutoML\n",
    "\n",
    "from sklearn import tree\n",
    "from IPython.display import Image as PImage\n",
    "from subprocess import check_call\n",
    "from PIL import Image, ImageDraw, ImageFont\n",
    "import re\n",
    "\n",
    "# Import and suppress warnings\n",
    "import warnings\n",
    "warnings.filterwarnings('ignore')"
   ]
  },
  {
   "cell_type": "code",
   "execution_count": 2,
   "id": "730b04ca",
   "metadata": {},
   "outputs": [
    {
     "data": {
      "text/html": [
       "<div>\n",
       "<style scoped>\n",
       "    .dataframe tbody tr th:only-of-type {\n",
       "        vertical-align: middle;\n",
       "    }\n",
       "\n",
       "    .dataframe tbody tr th {\n",
       "        vertical-align: top;\n",
       "    }\n",
       "\n",
       "    .dataframe thead th {\n",
       "        text-align: right;\n",
       "    }\n",
       "</style>\n",
       "<table border=\"1\" class=\"dataframe\">\n",
       "  <thead>\n",
       "    <tr style=\"text-align: right;\">\n",
       "      <th></th>\n",
       "      <th>Accident_Index</th>\n",
       "      <th>Location_Easting_OSGR</th>\n",
       "      <th>Location_Northing_OSGR</th>\n",
       "      <th>Longitude</th>\n",
       "      <th>Latitude</th>\n",
       "      <th>Police_Force</th>\n",
       "      <th>Accident_Severity</th>\n",
       "      <th>Number_of_Vehicles</th>\n",
       "      <th>Number_of_Casualties</th>\n",
       "      <th>Date</th>\n",
       "      <th>Day_of_Week</th>\n",
       "      <th>Time</th>\n",
       "      <th>Local_Authority_(District)</th>\n",
       "      <th>Local_Authority_(Highway)</th>\n",
       "      <th>1st_Road_Class</th>\n",
       "      <th>1st_Road_Number</th>\n",
       "      <th>Road_Type</th>\n",
       "      <th>Speed_limit</th>\n",
       "      <th>Junction_Detail</th>\n",
       "      <th>Junction_Control</th>\n",
       "      <th>2nd_Road_Class</th>\n",
       "      <th>2nd_Road_Number</th>\n",
       "      <th>Pedestrian_Crossing-Human_Control</th>\n",
       "      <th>Pedestrian_Crossing-Physical_Facilities</th>\n",
       "      <th>Light_Conditions</th>\n",
       "      <th>Weather_Conditions</th>\n",
       "      <th>Road_Surface_Conditions</th>\n",
       "      <th>Special_Conditions_at_Site</th>\n",
       "      <th>Carriageway_Hazards</th>\n",
       "      <th>Urban_or_Rural_Area</th>\n",
       "      <th>Did_Police_Officer_Attend_Scene_of_Accident</th>\n",
       "      <th>LSOA_of_Accident_Location</th>\n",
       "    </tr>\n",
       "  </thead>\n",
       "  <tbody>\n",
       "    <tr>\n",
       "      <th>0</th>\n",
       "      <td>2019010128300</td>\n",
       "      <td>528218.0</td>\n",
       "      <td>180407.0</td>\n",
       "      <td>-0.153842</td>\n",
       "      <td>51.508057</td>\n",
       "      <td>1</td>\n",
       "      <td>3</td>\n",
       "      <td>2</td>\n",
       "      <td>3</td>\n",
       "      <td>18/02/2019</td>\n",
       "      <td>2</td>\n",
       "      <td>17:50</td>\n",
       "      <td>1</td>\n",
       "      <td>E09000033</td>\n",
       "      <td>3</td>\n",
       "      <td>4202</td>\n",
       "      <td>1</td>\n",
       "      <td>30</td>\n",
       "      <td>1</td>\n",
       "      <td>2</td>\n",
       "      <td>3</td>\n",
       "      <td>4202</td>\n",
       "      <td>0</td>\n",
       "      <td>5</td>\n",
       "      <td>1</td>\n",
       "      <td>1</td>\n",
       "      <td>1</td>\n",
       "      <td>0</td>\n",
       "      <td>0</td>\n",
       "      <td>1</td>\n",
       "      <td>3</td>\n",
       "      <td>E01004762</td>\n",
       "    </tr>\n",
       "    <tr>\n",
       "      <th>1</th>\n",
       "      <td>2019010152270</td>\n",
       "      <td>530219.0</td>\n",
       "      <td>172463.0</td>\n",
       "      <td>-0.127949</td>\n",
       "      <td>51.436208</td>\n",
       "      <td>1</td>\n",
       "      <td>3</td>\n",
       "      <td>2</td>\n",
       "      <td>1</td>\n",
       "      <td>15/01/2019</td>\n",
       "      <td>3</td>\n",
       "      <td>21:45</td>\n",
       "      <td>9</td>\n",
       "      <td>E09000022</td>\n",
       "      <td>3</td>\n",
       "      <td>23</td>\n",
       "      <td>2</td>\n",
       "      <td>30</td>\n",
       "      <td>0</td>\n",
       "      <td>-1</td>\n",
       "      <td>-1</td>\n",
       "      <td>0</td>\n",
       "      <td>-1</td>\n",
       "      <td>-1</td>\n",
       "      <td>4</td>\n",
       "      <td>1</td>\n",
       "      <td>1</td>\n",
       "      <td>0</td>\n",
       "      <td>0</td>\n",
       "      <td>1</td>\n",
       "      <td>3</td>\n",
       "      <td>E01003117</td>\n",
       "    </tr>\n",
       "    <tr>\n",
       "      <th>2</th>\n",
       "      <td>2019010155191</td>\n",
       "      <td>530222.0</td>\n",
       "      <td>182543.0</td>\n",
       "      <td>-0.124193</td>\n",
       "      <td>51.526795</td>\n",
       "      <td>1</td>\n",
       "      <td>3</td>\n",
       "      <td>2</td>\n",
       "      <td>1</td>\n",
       "      <td>01/01/2019</td>\n",
       "      <td>3</td>\n",
       "      <td>01:50</td>\n",
       "      <td>2</td>\n",
       "      <td>E09000007</td>\n",
       "      <td>4</td>\n",
       "      <td>504</td>\n",
       "      <td>6</td>\n",
       "      <td>30</td>\n",
       "      <td>3</td>\n",
       "      <td>4</td>\n",
       "      <td>6</td>\n",
       "      <td>0</td>\n",
       "      <td>0</td>\n",
       "      <td>0</td>\n",
       "      <td>4</td>\n",
       "      <td>1</td>\n",
       "      <td>1</td>\n",
       "      <td>0</td>\n",
       "      <td>0</td>\n",
       "      <td>1</td>\n",
       "      <td>1</td>\n",
       "      <td>E01000943</td>\n",
       "    </tr>\n",
       "    <tr>\n",
       "      <th>3</th>\n",
       "      <td>2019010155192</td>\n",
       "      <td>525531.0</td>\n",
       "      <td>184605.0</td>\n",
       "      <td>-0.191044</td>\n",
       "      <td>51.546387</td>\n",
       "      <td>1</td>\n",
       "      <td>2</td>\n",
       "      <td>1</td>\n",
       "      <td>1</td>\n",
       "      <td>01/01/2019</td>\n",
       "      <td>3</td>\n",
       "      <td>01:20</td>\n",
       "      <td>2</td>\n",
       "      <td>E09000007</td>\n",
       "      <td>4</td>\n",
       "      <td>510</td>\n",
       "      <td>6</td>\n",
       "      <td>20</td>\n",
       "      <td>3</td>\n",
       "      <td>4</td>\n",
       "      <td>4</td>\n",
       "      <td>510</td>\n",
       "      <td>0</td>\n",
       "      <td>0</td>\n",
       "      <td>4</td>\n",
       "      <td>1</td>\n",
       "      <td>1</td>\n",
       "      <td>0</td>\n",
       "      <td>0</td>\n",
       "      <td>1</td>\n",
       "      <td>1</td>\n",
       "      <td>E01000973</td>\n",
       "    </tr>\n",
       "    <tr>\n",
       "      <th>4</th>\n",
       "      <td>2019010155194</td>\n",
       "      <td>524920.0</td>\n",
       "      <td>184004.0</td>\n",
       "      <td>-0.200064</td>\n",
       "      <td>51.541121</td>\n",
       "      <td>1</td>\n",
       "      <td>3</td>\n",
       "      <td>2</td>\n",
       "      <td>2</td>\n",
       "      <td>01/01/2019</td>\n",
       "      <td>3</td>\n",
       "      <td>00:40</td>\n",
       "      <td>28</td>\n",
       "      <td>E09000005</td>\n",
       "      <td>3</td>\n",
       "      <td>4003</td>\n",
       "      <td>6</td>\n",
       "      <td>30</td>\n",
       "      <td>6</td>\n",
       "      <td>4</td>\n",
       "      <td>6</td>\n",
       "      <td>0</td>\n",
       "      <td>0</td>\n",
       "      <td>0</td>\n",
       "      <td>4</td>\n",
       "      <td>1</td>\n",
       "      <td>1</td>\n",
       "      <td>0</td>\n",
       "      <td>0</td>\n",
       "      <td>1</td>\n",
       "      <td>1</td>\n",
       "      <td>E01000546</td>\n",
       "    </tr>\n",
       "  </tbody>\n",
       "</table>\n",
       "</div>"
      ],
      "text/plain": [
       "  Accident_Index  Location_Easting_OSGR  Location_Northing_OSGR  Longitude  \\\n",
       "0  2019010128300               528218.0                180407.0  -0.153842   \n",
       "1  2019010152270               530219.0                172463.0  -0.127949   \n",
       "2  2019010155191               530222.0                182543.0  -0.124193   \n",
       "3  2019010155192               525531.0                184605.0  -0.191044   \n",
       "4  2019010155194               524920.0                184004.0  -0.200064   \n",
       "\n",
       "    Latitude  Police_Force  Accident_Severity  Number_of_Vehicles  \\\n",
       "0  51.508057             1                  3                   2   \n",
       "1  51.436208             1                  3                   2   \n",
       "2  51.526795             1                  3                   2   \n",
       "3  51.546387             1                  2                   1   \n",
       "4  51.541121             1                  3                   2   \n",
       "\n",
       "   Number_of_Casualties        Date  Day_of_Week   Time  \\\n",
       "0                     3  18/02/2019            2  17:50   \n",
       "1                     1  15/01/2019            3  21:45   \n",
       "2                     1  01/01/2019            3  01:50   \n",
       "3                     1  01/01/2019            3  01:20   \n",
       "4                     2  01/01/2019            3  00:40   \n",
       "\n",
       "   Local_Authority_(District) Local_Authority_(Highway)  1st_Road_Class  \\\n",
       "0                           1                 E09000033               3   \n",
       "1                           9                 E09000022               3   \n",
       "2                           2                 E09000007               4   \n",
       "3                           2                 E09000007               4   \n",
       "4                          28                 E09000005               3   \n",
       "\n",
       "   1st_Road_Number  Road_Type  Speed_limit  Junction_Detail  Junction_Control  \\\n",
       "0             4202          1           30                1                 2   \n",
       "1               23          2           30                0                -1   \n",
       "2              504          6           30                3                 4   \n",
       "3              510          6           20                3                 4   \n",
       "4             4003          6           30                6                 4   \n",
       "\n",
       "   2nd_Road_Class  2nd_Road_Number  Pedestrian_Crossing-Human_Control  \\\n",
       "0               3             4202                                  0   \n",
       "1              -1                0                                 -1   \n",
       "2               6                0                                  0   \n",
       "3               4              510                                  0   \n",
       "4               6                0                                  0   \n",
       "\n",
       "   Pedestrian_Crossing-Physical_Facilities  Light_Conditions  \\\n",
       "0                                        5                 1   \n",
       "1                                       -1                 4   \n",
       "2                                        0                 4   \n",
       "3                                        0                 4   \n",
       "4                                        0                 4   \n",
       "\n",
       "   Weather_Conditions  Road_Surface_Conditions  Special_Conditions_at_Site  \\\n",
       "0                   1                        1                           0   \n",
       "1                   1                        1                           0   \n",
       "2                   1                        1                           0   \n",
       "3                   1                        1                           0   \n",
       "4                   1                        1                           0   \n",
       "\n",
       "   Carriageway_Hazards  Urban_or_Rural_Area  \\\n",
       "0                    0                    1   \n",
       "1                    0                    1   \n",
       "2                    0                    1   \n",
       "3                    0                    1   \n",
       "4                    0                    1   \n",
       "\n",
       "   Did_Police_Officer_Attend_Scene_of_Accident LSOA_of_Accident_Location  \n",
       "0                                            3                 E01004762  \n",
       "1                                            3                 E01003117  \n",
       "2                                            1                 E01000943  \n",
       "3                                            1                 E01000973  \n",
       "4                                            1                 E01000546  "
      ]
     },
     "execution_count": 2,
     "metadata": {},
     "output_type": "execute_result"
    }
   ],
   "source": [
    "# data in load\n",
    "pd.set_option('display.max_columns', None) \n",
    "df = pd.read_csv(\n",
    "    \"../dataset/Road Safety Data - Accidents 2019.csv\",\n",
    "    skipinitialspace=True,\n",
    "    index_col=False\n",
    ")\n",
    "df.head()"
   ]
  },
  {
   "cell_type": "code",
   "execution_count": 3,
   "id": "7748716d",
   "metadata": {},
   "outputs": [
    {
     "data": {
      "text/html": [
       "<div>\n",
       "<style scoped>\n",
       "    .dataframe tbody tr th:only-of-type {\n",
       "        vertical-align: middle;\n",
       "    }\n",
       "\n",
       "    .dataframe tbody tr th {\n",
       "        vertical-align: top;\n",
       "    }\n",
       "\n",
       "    .dataframe thead th {\n",
       "        text-align: right;\n",
       "    }\n",
       "</style>\n",
       "<table border=\"1\" class=\"dataframe\">\n",
       "  <thead>\n",
       "    <tr style=\"text-align: right;\">\n",
       "      <th></th>\n",
       "      <th>Location_Easting_OSGR</th>\n",
       "      <th>Location_Northing_OSGR</th>\n",
       "      <th>Longitude</th>\n",
       "      <th>Latitude</th>\n",
       "      <th>Police_Force</th>\n",
       "      <th>Accident_Severity</th>\n",
       "      <th>Number_of_Vehicles</th>\n",
       "      <th>Number_of_Casualties</th>\n",
       "      <th>Day_of_Week</th>\n",
       "      <th>Local_Authority_(District)</th>\n",
       "      <th>1st_Road_Class</th>\n",
       "      <th>1st_Road_Number</th>\n",
       "      <th>Road_Type</th>\n",
       "      <th>Speed_limit</th>\n",
       "      <th>Junction_Detail</th>\n",
       "      <th>Junction_Control</th>\n",
       "      <th>2nd_Road_Class</th>\n",
       "      <th>2nd_Road_Number</th>\n",
       "      <th>Pedestrian_Crossing-Human_Control</th>\n",
       "      <th>Pedestrian_Crossing-Physical_Facilities</th>\n",
       "      <th>Light_Conditions</th>\n",
       "      <th>Weather_Conditions</th>\n",
       "      <th>Road_Surface_Conditions</th>\n",
       "      <th>Special_Conditions_at_Site</th>\n",
       "      <th>Carriageway_Hazards</th>\n",
       "      <th>Urban_or_Rural_Area</th>\n",
       "      <th>Did_Police_Officer_Attend_Scene_of_Accident</th>\n",
       "    </tr>\n",
       "  </thead>\n",
       "  <tbody>\n",
       "    <tr>\n",
       "      <th>count</th>\n",
       "      <td>117508.000000</td>\n",
       "      <td>1.175080e+05</td>\n",
       "      <td>117508.000000</td>\n",
       "      <td>117508.000000</td>\n",
       "      <td>117536.000000</td>\n",
       "      <td>117536.000000</td>\n",
       "      <td>117536.000000</td>\n",
       "      <td>117536.000000</td>\n",
       "      <td>117536.000000</td>\n",
       "      <td>117536.000000</td>\n",
       "      <td>117536.000000</td>\n",
       "      <td>117536.000000</td>\n",
       "      <td>117536.000000</td>\n",
       "      <td>117536.000000</td>\n",
       "      <td>117536.000000</td>\n",
       "      <td>117536.000000</td>\n",
       "      <td>117536.000000</td>\n",
       "      <td>117536.000000</td>\n",
       "      <td>117536.000000</td>\n",
       "      <td>117536.000000</td>\n",
       "      <td>117536.000000</td>\n",
       "      <td>117536.000000</td>\n",
       "      <td>117536.000000</td>\n",
       "      <td>117536.000000</td>\n",
       "      <td>117536.000000</td>\n",
       "      <td>117536.000000</td>\n",
       "      <td>117536.000000</td>\n",
       "    </tr>\n",
       "    <tr>\n",
       "      <th>mean</th>\n",
       "      <td>452403.224717</td>\n",
       "      <td>2.786857e+05</td>\n",
       "      <td>-1.249439</td>\n",
       "      <td>52.395427</td>\n",
       "      <td>28.228160</td>\n",
       "      <td>2.772512</td>\n",
       "      <td>1.840976</td>\n",
       "      <td>1.303073</td>\n",
       "      <td>4.111149</td>\n",
       "      <td>326.686522</td>\n",
       "      <td>4.192052</td>\n",
       "      <td>864.461365</td>\n",
       "      <td>5.213364</td>\n",
       "      <td>36.773414</td>\n",
       "      <td>2.299704</td>\n",
       "      <td>1.532245</td>\n",
       "      <td>2.618134</td>\n",
       "      <td>306.326121</td>\n",
       "      <td>-0.005717</td>\n",
       "      <td>0.862340</td>\n",
       "      <td>2.046888</td>\n",
       "      <td>1.653102</td>\n",
       "      <td>1.291945</td>\n",
       "      <td>0.074939</td>\n",
       "      <td>0.044318</td>\n",
       "      <td>1.323569</td>\n",
       "      <td>1.392807</td>\n",
       "    </tr>\n",
       "    <tr>\n",
       "      <th>std</th>\n",
       "      <td>95033.024831</td>\n",
       "      <td>1.509356e+05</td>\n",
       "      <td>1.392356</td>\n",
       "      <td>1.359522</td>\n",
       "      <td>24.622519</td>\n",
       "      <td>0.451610</td>\n",
       "      <td>0.708412</td>\n",
       "      <td>0.754369</td>\n",
       "      <td>1.920117</td>\n",
       "      <td>256.494631</td>\n",
       "      <td>1.462743</td>\n",
       "      <td>2223.470576</td>\n",
       "      <td>1.676701</td>\n",
       "      <td>14.066137</td>\n",
       "      <td>2.684351</td>\n",
       "      <td>2.352310</td>\n",
       "      <td>3.210643</td>\n",
       "      <td>1160.683698</td>\n",
       "      <td>0.277764</td>\n",
       "      <td>1.996284</td>\n",
       "      <td>1.731131</td>\n",
       "      <td>1.809202</td>\n",
       "      <td>0.598592</td>\n",
       "      <td>0.663085</td>\n",
       "      <td>0.528075</td>\n",
       "      <td>0.468349</td>\n",
       "      <td>0.638504</td>\n",
       "    </tr>\n",
       "    <tr>\n",
       "      <th>min</th>\n",
       "      <td>64084.000000</td>\n",
       "      <td>1.081400e+04</td>\n",
       "      <td>-7.525273</td>\n",
       "      <td>49.917760</td>\n",
       "      <td>1.000000</td>\n",
       "      <td>1.000000</td>\n",
       "      <td>1.000000</td>\n",
       "      <td>1.000000</td>\n",
       "      <td>1.000000</td>\n",
       "      <td>1.000000</td>\n",
       "      <td>1.000000</td>\n",
       "      <td>0.000000</td>\n",
       "      <td>1.000000</td>\n",
       "      <td>-1.000000</td>\n",
       "      <td>-1.000000</td>\n",
       "      <td>-1.000000</td>\n",
       "      <td>-1.000000</td>\n",
       "      <td>-1.000000</td>\n",
       "      <td>-1.000000</td>\n",
       "      <td>-1.000000</td>\n",
       "      <td>-1.000000</td>\n",
       "      <td>1.000000</td>\n",
       "      <td>-1.000000</td>\n",
       "      <td>-1.000000</td>\n",
       "      <td>-1.000000</td>\n",
       "      <td>1.000000</td>\n",
       "      <td>1.000000</td>\n",
       "    </tr>\n",
       "    <tr>\n",
       "      <th>25%</th>\n",
       "      <td>388018.250000</td>\n",
       "      <td>1.755260e+05</td>\n",
       "      <td>-2.180605</td>\n",
       "      <td>51.465934</td>\n",
       "      <td>5.000000</td>\n",
       "      <td>3.000000</td>\n",
       "      <td>1.000000</td>\n",
       "      <td>1.000000</td>\n",
       "      <td>2.000000</td>\n",
       "      <td>84.000000</td>\n",
       "      <td>3.000000</td>\n",
       "      <td>0.000000</td>\n",
       "      <td>6.000000</td>\n",
       "      <td>30.000000</td>\n",
       "      <td>0.000000</td>\n",
       "      <td>-1.000000</td>\n",
       "      <td>-1.000000</td>\n",
       "      <td>0.000000</td>\n",
       "      <td>0.000000</td>\n",
       "      <td>0.000000</td>\n",
       "      <td>1.000000</td>\n",
       "      <td>1.000000</td>\n",
       "      <td>1.000000</td>\n",
       "      <td>0.000000</td>\n",
       "      <td>0.000000</td>\n",
       "      <td>1.000000</td>\n",
       "      <td>1.000000</td>\n",
       "    </tr>\n",
       "    <tr>\n",
       "      <th>50%</th>\n",
       "      <td>459396.000000</td>\n",
       "      <td>2.184650e+05</td>\n",
       "      <td>-1.123331</td>\n",
       "      <td>51.852523</td>\n",
       "      <td>23.000000</td>\n",
       "      <td>3.000000</td>\n",
       "      <td>2.000000</td>\n",
       "      <td>1.000000</td>\n",
       "      <td>4.000000</td>\n",
       "      <td>305.000000</td>\n",
       "      <td>4.000000</td>\n",
       "      <td>45.000000</td>\n",
       "      <td>6.000000</td>\n",
       "      <td>30.000000</td>\n",
       "      <td>1.000000</td>\n",
       "      <td>2.000000</td>\n",
       "      <td>3.000000</td>\n",
       "      <td>0.000000</td>\n",
       "      <td>0.000000</td>\n",
       "      <td>0.000000</td>\n",
       "      <td>1.000000</td>\n",
       "      <td>1.000000</td>\n",
       "      <td>1.000000</td>\n",
       "      <td>0.000000</td>\n",
       "      <td>0.000000</td>\n",
       "      <td>1.000000</td>\n",
       "      <td>1.000000</td>\n",
       "    </tr>\n",
       "    <tr>\n",
       "      <th>75%</th>\n",
       "      <td>529373.250000</td>\n",
       "      <td>3.848040e+05</td>\n",
       "      <td>-0.135499</td>\n",
       "      <td>53.357497</td>\n",
       "      <td>45.000000</td>\n",
       "      <td>3.000000</td>\n",
       "      <td>2.000000</td>\n",
       "      <td>1.000000</td>\n",
       "      <td>6.000000</td>\n",
       "      <td>514.000000</td>\n",
       "      <td>6.000000</td>\n",
       "      <td>603.000000</td>\n",
       "      <td>6.000000</td>\n",
       "      <td>40.000000</td>\n",
       "      <td>3.000000</td>\n",
       "      <td>4.000000</td>\n",
       "      <td>6.000000</td>\n",
       "      <td>0.000000</td>\n",
       "      <td>0.000000</td>\n",
       "      <td>0.000000</td>\n",
       "      <td>4.000000</td>\n",
       "      <td>1.000000</td>\n",
       "      <td>2.000000</td>\n",
       "      <td>0.000000</td>\n",
       "      <td>0.000000</td>\n",
       "      <td>2.000000</td>\n",
       "      <td>2.000000</td>\n",
       "    </tr>\n",
       "    <tr>\n",
       "      <th>max</th>\n",
       "      <td>655244.000000</td>\n",
       "      <td>1.167366e+06</td>\n",
       "      <td>1.757476</td>\n",
       "      <td>60.388637</td>\n",
       "      <td>98.000000</td>\n",
       "      <td>3.000000</td>\n",
       "      <td>17.000000</td>\n",
       "      <td>52.000000</td>\n",
       "      <td>7.000000</td>\n",
       "      <td>941.000000</td>\n",
       "      <td>6.000000</td>\n",
       "      <td>498878.000000</td>\n",
       "      <td>9.000000</td>\n",
       "      <td>70.000000</td>\n",
       "      <td>9.000000</td>\n",
       "      <td>4.000000</td>\n",
       "      <td>6.000000</td>\n",
       "      <td>9899.000000</td>\n",
       "      <td>2.000000</td>\n",
       "      <td>8.000000</td>\n",
       "      <td>7.000000</td>\n",
       "      <td>9.000000</td>\n",
       "      <td>5.000000</td>\n",
       "      <td>7.000000</td>\n",
       "      <td>7.000000</td>\n",
       "      <td>3.000000</td>\n",
       "      <td>3.000000</td>\n",
       "    </tr>\n",
       "  </tbody>\n",
       "</table>\n",
       "</div>"
      ],
      "text/plain": [
       "       Location_Easting_OSGR  Location_Northing_OSGR      Longitude  \\\n",
       "count          117508.000000            1.175080e+05  117508.000000   \n",
       "mean           452403.224717            2.786857e+05      -1.249439   \n",
       "std             95033.024831            1.509356e+05       1.392356   \n",
       "min             64084.000000            1.081400e+04      -7.525273   \n",
       "25%            388018.250000            1.755260e+05      -2.180605   \n",
       "50%            459396.000000            2.184650e+05      -1.123331   \n",
       "75%            529373.250000            3.848040e+05      -0.135499   \n",
       "max            655244.000000            1.167366e+06       1.757476   \n",
       "\n",
       "            Latitude   Police_Force  Accident_Severity  Number_of_Vehicles  \\\n",
       "count  117508.000000  117536.000000      117536.000000       117536.000000   \n",
       "mean       52.395427      28.228160           2.772512            1.840976   \n",
       "std         1.359522      24.622519           0.451610            0.708412   \n",
       "min        49.917760       1.000000           1.000000            1.000000   \n",
       "25%        51.465934       5.000000           3.000000            1.000000   \n",
       "50%        51.852523      23.000000           3.000000            2.000000   \n",
       "75%        53.357497      45.000000           3.000000            2.000000   \n",
       "max        60.388637      98.000000           3.000000           17.000000   \n",
       "\n",
       "       Number_of_Casualties    Day_of_Week  Local_Authority_(District)  \\\n",
       "count         117536.000000  117536.000000               117536.000000   \n",
       "mean               1.303073       4.111149                  326.686522   \n",
       "std                0.754369       1.920117                  256.494631   \n",
       "min                1.000000       1.000000                    1.000000   \n",
       "25%                1.000000       2.000000                   84.000000   \n",
       "50%                1.000000       4.000000                  305.000000   \n",
       "75%                1.000000       6.000000                  514.000000   \n",
       "max               52.000000       7.000000                  941.000000   \n",
       "\n",
       "       1st_Road_Class  1st_Road_Number      Road_Type    Speed_limit  \\\n",
       "count   117536.000000    117536.000000  117536.000000  117536.000000   \n",
       "mean         4.192052       864.461365       5.213364      36.773414   \n",
       "std          1.462743      2223.470576       1.676701      14.066137   \n",
       "min          1.000000         0.000000       1.000000      -1.000000   \n",
       "25%          3.000000         0.000000       6.000000      30.000000   \n",
       "50%          4.000000        45.000000       6.000000      30.000000   \n",
       "75%          6.000000       603.000000       6.000000      40.000000   \n",
       "max          6.000000    498878.000000       9.000000      70.000000   \n",
       "\n",
       "       Junction_Detail  Junction_Control  2nd_Road_Class  2nd_Road_Number  \\\n",
       "count    117536.000000     117536.000000   117536.000000    117536.000000   \n",
       "mean          2.299704          1.532245        2.618134       306.326121   \n",
       "std           2.684351          2.352310        3.210643      1160.683698   \n",
       "min          -1.000000         -1.000000       -1.000000        -1.000000   \n",
       "25%           0.000000         -1.000000       -1.000000         0.000000   \n",
       "50%           1.000000          2.000000        3.000000         0.000000   \n",
       "75%           3.000000          4.000000        6.000000         0.000000   \n",
       "max           9.000000          4.000000        6.000000      9899.000000   \n",
       "\n",
       "       Pedestrian_Crossing-Human_Control  \\\n",
       "count                      117536.000000   \n",
       "mean                           -0.005717   \n",
       "std                             0.277764   \n",
       "min                            -1.000000   \n",
       "25%                             0.000000   \n",
       "50%                             0.000000   \n",
       "75%                             0.000000   \n",
       "max                             2.000000   \n",
       "\n",
       "       Pedestrian_Crossing-Physical_Facilities  Light_Conditions  \\\n",
       "count                            117536.000000     117536.000000   \n",
       "mean                                  0.862340          2.046888   \n",
       "std                                   1.996284          1.731131   \n",
       "min                                  -1.000000         -1.000000   \n",
       "25%                                   0.000000          1.000000   \n",
       "50%                                   0.000000          1.000000   \n",
       "75%                                   0.000000          4.000000   \n",
       "max                                   8.000000          7.000000   \n",
       "\n",
       "       Weather_Conditions  Road_Surface_Conditions  \\\n",
       "count       117536.000000            117536.000000   \n",
       "mean             1.653102                 1.291945   \n",
       "std              1.809202                 0.598592   \n",
       "min              1.000000                -1.000000   \n",
       "25%              1.000000                 1.000000   \n",
       "50%              1.000000                 1.000000   \n",
       "75%              1.000000                 2.000000   \n",
       "max              9.000000                 5.000000   \n",
       "\n",
       "       Special_Conditions_at_Site  Carriageway_Hazards  Urban_or_Rural_Area  \\\n",
       "count               117536.000000        117536.000000        117536.000000   \n",
       "mean                     0.074939             0.044318             1.323569   \n",
       "std                      0.663085             0.528075             0.468349   \n",
       "min                     -1.000000            -1.000000             1.000000   \n",
       "25%                      0.000000             0.000000             1.000000   \n",
       "50%                      0.000000             0.000000             1.000000   \n",
       "75%                      0.000000             0.000000             2.000000   \n",
       "max                      7.000000             7.000000             3.000000   \n",
       "\n",
       "       Did_Police_Officer_Attend_Scene_of_Accident  \n",
       "count                                117536.000000  \n",
       "mean                                      1.392807  \n",
       "std                                       0.638504  \n",
       "min                                       1.000000  \n",
       "25%                                       1.000000  \n",
       "50%                                       1.000000  \n",
       "75%                                       2.000000  \n",
       "max                                       3.000000  "
      ]
     },
     "execution_count": 3,
     "metadata": {},
     "output_type": "execute_result"
    }
   ],
   "source": [
    "df.describe()"
   ]
  },
  {
   "cell_type": "code",
   "execution_count": 4,
   "id": "1737a58c",
   "metadata": {},
   "outputs": [
    {
     "data": {
      "text/plain": [
       "Index(['Accident_Index', 'Location_Easting_OSGR', 'Location_Northing_OSGR',\n",
       "       'Longitude', 'Latitude', 'Police_Force', 'Accident_Severity',\n",
       "       'Number_of_Vehicles', 'Number_of_Casualties', 'Date', 'Day_of_Week',\n",
       "       'Time', 'Local_Authority_(District)', 'Local_Authority_(Highway)',\n",
       "       '1st_Road_Class', '1st_Road_Number', 'Road_Type', 'Speed_limit',\n",
       "       'Junction_Detail', 'Junction_Control', '2nd_Road_Class',\n",
       "       '2nd_Road_Number', 'Pedestrian_Crossing-Human_Control',\n",
       "       'Pedestrian_Crossing-Physical_Facilities', 'Light_Conditions',\n",
       "       'Weather_Conditions', 'Road_Surface_Conditions',\n",
       "       'Special_Conditions_at_Site', 'Carriageway_Hazards',\n",
       "       'Urban_or_Rural_Area', 'Did_Police_Officer_Attend_Scene_of_Accident',\n",
       "       'LSOA_of_Accident_Location'],\n",
       "      dtype='object')"
      ]
     },
     "execution_count": 4,
     "metadata": {},
     "output_type": "execute_result"
    }
   ],
   "source": [
    "df.columns"
   ]
  },
  {
   "cell_type": "code",
   "execution_count": 5,
   "id": "65815b54",
   "metadata": {},
   "outputs": [
    {
     "data": {
      "text/plain": [
       "Accident_Index                                    0\n",
       "Location_Easting_OSGR                            28\n",
       "Location_Northing_OSGR                           28\n",
       "Longitude                                        28\n",
       "Latitude                                         28\n",
       "Police_Force                                      0\n",
       "Accident_Severity                                 0\n",
       "Number_of_Vehicles                                0\n",
       "Number_of_Casualties                              0\n",
       "Date                                              0\n",
       "Day_of_Week                                       0\n",
       "Time                                             63\n",
       "Local_Authority_(District)                        0\n",
       "Local_Authority_(Highway)                         0\n",
       "1st_Road_Class                                    0\n",
       "1st_Road_Number                                   0\n",
       "Road_Type                                         0\n",
       "Speed_limit                                       0\n",
       "Junction_Detail                                   0\n",
       "Junction_Control                                  0\n",
       "2nd_Road_Class                                    0\n",
       "2nd_Road_Number                                   0\n",
       "Pedestrian_Crossing-Human_Control                 0\n",
       "Pedestrian_Crossing-Physical_Facilities           0\n",
       "Light_Conditions                                  0\n",
       "Weather_Conditions                                0\n",
       "Road_Surface_Conditions                           0\n",
       "Special_Conditions_at_Site                        0\n",
       "Carriageway_Hazards                               0\n",
       "Urban_or_Rural_Area                               0\n",
       "Did_Police_Officer_Attend_Scene_of_Accident       0\n",
       "LSOA_of_Accident_Location                      5714\n",
       "dtype: int64"
      ]
     },
     "execution_count": 5,
     "metadata": {},
     "output_type": "execute_result"
    }
   ],
   "source": [
    "# Checking the missing values in the dataset. \n",
    "# Columns count of missing values (0 means no zero values)\n",
    "df.isnull().sum()"
   ]
  },
  {
   "cell_type": "code",
   "execution_count": 6,
   "id": "84f96052",
   "metadata": {},
   "outputs": [],
   "source": [
    "#interpolating remaining \"time\" column NaN values\n",
    "df = df.interpolate()"
   ]
  },
  {
   "cell_type": "code",
   "execution_count": 7,
   "id": "9400d7f4",
   "metadata": {},
   "outputs": [],
   "source": [
    "# Dropping the records with missing column in data dataframe.\n",
    "#df = df[~df['LSOA_of_Accident_Location'].isnull()].copy()\n",
    "\n",
    "# Checking the missing values in the dataset.\n",
    "#df.isnull().sum()"
   ]
  },
  {
   "cell_type": "code",
   "execution_count": 8,
   "id": "afe15038",
   "metadata": {},
   "outputs": [
    {
     "data": {
      "text/plain": [
       "Accident_Index                                    0\n",
       "Location_Easting_OSGR                             0\n",
       "Location_Northing_OSGR                            0\n",
       "Longitude                                         0\n",
       "Latitude                                          0\n",
       "Police_Force                                      0\n",
       "Accident_Severity                                 0\n",
       "Number_of_Vehicles                                0\n",
       "Number_of_Casualties                              0\n",
       "Date                                              0\n",
       "Day_of_Week                                       0\n",
       "Time                                             63\n",
       "Local_Authority_(District)                        0\n",
       "Local_Authority_(Highway)                         0\n",
       "1st_Road_Class                                    0\n",
       "1st_Road_Number                                   0\n",
       "Road_Type                                         0\n",
       "Speed_limit                                       0\n",
       "Junction_Detail                                   0\n",
       "Junction_Control                                  0\n",
       "2nd_Road_Class                                    0\n",
       "2nd_Road_Number                                   0\n",
       "Pedestrian_Crossing-Human_Control                 0\n",
       "Pedestrian_Crossing-Physical_Facilities           0\n",
       "Light_Conditions                                  0\n",
       "Weather_Conditions                                0\n",
       "Road_Surface_Conditions                           0\n",
       "Special_Conditions_at_Site                        0\n",
       "Carriageway_Hazards                               0\n",
       "Urban_or_Rural_Area                               0\n",
       "Did_Police_Officer_Attend_Scene_of_Accident       0\n",
       "LSOA_of_Accident_Location                      5714\n",
       "dtype: int64"
      ]
     },
     "execution_count": 8,
     "metadata": {},
     "output_type": "execute_result"
    }
   ],
   "source": [
    "df.isnull().sum()"
   ]
  },
  {
   "cell_type": "code",
   "execution_count": 9,
   "id": "be1e63c6",
   "metadata": {},
   "outputs": [
    {
     "data": {
      "text/plain": [
       "Index(['Location_Easting_OSGR', 'Location_Northing_OSGR', 'Longitude',\n",
       "       'Latitude', 'Police_Force', 'Accident_Severity', 'Number_of_Vehicles',\n",
       "       'Number_of_Casualties', 'Day_of_Week', 'Local_Authority_(District)',\n",
       "       '1st_Road_Class', '1st_Road_Number', 'Road_Type', 'Speed_limit',\n",
       "       'Junction_Detail', 'Junction_Control', '2nd_Road_Class',\n",
       "       '2nd_Road_Number', 'Pedestrian_Crossing-Human_Control',\n",
       "       'Pedestrian_Crossing-Physical_Facilities', 'Light_Conditions',\n",
       "       'Weather_Conditions', 'Road_Surface_Conditions',\n",
       "       'Special_Conditions_at_Site', 'Carriageway_Hazards',\n",
       "       'Urban_or_Rural_Area', 'Did_Police_Officer_Attend_Scene_of_Accident'],\n",
       "      dtype='object')"
      ]
     },
     "execution_count": 9,
     "metadata": {},
     "output_type": "execute_result"
    }
   ],
   "source": [
    "#get numerical columns\n",
    "numerics = ['int16', 'int32', 'int64', 'float16', 'float32', 'float64']\n",
    "df_num = df.select_dtypes(include=numerics)\n",
    "df_num.columns"
   ]
  },
  {
   "cell_type": "code",
   "execution_count": 10,
   "id": "fa5640cf",
   "metadata": {},
   "outputs": [],
   "source": [
    "## Plotting the KDEplots\n",
    "#f, axes = plt.subplots(3, 3, figsize=(10, 8), \n",
    "#                       sharex=False, sharey=False)\n",
    "\n",
    "## Defining our colormap scheme\n",
    "#s = np.linspace(0, 3, 10)\n",
    "#cmap = sns.cubehelix_palette(start=0.0, light=1, as_cmap=True)\n",
    "\n",
    "## Generate and plot\n",
    "#x = df['Local_Authority_(District)'].values\n",
    "#y = df['Urban_or_Rural_Area'].values\n",
    "#sns.kdeplot(x, y, cmap=cmap, shade=True, cut=5, ax=axes[0,0])\n",
    "#axes[0,0].set( title = 'Local Authority vs. Urban/Rural Area')\n",
    "\n",
    "#f.tight_layout()"
   ]
  },
  {
   "cell_type": "code",
   "execution_count": 11,
   "id": "fac08661",
   "metadata": {},
   "outputs": [],
   "source": [
    "# Define a dictionary for the target mapping\n",
    "# Use the pandas apply method to numerically encode our Did_Police_Officer_Attend_Scene_of_Accident target variable\n",
    "df['Did_Police_Officer_Attend_Scene_of_Accident_numerical'] = df['Did_Police_Officer_Attend_Scene_of_Accident'].values.reshape(-1,1)"
   ]
  },
  {
   "cell_type": "code",
   "execution_count": 12,
   "id": "1f7a3aab",
   "metadata": {},
   "outputs": [
    {
     "data": {
      "text/plain": [
       "0         3\n",
       "1         3\n",
       "2         1\n",
       "3         1\n",
       "4         1\n",
       "         ..\n",
       "117531    1\n",
       "117532    1\n",
       "117533    2\n",
       "117534    2\n",
       "117535    1\n",
       "Name: Did_Police_Officer_Attend_Scene_of_Accident_numerical, Length: 117536, dtype: int64"
      ]
     },
     "execution_count": 12,
     "metadata": {},
     "output_type": "execute_result"
    }
   ],
   "source": [
    "df['Did_Police_Officer_Attend_Scene_of_Accident_numerical']"
   ]
  },
  {
   "cell_type": "code",
   "execution_count": 13,
   "id": "515546dd",
   "metadata": {},
   "outputs": [
    {
     "data": {
      "application/vnd.plotly.v1+json": {
       "config": {
        "linkText": "Export to plot.ly",
        "plotlyServerURL": "https://plot.ly",
        "showLink": false
       },
       "data": [
        {
         "colorscale": [
          [
           0,
           "#440154"
          ],
          [
           0.1111111111111111,
           "#482878"
          ],
          [
           0.2222222222222222,
           "#3e4989"
          ],
          [
           0.3333333333333333,
           "#31688e"
          ],
          [
           0.4444444444444444,
           "#26828e"
          ],
          [
           0.5555555555555556,
           "#1f9e89"
          ],
          [
           0.6666666666666666,
           "#35b779"
          ],
          [
           0.7777777777777778,
           "#6ece58"
          ],
          [
           0.8888888888888888,
           "#b5de2b"
          ],
          [
           1,
           "#fde725"
          ]
         ],
         "opacity": 1,
         "reversescale": false,
         "type": "heatmap",
         "x": [
          "Location_Easting_OSGR",
          "Location_Northing_OSGR",
          "Police_Force",
          "Accident_Severity",
          "Number_of_Vehicles",
          "Number_of_Casualties",
          "Day_of_Week",
          "Local_Authority_(District)",
          "1st_Road_Class",
          "1st_Road_Number",
          "Road_Type",
          "Speed_limit",
          "Junction_Detail",
          "Junction_Control",
          "2nd_Road_Class",
          "2nd_Road_Number",
          "Pedestrian_Crossing-Human_Control",
          "Pedestrian_Crossing-Physical_Facilities",
          "Light_Conditions",
          "Weather_Conditions",
          "Road_Surface_Conditions",
          "Special_Conditions_at_Site",
          "Carriageway_Hazards",
          "Urban_or_Rural_Area",
          "Did_Police_Officer_Attend_Scene_of_Accident"
         ],
         "y": [
          "Location_Easting_OSGR",
          "Location_Northing_OSGR",
          "Police_Force",
          "Accident_Severity",
          "Number_of_Vehicles",
          "Number_of_Casualties",
          "Day_of_Week",
          "Local_Authority_(District)",
          "1st_Road_Class",
          "1st_Road_Number",
          "Road_Type",
          "Speed_limit",
          "Junction_Detail",
          "Junction_Control",
          "2nd_Road_Class",
          "2nd_Road_Number",
          "Pedestrian_Crossing-Human_Control",
          "Pedestrian_Crossing-Physical_Facilities",
          "Light_Conditions",
          "Weather_Conditions",
          "Road_Surface_Conditions",
          "Special_Conditions_at_Site",
          "Carriageway_Hazards",
          "Urban_or_Rural_Area",
          "Did_Police_Officer_Attend_Scene_of_Accident"
         ],
         "z": [
          [
           1,
           -0.41185129950089455,
           -0.3724152485253469,
           0.04987616833054327,
           0.026785748003194994,
           -0.03657738844950423,
           0.0014173302100473303,
           -0.39986039713472993,
           -0.026282234348957684,
           -0.10882667102542164,
           -0.025894684827455373,
           -0.10634957547911493,
           0.027249211487563107,
           0.007656418172646421,
           0.05598826920772753,
           -0.04202940773998106,
           -0.06061265578006526,
           0.053596507797299006,
           0.018499222180167495,
           0.01031625901748624,
           -0.07575000747233501,
           -0.01764952386626238,
           -0.018196430662423654,
           -0.11640672880289889,
           0.11950701989138364
          ],
          [
           -0.41185129950089455,
           1,
           0.143555414922321,
           -0.07750510867464237,
           -0.02470313173818631,
           0.02978548677987064,
           0.005170350517522305,
           0.1075390092264526,
           0.028246996809100443,
           0.04162302105356156,
           0.008541549277793109,
           0.08436829791700746,
           -0.018226993551228893,
           -0.01175799987706221,
           -0.04686274896455731,
           0.016428699432807097,
           0.06427989034145952,
           -0.008328883951053094,
           -0.01994560591961244,
           -0.007198154854265724,
           0.06384982908147614,
           0.010833974379704556,
           0.015605404713580996,
           0.04495169706858209,
           -0.037545791208410756
          ],
          [
           -0.3724152485253469,
           0.143555414922321,
           1,
           -0.07530627075107578,
           0.0033170913695261908,
           0.044745671481525744,
           -0.0070856316694381544,
           0.9812507027213316,
           0.03513917047445631,
           0.02076393297248959,
           0.02777009320411024,
           0.25528556019143567,
           -0.11888888638477595,
           -0.06624008252083789,
           -0.13643526944086762,
           0.01078774559327102,
           0.09239686497884236,
           -0.10346326468229522,
           -0.007927570818594989,
           -0.04464441997538084,
           0.09420722130070681,
           0.03288289863132062,
           0.03996298236929962,
           0.27663023581487656,
           -0.1850176071373176
          ],
          [
           0.04987616833054327,
           -0.07750510867464237,
           -0.07530627075107578,
           1,
           0.07042156664264479,
           -0.08072628014335878,
           0.005522972159845018,
           -0.075572791377619,
           0.009493287286716315,
           -0.01155407557954562,
           -0.034068410974284,
           -0.10072921340294536,
           0.027479922348932234,
           0.03480826643926936,
           0.053084287347643734,
           0.01799965917249797,
           -0.039397960153987874,
           0.013290038867369998,
           -0.045591353109155255,
           0.031339870705558555,
           -0.022880438806158004,
           -0.0053780308699107856,
           -0.016233084012098623,
           -0.10142482038678437,
           0.15752748308310024
          ],
          [
           0.026785748003194994,
           -0.02470313173818631,
           0.0033170913695261908,
           0.07042156664264479,
           1,
           0.21682026625083534,
           -0.0030743702381400167,
           0.006056392282917804,
           -0.1357664418267178,
           -0.005445267796808695,
           -0.07533980857557411,
           0.11056247230975272,
           0.026154648160188466,
           0.03908997716060236,
           0.03258740629828385,
           0.01258950650157239,
           -0.01127936756286802,
           -0.061323438447668646,
           -0.06411578373215385,
           -0.03562712496304637,
           -0.027372488709534647,
           -0.007848496350105106,
           -0.027875101156203286,
           0.05477011440888494,
           -0.036604528068635525
          ],
          [
           -0.03657738844950423,
           0.02978548677987064,
           0.044745671481525744,
           -0.08072628014335878,
           0.21682026625083534,
           1,
           0.0037572120264407756,
           0.050470675569881954,
           -0.08631311536055394,
           0.010977915473707986,
           -0.014942844776616284,
           0.1680535590343849,
           -0.008785667702107673,
           -0.025913243519767742,
           -0.041234181004900713,
           -0.0008945053763840493,
           0.019679535673300982,
           -0.03147048648592181,
           0.030104600892792453,
           -0.025283578736650082,
           0.028683534810589467,
           0.014585805549824278,
           0.009937553085925099,
           0.1363441097858499,
           -0.10724757915612358
          ],
          [
           0.0014173302100473303,
           0.005170350517522305,
           -0.0070856316694381544,
           0.005522972159845018,
           -0.0030743702381400167,
           0.0037572120264407756,
           1,
           -0.007157050089968548,
           0.0008573886277429062,
           0.00017747829887197376,
           -0.0022658397874424185,
           -0.013496748132164765,
           0.0053988617591916345,
           0.004149299684830059,
           0.006556474150702268,
           0.002124874195815843,
           -0.002381836564841046,
           9.408967960508449e-05,
           0.01298611345661736,
           0.015608220809856537,
           0.02587915954510874,
           0.0019980558839296004,
           -0.0025422375771296554,
           -0.013823473152741479,
           0.006498108694510744
          ],
          [
           -0.39986039713472993,
           0.1075390092264526,
           0.9812507027213316,
           -0.075572791377619,
           0.006056392282917804,
           0.050470675569881954,
           -0.007157050089968548,
           1,
           0.04701521904141446,
           0.030350508383917753,
           0.03135975349481631,
           0.26564925707645354,
           -0.12621640654555902,
           -0.06531225517095554,
           -0.1414386835188453,
           0.013050840278925613,
           0.0990253601899259,
           -0.11408483472735657,
           -0.008993892492336298,
           -0.0471462492215757,
           0.09820536242995874,
           0.033928438496499805,
           0.04086710179249406,
           0.29267288330128377,
           -0.19844682359129506
          ],
          [
           -0.026282234348957684,
           0.028246996809100443,
           0.03513917047445631,
           0.009493287286716315,
           -0.1357664418267178,
           -0.08631311536055394,
           0.0008573886277429062,
           0.04701521904141446,
           1,
           -0.1414266926020352,
           0.2999495110755373,
           -0.35335301461458896,
           0.040720832497047,
           0.07399194473942401,
           0.08888985939681245,
           -0.0436151047831215,
           0.008565932444213985,
           -0.10523236915282491,
           -0.036581286038839374,
           0.009595186726384028,
           -0.007298133783119709,
           -0.01704908173389268,
           -0.003991673927403001,
           -0.19196348460239848,
           0.038016011420039734
          ],
          [
           -0.10882667102542164,
           0.04162302105356156,
           0.02076393297248959,
           -0.01155407557954562,
           -0.005445267796808695,
           0.010977915473707986,
           0.00017747829887197376,
           0.030350508383917753,
           -0.1414266926020352,
           1,
           0.011192731056972209,
           -0.02277518946798757,
           0.02098763048010963,
           0.028517556131657306,
           0.026435484246002307,
           0.1498285873520864,
           0.02330014968530401,
           0.04815235710075463,
           0.0041542478315526,
           0.0009065401225389259,
           0.01215917676817139,
           0.003721380801240452,
           0.003294885539991046,
           0.00224411299477,
           -0.025519509225487843
          ],
          [
           -0.025894684827455373,
           0.008541549277793109,
           0.02777009320411024,
           -0.034068410974284,
           -0.07533980857557411,
           -0.014942844776616284,
           -0.0022658397874424185,
           0.03135975349481631,
           0.2999495110755373,
           0.011192731056972209,
           1,
           -0.1863331066012488,
           0.09118205537684632,
           -0.05586109166665956,
           0.014656347666446124,
           -0.07736243736319932,
           -0.059219291439846784,
           -0.06555190460996893,
           -0.006524441841195805,
           0.04786123107548059,
           -0.03441175520648298,
           -0.022830062388212224,
           -0.018587951213394197,
           -0.04517393983633087,
           0.05729273344552706
          ],
          [
           -0.10634957547911493,
           0.08436829791700746,
           0.25528556019143567,
           -0.10072921340294536,
           0.11056247230975272,
           0.1680535590343849,
           -0.013496748132164765,
           0.26564925707645354,
           -0.35335301461458896,
           -0.02277518946798757,
           -0.1863331066012488,
           1,
           -0.22681840678310608,
           -0.23061223000116163,
           -0.31248544533116784,
           -0.026332032621460062,
           0.027219666239700208,
           -0.20037160702325355,
           0.0702856818298615,
           -0.026726931489115004,
           0.11581811787183845,
           0.07076261072230243,
           0.06162705450519162,
           0.6695775390933878,
           -0.2045810421500252
          ],
          [
           0.027249211487563107,
           -0.018226993551228893,
           -0.11888888638477595,
           0.027479922348932234,
           0.026154648160188466,
           -0.008785667702107673,
           0.0053988617591916345,
           -0.12621640654555902,
           0.040720832497047,
           0.02098763048010963,
           0.09118205537684632,
           -0.22681840678310608,
           1,
           0.6632385528581899,
           0.7122623324310199,
           0.12228187661035701,
           0.050178034172887354,
           0.18018634719732335,
           -0.035205682779631334,
           -0.01479850341118829,
           -0.020729985597239656,
           -0.020261268435736033,
           -0.022220461844419236,
           -0.20994649775852628,
           -0.0286323937188544
          ],
          [
           0.007656418172646421,
           -0.01175799987706221,
           -0.06624008252083789,
           0.03480826643926936,
           0.03908997716060236,
           -0.025913243519767742,
           0.004149299684830059,
           -0.06531225517095554,
           0.07399194473942401,
           0.028517556131657306,
           -0.05586109166665956,
           -0.23061223000116163,
           0.6632385528581899,
           1,
           0.8864912149018009,
           0.1949412759490129,
           0.058840019757048244,
           0.08486350740044164,
           -0.058783895042066034,
           -0.028251878260273852,
           -0.008939508597782173,
           -0.02786805424343383,
           -0.028913870320685636,
           -0.18807722418969625,
           -0.07666704165778558
          ],
          [
           0.05598826920772753,
           -0.04686274896455731,
           -0.13643526944086762,
           0.053084287347643734,
           0.03258740629828385,
           -0.041234181004900713,
           0.006556474150702268,
           -0.1414386835188453,
           0.08888985939681245,
           0.026435484246002307,
           0.014656347666446124,
           -0.31248544533116784,
           0.7122623324310199,
           0.8864912149018009,
           1,
           0.12136461094868702,
           -0.014678933007511647,
           0.13837400101486094,
           -0.05257522333555037,
           0.0030278311957528726,
           -0.04652627676840154,
           -0.04277584257300024,
           -0.05125991061668495,
           -0.27088355488994986,
           0.059313186871452116
          ],
          [
           -0.04202940773998106,
           0.016428699432807097,
           0.01078774559327102,
           0.01799965917249797,
           0.01258950650157239,
           -0.0008945053763840493,
           0.002124874195815843,
           0.013050840278925613,
           -0.0436151047831215,
           0.1498285873520864,
           -0.07736243736319932,
           -0.026332032621460062,
           0.12228187661035701,
           0.1949412759490129,
           0.12136461094868702,
           1,
           0.010839390109178646,
           0.10057435028551001,
           -0.005863132171562911,
           -0.0052310078155972375,
           -0.0020836096546680187,
           -0.004844727329339903,
           -0.012829330391102994,
           -0.02688805445370969,
           0.007543220297771249
          ],
          [
           -0.06061265578006526,
           0.06427989034145952,
           0.09239686497884236,
           -0.039397960153987874,
           -0.01127936756286802,
           0.019679535673300982,
           -0.002381836564841046,
           0.0990253601899259,
           0.008565932444213985,
           0.02330014968530401,
           -0.059219291439846784,
           0.027219666239700208,
           0.050178034172887354,
           0.058840019757048244,
           -0.014678933007511647,
           0.010839390109178646,
           1,
           0.13081392353124904,
           -0.021506949713089845,
           -0.11121841663072889,
           0.10332433270566699,
           0.05789796438051642,
           0.07864142245927574,
           0.020303129525709458,
           -0.2872616835502948
          ],
          [
           0.053596507797299006,
           -0.008328883951053094,
           -0.10346326468229522,
           0.013290038867369998,
           -0.061323438447668646,
           -0.03147048648592181,
           9.408967960508449e-05,
           -0.11408483472735657,
           -0.10523236915282491,
           0.04815235710075463,
           -0.06555190460996893,
           -0.20037160702325355,
           0.18018634719732335,
           0.08486350740044164,
           0.13837400101486094,
           0.10057435028551001,
           0.13081392353124904,
           1,
           -0.005658454004656461,
           -0.02313741707373806,
           -0.006467350884183394,
           0.0005303248306895795,
           0.006497542112801999,
           -0.23337535711030905,
           0.0152363556328636
          ],
          [
           0.018499222180167495,
           -0.01994560591961244,
           -0.007927570818594989,
           -0.045591353109155255,
           -0.06411578373215385,
           0.030104600892792453,
           0.01298611345661736,
           -0.008993892492336298,
           -0.036581286038839374,
           0.0041542478315526,
           -0.006524441841195805,
           0.0702856818298615,
           -0.035205682779631334,
           -0.058783895042066034,
           -0.05257522333555037,
           -0.005863132171562911,
           -0.021506949713089845,
           -0.005658454004656461,
           1,
           0.10030207195057922,
           0.17398226561053426,
           0.006989584421997588,
           0.037960842576140484,
           0.04162700855539399,
           -0.01183663736315753
          ],
          [
           0.01031625901748624,
           -0.007198154854265724,
           -0.04464441997538084,
           0.031339870705558555,
           -0.03562712496304637,
           -0.025283578736650082,
           0.015608220809856537,
           -0.0471462492215757,
           0.009595186726384028,
           0.0009065401225389259,
           0.04786123107548059,
           -0.026726931489115004,
           -0.01479850341118829,
           -0.028251878260273852,
           0.0030278311957528726,
           -0.0052310078155972375,
           -0.11121841663072889,
           -0.02313741707373806,
           0.10030207195057922,
           1,
           0.06710377689104009,
           -0.03423033161431735,
           -0.03232645250335782,
           -0.024842646432096997,
           0.16201099550286335
          ],
          [
           -0.07575000747233501,
           0.06384982908147614,
           0.09420722130070681,
           -0.022880438806158004,
           -0.027372488709534647,
           0.028683534810589467,
           0.02587915954510874,
           0.09820536242995874,
           -0.007298133783119709,
           0.01215917676817139,
           -0.03441175520648298,
           0.11581811787183845,
           -0.020729985597239656,
           -0.008939508597782173,
           -0.04652627676840154,
           -0.0020836096546680187,
           0.10332433270566699,
           -0.006467350884183394,
           0.17398226561053426,
           0.06710377689104009,
           1,
           0.07827274226871185,
           0.06207476628283432,
           0.1055526858497694,
           -0.1678854697738713
          ],
          [
           -0.01764952386626238,
           0.010833974379704556,
           0.03288289863132062,
           -0.0053780308699107856,
           -0.007848496350105106,
           0.014585805549824278,
           0.0019980558839296004,
           0.033928438496499805,
           -0.01704908173389268,
           0.003721380801240452,
           -0.022830062388212224,
           0.07076261072230243,
           -0.020261268435736033,
           -0.02786805424343383,
           -0.04277584257300024,
           -0.004844727329339903,
           0.05789796438051642,
           0.0005303248306895795,
           0.006989584421997588,
           -0.03423033161431735,
           0.07827274226871185,
           1,
           0.06321444773568814,
           0.07128573959545118,
           -0.06392094310741485
          ],
          [
           -0.018196430662423654,
           0.015605404713580996,
           0.03996298236929962,
           -0.016233084012098623,
           -0.027875101156203286,
           0.009937553085925099,
           -0.0025422375771296554,
           0.04086710179249406,
           -0.003991673927403001,
           0.003294885539991046,
           -0.018587951213394197,
           0.06162705450519162,
           -0.022220461844419236,
           -0.028913870320685636,
           -0.05125991061668495,
           -0.012829330391102994,
           0.07864142245927574,
           0.006497542112801999,
           0.037960842576140484,
           -0.03232645250335782,
           0.06207476628283432,
           0.06321444773568814,
           1,
           0.05677948997366073,
           -0.08715918639830611
          ],
          [
           -0.11640672880289889,
           0.04495169706858209,
           0.27663023581487656,
           -0.10142482038678437,
           0.05477011440888494,
           0.1363441097858499,
           -0.013823473152741479,
           0.29267288330128377,
           -0.19196348460239848,
           0.00224411299477,
           -0.04517393983633087,
           0.6695775390933878,
           -0.20994649775852628,
           -0.18807722418969625,
           -0.27088355488994986,
           -0.02688805445370969,
           0.020303129525709458,
           -0.23337535711030905,
           0.04162700855539399,
           -0.024842646432096997,
           0.1055526858497694,
           0.07128573959545118,
           0.05677948997366073,
           1,
           -0.18233944540764158
          ],
          [
           0.11950701989138364,
           -0.037545791208410756,
           -0.1850176071373176,
           0.15752748308310024,
           -0.036604528068635525,
           -0.10724757915612358,
           0.006498108694510744,
           -0.19844682359129506,
           0.038016011420039734,
           -0.025519509225487843,
           0.05729273344552706,
           -0.2045810421500252,
           -0.0286323937188544,
           -0.07666704165778558,
           0.059313186871452116,
           0.007543220297771249,
           -0.2872616835502948,
           0.0152363556328636,
           -0.01183663736315753,
           0.16201099550286335,
           -0.1678854697738713,
           -0.06392094310741485,
           -0.08715918639830611,
           -0.18233944540764158,
           1
          ]
         ]
        }
       ],
       "layout": {
        "height": 700,
        "template": {
         "data": {
          "bar": [
           {
            "error_x": {
             "color": "#2a3f5f"
            },
            "error_y": {
             "color": "#2a3f5f"
            },
            "marker": {
             "line": {
              "color": "#E5ECF6",
              "width": 0.5
             }
            },
            "type": "bar"
           }
          ],
          "barpolar": [
           {
            "marker": {
             "line": {
              "color": "#E5ECF6",
              "width": 0.5
             }
            },
            "type": "barpolar"
           }
          ],
          "carpet": [
           {
            "aaxis": {
             "endlinecolor": "#2a3f5f",
             "gridcolor": "white",
             "linecolor": "white",
             "minorgridcolor": "white",
             "startlinecolor": "#2a3f5f"
            },
            "baxis": {
             "endlinecolor": "#2a3f5f",
             "gridcolor": "white",
             "linecolor": "white",
             "minorgridcolor": "white",
             "startlinecolor": "#2a3f5f"
            },
            "type": "carpet"
           }
          ],
          "choropleth": [
           {
            "colorbar": {
             "outlinewidth": 0,
             "ticks": ""
            },
            "type": "choropleth"
           }
          ],
          "contour": [
           {
            "colorbar": {
             "outlinewidth": 0,
             "ticks": ""
            },
            "colorscale": [
             [
              0,
              "#0d0887"
             ],
             [
              0.1111111111111111,
              "#46039f"
             ],
             [
              0.2222222222222222,
              "#7201a8"
             ],
             [
              0.3333333333333333,
              "#9c179e"
             ],
             [
              0.4444444444444444,
              "#bd3786"
             ],
             [
              0.5555555555555556,
              "#d8576b"
             ],
             [
              0.6666666666666666,
              "#ed7953"
             ],
             [
              0.7777777777777778,
              "#fb9f3a"
             ],
             [
              0.8888888888888888,
              "#fdca26"
             ],
             [
              1,
              "#f0f921"
             ]
            ],
            "type": "contour"
           }
          ],
          "contourcarpet": [
           {
            "colorbar": {
             "outlinewidth": 0,
             "ticks": ""
            },
            "type": "contourcarpet"
           }
          ],
          "heatmap": [
           {
            "colorbar": {
             "outlinewidth": 0,
             "ticks": ""
            },
            "colorscale": [
             [
              0,
              "#0d0887"
             ],
             [
              0.1111111111111111,
              "#46039f"
             ],
             [
              0.2222222222222222,
              "#7201a8"
             ],
             [
              0.3333333333333333,
              "#9c179e"
             ],
             [
              0.4444444444444444,
              "#bd3786"
             ],
             [
              0.5555555555555556,
              "#d8576b"
             ],
             [
              0.6666666666666666,
              "#ed7953"
             ],
             [
              0.7777777777777778,
              "#fb9f3a"
             ],
             [
              0.8888888888888888,
              "#fdca26"
             ],
             [
              1,
              "#f0f921"
             ]
            ],
            "type": "heatmap"
           }
          ],
          "heatmapgl": [
           {
            "colorbar": {
             "outlinewidth": 0,
             "ticks": ""
            },
            "colorscale": [
             [
              0,
              "#0d0887"
             ],
             [
              0.1111111111111111,
              "#46039f"
             ],
             [
              0.2222222222222222,
              "#7201a8"
             ],
             [
              0.3333333333333333,
              "#9c179e"
             ],
             [
              0.4444444444444444,
              "#bd3786"
             ],
             [
              0.5555555555555556,
              "#d8576b"
             ],
             [
              0.6666666666666666,
              "#ed7953"
             ],
             [
              0.7777777777777778,
              "#fb9f3a"
             ],
             [
              0.8888888888888888,
              "#fdca26"
             ],
             [
              1,
              "#f0f921"
             ]
            ],
            "type": "heatmapgl"
           }
          ],
          "histogram": [
           {
            "marker": {
             "colorbar": {
              "outlinewidth": 0,
              "ticks": ""
             }
            },
            "type": "histogram"
           }
          ],
          "histogram2d": [
           {
            "colorbar": {
             "outlinewidth": 0,
             "ticks": ""
            },
            "colorscale": [
             [
              0,
              "#0d0887"
             ],
             [
              0.1111111111111111,
              "#46039f"
             ],
             [
              0.2222222222222222,
              "#7201a8"
             ],
             [
              0.3333333333333333,
              "#9c179e"
             ],
             [
              0.4444444444444444,
              "#bd3786"
             ],
             [
              0.5555555555555556,
              "#d8576b"
             ],
             [
              0.6666666666666666,
              "#ed7953"
             ],
             [
              0.7777777777777778,
              "#fb9f3a"
             ],
             [
              0.8888888888888888,
              "#fdca26"
             ],
             [
              1,
              "#f0f921"
             ]
            ],
            "type": "histogram2d"
           }
          ],
          "histogram2dcontour": [
           {
            "colorbar": {
             "outlinewidth": 0,
             "ticks": ""
            },
            "colorscale": [
             [
              0,
              "#0d0887"
             ],
             [
              0.1111111111111111,
              "#46039f"
             ],
             [
              0.2222222222222222,
              "#7201a8"
             ],
             [
              0.3333333333333333,
              "#9c179e"
             ],
             [
              0.4444444444444444,
              "#bd3786"
             ],
             [
              0.5555555555555556,
              "#d8576b"
             ],
             [
              0.6666666666666666,
              "#ed7953"
             ],
             [
              0.7777777777777778,
              "#fb9f3a"
             ],
             [
              0.8888888888888888,
              "#fdca26"
             ],
             [
              1,
              "#f0f921"
             ]
            ],
            "type": "histogram2dcontour"
           }
          ],
          "mesh3d": [
           {
            "colorbar": {
             "outlinewidth": 0,
             "ticks": ""
            },
            "type": "mesh3d"
           }
          ],
          "parcoords": [
           {
            "line": {
             "colorbar": {
              "outlinewidth": 0,
              "ticks": ""
             }
            },
            "type": "parcoords"
           }
          ],
          "pie": [
           {
            "automargin": true,
            "type": "pie"
           }
          ],
          "scatter": [
           {
            "marker": {
             "colorbar": {
              "outlinewidth": 0,
              "ticks": ""
             }
            },
            "type": "scatter"
           }
          ],
          "scatter3d": [
           {
            "line": {
             "colorbar": {
              "outlinewidth": 0,
              "ticks": ""
             }
            },
            "marker": {
             "colorbar": {
              "outlinewidth": 0,
              "ticks": ""
             }
            },
            "type": "scatter3d"
           }
          ],
          "scattercarpet": [
           {
            "marker": {
             "colorbar": {
              "outlinewidth": 0,
              "ticks": ""
             }
            },
            "type": "scattercarpet"
           }
          ],
          "scattergeo": [
           {
            "marker": {
             "colorbar": {
              "outlinewidth": 0,
              "ticks": ""
             }
            },
            "type": "scattergeo"
           }
          ],
          "scattergl": [
           {
            "marker": {
             "colorbar": {
              "outlinewidth": 0,
              "ticks": ""
             }
            },
            "type": "scattergl"
           }
          ],
          "scattermapbox": [
           {
            "marker": {
             "colorbar": {
              "outlinewidth": 0,
              "ticks": ""
             }
            },
            "type": "scattermapbox"
           }
          ],
          "scatterpolar": [
           {
            "marker": {
             "colorbar": {
              "outlinewidth": 0,
              "ticks": ""
             }
            },
            "type": "scatterpolar"
           }
          ],
          "scatterpolargl": [
           {
            "marker": {
             "colorbar": {
              "outlinewidth": 0,
              "ticks": ""
             }
            },
            "type": "scatterpolargl"
           }
          ],
          "scatterternary": [
           {
            "marker": {
             "colorbar": {
              "outlinewidth": 0,
              "ticks": ""
             }
            },
            "type": "scatterternary"
           }
          ],
          "surface": [
           {
            "colorbar": {
             "outlinewidth": 0,
             "ticks": ""
            },
            "colorscale": [
             [
              0,
              "#0d0887"
             ],
             [
              0.1111111111111111,
              "#46039f"
             ],
             [
              0.2222222222222222,
              "#7201a8"
             ],
             [
              0.3333333333333333,
              "#9c179e"
             ],
             [
              0.4444444444444444,
              "#bd3786"
             ],
             [
              0.5555555555555556,
              "#d8576b"
             ],
             [
              0.6666666666666666,
              "#ed7953"
             ],
             [
              0.7777777777777778,
              "#fb9f3a"
             ],
             [
              0.8888888888888888,
              "#fdca26"
             ],
             [
              1,
              "#f0f921"
             ]
            ],
            "type": "surface"
           }
          ],
          "table": [
           {
            "cells": {
             "fill": {
              "color": "#EBF0F8"
             },
             "line": {
              "color": "white"
             }
            },
            "header": {
             "fill": {
              "color": "#C8D4E3"
             },
             "line": {
              "color": "white"
             }
            },
            "type": "table"
           }
          ]
         },
         "layout": {
          "annotationdefaults": {
           "arrowcolor": "#2a3f5f",
           "arrowhead": 0,
           "arrowwidth": 1
          },
          "autotypenumbers": "strict",
          "coloraxis": {
           "colorbar": {
            "outlinewidth": 0,
            "ticks": ""
           }
          },
          "colorscale": {
           "diverging": [
            [
             0,
             "#8e0152"
            ],
            [
             0.1,
             "#c51b7d"
            ],
            [
             0.2,
             "#de77ae"
            ],
            [
             0.3,
             "#f1b6da"
            ],
            [
             0.4,
             "#fde0ef"
            ],
            [
             0.5,
             "#f7f7f7"
            ],
            [
             0.6,
             "#e6f5d0"
            ],
            [
             0.7,
             "#b8e186"
            ],
            [
             0.8,
             "#7fbc41"
            ],
            [
             0.9,
             "#4d9221"
            ],
            [
             1,
             "#276419"
            ]
           ],
           "sequential": [
            [
             0,
             "#0d0887"
            ],
            [
             0.1111111111111111,
             "#46039f"
            ],
            [
             0.2222222222222222,
             "#7201a8"
            ],
            [
             0.3333333333333333,
             "#9c179e"
            ],
            [
             0.4444444444444444,
             "#bd3786"
            ],
            [
             0.5555555555555556,
             "#d8576b"
            ],
            [
             0.6666666666666666,
             "#ed7953"
            ],
            [
             0.7777777777777778,
             "#fb9f3a"
            ],
            [
             0.8888888888888888,
             "#fdca26"
            ],
            [
             1,
             "#f0f921"
            ]
           ],
           "sequentialminus": [
            [
             0,
             "#0d0887"
            ],
            [
             0.1111111111111111,
             "#46039f"
            ],
            [
             0.2222222222222222,
             "#7201a8"
            ],
            [
             0.3333333333333333,
             "#9c179e"
            ],
            [
             0.4444444444444444,
             "#bd3786"
            ],
            [
             0.5555555555555556,
             "#d8576b"
            ],
            [
             0.6666666666666666,
             "#ed7953"
            ],
            [
             0.7777777777777778,
             "#fb9f3a"
            ],
            [
             0.8888888888888888,
             "#fdca26"
            ],
            [
             1,
             "#f0f921"
            ]
           ]
          },
          "colorway": [
           "#636efa",
           "#EF553B",
           "#00cc96",
           "#ab63fa",
           "#FFA15A",
           "#19d3f3",
           "#FF6692",
           "#B6E880",
           "#FF97FF",
           "#FECB52"
          ],
          "font": {
           "color": "#2a3f5f"
          },
          "geo": {
           "bgcolor": "white",
           "lakecolor": "white",
           "landcolor": "#E5ECF6",
           "showlakes": true,
           "showland": true,
           "subunitcolor": "white"
          },
          "hoverlabel": {
           "align": "left"
          },
          "hovermode": "closest",
          "mapbox": {
           "style": "light"
          },
          "paper_bgcolor": "white",
          "plot_bgcolor": "#E5ECF6",
          "polar": {
           "angularaxis": {
            "gridcolor": "white",
            "linecolor": "white",
            "ticks": ""
           },
           "bgcolor": "#E5ECF6",
           "radialaxis": {
            "gridcolor": "white",
            "linecolor": "white",
            "ticks": ""
           }
          },
          "scene": {
           "xaxis": {
            "backgroundcolor": "#E5ECF6",
            "gridcolor": "white",
            "gridwidth": 2,
            "linecolor": "white",
            "showbackground": true,
            "ticks": "",
            "zerolinecolor": "white"
           },
           "yaxis": {
            "backgroundcolor": "#E5ECF6",
            "gridcolor": "white",
            "gridwidth": 2,
            "linecolor": "white",
            "showbackground": true,
            "ticks": "",
            "zerolinecolor": "white"
           },
           "zaxis": {
            "backgroundcolor": "#E5ECF6",
            "gridcolor": "white",
            "gridwidth": 2,
            "linecolor": "white",
            "showbackground": true,
            "ticks": "",
            "zerolinecolor": "white"
           }
          },
          "shapedefaults": {
           "line": {
            "color": "#2a3f5f"
           }
          },
          "ternary": {
           "aaxis": {
            "gridcolor": "white",
            "linecolor": "white",
            "ticks": ""
           },
           "baxis": {
            "gridcolor": "white",
            "linecolor": "white",
            "ticks": ""
           },
           "bgcolor": "#E5ECF6",
           "caxis": {
            "gridcolor": "white",
            "linecolor": "white",
            "ticks": ""
           }
          },
          "title": {
           "x": 0.05
          },
          "xaxis": {
           "automargin": true,
           "gridcolor": "white",
           "linecolor": "white",
           "ticks": "",
           "title": {
            "standoff": 15
           },
           "zerolinecolor": "white",
           "zerolinewidth": 2
          },
          "yaxis": {
           "automargin": true,
           "gridcolor": "white",
           "linecolor": "white",
           "ticks": "",
           "title": {
            "standoff": 15
           },
           "zerolinecolor": "white",
           "zerolinewidth": 2
          }
         }
        },
        "title": {
         "text": "Pearson Correlation of numerical features"
        },
        "width": 900,
        "xaxis": {
         "nticks": 36,
         "ticks": ""
        },
        "yaxis": {
         "ticks": ""
        }
       }
      },
      "text/html": [
       "<div>                            <div id=\"bca8c899-76a2-45ce-bf7e-2bc48c80483a\" class=\"plotly-graph-div\" style=\"height:700px; width:900px;\"></div>            <script type=\"text/javascript\">                require([\"plotly\"], function(Plotly) {                    window.PLOTLYENV=window.PLOTLYENV || {};                                    if (document.getElementById(\"bca8c899-76a2-45ce-bf7e-2bc48c80483a\")) {                    Plotly.newPlot(                        \"bca8c899-76a2-45ce-bf7e-2bc48c80483a\",                        [{\"colorscale\": [[0.0, \"#440154\"], [0.1111111111111111, \"#482878\"], [0.2222222222222222, \"#3e4989\"], [0.3333333333333333, \"#31688e\"], [0.4444444444444444, \"#26828e\"], [0.5555555555555556, \"#1f9e89\"], [0.6666666666666666, \"#35b779\"], [0.7777777777777778, \"#6ece58\"], [0.8888888888888888, \"#b5de2b\"], [1.0, \"#fde725\"]], \"opacity\": 1.0, \"reversescale\": false, \"type\": \"heatmap\", \"x\": [\"Location_Easting_OSGR\", \"Location_Northing_OSGR\", \"Police_Force\", \"Accident_Severity\", \"Number_of_Vehicles\", \"Number_of_Casualties\", \"Day_of_Week\", \"Local_Authority_(District)\", \"1st_Road_Class\", \"1st_Road_Number\", \"Road_Type\", \"Speed_limit\", \"Junction_Detail\", \"Junction_Control\", \"2nd_Road_Class\", \"2nd_Road_Number\", \"Pedestrian_Crossing-Human_Control\", \"Pedestrian_Crossing-Physical_Facilities\", \"Light_Conditions\", \"Weather_Conditions\", \"Road_Surface_Conditions\", \"Special_Conditions_at_Site\", \"Carriageway_Hazards\", \"Urban_or_Rural_Area\", \"Did_Police_Officer_Attend_Scene_of_Accident\"], \"y\": [\"Location_Easting_OSGR\", \"Location_Northing_OSGR\", \"Police_Force\", \"Accident_Severity\", \"Number_of_Vehicles\", \"Number_of_Casualties\", \"Day_of_Week\", \"Local_Authority_(District)\", \"1st_Road_Class\", \"1st_Road_Number\", \"Road_Type\", \"Speed_limit\", \"Junction_Detail\", \"Junction_Control\", \"2nd_Road_Class\", \"2nd_Road_Number\", \"Pedestrian_Crossing-Human_Control\", \"Pedestrian_Crossing-Physical_Facilities\", \"Light_Conditions\", \"Weather_Conditions\", \"Road_Surface_Conditions\", \"Special_Conditions_at_Site\", \"Carriageway_Hazards\", \"Urban_or_Rural_Area\", \"Did_Police_Officer_Attend_Scene_of_Accident\"], \"z\": [[1.0, -0.41185129950089455, -0.3724152485253469, 0.04987616833054327, 0.026785748003194994, -0.03657738844950423, 0.0014173302100473303, -0.39986039713472993, -0.026282234348957684, -0.10882667102542164, -0.025894684827455373, -0.10634957547911493, 0.027249211487563107, 0.007656418172646421, 0.05598826920772753, -0.04202940773998106, -0.06061265578006526, 0.053596507797299006, 0.018499222180167495, 0.01031625901748624, -0.07575000747233501, -0.01764952386626238, -0.018196430662423654, -0.11640672880289889, 0.11950701989138364], [-0.41185129950089455, 1.0, 0.143555414922321, -0.07750510867464237, -0.02470313173818631, 0.02978548677987064, 0.005170350517522305, 0.1075390092264526, 0.028246996809100443, 0.04162302105356156, 0.008541549277793109, 0.08436829791700746, -0.018226993551228893, -0.01175799987706221, -0.04686274896455731, 0.016428699432807097, 0.06427989034145952, -0.008328883951053094, -0.01994560591961244, -0.007198154854265724, 0.06384982908147614, 0.010833974379704556, 0.015605404713580996, 0.04495169706858209, -0.037545791208410756], [-0.3724152485253469, 0.143555414922321, 1.0, -0.07530627075107578, 0.0033170913695261908, 0.044745671481525744, -0.0070856316694381544, 0.9812507027213316, 0.03513917047445631, 0.02076393297248959, 0.02777009320411024, 0.25528556019143567, -0.11888888638477595, -0.06624008252083789, -0.13643526944086762, 0.01078774559327102, 0.09239686497884236, -0.10346326468229522, -0.007927570818594989, -0.04464441997538084, 0.09420722130070681, 0.03288289863132062, 0.03996298236929962, 0.27663023581487656, -0.1850176071373176], [0.04987616833054327, -0.07750510867464237, -0.07530627075107578, 1.0, 0.07042156664264479, -0.08072628014335878, 0.005522972159845018, -0.075572791377619, 0.009493287286716315, -0.01155407557954562, -0.034068410974284, -0.10072921340294536, 0.027479922348932234, 0.03480826643926936, 0.053084287347643734, 0.01799965917249797, -0.039397960153987874, 0.013290038867369998, -0.045591353109155255, 0.031339870705558555, -0.022880438806158004, -0.0053780308699107856, -0.016233084012098623, -0.10142482038678437, 0.15752748308310024], [0.026785748003194994, -0.02470313173818631, 0.0033170913695261908, 0.07042156664264479, 1.0, 0.21682026625083534, -0.0030743702381400167, 0.006056392282917804, -0.1357664418267178, -0.005445267796808695, -0.07533980857557411, 0.11056247230975272, 0.026154648160188466, 0.03908997716060236, 0.03258740629828385, 0.01258950650157239, -0.01127936756286802, -0.061323438447668646, -0.06411578373215385, -0.03562712496304637, -0.027372488709534647, -0.007848496350105106, -0.027875101156203286, 0.05477011440888494, -0.036604528068635525], [-0.03657738844950423, 0.02978548677987064, 0.044745671481525744, -0.08072628014335878, 0.21682026625083534, 1.0, 0.0037572120264407756, 0.050470675569881954, -0.08631311536055394, 0.010977915473707986, -0.014942844776616284, 0.1680535590343849, -0.008785667702107673, -0.025913243519767742, -0.041234181004900713, -0.0008945053763840493, 0.019679535673300982, -0.03147048648592181, 0.030104600892792453, -0.025283578736650082, 0.028683534810589467, 0.014585805549824278, 0.009937553085925099, 0.1363441097858499, -0.10724757915612358], [0.0014173302100473303, 0.005170350517522305, -0.0070856316694381544, 0.005522972159845018, -0.0030743702381400167, 0.0037572120264407756, 1.0, -0.007157050089968548, 0.0008573886277429062, 0.00017747829887197376, -0.0022658397874424185, -0.013496748132164765, 0.0053988617591916345, 0.004149299684830059, 0.006556474150702268, 0.002124874195815843, -0.002381836564841046, 9.408967960508449e-05, 0.01298611345661736, 0.015608220809856537, 0.02587915954510874, 0.0019980558839296004, -0.0025422375771296554, -0.013823473152741479, 0.006498108694510744], [-0.39986039713472993, 0.1075390092264526, 0.9812507027213316, -0.075572791377619, 0.006056392282917804, 0.050470675569881954, -0.007157050089968548, 1.0, 0.04701521904141446, 0.030350508383917753, 0.03135975349481631, 0.26564925707645354, -0.12621640654555902, -0.06531225517095554, -0.1414386835188453, 0.013050840278925613, 0.0990253601899259, -0.11408483472735657, -0.008993892492336298, -0.0471462492215757, 0.09820536242995874, 0.033928438496499805, 0.04086710179249406, 0.29267288330128377, -0.19844682359129506], [-0.026282234348957684, 0.028246996809100443, 0.03513917047445631, 0.009493287286716315, -0.1357664418267178, -0.08631311536055394, 0.0008573886277429062, 0.04701521904141446, 1.0, -0.1414266926020352, 0.2999495110755373, -0.35335301461458896, 0.040720832497047, 0.07399194473942401, 0.08888985939681245, -0.0436151047831215, 0.008565932444213985, -0.10523236915282491, -0.036581286038839374, 0.009595186726384028, -0.007298133783119709, -0.01704908173389268, -0.003991673927403001, -0.19196348460239848, 0.038016011420039734], [-0.10882667102542164, 0.04162302105356156, 0.02076393297248959, -0.01155407557954562, -0.005445267796808695, 0.010977915473707986, 0.00017747829887197376, 0.030350508383917753, -0.1414266926020352, 1.0, 0.011192731056972209, -0.02277518946798757, 0.02098763048010963, 0.028517556131657306, 0.026435484246002307, 0.1498285873520864, 0.02330014968530401, 0.04815235710075463, 0.0041542478315526, 0.0009065401225389259, 0.01215917676817139, 0.003721380801240452, 0.003294885539991046, 0.00224411299477, -0.025519509225487843], [-0.025894684827455373, 0.008541549277793109, 0.02777009320411024, -0.034068410974284, -0.07533980857557411, -0.014942844776616284, -0.0022658397874424185, 0.03135975349481631, 0.2999495110755373, 0.011192731056972209, 1.0, -0.1863331066012488, 0.09118205537684632, -0.05586109166665956, 0.014656347666446124, -0.07736243736319932, -0.059219291439846784, -0.06555190460996893, -0.006524441841195805, 0.04786123107548059, -0.03441175520648298, -0.022830062388212224, -0.018587951213394197, -0.04517393983633087, 0.05729273344552706], [-0.10634957547911493, 0.08436829791700746, 0.25528556019143567, -0.10072921340294536, 0.11056247230975272, 0.1680535590343849, -0.013496748132164765, 0.26564925707645354, -0.35335301461458896, -0.02277518946798757, -0.1863331066012488, 1.0, -0.22681840678310608, -0.23061223000116163, -0.31248544533116784, -0.026332032621460062, 0.027219666239700208, -0.20037160702325355, 0.0702856818298615, -0.026726931489115004, 0.11581811787183845, 0.07076261072230243, 0.06162705450519162, 0.6695775390933878, -0.2045810421500252], [0.027249211487563107, -0.018226993551228893, -0.11888888638477595, 0.027479922348932234, 0.026154648160188466, -0.008785667702107673, 0.0053988617591916345, -0.12621640654555902, 0.040720832497047, 0.02098763048010963, 0.09118205537684632, -0.22681840678310608, 1.0, 0.6632385528581899, 0.7122623324310199, 0.12228187661035701, 0.050178034172887354, 0.18018634719732335, -0.035205682779631334, -0.01479850341118829, -0.020729985597239656, -0.020261268435736033, -0.022220461844419236, -0.20994649775852628, -0.0286323937188544], [0.007656418172646421, -0.01175799987706221, -0.06624008252083789, 0.03480826643926936, 0.03908997716060236, -0.025913243519767742, 0.004149299684830059, -0.06531225517095554, 0.07399194473942401, 0.028517556131657306, -0.05586109166665956, -0.23061223000116163, 0.6632385528581899, 1.0, 0.8864912149018009, 0.1949412759490129, 0.058840019757048244, 0.08486350740044164, -0.058783895042066034, -0.028251878260273852, -0.008939508597782173, -0.02786805424343383, -0.028913870320685636, -0.18807722418969625, -0.07666704165778558], [0.05598826920772753, -0.04686274896455731, -0.13643526944086762, 0.053084287347643734, 0.03258740629828385, -0.041234181004900713, 0.006556474150702268, -0.1414386835188453, 0.08888985939681245, 0.026435484246002307, 0.014656347666446124, -0.31248544533116784, 0.7122623324310199, 0.8864912149018009, 1.0, 0.12136461094868702, -0.014678933007511647, 0.13837400101486094, -0.05257522333555037, 0.0030278311957528726, -0.04652627676840154, -0.04277584257300024, -0.05125991061668495, -0.27088355488994986, 0.059313186871452116], [-0.04202940773998106, 0.016428699432807097, 0.01078774559327102, 0.01799965917249797, 0.01258950650157239, -0.0008945053763840493, 0.002124874195815843, 0.013050840278925613, -0.0436151047831215, 0.1498285873520864, -0.07736243736319932, -0.026332032621460062, 0.12228187661035701, 0.1949412759490129, 0.12136461094868702, 1.0, 0.010839390109178646, 0.10057435028551001, -0.005863132171562911, -0.0052310078155972375, -0.0020836096546680187, -0.004844727329339903, -0.012829330391102994, -0.02688805445370969, 0.007543220297771249], [-0.06061265578006526, 0.06427989034145952, 0.09239686497884236, -0.039397960153987874, -0.01127936756286802, 0.019679535673300982, -0.002381836564841046, 0.0990253601899259, 0.008565932444213985, 0.02330014968530401, -0.059219291439846784, 0.027219666239700208, 0.050178034172887354, 0.058840019757048244, -0.014678933007511647, 0.010839390109178646, 1.0, 0.13081392353124904, -0.021506949713089845, -0.11121841663072889, 0.10332433270566699, 0.05789796438051642, 0.07864142245927574, 0.020303129525709458, -0.2872616835502948], [0.053596507797299006, -0.008328883951053094, -0.10346326468229522, 0.013290038867369998, -0.061323438447668646, -0.03147048648592181, 9.408967960508449e-05, -0.11408483472735657, -0.10523236915282491, 0.04815235710075463, -0.06555190460996893, -0.20037160702325355, 0.18018634719732335, 0.08486350740044164, 0.13837400101486094, 0.10057435028551001, 0.13081392353124904, 1.0, -0.005658454004656461, -0.02313741707373806, -0.006467350884183394, 0.0005303248306895795, 0.006497542112801999, -0.23337535711030905, 0.0152363556328636], [0.018499222180167495, -0.01994560591961244, -0.007927570818594989, -0.045591353109155255, -0.06411578373215385, 0.030104600892792453, 0.01298611345661736, -0.008993892492336298, -0.036581286038839374, 0.0041542478315526, -0.006524441841195805, 0.0702856818298615, -0.035205682779631334, -0.058783895042066034, -0.05257522333555037, -0.005863132171562911, -0.021506949713089845, -0.005658454004656461, 1.0, 0.10030207195057922, 0.17398226561053426, 0.006989584421997588, 0.037960842576140484, 0.04162700855539399, -0.01183663736315753], [0.01031625901748624, -0.007198154854265724, -0.04464441997538084, 0.031339870705558555, -0.03562712496304637, -0.025283578736650082, 0.015608220809856537, -0.0471462492215757, 0.009595186726384028, 0.0009065401225389259, 0.04786123107548059, -0.026726931489115004, -0.01479850341118829, -0.028251878260273852, 0.0030278311957528726, -0.0052310078155972375, -0.11121841663072889, -0.02313741707373806, 0.10030207195057922, 1.0, 0.06710377689104009, -0.03423033161431735, -0.03232645250335782, -0.024842646432096997, 0.16201099550286335], [-0.07575000747233501, 0.06384982908147614, 0.09420722130070681, -0.022880438806158004, -0.027372488709534647, 0.028683534810589467, 0.02587915954510874, 0.09820536242995874, -0.007298133783119709, 0.01215917676817139, -0.03441175520648298, 0.11581811787183845, -0.020729985597239656, -0.008939508597782173, -0.04652627676840154, -0.0020836096546680187, 0.10332433270566699, -0.006467350884183394, 0.17398226561053426, 0.06710377689104009, 1.0, 0.07827274226871185, 0.06207476628283432, 0.1055526858497694, -0.1678854697738713], [-0.01764952386626238, 0.010833974379704556, 0.03288289863132062, -0.0053780308699107856, -0.007848496350105106, 0.014585805549824278, 0.0019980558839296004, 0.033928438496499805, -0.01704908173389268, 0.003721380801240452, -0.022830062388212224, 0.07076261072230243, -0.020261268435736033, -0.02786805424343383, -0.04277584257300024, -0.004844727329339903, 0.05789796438051642, 0.0005303248306895795, 0.006989584421997588, -0.03423033161431735, 0.07827274226871185, 1.0, 0.06321444773568814, 0.07128573959545118, -0.06392094310741485], [-0.018196430662423654, 0.015605404713580996, 0.03996298236929962, -0.016233084012098623, -0.027875101156203286, 0.009937553085925099, -0.0025422375771296554, 0.04086710179249406, -0.003991673927403001, 0.003294885539991046, -0.018587951213394197, 0.06162705450519162, -0.022220461844419236, -0.028913870320685636, -0.05125991061668495, -0.012829330391102994, 0.07864142245927574, 0.006497542112801999, 0.037960842576140484, -0.03232645250335782, 0.06207476628283432, 0.06321444773568814, 1.0, 0.05677948997366073, -0.08715918639830611], [-0.11640672880289889, 0.04495169706858209, 0.27663023581487656, -0.10142482038678437, 0.05477011440888494, 0.1363441097858499, -0.013823473152741479, 0.29267288330128377, -0.19196348460239848, 0.00224411299477, -0.04517393983633087, 0.6695775390933878, -0.20994649775852628, -0.18807722418969625, -0.27088355488994986, -0.02688805445370969, 0.020303129525709458, -0.23337535711030905, 0.04162700855539399, -0.024842646432096997, 0.1055526858497694, 0.07128573959545118, 0.05677948997366073, 1.0, -0.18233944540764158], [0.11950701989138364, -0.037545791208410756, -0.1850176071373176, 0.15752748308310024, -0.036604528068635525, -0.10724757915612358, 0.006498108694510744, -0.19844682359129506, 0.038016011420039734, -0.025519509225487843, 0.05729273344552706, -0.2045810421500252, -0.0286323937188544, -0.07666704165778558, 0.059313186871452116, 0.007543220297771249, -0.2872616835502948, 0.0152363556328636, -0.01183663736315753, 0.16201099550286335, -0.1678854697738713, -0.06392094310741485, -0.08715918639830611, -0.18233944540764158, 1.0]]}],                        {\"height\": 700, \"template\": {\"data\": {\"bar\": [{\"error_x\": {\"color\": \"#2a3f5f\"}, \"error_y\": {\"color\": \"#2a3f5f\"}, \"marker\": {\"line\": {\"color\": \"#E5ECF6\", \"width\": 0.5}}, \"type\": \"bar\"}], \"barpolar\": [{\"marker\": {\"line\": {\"color\": \"#E5ECF6\", \"width\": 0.5}}, \"type\": \"barpolar\"}], \"carpet\": [{\"aaxis\": {\"endlinecolor\": \"#2a3f5f\", \"gridcolor\": \"white\", \"linecolor\": \"white\", \"minorgridcolor\": \"white\", \"startlinecolor\": \"#2a3f5f\"}, \"baxis\": {\"endlinecolor\": \"#2a3f5f\", \"gridcolor\": \"white\", \"linecolor\": \"white\", \"minorgridcolor\": \"white\", \"startlinecolor\": \"#2a3f5f\"}, \"type\": \"carpet\"}], \"choropleth\": [{\"colorbar\": {\"outlinewidth\": 0, \"ticks\": \"\"}, \"type\": \"choropleth\"}], \"contour\": [{\"colorbar\": {\"outlinewidth\": 0, \"ticks\": \"\"}, \"colorscale\": [[0.0, \"#0d0887\"], [0.1111111111111111, \"#46039f\"], [0.2222222222222222, \"#7201a8\"], [0.3333333333333333, \"#9c179e\"], [0.4444444444444444, \"#bd3786\"], [0.5555555555555556, \"#d8576b\"], [0.6666666666666666, \"#ed7953\"], [0.7777777777777778, \"#fb9f3a\"], [0.8888888888888888, \"#fdca26\"], [1.0, \"#f0f921\"]], \"type\": \"contour\"}], \"contourcarpet\": [{\"colorbar\": {\"outlinewidth\": 0, \"ticks\": \"\"}, \"type\": \"contourcarpet\"}], \"heatmap\": [{\"colorbar\": {\"outlinewidth\": 0, \"ticks\": \"\"}, \"colorscale\": [[0.0, \"#0d0887\"], [0.1111111111111111, \"#46039f\"], [0.2222222222222222, \"#7201a8\"], [0.3333333333333333, \"#9c179e\"], [0.4444444444444444, \"#bd3786\"], [0.5555555555555556, \"#d8576b\"], [0.6666666666666666, \"#ed7953\"], [0.7777777777777778, \"#fb9f3a\"], [0.8888888888888888, \"#fdca26\"], [1.0, \"#f0f921\"]], \"type\": \"heatmap\"}], \"heatmapgl\": [{\"colorbar\": {\"outlinewidth\": 0, \"ticks\": \"\"}, \"colorscale\": [[0.0, \"#0d0887\"], [0.1111111111111111, \"#46039f\"], [0.2222222222222222, \"#7201a8\"], [0.3333333333333333, \"#9c179e\"], [0.4444444444444444, \"#bd3786\"], [0.5555555555555556, \"#d8576b\"], [0.6666666666666666, \"#ed7953\"], [0.7777777777777778, \"#fb9f3a\"], [0.8888888888888888, \"#fdca26\"], [1.0, \"#f0f921\"]], \"type\": \"heatmapgl\"}], \"histogram\": [{\"marker\": {\"colorbar\": {\"outlinewidth\": 0, \"ticks\": \"\"}}, \"type\": \"histogram\"}], \"histogram2d\": [{\"colorbar\": {\"outlinewidth\": 0, \"ticks\": \"\"}, \"colorscale\": [[0.0, \"#0d0887\"], [0.1111111111111111, \"#46039f\"], [0.2222222222222222, \"#7201a8\"], [0.3333333333333333, \"#9c179e\"], [0.4444444444444444, \"#bd3786\"], [0.5555555555555556, \"#d8576b\"], [0.6666666666666666, \"#ed7953\"], [0.7777777777777778, \"#fb9f3a\"], [0.8888888888888888, \"#fdca26\"], [1.0, \"#f0f921\"]], \"type\": \"histogram2d\"}], \"histogram2dcontour\": [{\"colorbar\": {\"outlinewidth\": 0, \"ticks\": \"\"}, \"colorscale\": [[0.0, \"#0d0887\"], [0.1111111111111111, \"#46039f\"], [0.2222222222222222, \"#7201a8\"], [0.3333333333333333, \"#9c179e\"], [0.4444444444444444, \"#bd3786\"], [0.5555555555555556, \"#d8576b\"], [0.6666666666666666, \"#ed7953\"], [0.7777777777777778, \"#fb9f3a\"], [0.8888888888888888, \"#fdca26\"], [1.0, \"#f0f921\"]], \"type\": \"histogram2dcontour\"}], \"mesh3d\": [{\"colorbar\": {\"outlinewidth\": 0, \"ticks\": \"\"}, \"type\": \"mesh3d\"}], \"parcoords\": [{\"line\": {\"colorbar\": {\"outlinewidth\": 0, \"ticks\": \"\"}}, \"type\": \"parcoords\"}], \"pie\": [{\"automargin\": true, \"type\": \"pie\"}], \"scatter\": [{\"marker\": {\"colorbar\": {\"outlinewidth\": 0, \"ticks\": \"\"}}, \"type\": \"scatter\"}], \"scatter3d\": [{\"line\": {\"colorbar\": {\"outlinewidth\": 0, \"ticks\": \"\"}}, \"marker\": {\"colorbar\": {\"outlinewidth\": 0, \"ticks\": \"\"}}, \"type\": \"scatter3d\"}], \"scattercarpet\": [{\"marker\": {\"colorbar\": {\"outlinewidth\": 0, \"ticks\": \"\"}}, \"type\": \"scattercarpet\"}], \"scattergeo\": [{\"marker\": {\"colorbar\": {\"outlinewidth\": 0, \"ticks\": \"\"}}, \"type\": \"scattergeo\"}], \"scattergl\": [{\"marker\": {\"colorbar\": {\"outlinewidth\": 0, \"ticks\": \"\"}}, \"type\": \"scattergl\"}], \"scattermapbox\": [{\"marker\": {\"colorbar\": {\"outlinewidth\": 0, \"ticks\": \"\"}}, \"type\": \"scattermapbox\"}], \"scatterpolar\": [{\"marker\": {\"colorbar\": {\"outlinewidth\": 0, \"ticks\": \"\"}}, \"type\": \"scatterpolar\"}], \"scatterpolargl\": [{\"marker\": {\"colorbar\": {\"outlinewidth\": 0, \"ticks\": \"\"}}, \"type\": \"scatterpolargl\"}], \"scatterternary\": [{\"marker\": {\"colorbar\": {\"outlinewidth\": 0, \"ticks\": \"\"}}, \"type\": \"scatterternary\"}], \"surface\": [{\"colorbar\": {\"outlinewidth\": 0, \"ticks\": \"\"}, \"colorscale\": [[0.0, \"#0d0887\"], [0.1111111111111111, \"#46039f\"], [0.2222222222222222, \"#7201a8\"], [0.3333333333333333, \"#9c179e\"], [0.4444444444444444, \"#bd3786\"], [0.5555555555555556, \"#d8576b\"], [0.6666666666666666, \"#ed7953\"], [0.7777777777777778, \"#fb9f3a\"], [0.8888888888888888, \"#fdca26\"], [1.0, \"#f0f921\"]], \"type\": \"surface\"}], \"table\": [{\"cells\": {\"fill\": {\"color\": \"#EBF0F8\"}, \"line\": {\"color\": \"white\"}}, \"header\": {\"fill\": {\"color\": \"#C8D4E3\"}, \"line\": {\"color\": \"white\"}}, \"type\": \"table\"}]}, \"layout\": {\"annotationdefaults\": {\"arrowcolor\": \"#2a3f5f\", \"arrowhead\": 0, \"arrowwidth\": 1}, \"autotypenumbers\": \"strict\", \"coloraxis\": {\"colorbar\": {\"outlinewidth\": 0, \"ticks\": \"\"}}, \"colorscale\": {\"diverging\": [[0, \"#8e0152\"], [0.1, \"#c51b7d\"], [0.2, \"#de77ae\"], [0.3, \"#f1b6da\"], [0.4, \"#fde0ef\"], [0.5, \"#f7f7f7\"], [0.6, \"#e6f5d0\"], [0.7, \"#b8e186\"], [0.8, \"#7fbc41\"], [0.9, \"#4d9221\"], [1, \"#276419\"]], \"sequential\": [[0.0, \"#0d0887\"], [0.1111111111111111, \"#46039f\"], [0.2222222222222222, \"#7201a8\"], [0.3333333333333333, \"#9c179e\"], [0.4444444444444444, \"#bd3786\"], [0.5555555555555556, \"#d8576b\"], [0.6666666666666666, \"#ed7953\"], [0.7777777777777778, \"#fb9f3a\"], [0.8888888888888888, \"#fdca26\"], [1.0, \"#f0f921\"]], \"sequentialminus\": [[0.0, \"#0d0887\"], [0.1111111111111111, \"#46039f\"], [0.2222222222222222, \"#7201a8\"], [0.3333333333333333, \"#9c179e\"], [0.4444444444444444, \"#bd3786\"], [0.5555555555555556, \"#d8576b\"], [0.6666666666666666, \"#ed7953\"], [0.7777777777777778, \"#fb9f3a\"], [0.8888888888888888, \"#fdca26\"], [1.0, \"#f0f921\"]]}, \"colorway\": [\"#636efa\", \"#EF553B\", \"#00cc96\", \"#ab63fa\", \"#FFA15A\", \"#19d3f3\", \"#FF6692\", \"#B6E880\", \"#FF97FF\", \"#FECB52\"], \"font\": {\"color\": \"#2a3f5f\"}, \"geo\": {\"bgcolor\": \"white\", \"lakecolor\": \"white\", \"landcolor\": \"#E5ECF6\", \"showlakes\": true, \"showland\": true, \"subunitcolor\": \"white\"}, \"hoverlabel\": {\"align\": \"left\"}, \"hovermode\": \"closest\", \"mapbox\": {\"style\": \"light\"}, \"paper_bgcolor\": \"white\", \"plot_bgcolor\": \"#E5ECF6\", \"polar\": {\"angularaxis\": {\"gridcolor\": \"white\", \"linecolor\": \"white\", \"ticks\": \"\"}, \"bgcolor\": \"#E5ECF6\", \"radialaxis\": {\"gridcolor\": \"white\", \"linecolor\": \"white\", \"ticks\": \"\"}}, \"scene\": {\"xaxis\": {\"backgroundcolor\": \"#E5ECF6\", \"gridcolor\": \"white\", \"gridwidth\": 2, \"linecolor\": \"white\", \"showbackground\": true, \"ticks\": \"\", \"zerolinecolor\": \"white\"}, \"yaxis\": {\"backgroundcolor\": \"#E5ECF6\", \"gridcolor\": \"white\", \"gridwidth\": 2, \"linecolor\": \"white\", \"showbackground\": true, \"ticks\": \"\", \"zerolinecolor\": \"white\"}, \"zaxis\": {\"backgroundcolor\": \"#E5ECF6\", \"gridcolor\": \"white\", \"gridwidth\": 2, \"linecolor\": \"white\", \"showbackground\": true, \"ticks\": \"\", \"zerolinecolor\": \"white\"}}, \"shapedefaults\": {\"line\": {\"color\": \"#2a3f5f\"}}, \"ternary\": {\"aaxis\": {\"gridcolor\": \"white\", \"linecolor\": \"white\", \"ticks\": \"\"}, \"baxis\": {\"gridcolor\": \"white\", \"linecolor\": \"white\", \"ticks\": \"\"}, \"bgcolor\": \"#E5ECF6\", \"caxis\": {\"gridcolor\": \"white\", \"linecolor\": \"white\", \"ticks\": \"\"}}, \"title\": {\"x\": 0.05}, \"xaxis\": {\"automargin\": true, \"gridcolor\": \"white\", \"linecolor\": \"white\", \"ticks\": \"\", \"title\": {\"standoff\": 15}, \"zerolinecolor\": \"white\", \"zerolinewidth\": 2}, \"yaxis\": {\"automargin\": true, \"gridcolor\": \"white\", \"linecolor\": \"white\", \"ticks\": \"\", \"title\": {\"standoff\": 15}, \"zerolinecolor\": \"white\", \"zerolinewidth\": 2}}}, \"title\": {\"text\": \"Pearson Correlation of numerical features\"}, \"width\": 900, \"xaxis\": {\"nticks\": 36, \"ticks\": \"\"}, \"yaxis\": {\"ticks\": \"\"}},                        {\"responsive\": true}                    ).then(function(){\n",
       "                            \n",
       "var gd = document.getElementById('bca8c899-76a2-45ce-bf7e-2bc48c80483a');\n",
       "var x = new MutationObserver(function (mutations, observer) {{\n",
       "        var display = window.getComputedStyle(gd).display;\n",
       "        if (!display || display === 'none') {{\n",
       "            console.log([gd, 'removed!']);\n",
       "            Plotly.purge(gd);\n",
       "            observer.disconnect();\n",
       "        }}\n",
       "}});\n",
       "\n",
       "// Listen for the removal of the full notebook cells\n",
       "var notebookContainer = gd.closest('#notebook-container');\n",
       "if (notebookContainer) {{\n",
       "    x.observe(notebookContainer, {childList: true});\n",
       "}}\n",
       "\n",
       "// Listen for the clearing of the current output cell\n",
       "var outputEl = gd.closest('.output');\n",
       "if (outputEl) {{\n",
       "    x.observe(outputEl, {childList: true});\n",
       "}}\n",
       "\n",
       "                        })                };                });            </script>        </div>"
      ]
     },
     "metadata": {},
     "output_type": "display_data"
    }
   ],
   "source": [
    "# creating a list of only numerical categories for correlation plotting\n",
    "    \n",
    "numerical = [\n",
    "            u'Location_Easting_OSGR', \n",
    "            u'Location_Northing_OSGR',\n",
    "#            u'Longitude',\n",
    "#            u'Latitude',\n",
    "            u'Police_Force',\n",
    "            u'Accident_Severity', \n",
    "            u'Number_of_Vehicles',\n",
    "            u'Number_of_Casualties', \n",
    "            u'Day_of_Week', \n",
    "            u'Local_Authority_(District)', \n",
    "            u'1st_Road_Class',\n",
    "            u'1st_Road_Number',\n",
    "            u'Road_Type',\n",
    "            u'Speed_limit',\n",
    "            u'Junction_Detail',\n",
    "            u'Junction_Control',\n",
    "            u'2nd_Road_Class',\n",
    "            u'2nd_Road_Number',\n",
    "            u'Pedestrian_Crossing-Human_Control',\n",
    "            u'Pedestrian_Crossing-Physical_Facilities',\n",
    "            u'Light_Conditions',\n",
    "            u'Weather_Conditions', \n",
    "            u'Road_Surface_Conditions',\n",
    "            u'Special_Conditions_at_Site', \n",
    "            u'Carriageway_Hazards',\n",
    "            u'Urban_or_Rural_Area', \n",
    "            u'Did_Police_Officer_Attend_Scene_of_Accident'\n",
    "]\n",
    "data = [\n",
    "    go.Heatmap(\n",
    "        z= df[numerical].astype(float).corr().values, # Generating the Pearson correlation\n",
    "        x=df[numerical].columns.values,\n",
    "        y=df[numerical].columns.values,\n",
    "        colorscale='Viridis',\n",
    "        reversescale = False,\n",
    "#         text = True ,\n",
    "        opacity = 1.0\n",
    "        \n",
    "    )\n",
    "]\n",
    "\n",
    "layout = go.Layout(\n",
    "    title='Pearson Correlation of numerical features',\n",
    "    xaxis = dict(ticks='', nticks=36),\n",
    "    yaxis = dict(ticks='' ),\n",
    "    width = 900, height = 700,\n",
    "    \n",
    ")\n",
    "\n",
    "fig = go.Figure(data=data, layout=layout)\n",
    "py.iplot(fig, filename='labelled-heatmap')"
   ]
  },
  {
   "cell_type": "code",
   "execution_count": 14,
   "id": "2092b4f7",
   "metadata": {
    "scrolled": true
   },
   "outputs": [],
   "source": [
    "# leaving out highly correlated features from final numerical features before model learning\n",
    "numerical = [\n",
    "#            u'Location_Easting_OSGR', \n",
    "#            u'Location_Northing_OSGR',\n",
    "#            u'Longitude',\n",
    "#            u'Latitude',\n",
    "#            u'Police_Force',\n",
    "            u'Accident_Severity', \n",
    "            u'Number_of_Vehicles',\n",
    "            u'Number_of_Casualties', \n",
    "            u'Day_of_Week', \n",
    "#           u'Local_Authority_(District)', \n",
    "            u'1st_Road_Class',\n",
    "            u'1st_Road_Number',\n",
    "            u'Road_Type',\n",
    "#            u'Speed_limit',\n",
    "#            u'Junction_Detail',\n",
    "#            u'Junction_Control',\n",
    "#            u'2nd_Road_Class',\n",
    "            u'2nd_Road_Number',\n",
    "            u'Pedestrian_Crossing-Human_Control',\n",
    "            u'Pedestrian_Crossing-Physical_Facilities',\n",
    "            u'Light_Conditions',\n",
    "            u'Weather_Conditions', \n",
    "            u'Road_Surface_Conditions',\n",
    "            u'Special_Conditions_at_Site', \n",
    "            u'Carriageway_Hazards',\n",
    "#            u'Urban_or_Rural_Area', \n",
    "            u'Did_Police_Officer_Attend_Scene_of_Accident'\n",
    "]\n",
    "\n",
    "#g = sns.pairplot(df[numerical], hue='Did_Police_Officer_Attend_Scene_of_Accident', palette='seismic', diag_kind = 'kde',diag_kws=dict(shade=True))\n",
    "#g.set(xticklabels=[])"
   ]
  },
  {
   "cell_type": "code",
   "execution_count": 15,
   "id": "266f62b2",
   "metadata": {},
   "outputs": [],
   "source": [
    "# Drop the Did_Police_Officer_Attend_Scene_of_Accident column from Accident dataset first - Don't want to include that\n",
    "df = df.drop(['Did_Police_Officer_Attend_Scene_of_Accident_numerical'], axis=1)\n",
    "\n",
    "# Empty list to store columns with categorical data\n",
    "categorical = []\n",
    "for col, value in df.iteritems():\n",
    "    if value.dtype == 'object':\n",
    "        categorical.append(col)\n",
    "\n",
    "# Store the numerical columns in a list numerical\n",
    "# numerical = df.columns.difference(categorical)"
   ]
  },
  {
   "cell_type": "code",
   "execution_count": 16,
   "id": "d703aba5",
   "metadata": {},
   "outputs": [
    {
     "data": {
      "text/plain": [
       "['Accident_Index',\n",
       " 'Date',\n",
       " 'Time',\n",
       " 'Local_Authority_(Highway)',\n",
       " 'LSOA_of_Accident_Location']"
      ]
     },
     "execution_count": 16,
     "metadata": {},
     "output_type": "execute_result"
    }
   ],
   "source": [
    "categorical"
   ]
  },
  {
   "cell_type": "code",
   "execution_count": 17,
   "id": "de903a20",
   "metadata": {},
   "outputs": [
    {
     "data": {
      "text/plain": [
       "['Accident_Severity',\n",
       " 'Number_of_Vehicles',\n",
       " 'Number_of_Casualties',\n",
       " 'Day_of_Week',\n",
       " '1st_Road_Class',\n",
       " '1st_Road_Number',\n",
       " 'Road_Type',\n",
       " '2nd_Road_Number',\n",
       " 'Pedestrian_Crossing-Human_Control',\n",
       " 'Pedestrian_Crossing-Physical_Facilities',\n",
       " 'Light_Conditions',\n",
       " 'Weather_Conditions',\n",
       " 'Road_Surface_Conditions',\n",
       " 'Special_Conditions_at_Site',\n",
       " 'Carriageway_Hazards',\n",
       " 'Did_Police_Officer_Attend_Scene_of_Accident']"
      ]
     },
     "execution_count": 17,
     "metadata": {},
     "output_type": "execute_result"
    }
   ],
   "source": [
    "numerical"
   ]
  },
  {
   "cell_type": "code",
   "execution_count": 18,
   "id": "b80f8a19",
   "metadata": {},
   "outputs": [],
   "source": [
    "# Store the categorical data in a dataframe called Did_Police_Officer_Attend_Scene_of_Accident_cat\n",
    "df_cat = df[categorical]\n",
    "# df_cat = df_cat.drop(['Did_Police_Officer_Attend_Scene_of_Accident'], axis=1) # Dropping the target column"
   ]
  },
  {
   "cell_type": "code",
   "execution_count": 19,
   "id": "99fd1707",
   "metadata": {},
   "outputs": [],
   "source": [
    "# converting categorical indicators to dummy indicator variables\n",
    "df_cat = pd.get_dummies(df_cat)\n",
    "#df_cat.head(5)"
   ]
  },
  {
   "cell_type": "code",
   "execution_count": 20,
   "id": "25c3f1b2",
   "metadata": {},
   "outputs": [],
   "source": [
    "# Store the numerical features to a dataframe Did_Police_Officer_Attend_Scene_of_Accident_num\n",
    "df_num = df[numerical]"
   ]
  },
  {
   "cell_type": "code",
   "execution_count": 21,
   "id": "7eb8aae7",
   "metadata": {},
   "outputs": [],
   "source": [
    "# Concat the two dataframes together columnwise\n",
    "# df_final = pd.concat([df_num, df_cat], axis=1)\n",
    "df_final = pd.concat([df_num], axis=1)"
   ]
  },
  {
   "cell_type": "code",
   "execution_count": 22,
   "id": "3df98115",
   "metadata": {},
   "outputs": [],
   "source": [
    "# removing Accident ids\n",
    "df_final.reset_index(drop=True, inplace=True)"
   ]
  },
  {
   "cell_type": "code",
   "execution_count": 23,
   "id": "ca2cfba6",
   "metadata": {},
   "outputs": [
    {
     "data": {
      "text/html": [
       "<div>\n",
       "<style scoped>\n",
       "    .dataframe tbody tr th:only-of-type {\n",
       "        vertical-align: middle;\n",
       "    }\n",
       "\n",
       "    .dataframe tbody tr th {\n",
       "        vertical-align: top;\n",
       "    }\n",
       "\n",
       "    .dataframe thead th {\n",
       "        text-align: right;\n",
       "    }\n",
       "</style>\n",
       "<table border=\"1\" class=\"dataframe\">\n",
       "  <thead>\n",
       "    <tr style=\"text-align: right;\">\n",
       "      <th></th>\n",
       "      <th>Accident_Severity</th>\n",
       "      <th>Number_of_Vehicles</th>\n",
       "      <th>Number_of_Casualties</th>\n",
       "      <th>Day_of_Week</th>\n",
       "      <th>1st_Road_Class</th>\n",
       "      <th>1st_Road_Number</th>\n",
       "      <th>Road_Type</th>\n",
       "      <th>2nd_Road_Number</th>\n",
       "      <th>Pedestrian_Crossing-Human_Control</th>\n",
       "      <th>Pedestrian_Crossing-Physical_Facilities</th>\n",
       "      <th>Light_Conditions</th>\n",
       "      <th>Weather_Conditions</th>\n",
       "      <th>Road_Surface_Conditions</th>\n",
       "      <th>Special_Conditions_at_Site</th>\n",
       "      <th>Carriageway_Hazards</th>\n",
       "      <th>Did_Police_Officer_Attend_Scene_of_Accident</th>\n",
       "    </tr>\n",
       "  </thead>\n",
       "  <tbody>\n",
       "    <tr>\n",
       "      <th>0</th>\n",
       "      <td>3</td>\n",
       "      <td>2</td>\n",
       "      <td>3</td>\n",
       "      <td>2</td>\n",
       "      <td>3</td>\n",
       "      <td>4202</td>\n",
       "      <td>1</td>\n",
       "      <td>4202</td>\n",
       "      <td>0</td>\n",
       "      <td>5</td>\n",
       "      <td>1</td>\n",
       "      <td>1</td>\n",
       "      <td>1</td>\n",
       "      <td>0</td>\n",
       "      <td>0</td>\n",
       "      <td>3</td>\n",
       "    </tr>\n",
       "    <tr>\n",
       "      <th>1</th>\n",
       "      <td>3</td>\n",
       "      <td>2</td>\n",
       "      <td>1</td>\n",
       "      <td>3</td>\n",
       "      <td>3</td>\n",
       "      <td>23</td>\n",
       "      <td>2</td>\n",
       "      <td>0</td>\n",
       "      <td>-1</td>\n",
       "      <td>-1</td>\n",
       "      <td>4</td>\n",
       "      <td>1</td>\n",
       "      <td>1</td>\n",
       "      <td>0</td>\n",
       "      <td>0</td>\n",
       "      <td>3</td>\n",
       "    </tr>\n",
       "    <tr>\n",
       "      <th>2</th>\n",
       "      <td>3</td>\n",
       "      <td>2</td>\n",
       "      <td>1</td>\n",
       "      <td>3</td>\n",
       "      <td>4</td>\n",
       "      <td>504</td>\n",
       "      <td>6</td>\n",
       "      <td>0</td>\n",
       "      <td>0</td>\n",
       "      <td>0</td>\n",
       "      <td>4</td>\n",
       "      <td>1</td>\n",
       "      <td>1</td>\n",
       "      <td>0</td>\n",
       "      <td>0</td>\n",
       "      <td>1</td>\n",
       "    </tr>\n",
       "    <tr>\n",
       "      <th>3</th>\n",
       "      <td>2</td>\n",
       "      <td>1</td>\n",
       "      <td>1</td>\n",
       "      <td>3</td>\n",
       "      <td>4</td>\n",
       "      <td>510</td>\n",
       "      <td>6</td>\n",
       "      <td>510</td>\n",
       "      <td>0</td>\n",
       "      <td>0</td>\n",
       "      <td>4</td>\n",
       "      <td>1</td>\n",
       "      <td>1</td>\n",
       "      <td>0</td>\n",
       "      <td>0</td>\n",
       "      <td>1</td>\n",
       "    </tr>\n",
       "    <tr>\n",
       "      <th>4</th>\n",
       "      <td>3</td>\n",
       "      <td>2</td>\n",
       "      <td>2</td>\n",
       "      <td>3</td>\n",
       "      <td>3</td>\n",
       "      <td>4003</td>\n",
       "      <td>6</td>\n",
       "      <td>0</td>\n",
       "      <td>0</td>\n",
       "      <td>0</td>\n",
       "      <td>4</td>\n",
       "      <td>1</td>\n",
       "      <td>1</td>\n",
       "      <td>0</td>\n",
       "      <td>0</td>\n",
       "      <td>1</td>\n",
       "    </tr>\n",
       "    <tr>\n",
       "      <th>...</th>\n",
       "      <td>...</td>\n",
       "      <td>...</td>\n",
       "      <td>...</td>\n",
       "      <td>...</td>\n",
       "      <td>...</td>\n",
       "      <td>...</td>\n",
       "      <td>...</td>\n",
       "      <td>...</td>\n",
       "      <td>...</td>\n",
       "      <td>...</td>\n",
       "      <td>...</td>\n",
       "      <td>...</td>\n",
       "      <td>...</td>\n",
       "      <td>...</td>\n",
       "      <td>...</td>\n",
       "      <td>...</td>\n",
       "    </tr>\n",
       "    <tr>\n",
       "      <th>117531</th>\n",
       "      <td>3</td>\n",
       "      <td>1</td>\n",
       "      <td>1</td>\n",
       "      <td>7</td>\n",
       "      <td>4</td>\n",
       "      <td>725</td>\n",
       "      <td>6</td>\n",
       "      <td>0</td>\n",
       "      <td>0</td>\n",
       "      <td>0</td>\n",
       "      <td>1</td>\n",
       "      <td>1</td>\n",
       "      <td>2</td>\n",
       "      <td>0</td>\n",
       "      <td>0</td>\n",
       "      <td>1</td>\n",
       "    </tr>\n",
       "    <tr>\n",
       "      <th>117532</th>\n",
       "      <td>3</td>\n",
       "      <td>4</td>\n",
       "      <td>1</td>\n",
       "      <td>5</td>\n",
       "      <td>3</td>\n",
       "      <td>7</td>\n",
       "      <td>6</td>\n",
       "      <td>0</td>\n",
       "      <td>0</td>\n",
       "      <td>0</td>\n",
       "      <td>1</td>\n",
       "      <td>1</td>\n",
       "      <td>2</td>\n",
       "      <td>0</td>\n",
       "      <td>0</td>\n",
       "      <td>1</td>\n",
       "    </tr>\n",
       "    <tr>\n",
       "      <th>117533</th>\n",
       "      <td>3</td>\n",
       "      <td>2</td>\n",
       "      <td>1</td>\n",
       "      <td>6</td>\n",
       "      <td>4</td>\n",
       "      <td>723</td>\n",
       "      <td>6</td>\n",
       "      <td>721</td>\n",
       "      <td>0</td>\n",
       "      <td>0</td>\n",
       "      <td>1</td>\n",
       "      <td>1</td>\n",
       "      <td>1</td>\n",
       "      <td>0</td>\n",
       "      <td>0</td>\n",
       "      <td>2</td>\n",
       "    </tr>\n",
       "    <tr>\n",
       "      <th>117534</th>\n",
       "      <td>3</td>\n",
       "      <td>1</td>\n",
       "      <td>1</td>\n",
       "      <td>7</td>\n",
       "      <td>6</td>\n",
       "      <td>710</td>\n",
       "      <td>6</td>\n",
       "      <td>723</td>\n",
       "      <td>0</td>\n",
       "      <td>0</td>\n",
       "      <td>1</td>\n",
       "      <td>1</td>\n",
       "      <td>1</td>\n",
       "      <td>0</td>\n",
       "      <td>0</td>\n",
       "      <td>2</td>\n",
       "    </tr>\n",
       "    <tr>\n",
       "      <th>117535</th>\n",
       "      <td>2</td>\n",
       "      <td>1</td>\n",
       "      <td>1</td>\n",
       "      <td>1</td>\n",
       "      <td>3</td>\n",
       "      <td>702</td>\n",
       "      <td>6</td>\n",
       "      <td>0</td>\n",
       "      <td>0</td>\n",
       "      <td>0</td>\n",
       "      <td>1</td>\n",
       "      <td>1</td>\n",
       "      <td>1</td>\n",
       "      <td>0</td>\n",
       "      <td>0</td>\n",
       "      <td>1</td>\n",
       "    </tr>\n",
       "  </tbody>\n",
       "</table>\n",
       "<p>117536 rows × 16 columns</p>\n",
       "</div>"
      ],
      "text/plain": [
       "        Accident_Severity  Number_of_Vehicles  Number_of_Casualties  \\\n",
       "0                       3                   2                     3   \n",
       "1                       3                   2                     1   \n",
       "2                       3                   2                     1   \n",
       "3                       2                   1                     1   \n",
       "4                       3                   2                     2   \n",
       "...                   ...                 ...                   ...   \n",
       "117531                  3                   1                     1   \n",
       "117532                  3                   4                     1   \n",
       "117533                  3                   2                     1   \n",
       "117534                  3                   1                     1   \n",
       "117535                  2                   1                     1   \n",
       "\n",
       "        Day_of_Week  1st_Road_Class  1st_Road_Number  Road_Type  \\\n",
       "0                 2               3             4202          1   \n",
       "1                 3               3               23          2   \n",
       "2                 3               4              504          6   \n",
       "3                 3               4              510          6   \n",
       "4                 3               3             4003          6   \n",
       "...             ...             ...              ...        ...   \n",
       "117531            7               4              725          6   \n",
       "117532            5               3                7          6   \n",
       "117533            6               4              723          6   \n",
       "117534            7               6              710          6   \n",
       "117535            1               3              702          6   \n",
       "\n",
       "        2nd_Road_Number  Pedestrian_Crossing-Human_Control  \\\n",
       "0                  4202                                  0   \n",
       "1                     0                                 -1   \n",
       "2                     0                                  0   \n",
       "3                   510                                  0   \n",
       "4                     0                                  0   \n",
       "...                 ...                                ...   \n",
       "117531                0                                  0   \n",
       "117532                0                                  0   \n",
       "117533              721                                  0   \n",
       "117534              723                                  0   \n",
       "117535                0                                  0   \n",
       "\n",
       "        Pedestrian_Crossing-Physical_Facilities  Light_Conditions  \\\n",
       "0                                             5                 1   \n",
       "1                                            -1                 4   \n",
       "2                                             0                 4   \n",
       "3                                             0                 4   \n",
       "4                                             0                 4   \n",
       "...                                         ...               ...   \n",
       "117531                                        0                 1   \n",
       "117532                                        0                 1   \n",
       "117533                                        0                 1   \n",
       "117534                                        0                 1   \n",
       "117535                                        0                 1   \n",
       "\n",
       "        Weather_Conditions  Road_Surface_Conditions  \\\n",
       "0                        1                        1   \n",
       "1                        1                        1   \n",
       "2                        1                        1   \n",
       "3                        1                        1   \n",
       "4                        1                        1   \n",
       "...                    ...                      ...   \n",
       "117531                   1                        2   \n",
       "117532                   1                        2   \n",
       "117533                   1                        1   \n",
       "117534                   1                        1   \n",
       "117535                   1                        1   \n",
       "\n",
       "        Special_Conditions_at_Site  Carriageway_Hazards  \\\n",
       "0                                0                    0   \n",
       "1                                0                    0   \n",
       "2                                0                    0   \n",
       "3                                0                    0   \n",
       "4                                0                    0   \n",
       "...                            ...                  ...   \n",
       "117531                           0                    0   \n",
       "117532                           0                    0   \n",
       "117533                           0                    0   \n",
       "117534                           0                    0   \n",
       "117535                           0                    0   \n",
       "\n",
       "        Did_Police_Officer_Attend_Scene_of_Accident  \n",
       "0                                                 3  \n",
       "1                                                 3  \n",
       "2                                                 1  \n",
       "3                                                 1  \n",
       "4                                                 1  \n",
       "...                                             ...  \n",
       "117531                                            1  \n",
       "117532                                            1  \n",
       "117533                                            2  \n",
       "117534                                            2  \n",
       "117535                                            1  \n",
       "\n",
       "[117536 rows x 16 columns]"
      ]
     },
     "execution_count": 23,
     "metadata": {},
     "output_type": "execute_result"
    }
   ],
   "source": [
    "df_final"
   ]
  },
  {
   "cell_type": "code",
   "execution_count": 24,
   "id": "7e8bcc41",
   "metadata": {},
   "outputs": [],
   "source": [
    "# Define a dictionary for the target mapping\n",
    "target = df['Did_Police_Officer_Attend_Scene_of_Accident']"
   ]
  },
  {
   "cell_type": "code",
   "execution_count": 25,
   "id": "67d339c0",
   "metadata": {},
   "outputs": [
    {
     "data": {
      "application/vnd.plotly.v1+json": {
       "config": {
        "linkText": "Export to plot.ly",
        "plotlyServerURL": "https://plot.ly",
        "showLink": false
       },
       "data": [
        {
         "type": "bar",
         "x": [
          1,
          2,
          3
         ],
         "y": [
          81309,
          26285,
          9942
         ]
        }
       ],
       "layout": {
        "template": {
         "data": {
          "bar": [
           {
            "error_x": {
             "color": "#2a3f5f"
            },
            "error_y": {
             "color": "#2a3f5f"
            },
            "marker": {
             "line": {
              "color": "#E5ECF6",
              "width": 0.5
             }
            },
            "type": "bar"
           }
          ],
          "barpolar": [
           {
            "marker": {
             "line": {
              "color": "#E5ECF6",
              "width": 0.5
             }
            },
            "type": "barpolar"
           }
          ],
          "carpet": [
           {
            "aaxis": {
             "endlinecolor": "#2a3f5f",
             "gridcolor": "white",
             "linecolor": "white",
             "minorgridcolor": "white",
             "startlinecolor": "#2a3f5f"
            },
            "baxis": {
             "endlinecolor": "#2a3f5f",
             "gridcolor": "white",
             "linecolor": "white",
             "minorgridcolor": "white",
             "startlinecolor": "#2a3f5f"
            },
            "type": "carpet"
           }
          ],
          "choropleth": [
           {
            "colorbar": {
             "outlinewidth": 0,
             "ticks": ""
            },
            "type": "choropleth"
           }
          ],
          "contour": [
           {
            "colorbar": {
             "outlinewidth": 0,
             "ticks": ""
            },
            "colorscale": [
             [
              0,
              "#0d0887"
             ],
             [
              0.1111111111111111,
              "#46039f"
             ],
             [
              0.2222222222222222,
              "#7201a8"
             ],
             [
              0.3333333333333333,
              "#9c179e"
             ],
             [
              0.4444444444444444,
              "#bd3786"
             ],
             [
              0.5555555555555556,
              "#d8576b"
             ],
             [
              0.6666666666666666,
              "#ed7953"
             ],
             [
              0.7777777777777778,
              "#fb9f3a"
             ],
             [
              0.8888888888888888,
              "#fdca26"
             ],
             [
              1,
              "#f0f921"
             ]
            ],
            "type": "contour"
           }
          ],
          "contourcarpet": [
           {
            "colorbar": {
             "outlinewidth": 0,
             "ticks": ""
            },
            "type": "contourcarpet"
           }
          ],
          "heatmap": [
           {
            "colorbar": {
             "outlinewidth": 0,
             "ticks": ""
            },
            "colorscale": [
             [
              0,
              "#0d0887"
             ],
             [
              0.1111111111111111,
              "#46039f"
             ],
             [
              0.2222222222222222,
              "#7201a8"
             ],
             [
              0.3333333333333333,
              "#9c179e"
             ],
             [
              0.4444444444444444,
              "#bd3786"
             ],
             [
              0.5555555555555556,
              "#d8576b"
             ],
             [
              0.6666666666666666,
              "#ed7953"
             ],
             [
              0.7777777777777778,
              "#fb9f3a"
             ],
             [
              0.8888888888888888,
              "#fdca26"
             ],
             [
              1,
              "#f0f921"
             ]
            ],
            "type": "heatmap"
           }
          ],
          "heatmapgl": [
           {
            "colorbar": {
             "outlinewidth": 0,
             "ticks": ""
            },
            "colorscale": [
             [
              0,
              "#0d0887"
             ],
             [
              0.1111111111111111,
              "#46039f"
             ],
             [
              0.2222222222222222,
              "#7201a8"
             ],
             [
              0.3333333333333333,
              "#9c179e"
             ],
             [
              0.4444444444444444,
              "#bd3786"
             ],
             [
              0.5555555555555556,
              "#d8576b"
             ],
             [
              0.6666666666666666,
              "#ed7953"
             ],
             [
              0.7777777777777778,
              "#fb9f3a"
             ],
             [
              0.8888888888888888,
              "#fdca26"
             ],
             [
              1,
              "#f0f921"
             ]
            ],
            "type": "heatmapgl"
           }
          ],
          "histogram": [
           {
            "marker": {
             "colorbar": {
              "outlinewidth": 0,
              "ticks": ""
             }
            },
            "type": "histogram"
           }
          ],
          "histogram2d": [
           {
            "colorbar": {
             "outlinewidth": 0,
             "ticks": ""
            },
            "colorscale": [
             [
              0,
              "#0d0887"
             ],
             [
              0.1111111111111111,
              "#46039f"
             ],
             [
              0.2222222222222222,
              "#7201a8"
             ],
             [
              0.3333333333333333,
              "#9c179e"
             ],
             [
              0.4444444444444444,
              "#bd3786"
             ],
             [
              0.5555555555555556,
              "#d8576b"
             ],
             [
              0.6666666666666666,
              "#ed7953"
             ],
             [
              0.7777777777777778,
              "#fb9f3a"
             ],
             [
              0.8888888888888888,
              "#fdca26"
             ],
             [
              1,
              "#f0f921"
             ]
            ],
            "type": "histogram2d"
           }
          ],
          "histogram2dcontour": [
           {
            "colorbar": {
             "outlinewidth": 0,
             "ticks": ""
            },
            "colorscale": [
             [
              0,
              "#0d0887"
             ],
             [
              0.1111111111111111,
              "#46039f"
             ],
             [
              0.2222222222222222,
              "#7201a8"
             ],
             [
              0.3333333333333333,
              "#9c179e"
             ],
             [
              0.4444444444444444,
              "#bd3786"
             ],
             [
              0.5555555555555556,
              "#d8576b"
             ],
             [
              0.6666666666666666,
              "#ed7953"
             ],
             [
              0.7777777777777778,
              "#fb9f3a"
             ],
             [
              0.8888888888888888,
              "#fdca26"
             ],
             [
              1,
              "#f0f921"
             ]
            ],
            "type": "histogram2dcontour"
           }
          ],
          "mesh3d": [
           {
            "colorbar": {
             "outlinewidth": 0,
             "ticks": ""
            },
            "type": "mesh3d"
           }
          ],
          "parcoords": [
           {
            "line": {
             "colorbar": {
              "outlinewidth": 0,
              "ticks": ""
             }
            },
            "type": "parcoords"
           }
          ],
          "pie": [
           {
            "automargin": true,
            "type": "pie"
           }
          ],
          "scatter": [
           {
            "marker": {
             "colorbar": {
              "outlinewidth": 0,
              "ticks": ""
             }
            },
            "type": "scatter"
           }
          ],
          "scatter3d": [
           {
            "line": {
             "colorbar": {
              "outlinewidth": 0,
              "ticks": ""
             }
            },
            "marker": {
             "colorbar": {
              "outlinewidth": 0,
              "ticks": ""
             }
            },
            "type": "scatter3d"
           }
          ],
          "scattercarpet": [
           {
            "marker": {
             "colorbar": {
              "outlinewidth": 0,
              "ticks": ""
             }
            },
            "type": "scattercarpet"
           }
          ],
          "scattergeo": [
           {
            "marker": {
             "colorbar": {
              "outlinewidth": 0,
              "ticks": ""
             }
            },
            "type": "scattergeo"
           }
          ],
          "scattergl": [
           {
            "marker": {
             "colorbar": {
              "outlinewidth": 0,
              "ticks": ""
             }
            },
            "type": "scattergl"
           }
          ],
          "scattermapbox": [
           {
            "marker": {
             "colorbar": {
              "outlinewidth": 0,
              "ticks": ""
             }
            },
            "type": "scattermapbox"
           }
          ],
          "scatterpolar": [
           {
            "marker": {
             "colorbar": {
              "outlinewidth": 0,
              "ticks": ""
             }
            },
            "type": "scatterpolar"
           }
          ],
          "scatterpolargl": [
           {
            "marker": {
             "colorbar": {
              "outlinewidth": 0,
              "ticks": ""
             }
            },
            "type": "scatterpolargl"
           }
          ],
          "scatterternary": [
           {
            "marker": {
             "colorbar": {
              "outlinewidth": 0,
              "ticks": ""
             }
            },
            "type": "scatterternary"
           }
          ],
          "surface": [
           {
            "colorbar": {
             "outlinewidth": 0,
             "ticks": ""
            },
            "colorscale": [
             [
              0,
              "#0d0887"
             ],
             [
              0.1111111111111111,
              "#46039f"
             ],
             [
              0.2222222222222222,
              "#7201a8"
             ],
             [
              0.3333333333333333,
              "#9c179e"
             ],
             [
              0.4444444444444444,
              "#bd3786"
             ],
             [
              0.5555555555555556,
              "#d8576b"
             ],
             [
              0.6666666666666666,
              "#ed7953"
             ],
             [
              0.7777777777777778,
              "#fb9f3a"
             ],
             [
              0.8888888888888888,
              "#fdca26"
             ],
             [
              1,
              "#f0f921"
             ]
            ],
            "type": "surface"
           }
          ],
          "table": [
           {
            "cells": {
             "fill": {
              "color": "#EBF0F8"
             },
             "line": {
              "color": "white"
             }
            },
            "header": {
             "fill": {
              "color": "#C8D4E3"
             },
             "line": {
              "color": "white"
             }
            },
            "type": "table"
           }
          ]
         },
         "layout": {
          "annotationdefaults": {
           "arrowcolor": "#2a3f5f",
           "arrowhead": 0,
           "arrowwidth": 1
          },
          "autotypenumbers": "strict",
          "coloraxis": {
           "colorbar": {
            "outlinewidth": 0,
            "ticks": ""
           }
          },
          "colorscale": {
           "diverging": [
            [
             0,
             "#8e0152"
            ],
            [
             0.1,
             "#c51b7d"
            ],
            [
             0.2,
             "#de77ae"
            ],
            [
             0.3,
             "#f1b6da"
            ],
            [
             0.4,
             "#fde0ef"
            ],
            [
             0.5,
             "#f7f7f7"
            ],
            [
             0.6,
             "#e6f5d0"
            ],
            [
             0.7,
             "#b8e186"
            ],
            [
             0.8,
             "#7fbc41"
            ],
            [
             0.9,
             "#4d9221"
            ],
            [
             1,
             "#276419"
            ]
           ],
           "sequential": [
            [
             0,
             "#0d0887"
            ],
            [
             0.1111111111111111,
             "#46039f"
            ],
            [
             0.2222222222222222,
             "#7201a8"
            ],
            [
             0.3333333333333333,
             "#9c179e"
            ],
            [
             0.4444444444444444,
             "#bd3786"
            ],
            [
             0.5555555555555556,
             "#d8576b"
            ],
            [
             0.6666666666666666,
             "#ed7953"
            ],
            [
             0.7777777777777778,
             "#fb9f3a"
            ],
            [
             0.8888888888888888,
             "#fdca26"
            ],
            [
             1,
             "#f0f921"
            ]
           ],
           "sequentialminus": [
            [
             0,
             "#0d0887"
            ],
            [
             0.1111111111111111,
             "#46039f"
            ],
            [
             0.2222222222222222,
             "#7201a8"
            ],
            [
             0.3333333333333333,
             "#9c179e"
            ],
            [
             0.4444444444444444,
             "#bd3786"
            ],
            [
             0.5555555555555556,
             "#d8576b"
            ],
            [
             0.6666666666666666,
             "#ed7953"
            ],
            [
             0.7777777777777778,
             "#fb9f3a"
            ],
            [
             0.8888888888888888,
             "#fdca26"
            ],
            [
             1,
             "#f0f921"
            ]
           ]
          },
          "colorway": [
           "#636efa",
           "#EF553B",
           "#00cc96",
           "#ab63fa",
           "#FFA15A",
           "#19d3f3",
           "#FF6692",
           "#B6E880",
           "#FF97FF",
           "#FECB52"
          ],
          "font": {
           "color": "#2a3f5f"
          },
          "geo": {
           "bgcolor": "white",
           "lakecolor": "white",
           "landcolor": "#E5ECF6",
           "showlakes": true,
           "showland": true,
           "subunitcolor": "white"
          },
          "hoverlabel": {
           "align": "left"
          },
          "hovermode": "closest",
          "mapbox": {
           "style": "light"
          },
          "paper_bgcolor": "white",
          "plot_bgcolor": "#E5ECF6",
          "polar": {
           "angularaxis": {
            "gridcolor": "white",
            "linecolor": "white",
            "ticks": ""
           },
           "bgcolor": "#E5ECF6",
           "radialaxis": {
            "gridcolor": "white",
            "linecolor": "white",
            "ticks": ""
           }
          },
          "scene": {
           "xaxis": {
            "backgroundcolor": "#E5ECF6",
            "gridcolor": "white",
            "gridwidth": 2,
            "linecolor": "white",
            "showbackground": true,
            "ticks": "",
            "zerolinecolor": "white"
           },
           "yaxis": {
            "backgroundcolor": "#E5ECF6",
            "gridcolor": "white",
            "gridwidth": 2,
            "linecolor": "white",
            "showbackground": true,
            "ticks": "",
            "zerolinecolor": "white"
           },
           "zaxis": {
            "backgroundcolor": "#E5ECF6",
            "gridcolor": "white",
            "gridwidth": 2,
            "linecolor": "white",
            "showbackground": true,
            "ticks": "",
            "zerolinecolor": "white"
           }
          },
          "shapedefaults": {
           "line": {
            "color": "#2a3f5f"
           }
          },
          "ternary": {
           "aaxis": {
            "gridcolor": "white",
            "linecolor": "white",
            "ticks": ""
           },
           "baxis": {
            "gridcolor": "white",
            "linecolor": "white",
            "ticks": ""
           },
           "bgcolor": "#E5ECF6",
           "caxis": {
            "gridcolor": "white",
            "linecolor": "white",
            "ticks": ""
           }
          },
          "title": {
           "x": 0.05
          },
          "xaxis": {
           "automargin": true,
           "gridcolor": "white",
           "linecolor": "white",
           "ticks": "",
           "title": {
            "standoff": 15
           },
           "zerolinecolor": "white",
           "zerolinewidth": 2
          },
          "yaxis": {
           "automargin": true,
           "gridcolor": "white",
           "linecolor": "white",
           "ticks": "",
           "title": {
            "standoff": 15
           },
           "zerolinecolor": "white",
           "zerolinewidth": 2
          }
         }
        }
       }
      },
      "text/html": [
       "<div>                            <div id=\"bd7da59a-e02f-4bc3-b8c0-4da008b2f1aa\" class=\"plotly-graph-div\" style=\"height:525px; width:100%;\"></div>            <script type=\"text/javascript\">                require([\"plotly\"], function(Plotly) {                    window.PLOTLYENV=window.PLOTLYENV || {};                                    if (document.getElementById(\"bd7da59a-e02f-4bc3-b8c0-4da008b2f1aa\")) {                    Plotly.newPlot(                        \"bd7da59a-e02f-4bc3-b8c0-4da008b2f1aa\",                        [{\"type\": \"bar\", \"x\": [1, 2, 3], \"y\": [81309, 26285, 9942]}],                        {\"template\": {\"data\": {\"bar\": [{\"error_x\": {\"color\": \"#2a3f5f\"}, \"error_y\": {\"color\": \"#2a3f5f\"}, \"marker\": {\"line\": {\"color\": \"#E5ECF6\", \"width\": 0.5}}, \"type\": \"bar\"}], \"barpolar\": [{\"marker\": {\"line\": {\"color\": \"#E5ECF6\", \"width\": 0.5}}, \"type\": \"barpolar\"}], \"carpet\": [{\"aaxis\": {\"endlinecolor\": \"#2a3f5f\", \"gridcolor\": \"white\", \"linecolor\": \"white\", \"minorgridcolor\": \"white\", \"startlinecolor\": \"#2a3f5f\"}, \"baxis\": {\"endlinecolor\": \"#2a3f5f\", \"gridcolor\": \"white\", \"linecolor\": \"white\", \"minorgridcolor\": \"white\", \"startlinecolor\": \"#2a3f5f\"}, \"type\": \"carpet\"}], \"choropleth\": [{\"colorbar\": {\"outlinewidth\": 0, \"ticks\": \"\"}, \"type\": \"choropleth\"}], \"contour\": [{\"colorbar\": {\"outlinewidth\": 0, \"ticks\": \"\"}, \"colorscale\": [[0.0, \"#0d0887\"], [0.1111111111111111, \"#46039f\"], [0.2222222222222222, \"#7201a8\"], [0.3333333333333333, \"#9c179e\"], [0.4444444444444444, \"#bd3786\"], [0.5555555555555556, \"#d8576b\"], [0.6666666666666666, \"#ed7953\"], [0.7777777777777778, \"#fb9f3a\"], [0.8888888888888888, \"#fdca26\"], [1.0, \"#f0f921\"]], \"type\": \"contour\"}], \"contourcarpet\": [{\"colorbar\": {\"outlinewidth\": 0, \"ticks\": \"\"}, \"type\": \"contourcarpet\"}], \"heatmap\": [{\"colorbar\": {\"outlinewidth\": 0, \"ticks\": \"\"}, \"colorscale\": [[0.0, \"#0d0887\"], [0.1111111111111111, \"#46039f\"], [0.2222222222222222, \"#7201a8\"], [0.3333333333333333, \"#9c179e\"], [0.4444444444444444, \"#bd3786\"], [0.5555555555555556, \"#d8576b\"], [0.6666666666666666, \"#ed7953\"], [0.7777777777777778, \"#fb9f3a\"], [0.8888888888888888, \"#fdca26\"], [1.0, \"#f0f921\"]], \"type\": \"heatmap\"}], \"heatmapgl\": [{\"colorbar\": {\"outlinewidth\": 0, \"ticks\": \"\"}, \"colorscale\": [[0.0, \"#0d0887\"], [0.1111111111111111, \"#46039f\"], [0.2222222222222222, \"#7201a8\"], [0.3333333333333333, \"#9c179e\"], [0.4444444444444444, \"#bd3786\"], [0.5555555555555556, \"#d8576b\"], [0.6666666666666666, \"#ed7953\"], [0.7777777777777778, \"#fb9f3a\"], [0.8888888888888888, \"#fdca26\"], [1.0, \"#f0f921\"]], \"type\": \"heatmapgl\"}], \"histogram\": [{\"marker\": {\"colorbar\": {\"outlinewidth\": 0, \"ticks\": \"\"}}, \"type\": \"histogram\"}], \"histogram2d\": [{\"colorbar\": {\"outlinewidth\": 0, \"ticks\": \"\"}, \"colorscale\": [[0.0, \"#0d0887\"], [0.1111111111111111, \"#46039f\"], [0.2222222222222222, \"#7201a8\"], [0.3333333333333333, \"#9c179e\"], [0.4444444444444444, \"#bd3786\"], [0.5555555555555556, \"#d8576b\"], [0.6666666666666666, \"#ed7953\"], [0.7777777777777778, \"#fb9f3a\"], [0.8888888888888888, \"#fdca26\"], [1.0, \"#f0f921\"]], \"type\": \"histogram2d\"}], \"histogram2dcontour\": [{\"colorbar\": {\"outlinewidth\": 0, \"ticks\": \"\"}, \"colorscale\": [[0.0, \"#0d0887\"], [0.1111111111111111, \"#46039f\"], [0.2222222222222222, \"#7201a8\"], [0.3333333333333333, \"#9c179e\"], [0.4444444444444444, \"#bd3786\"], [0.5555555555555556, \"#d8576b\"], [0.6666666666666666, \"#ed7953\"], [0.7777777777777778, \"#fb9f3a\"], [0.8888888888888888, \"#fdca26\"], [1.0, \"#f0f921\"]], \"type\": \"histogram2dcontour\"}], \"mesh3d\": [{\"colorbar\": {\"outlinewidth\": 0, \"ticks\": \"\"}, \"type\": \"mesh3d\"}], \"parcoords\": [{\"line\": {\"colorbar\": {\"outlinewidth\": 0, \"ticks\": \"\"}}, \"type\": \"parcoords\"}], \"pie\": [{\"automargin\": true, \"type\": \"pie\"}], \"scatter\": [{\"marker\": {\"colorbar\": {\"outlinewidth\": 0, \"ticks\": \"\"}}, \"type\": \"scatter\"}], \"scatter3d\": [{\"line\": {\"colorbar\": {\"outlinewidth\": 0, \"ticks\": \"\"}}, \"marker\": {\"colorbar\": {\"outlinewidth\": 0, \"ticks\": \"\"}}, \"type\": \"scatter3d\"}], \"scattercarpet\": [{\"marker\": {\"colorbar\": {\"outlinewidth\": 0, \"ticks\": \"\"}}, \"type\": \"scattercarpet\"}], \"scattergeo\": [{\"marker\": {\"colorbar\": {\"outlinewidth\": 0, \"ticks\": \"\"}}, \"type\": \"scattergeo\"}], \"scattergl\": [{\"marker\": {\"colorbar\": {\"outlinewidth\": 0, \"ticks\": \"\"}}, \"type\": \"scattergl\"}], \"scattermapbox\": [{\"marker\": {\"colorbar\": {\"outlinewidth\": 0, \"ticks\": \"\"}}, \"type\": \"scattermapbox\"}], \"scatterpolar\": [{\"marker\": {\"colorbar\": {\"outlinewidth\": 0, \"ticks\": \"\"}}, \"type\": \"scatterpolar\"}], \"scatterpolargl\": [{\"marker\": {\"colorbar\": {\"outlinewidth\": 0, \"ticks\": \"\"}}, \"type\": \"scatterpolargl\"}], \"scatterternary\": [{\"marker\": {\"colorbar\": {\"outlinewidth\": 0, \"ticks\": \"\"}}, \"type\": \"scatterternary\"}], \"surface\": [{\"colorbar\": {\"outlinewidth\": 0, \"ticks\": \"\"}, \"colorscale\": [[0.0, \"#0d0887\"], [0.1111111111111111, \"#46039f\"], [0.2222222222222222, \"#7201a8\"], [0.3333333333333333, \"#9c179e\"], [0.4444444444444444, \"#bd3786\"], [0.5555555555555556, \"#d8576b\"], [0.6666666666666666, \"#ed7953\"], [0.7777777777777778, \"#fb9f3a\"], [0.8888888888888888, \"#fdca26\"], [1.0, \"#f0f921\"]], \"type\": \"surface\"}], \"table\": [{\"cells\": {\"fill\": {\"color\": \"#EBF0F8\"}, \"line\": {\"color\": \"white\"}}, \"header\": {\"fill\": {\"color\": \"#C8D4E3\"}, \"line\": {\"color\": \"white\"}}, \"type\": \"table\"}]}, \"layout\": {\"annotationdefaults\": {\"arrowcolor\": \"#2a3f5f\", \"arrowhead\": 0, \"arrowwidth\": 1}, \"autotypenumbers\": \"strict\", \"coloraxis\": {\"colorbar\": {\"outlinewidth\": 0, \"ticks\": \"\"}}, \"colorscale\": {\"diverging\": [[0, \"#8e0152\"], [0.1, \"#c51b7d\"], [0.2, \"#de77ae\"], [0.3, \"#f1b6da\"], [0.4, \"#fde0ef\"], [0.5, \"#f7f7f7\"], [0.6, \"#e6f5d0\"], [0.7, \"#b8e186\"], [0.8, \"#7fbc41\"], [0.9, \"#4d9221\"], [1, \"#276419\"]], \"sequential\": [[0.0, \"#0d0887\"], [0.1111111111111111, \"#46039f\"], [0.2222222222222222, \"#7201a8\"], [0.3333333333333333, \"#9c179e\"], [0.4444444444444444, \"#bd3786\"], [0.5555555555555556, \"#d8576b\"], [0.6666666666666666, \"#ed7953\"], [0.7777777777777778, \"#fb9f3a\"], [0.8888888888888888, \"#fdca26\"], [1.0, \"#f0f921\"]], \"sequentialminus\": [[0.0, \"#0d0887\"], [0.1111111111111111, \"#46039f\"], [0.2222222222222222, \"#7201a8\"], [0.3333333333333333, \"#9c179e\"], [0.4444444444444444, \"#bd3786\"], [0.5555555555555556, \"#d8576b\"], [0.6666666666666666, \"#ed7953\"], [0.7777777777777778, \"#fb9f3a\"], [0.8888888888888888, \"#fdca26\"], [1.0, \"#f0f921\"]]}, \"colorway\": [\"#636efa\", \"#EF553B\", \"#00cc96\", \"#ab63fa\", \"#FFA15A\", \"#19d3f3\", \"#FF6692\", \"#B6E880\", \"#FF97FF\", \"#FECB52\"], \"font\": {\"color\": \"#2a3f5f\"}, \"geo\": {\"bgcolor\": \"white\", \"lakecolor\": \"white\", \"landcolor\": \"#E5ECF6\", \"showlakes\": true, \"showland\": true, \"subunitcolor\": \"white\"}, \"hoverlabel\": {\"align\": \"left\"}, \"hovermode\": \"closest\", \"mapbox\": {\"style\": \"light\"}, \"paper_bgcolor\": \"white\", \"plot_bgcolor\": \"#E5ECF6\", \"polar\": {\"angularaxis\": {\"gridcolor\": \"white\", \"linecolor\": \"white\", \"ticks\": \"\"}, \"bgcolor\": \"#E5ECF6\", \"radialaxis\": {\"gridcolor\": \"white\", \"linecolor\": \"white\", \"ticks\": \"\"}}, \"scene\": {\"xaxis\": {\"backgroundcolor\": \"#E5ECF6\", \"gridcolor\": \"white\", \"gridwidth\": 2, \"linecolor\": \"white\", \"showbackground\": true, \"ticks\": \"\", \"zerolinecolor\": \"white\"}, \"yaxis\": {\"backgroundcolor\": \"#E5ECF6\", \"gridcolor\": \"white\", \"gridwidth\": 2, \"linecolor\": \"white\", \"showbackground\": true, \"ticks\": \"\", \"zerolinecolor\": \"white\"}, \"zaxis\": {\"backgroundcolor\": \"#E5ECF6\", \"gridcolor\": \"white\", \"gridwidth\": 2, \"linecolor\": \"white\", \"showbackground\": true, \"ticks\": \"\", \"zerolinecolor\": \"white\"}}, \"shapedefaults\": {\"line\": {\"color\": \"#2a3f5f\"}}, \"ternary\": {\"aaxis\": {\"gridcolor\": \"white\", \"linecolor\": \"white\", \"ticks\": \"\"}, \"baxis\": {\"gridcolor\": \"white\", \"linecolor\": \"white\", \"ticks\": \"\"}, \"bgcolor\": \"#E5ECF6\", \"caxis\": {\"gridcolor\": \"white\", \"linecolor\": \"white\", \"ticks\": \"\"}}, \"title\": {\"x\": 0.05}, \"xaxis\": {\"automargin\": true, \"gridcolor\": \"white\", \"linecolor\": \"white\", \"ticks\": \"\", \"title\": {\"standoff\": 15}, \"zerolinecolor\": \"white\", \"zerolinewidth\": 2}, \"yaxis\": {\"automargin\": true, \"gridcolor\": \"white\", \"linecolor\": \"white\", \"ticks\": \"\", \"title\": {\"standoff\": 15}, \"zerolinecolor\": \"white\", \"zerolinewidth\": 2}}}},                        {\"responsive\": true}                    ).then(function(){\n",
       "                            \n",
       "var gd = document.getElementById('bd7da59a-e02f-4bc3-b8c0-4da008b2f1aa');\n",
       "var x = new MutationObserver(function (mutations, observer) {{\n",
       "        var display = window.getComputedStyle(gd).display;\n",
       "        if (!display || display === 'none') {{\n",
       "            console.log([gd, 'removed!']);\n",
       "            Plotly.purge(gd);\n",
       "            observer.disconnect();\n",
       "        }}\n",
       "}});\n",
       "\n",
       "// Listen for the removal of the full notebook cells\n",
       "var notebookContainer = gd.closest('#notebook-container');\n",
       "if (notebookContainer) {{\n",
       "    x.observe(notebookContainer, {childList: true});\n",
       "}}\n",
       "\n",
       "// Listen for the clearing of the current output cell\n",
       "var outputEl = gd.closest('.output');\n",
       "if (outputEl) {{\n",
       "    x.observe(outputEl, {childList: true});\n",
       "}}\n",
       "\n",
       "                        })                };                });            </script>        </div>"
      ]
     },
     "metadata": {},
     "output_type": "display_data"
    }
   ],
   "source": [
    "# Plotting the potential imbalance between the target label range\n",
    "data = [go.Bar(\n",
    "            x= df['Did_Police_Officer_Attend_Scene_of_Accident'].value_counts().index.values,\n",
    "            y= df['Did_Police_Officer_Attend_Scene_of_Accident'].value_counts().values\n",
    "    )]\n",
    "\n",
    "py.iplot(data, filename='basic-bar')"
   ]
  },
  {
   "cell_type": "code",
   "execution_count": 26,
   "id": "c872c0b9",
   "metadata": {},
   "outputs": [
    {
     "data": {
      "text/html": [
       "<div>\n",
       "<style scoped>\n",
       "    .dataframe tbody tr th:only-of-type {\n",
       "        vertical-align: middle;\n",
       "    }\n",
       "\n",
       "    .dataframe tbody tr th {\n",
       "        vertical-align: top;\n",
       "    }\n",
       "\n",
       "    .dataframe thead th {\n",
       "        text-align: right;\n",
       "    }\n",
       "</style>\n",
       "<table border=\"1\" class=\"dataframe\">\n",
       "  <thead>\n",
       "    <tr style=\"text-align: right;\">\n",
       "      <th></th>\n",
       "      <th>Accident_Severity</th>\n",
       "      <th>Number_of_Vehicles</th>\n",
       "      <th>Number_of_Casualties</th>\n",
       "      <th>Day_of_Week</th>\n",
       "      <th>1st_Road_Class</th>\n",
       "      <th>1st_Road_Number</th>\n",
       "      <th>Road_Type</th>\n",
       "      <th>2nd_Road_Number</th>\n",
       "      <th>Pedestrian_Crossing-Human_Control</th>\n",
       "      <th>Pedestrian_Crossing-Physical_Facilities</th>\n",
       "      <th>Light_Conditions</th>\n",
       "      <th>Weather_Conditions</th>\n",
       "      <th>Road_Surface_Conditions</th>\n",
       "      <th>Special_Conditions_at_Site</th>\n",
       "      <th>Carriageway_Hazards</th>\n",
       "      <th>Did_Police_Officer_Attend_Scene_of_Accident</th>\n",
       "    </tr>\n",
       "  </thead>\n",
       "  <tbody>\n",
       "    <tr>\n",
       "      <th>0</th>\n",
       "      <td>3</td>\n",
       "      <td>2</td>\n",
       "      <td>3</td>\n",
       "      <td>2</td>\n",
       "      <td>3</td>\n",
       "      <td>4202</td>\n",
       "      <td>1</td>\n",
       "      <td>4202</td>\n",
       "      <td>0</td>\n",
       "      <td>5</td>\n",
       "      <td>1</td>\n",
       "      <td>1</td>\n",
       "      <td>1</td>\n",
       "      <td>0</td>\n",
       "      <td>0</td>\n",
       "      <td>3</td>\n",
       "    </tr>\n",
       "    <tr>\n",
       "      <th>1</th>\n",
       "      <td>3</td>\n",
       "      <td>2</td>\n",
       "      <td>1</td>\n",
       "      <td>3</td>\n",
       "      <td>3</td>\n",
       "      <td>23</td>\n",
       "      <td>2</td>\n",
       "      <td>0</td>\n",
       "      <td>-1</td>\n",
       "      <td>-1</td>\n",
       "      <td>4</td>\n",
       "      <td>1</td>\n",
       "      <td>1</td>\n",
       "      <td>0</td>\n",
       "      <td>0</td>\n",
       "      <td>3</td>\n",
       "    </tr>\n",
       "    <tr>\n",
       "      <th>2</th>\n",
       "      <td>3</td>\n",
       "      <td>2</td>\n",
       "      <td>1</td>\n",
       "      <td>3</td>\n",
       "      <td>4</td>\n",
       "      <td>504</td>\n",
       "      <td>6</td>\n",
       "      <td>0</td>\n",
       "      <td>0</td>\n",
       "      <td>0</td>\n",
       "      <td>4</td>\n",
       "      <td>1</td>\n",
       "      <td>1</td>\n",
       "      <td>0</td>\n",
       "      <td>0</td>\n",
       "      <td>1</td>\n",
       "    </tr>\n",
       "    <tr>\n",
       "      <th>3</th>\n",
       "      <td>2</td>\n",
       "      <td>1</td>\n",
       "      <td>1</td>\n",
       "      <td>3</td>\n",
       "      <td>4</td>\n",
       "      <td>510</td>\n",
       "      <td>6</td>\n",
       "      <td>510</td>\n",
       "      <td>0</td>\n",
       "      <td>0</td>\n",
       "      <td>4</td>\n",
       "      <td>1</td>\n",
       "      <td>1</td>\n",
       "      <td>0</td>\n",
       "      <td>0</td>\n",
       "      <td>1</td>\n",
       "    </tr>\n",
       "    <tr>\n",
       "      <th>4</th>\n",
       "      <td>3</td>\n",
       "      <td>2</td>\n",
       "      <td>2</td>\n",
       "      <td>3</td>\n",
       "      <td>3</td>\n",
       "      <td>4003</td>\n",
       "      <td>6</td>\n",
       "      <td>0</td>\n",
       "      <td>0</td>\n",
       "      <td>0</td>\n",
       "      <td>4</td>\n",
       "      <td>1</td>\n",
       "      <td>1</td>\n",
       "      <td>0</td>\n",
       "      <td>0</td>\n",
       "      <td>1</td>\n",
       "    </tr>\n",
       "    <tr>\n",
       "      <th>...</th>\n",
       "      <td>...</td>\n",
       "      <td>...</td>\n",
       "      <td>...</td>\n",
       "      <td>...</td>\n",
       "      <td>...</td>\n",
       "      <td>...</td>\n",
       "      <td>...</td>\n",
       "      <td>...</td>\n",
       "      <td>...</td>\n",
       "      <td>...</td>\n",
       "      <td>...</td>\n",
       "      <td>...</td>\n",
       "      <td>...</td>\n",
       "      <td>...</td>\n",
       "      <td>...</td>\n",
       "      <td>...</td>\n",
       "    </tr>\n",
       "    <tr>\n",
       "      <th>117531</th>\n",
       "      <td>3</td>\n",
       "      <td>1</td>\n",
       "      <td>1</td>\n",
       "      <td>7</td>\n",
       "      <td>4</td>\n",
       "      <td>725</td>\n",
       "      <td>6</td>\n",
       "      <td>0</td>\n",
       "      <td>0</td>\n",
       "      <td>0</td>\n",
       "      <td>1</td>\n",
       "      <td>1</td>\n",
       "      <td>2</td>\n",
       "      <td>0</td>\n",
       "      <td>0</td>\n",
       "      <td>1</td>\n",
       "    </tr>\n",
       "    <tr>\n",
       "      <th>117532</th>\n",
       "      <td>3</td>\n",
       "      <td>4</td>\n",
       "      <td>1</td>\n",
       "      <td>5</td>\n",
       "      <td>3</td>\n",
       "      <td>7</td>\n",
       "      <td>6</td>\n",
       "      <td>0</td>\n",
       "      <td>0</td>\n",
       "      <td>0</td>\n",
       "      <td>1</td>\n",
       "      <td>1</td>\n",
       "      <td>2</td>\n",
       "      <td>0</td>\n",
       "      <td>0</td>\n",
       "      <td>1</td>\n",
       "    </tr>\n",
       "    <tr>\n",
       "      <th>117533</th>\n",
       "      <td>3</td>\n",
       "      <td>2</td>\n",
       "      <td>1</td>\n",
       "      <td>6</td>\n",
       "      <td>4</td>\n",
       "      <td>723</td>\n",
       "      <td>6</td>\n",
       "      <td>721</td>\n",
       "      <td>0</td>\n",
       "      <td>0</td>\n",
       "      <td>1</td>\n",
       "      <td>1</td>\n",
       "      <td>1</td>\n",
       "      <td>0</td>\n",
       "      <td>0</td>\n",
       "      <td>2</td>\n",
       "    </tr>\n",
       "    <tr>\n",
       "      <th>117534</th>\n",
       "      <td>3</td>\n",
       "      <td>1</td>\n",
       "      <td>1</td>\n",
       "      <td>7</td>\n",
       "      <td>6</td>\n",
       "      <td>710</td>\n",
       "      <td>6</td>\n",
       "      <td>723</td>\n",
       "      <td>0</td>\n",
       "      <td>0</td>\n",
       "      <td>1</td>\n",
       "      <td>1</td>\n",
       "      <td>1</td>\n",
       "      <td>0</td>\n",
       "      <td>0</td>\n",
       "      <td>2</td>\n",
       "    </tr>\n",
       "    <tr>\n",
       "      <th>117535</th>\n",
       "      <td>2</td>\n",
       "      <td>1</td>\n",
       "      <td>1</td>\n",
       "      <td>1</td>\n",
       "      <td>3</td>\n",
       "      <td>702</td>\n",
       "      <td>6</td>\n",
       "      <td>0</td>\n",
       "      <td>0</td>\n",
       "      <td>0</td>\n",
       "      <td>1</td>\n",
       "      <td>1</td>\n",
       "      <td>1</td>\n",
       "      <td>0</td>\n",
       "      <td>0</td>\n",
       "      <td>1</td>\n",
       "    </tr>\n",
       "  </tbody>\n",
       "</table>\n",
       "<p>117536 rows × 16 columns</p>\n",
       "</div>"
      ],
      "text/plain": [
       "        Accident_Severity  Number_of_Vehicles  Number_of_Casualties  \\\n",
       "0                       3                   2                     3   \n",
       "1                       3                   2                     1   \n",
       "2                       3                   2                     1   \n",
       "3                       2                   1                     1   \n",
       "4                       3                   2                     2   \n",
       "...                   ...                 ...                   ...   \n",
       "117531                  3                   1                     1   \n",
       "117532                  3                   4                     1   \n",
       "117533                  3                   2                     1   \n",
       "117534                  3                   1                     1   \n",
       "117535                  2                   1                     1   \n",
       "\n",
       "        Day_of_Week  1st_Road_Class  1st_Road_Number  Road_Type  \\\n",
       "0                 2               3             4202          1   \n",
       "1                 3               3               23          2   \n",
       "2                 3               4              504          6   \n",
       "3                 3               4              510          6   \n",
       "4                 3               3             4003          6   \n",
       "...             ...             ...              ...        ...   \n",
       "117531            7               4              725          6   \n",
       "117532            5               3                7          6   \n",
       "117533            6               4              723          6   \n",
       "117534            7               6              710          6   \n",
       "117535            1               3              702          6   \n",
       "\n",
       "        2nd_Road_Number  Pedestrian_Crossing-Human_Control  \\\n",
       "0                  4202                                  0   \n",
       "1                     0                                 -1   \n",
       "2                     0                                  0   \n",
       "3                   510                                  0   \n",
       "4                     0                                  0   \n",
       "...                 ...                                ...   \n",
       "117531                0                                  0   \n",
       "117532                0                                  0   \n",
       "117533              721                                  0   \n",
       "117534              723                                  0   \n",
       "117535                0                                  0   \n",
       "\n",
       "        Pedestrian_Crossing-Physical_Facilities  Light_Conditions  \\\n",
       "0                                             5                 1   \n",
       "1                                            -1                 4   \n",
       "2                                             0                 4   \n",
       "3                                             0                 4   \n",
       "4                                             0                 4   \n",
       "...                                         ...               ...   \n",
       "117531                                        0                 1   \n",
       "117532                                        0                 1   \n",
       "117533                                        0                 1   \n",
       "117534                                        0                 1   \n",
       "117535                                        0                 1   \n",
       "\n",
       "        Weather_Conditions  Road_Surface_Conditions  \\\n",
       "0                        1                        1   \n",
       "1                        1                        1   \n",
       "2                        1                        1   \n",
       "3                        1                        1   \n",
       "4                        1                        1   \n",
       "...                    ...                      ...   \n",
       "117531                   1                        2   \n",
       "117532                   1                        2   \n",
       "117533                   1                        1   \n",
       "117534                   1                        1   \n",
       "117535                   1                        1   \n",
       "\n",
       "        Special_Conditions_at_Site  Carriageway_Hazards  \\\n",
       "0                                0                    0   \n",
       "1                                0                    0   \n",
       "2                                0                    0   \n",
       "3                                0                    0   \n",
       "4                                0                    0   \n",
       "...                            ...                  ...   \n",
       "117531                           0                    0   \n",
       "117532                           0                    0   \n",
       "117533                           0                    0   \n",
       "117534                           0                    0   \n",
       "117535                           0                    0   \n",
       "\n",
       "        Did_Police_Officer_Attend_Scene_of_Accident  \n",
       "0                                                 3  \n",
       "1                                                 3  \n",
       "2                                                 1  \n",
       "3                                                 1  \n",
       "4                                                 1  \n",
       "...                                             ...  \n",
       "117531                                            1  \n",
       "117532                                            1  \n",
       "117533                                            2  \n",
       "117534                                            2  \n",
       "117535                                            1  \n",
       "\n",
       "[117536 rows x 16 columns]"
      ]
     },
     "execution_count": 26,
     "metadata": {},
     "output_type": "execute_result"
    }
   ],
   "source": [
    "df_final"
   ]
  },
  {
   "cell_type": "code",
   "execution_count": 27,
   "id": "5f9aa3fc",
   "metadata": {},
   "outputs": [],
   "source": [
    "# feature and target set\n",
    "features = df_final.drop(['Did_Police_Officer_Attend_Scene_of_Accident'], axis=1)\n",
    "\n",
    "# define our target\n",
    "target = df_final[['Did_Police_Officer_Attend_Scene_of_Accident']]"
   ]
  },
  {
   "cell_type": "code",
   "execution_count": 28,
   "id": "2f12ac21",
   "metadata": {},
   "outputs": [],
   "source": [
    "# Import the train_test_split method\n",
    "# Split data into train and test sets as well as for validation and testing\n",
    "train, test, target_train, target_val = train_test_split(features, \n",
    "                                                         target, \n",
    "                                                         train_size= 0.80,\n",
    "                                                         random_state=0);\n",
    "#train, test, target_train, target_val = StratifiedShuffleSplit(attrition_final, target, random_state=0);"
   ]
  },
  {
   "cell_type": "code",
   "execution_count": 29,
   "id": "ccbcd2e2",
   "metadata": {},
   "outputs": [
    {
     "data": {
      "text/html": [
       "<div>\n",
       "<style scoped>\n",
       "    .dataframe tbody tr th:only-of-type {\n",
       "        vertical-align: middle;\n",
       "    }\n",
       "\n",
       "    .dataframe tbody tr th {\n",
       "        vertical-align: top;\n",
       "    }\n",
       "\n",
       "    .dataframe thead th {\n",
       "        text-align: right;\n",
       "    }\n",
       "</style>\n",
       "<table border=\"1\" class=\"dataframe\">\n",
       "  <thead>\n",
       "    <tr style=\"text-align: right;\">\n",
       "      <th></th>\n",
       "      <th>Accident_Severity</th>\n",
       "      <th>Number_of_Vehicles</th>\n",
       "      <th>Number_of_Casualties</th>\n",
       "      <th>Day_of_Week</th>\n",
       "      <th>1st_Road_Class</th>\n",
       "      <th>1st_Road_Number</th>\n",
       "      <th>Road_Type</th>\n",
       "      <th>2nd_Road_Number</th>\n",
       "      <th>Pedestrian_Crossing-Human_Control</th>\n",
       "      <th>Pedestrian_Crossing-Physical_Facilities</th>\n",
       "      <th>Light_Conditions</th>\n",
       "      <th>Weather_Conditions</th>\n",
       "      <th>Road_Surface_Conditions</th>\n",
       "      <th>Special_Conditions_at_Site</th>\n",
       "      <th>Carriageway_Hazards</th>\n",
       "    </tr>\n",
       "  </thead>\n",
       "  <tbody>\n",
       "    <tr>\n",
       "      <th>65077</th>\n",
       "      <td>3</td>\n",
       "      <td>2</td>\n",
       "      <td>1</td>\n",
       "      <td>6</td>\n",
       "      <td>4</td>\n",
       "      <td>1188</td>\n",
       "      <td>6</td>\n",
       "      <td>0</td>\n",
       "      <td>0</td>\n",
       "      <td>0</td>\n",
       "      <td>4</td>\n",
       "      <td>1</td>\n",
       "      <td>1</td>\n",
       "      <td>0</td>\n",
       "      <td>0</td>\n",
       "    </tr>\n",
       "    <tr>\n",
       "      <th>41534</th>\n",
       "      <td>3</td>\n",
       "      <td>2</td>\n",
       "      <td>1</td>\n",
       "      <td>5</td>\n",
       "      <td>3</td>\n",
       "      <td>629</td>\n",
       "      <td>6</td>\n",
       "      <td>6116</td>\n",
       "      <td>0</td>\n",
       "      <td>0</td>\n",
       "      <td>1</td>\n",
       "      <td>1</td>\n",
       "      <td>1</td>\n",
       "      <td>0</td>\n",
       "      <td>0</td>\n",
       "    </tr>\n",
       "    <tr>\n",
       "      <th>49050</th>\n",
       "      <td>3</td>\n",
       "      <td>2</td>\n",
       "      <td>1</td>\n",
       "      <td>2</td>\n",
       "      <td>3</td>\n",
       "      <td>165</td>\n",
       "      <td>3</td>\n",
       "      <td>0</td>\n",
       "      <td>0</td>\n",
       "      <td>0</td>\n",
       "      <td>1</td>\n",
       "      <td>1</td>\n",
       "      <td>2</td>\n",
       "      <td>0</td>\n",
       "      <td>0</td>\n",
       "    </tr>\n",
       "    <tr>\n",
       "      <th>66084</th>\n",
       "      <td>2</td>\n",
       "      <td>4</td>\n",
       "      <td>1</td>\n",
       "      <td>6</td>\n",
       "      <td>3</td>\n",
       "      <td>563</td>\n",
       "      <td>6</td>\n",
       "      <td>0</td>\n",
       "      <td>0</td>\n",
       "      <td>0</td>\n",
       "      <td>4</td>\n",
       "      <td>1</td>\n",
       "      <td>1</td>\n",
       "      <td>0</td>\n",
       "      <td>0</td>\n",
       "    </tr>\n",
       "    <tr>\n",
       "      <th>107010</th>\n",
       "      <td>3</td>\n",
       "      <td>4</td>\n",
       "      <td>4</td>\n",
       "      <td>5</td>\n",
       "      <td>4</td>\n",
       "      <td>3369</td>\n",
       "      <td>6</td>\n",
       "      <td>0</td>\n",
       "      <td>0</td>\n",
       "      <td>0</td>\n",
       "      <td>1</td>\n",
       "      <td>1</td>\n",
       "      <td>1</td>\n",
       "      <td>0</td>\n",
       "      <td>0</td>\n",
       "    </tr>\n",
       "  </tbody>\n",
       "</table>\n",
       "</div>"
      ],
      "text/plain": [
       "        Accident_Severity  Number_of_Vehicles  Number_of_Casualties  \\\n",
       "65077                   3                   2                     1   \n",
       "41534                   3                   2                     1   \n",
       "49050                   3                   2                     1   \n",
       "66084                   2                   4                     1   \n",
       "107010                  3                   4                     4   \n",
       "\n",
       "        Day_of_Week  1st_Road_Class  1st_Road_Number  Road_Type  \\\n",
       "65077             6               4             1188          6   \n",
       "41534             5               3              629          6   \n",
       "49050             2               3              165          3   \n",
       "66084             6               3              563          6   \n",
       "107010            5               4             3369          6   \n",
       "\n",
       "        2nd_Road_Number  Pedestrian_Crossing-Human_Control  \\\n",
       "65077                 0                                  0   \n",
       "41534              6116                                  0   \n",
       "49050                 0                                  0   \n",
       "66084                 0                                  0   \n",
       "107010                0                                  0   \n",
       "\n",
       "        Pedestrian_Crossing-Physical_Facilities  Light_Conditions  \\\n",
       "65077                                         0                 4   \n",
       "41534                                         0                 1   \n",
       "49050                                         0                 1   \n",
       "66084                                         0                 4   \n",
       "107010                                        0                 1   \n",
       "\n",
       "        Weather_Conditions  Road_Surface_Conditions  \\\n",
       "65077                    1                        1   \n",
       "41534                    1                        1   \n",
       "49050                    1                        2   \n",
       "66084                    1                        1   \n",
       "107010                   1                        1   \n",
       "\n",
       "        Special_Conditions_at_Site  Carriageway_Hazards  \n",
       "65077                            0                    0  \n",
       "41534                            0                    0  \n",
       "49050                            0                    0  \n",
       "66084                            0                    0  \n",
       "107010                           0                    0  "
      ]
     },
     "execution_count": 29,
     "metadata": {},
     "output_type": "execute_result"
    }
   ],
   "source": [
    "train.head()"
   ]
  },
  {
   "cell_type": "code",
   "execution_count": 30,
   "id": "de6d2dc2",
   "metadata": {},
   "outputs": [
    {
     "name": "stdout",
     "output_type": "stream",
     "text": [
      "<class 'pandas.core.frame.DataFrame'>\n",
      "Int64Index: 94028 entries, 65077 to 68268\n",
      "Data columns (total 15 columns):\n",
      " #   Column                                   Non-Null Count  Dtype\n",
      "---  ------                                   --------------  -----\n",
      " 0   Accident_Severity                        94028 non-null  int64\n",
      " 1   Number_of_Vehicles                       94028 non-null  int64\n",
      " 2   Number_of_Casualties                     94028 non-null  int64\n",
      " 3   Day_of_Week                              94028 non-null  int64\n",
      " 4   1st_Road_Class                           94028 non-null  int64\n",
      " 5   1st_Road_Number                          94028 non-null  int64\n",
      " 6   Road_Type                                94028 non-null  int64\n",
      " 7   2nd_Road_Number                          94028 non-null  int64\n",
      " 8   Pedestrian_Crossing-Human_Control        94028 non-null  int64\n",
      " 9   Pedestrian_Crossing-Physical_Facilities  94028 non-null  int64\n",
      " 10  Light_Conditions                         94028 non-null  int64\n",
      " 11  Weather_Conditions                       94028 non-null  int64\n",
      " 12  Road_Surface_Conditions                  94028 non-null  int64\n",
      " 13  Special_Conditions_at_Site               94028 non-null  int64\n",
      " 14  Carriageway_Hazards                      94028 non-null  int64\n",
      "dtypes: int64(15)\n",
      "memory usage: 11.5 MB\n"
     ]
    }
   ],
   "source": [
    "train.info()"
   ]
  },
  {
   "cell_type": "code",
   "execution_count": 31,
   "id": "2c5c5988",
   "metadata": {},
   "outputs": [],
   "source": [
    "# potential need to deal with imbalanced class\n",
    "oversampler = SMOTE(random_state=0)\n",
    "smote_train, smote_target = oversampler.fit_resample(train,target_train)"
   ]
  },
  {
   "cell_type": "code",
   "execution_count": 32,
   "id": "5319d5f8",
   "metadata": {},
   "outputs": [],
   "source": [
    "X_train, X_test, y_train, y_test = train_test_split(\n",
    "    features, target, test_size=0.25\n",
    ")"
   ]
  },
  {
   "cell_type": "code",
   "execution_count": 33,
   "id": "d455522d",
   "metadata": {},
   "outputs": [
    {
     "name": "stdout",
     "output_type": "stream",
     "text": [
      "Linear algorithm was disabled.\n",
      "AutoML directory: AutoML_7\n",
      "The task is multiclass_classification with evaluation metric logloss\n",
      "AutoML will use algorithms: ['Baseline', 'Decision Tree', 'Random Forest', 'Xgboost', 'Neural Network']\n",
      "AutoML will ensemble availabe models\n",
      "AutoML steps: ['simple_algorithms', 'default_algorithms', 'ensemble']\n",
      "* Step simple_algorithms will try to check up to 2 models\n",
      "1_Baseline logloss 0.799602 trained in 1.22 seconds\n",
      "2_DecisionTree logloss 0.692741 trained in 23.93 seconds\n",
      "* Step default_algorithms will try to check up to 3 models\n",
      "3_Default_Xgboost logloss 0.572938 trained in 50.0 seconds\n",
      "4_Default_NeuralNetwork logloss 0.643351 trained in 55.05 seconds\n",
      "5_Default_RandomForest logloss 0.673092 trained in 12.29 seconds\n",
      "* Step ensemble will try to check up to 1 model\n",
      "Ensemble logloss 0.572938 trained in 0.71 seconds\n",
      "AutoML fit time: 149.77 seconds\n",
      "AutoML best model: 3_Default_Xgboost\n"
     ]
    },
    {
     "data": {
      "text/plain": [
       "AutoML()"
      ]
     },
     "execution_count": 33,
     "metadata": {},
     "output_type": "execute_result"
    }
   ],
   "source": [
    "automl = AutoML()\n",
    "automl.fit(X_train, y_train)"
   ]
  },
  {
   "cell_type": "code",
   "execution_count": 34,
   "id": "bca47629",
   "metadata": {},
   "outputs": [],
   "source": [
    "predictions = automl.predict(X_test)"
   ]
  },
  {
   "cell_type": "code",
   "execution_count": null,
   "id": "e35ff01c",
   "metadata": {},
   "outputs": [],
   "source": []
  }
 ],
 "metadata": {
  "kernelspec": {
   "display_name": "Python 3",
   "language": "python",
   "name": "python3"
  },
  "language_info": {
   "codemirror_mode": {
    "name": "ipython",
    "version": 3
   },
   "file_extension": ".py",
   "mimetype": "text/x-python",
   "name": "python",
   "nbconvert_exporter": "python",
   "pygments_lexer": "ipython3",
   "version": "3.9.5"
  }
 },
 "nbformat": 4,
 "nbformat_minor": 5
}
