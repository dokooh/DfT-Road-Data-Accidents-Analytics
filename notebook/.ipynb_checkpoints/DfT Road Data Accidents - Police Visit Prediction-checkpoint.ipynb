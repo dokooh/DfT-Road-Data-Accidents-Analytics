{
 "cells": [
  {
   "cell_type": "code",
   "execution_count": 131,
   "id": "55fb2476",
   "metadata": {},
   "outputs": [
    {
     "data": {
      "text/html": [
       "        <script type=\"text/javascript\">\n",
       "        window.PlotlyConfig = {MathJaxConfig: 'local'};\n",
       "        if (window.MathJax) {MathJax.Hub.Config({SVG: {font: \"STIX-Web\"}});}\n",
       "        if (typeof require !== 'undefined') {\n",
       "        require.undef(\"plotly\");\n",
       "        requirejs.config({\n",
       "            paths: {\n",
       "                'plotly': ['https://cdn.plot.ly/plotly-latest.min']\n",
       "            }\n",
       "        });\n",
       "        require(['plotly'], function(Plotly) {\n",
       "            window._Plotly = Plotly;\n",
       "        });\n",
       "        }\n",
       "        </script>\n",
       "        "
      ]
     },
     "metadata": {},
     "output_type": "display_data"
    }
   ],
   "source": [
    "# Usual suspects\n",
    "import pandas as pd\n",
    "import numpy as np\n",
    "import glob\n",
    "\n",
    "# Visual imports\n",
    "import matplotlib.pyplot as plt\n",
    "import seaborn as sns\n",
    "\n",
    "# Import statements required for Plotly \n",
    "import plotly.offline as py\n",
    "py.init_notebook_mode(connected=True)\n",
    "import plotly.graph_objs as go\n",
    "import plotly.tools as tls\n",
    "\n",
    "#SciKit learn library imports\n",
    "from sklearn.ensemble import RandomForestClassifier, GradientBoostingClassifier\n",
    "from sklearn.linear_model import LogisticRegression\n",
    "from sklearn.metrics import (accuracy_score, log_loss, classification_report)\n",
    "from sklearn.model_selection import train_test_split\n",
    "from sklearn.preprocessing import StandardScaler\n",
    "from sklearn.model_selection import StratifiedShuffleSplit\n",
    "from sklearn import tree\n",
    "\n",
    "# Imbalanced import\n",
    "from imblearn.over_sampling import SMOTE\n",
    "import xgboost\n",
    "\n",
    "# AutoML import\n",
    "from supervised.automl import AutoML\n",
    "\n",
    "#IO library\n",
    "from IPython.display import Image as PImage\n",
    "from subprocess import check_call\n",
    "from PIL import Image, ImageDraw, ImageFont\n",
    "import re\n",
    "\n",
    "# suppress all warnings\n",
    "import warnings\n",
    "warnings.filterwarnings(\"ignore\")"
   ]
  },
  {
   "cell_type": "code",
   "execution_count": 78,
   "id": "5ad896c9",
   "metadata": {},
   "outputs": [
    {
     "name": "stdout",
     "output_type": "stream",
     "text": [
      "Records: 117536 \n",
      "Columns: 32\n"
     ]
    },
    {
     "data": {
      "text/html": [
       "<div>\n",
       "<style scoped>\n",
       "    .dataframe tbody tr th:only-of-type {\n",
       "        vertical-align: middle;\n",
       "    }\n",
       "\n",
       "    .dataframe tbody tr th {\n",
       "        vertical-align: top;\n",
       "    }\n",
       "\n",
       "    .dataframe thead th {\n",
       "        text-align: right;\n",
       "    }\n",
       "</style>\n",
       "<table border=\"1\" class=\"dataframe\">\n",
       "  <thead>\n",
       "    <tr style=\"text-align: right;\">\n",
       "      <th></th>\n",
       "      <th>Accident_Index</th>\n",
       "      <th>Location_Easting_OSGR</th>\n",
       "      <th>Location_Northing_OSGR</th>\n",
       "      <th>Longitude</th>\n",
       "      <th>Latitude</th>\n",
       "      <th>Police_Force</th>\n",
       "      <th>Accident_Severity</th>\n",
       "      <th>Number_of_Vehicles</th>\n",
       "      <th>Number_of_Casualties</th>\n",
       "      <th>Date</th>\n",
       "      <th>Day_of_Week</th>\n",
       "      <th>Time</th>\n",
       "      <th>Local_Authority_(District)</th>\n",
       "      <th>Local_Authority_(Highway)</th>\n",
       "      <th>1st_Road_Class</th>\n",
       "      <th>1st_Road_Number</th>\n",
       "      <th>Road_Type</th>\n",
       "      <th>Speed_limit</th>\n",
       "      <th>Junction_Detail</th>\n",
       "      <th>Junction_Control</th>\n",
       "      <th>2nd_Road_Class</th>\n",
       "      <th>2nd_Road_Number</th>\n",
       "      <th>Pedestrian_Crossing-Human_Control</th>\n",
       "      <th>Pedestrian_Crossing-Physical_Facilities</th>\n",
       "      <th>Light_Conditions</th>\n",
       "      <th>Weather_Conditions</th>\n",
       "      <th>Road_Surface_Conditions</th>\n",
       "      <th>Special_Conditions_at_Site</th>\n",
       "      <th>Carriageway_Hazards</th>\n",
       "      <th>Urban_or_Rural_Area</th>\n",
       "      <th>Did_Police_Officer_Attend_Scene_of_Accident</th>\n",
       "      <th>LSOA_of_Accident_Location</th>\n",
       "    </tr>\n",
       "  </thead>\n",
       "  <tbody>\n",
       "    <tr>\n",
       "      <th>0</th>\n",
       "      <td>2019010128300</td>\n",
       "      <td>528218.0</td>\n",
       "      <td>180407.0</td>\n",
       "      <td>-0.153842</td>\n",
       "      <td>51.508057</td>\n",
       "      <td>1</td>\n",
       "      <td>3</td>\n",
       "      <td>2</td>\n",
       "      <td>3</td>\n",
       "      <td>18/02/2019</td>\n",
       "      <td>2</td>\n",
       "      <td>17:50</td>\n",
       "      <td>1</td>\n",
       "      <td>E09000033</td>\n",
       "      <td>3</td>\n",
       "      <td>4202</td>\n",
       "      <td>1</td>\n",
       "      <td>30</td>\n",
       "      <td>1</td>\n",
       "      <td>2</td>\n",
       "      <td>3</td>\n",
       "      <td>4202</td>\n",
       "      <td>0</td>\n",
       "      <td>5</td>\n",
       "      <td>1</td>\n",
       "      <td>1</td>\n",
       "      <td>1</td>\n",
       "      <td>0</td>\n",
       "      <td>0</td>\n",
       "      <td>1</td>\n",
       "      <td>3</td>\n",
       "      <td>E01004762</td>\n",
       "    </tr>\n",
       "    <tr>\n",
       "      <th>1</th>\n",
       "      <td>2019010152270</td>\n",
       "      <td>530219.0</td>\n",
       "      <td>172463.0</td>\n",
       "      <td>-0.127949</td>\n",
       "      <td>51.436208</td>\n",
       "      <td>1</td>\n",
       "      <td>3</td>\n",
       "      <td>2</td>\n",
       "      <td>1</td>\n",
       "      <td>15/01/2019</td>\n",
       "      <td>3</td>\n",
       "      <td>21:45</td>\n",
       "      <td>9</td>\n",
       "      <td>E09000022</td>\n",
       "      <td>3</td>\n",
       "      <td>23</td>\n",
       "      <td>2</td>\n",
       "      <td>30</td>\n",
       "      <td>0</td>\n",
       "      <td>-1</td>\n",
       "      <td>-1</td>\n",
       "      <td>0</td>\n",
       "      <td>-1</td>\n",
       "      <td>-1</td>\n",
       "      <td>4</td>\n",
       "      <td>1</td>\n",
       "      <td>1</td>\n",
       "      <td>0</td>\n",
       "      <td>0</td>\n",
       "      <td>1</td>\n",
       "      <td>3</td>\n",
       "      <td>E01003117</td>\n",
       "    </tr>\n",
       "    <tr>\n",
       "      <th>2</th>\n",
       "      <td>2019010155191</td>\n",
       "      <td>530222.0</td>\n",
       "      <td>182543.0</td>\n",
       "      <td>-0.124193</td>\n",
       "      <td>51.526795</td>\n",
       "      <td>1</td>\n",
       "      <td>3</td>\n",
       "      <td>2</td>\n",
       "      <td>1</td>\n",
       "      <td>01/01/2019</td>\n",
       "      <td>3</td>\n",
       "      <td>01:50</td>\n",
       "      <td>2</td>\n",
       "      <td>E09000007</td>\n",
       "      <td>4</td>\n",
       "      <td>504</td>\n",
       "      <td>6</td>\n",
       "      <td>30</td>\n",
       "      <td>3</td>\n",
       "      <td>4</td>\n",
       "      <td>6</td>\n",
       "      <td>0</td>\n",
       "      <td>0</td>\n",
       "      <td>0</td>\n",
       "      <td>4</td>\n",
       "      <td>1</td>\n",
       "      <td>1</td>\n",
       "      <td>0</td>\n",
       "      <td>0</td>\n",
       "      <td>1</td>\n",
       "      <td>1</td>\n",
       "      <td>E01000943</td>\n",
       "    </tr>\n",
       "    <tr>\n",
       "      <th>3</th>\n",
       "      <td>2019010155192</td>\n",
       "      <td>525531.0</td>\n",
       "      <td>184605.0</td>\n",
       "      <td>-0.191044</td>\n",
       "      <td>51.546387</td>\n",
       "      <td>1</td>\n",
       "      <td>2</td>\n",
       "      <td>1</td>\n",
       "      <td>1</td>\n",
       "      <td>01/01/2019</td>\n",
       "      <td>3</td>\n",
       "      <td>01:20</td>\n",
       "      <td>2</td>\n",
       "      <td>E09000007</td>\n",
       "      <td>4</td>\n",
       "      <td>510</td>\n",
       "      <td>6</td>\n",
       "      <td>20</td>\n",
       "      <td>3</td>\n",
       "      <td>4</td>\n",
       "      <td>4</td>\n",
       "      <td>510</td>\n",
       "      <td>0</td>\n",
       "      <td>0</td>\n",
       "      <td>4</td>\n",
       "      <td>1</td>\n",
       "      <td>1</td>\n",
       "      <td>0</td>\n",
       "      <td>0</td>\n",
       "      <td>1</td>\n",
       "      <td>1</td>\n",
       "      <td>E01000973</td>\n",
       "    </tr>\n",
       "    <tr>\n",
       "      <th>4</th>\n",
       "      <td>2019010155194</td>\n",
       "      <td>524920.0</td>\n",
       "      <td>184004.0</td>\n",
       "      <td>-0.200064</td>\n",
       "      <td>51.541121</td>\n",
       "      <td>1</td>\n",
       "      <td>3</td>\n",
       "      <td>2</td>\n",
       "      <td>2</td>\n",
       "      <td>01/01/2019</td>\n",
       "      <td>3</td>\n",
       "      <td>00:40</td>\n",
       "      <td>28</td>\n",
       "      <td>E09000005</td>\n",
       "      <td>3</td>\n",
       "      <td>4003</td>\n",
       "      <td>6</td>\n",
       "      <td>30</td>\n",
       "      <td>6</td>\n",
       "      <td>4</td>\n",
       "      <td>6</td>\n",
       "      <td>0</td>\n",
       "      <td>0</td>\n",
       "      <td>0</td>\n",
       "      <td>4</td>\n",
       "      <td>1</td>\n",
       "      <td>1</td>\n",
       "      <td>0</td>\n",
       "      <td>0</td>\n",
       "      <td>1</td>\n",
       "      <td>1</td>\n",
       "      <td>E01000546</td>\n",
       "    </tr>\n",
       "  </tbody>\n",
       "</table>\n",
       "</div>"
      ],
      "text/plain": [
       "  Accident_Index  Location_Easting_OSGR  Location_Northing_OSGR  Longitude  \\\n",
       "0  2019010128300               528218.0                180407.0  -0.153842   \n",
       "1  2019010152270               530219.0                172463.0  -0.127949   \n",
       "2  2019010155191               530222.0                182543.0  -0.124193   \n",
       "3  2019010155192               525531.0                184605.0  -0.191044   \n",
       "4  2019010155194               524920.0                184004.0  -0.200064   \n",
       "\n",
       "    Latitude  Police_Force  Accident_Severity  Number_of_Vehicles  \\\n",
       "0  51.508057             1                  3                   2   \n",
       "1  51.436208             1                  3                   2   \n",
       "2  51.526795             1                  3                   2   \n",
       "3  51.546387             1                  2                   1   \n",
       "4  51.541121             1                  3                   2   \n",
       "\n",
       "   Number_of_Casualties        Date  Day_of_Week   Time  \\\n",
       "0                     3  18/02/2019            2  17:50   \n",
       "1                     1  15/01/2019            3  21:45   \n",
       "2                     1  01/01/2019            3  01:50   \n",
       "3                     1  01/01/2019            3  01:20   \n",
       "4                     2  01/01/2019            3  00:40   \n",
       "\n",
       "   Local_Authority_(District) Local_Authority_(Highway)  1st_Road_Class  \\\n",
       "0                           1                 E09000033               3   \n",
       "1                           9                 E09000022               3   \n",
       "2                           2                 E09000007               4   \n",
       "3                           2                 E09000007               4   \n",
       "4                          28                 E09000005               3   \n",
       "\n",
       "   1st_Road_Number  Road_Type  Speed_limit  Junction_Detail  Junction_Control  \\\n",
       "0             4202          1           30                1                 2   \n",
       "1               23          2           30                0                -1   \n",
       "2              504          6           30                3                 4   \n",
       "3              510          6           20                3                 4   \n",
       "4             4003          6           30                6                 4   \n",
       "\n",
       "   2nd_Road_Class  2nd_Road_Number  Pedestrian_Crossing-Human_Control  \\\n",
       "0               3             4202                                  0   \n",
       "1              -1                0                                 -1   \n",
       "2               6                0                                  0   \n",
       "3               4              510                                  0   \n",
       "4               6                0                                  0   \n",
       "\n",
       "   Pedestrian_Crossing-Physical_Facilities  Light_Conditions  \\\n",
       "0                                        5                 1   \n",
       "1                                       -1                 4   \n",
       "2                                        0                 4   \n",
       "3                                        0                 4   \n",
       "4                                        0                 4   \n",
       "\n",
       "   Weather_Conditions  Road_Surface_Conditions  Special_Conditions_at_Site  \\\n",
       "0                   1                        1                           0   \n",
       "1                   1                        1                           0   \n",
       "2                   1                        1                           0   \n",
       "3                   1                        1                           0   \n",
       "4                   1                        1                           0   \n",
       "\n",
       "   Carriageway_Hazards  Urban_or_Rural_Area  \\\n",
       "0                    0                    1   \n",
       "1                    0                    1   \n",
       "2                    0                    1   \n",
       "3                    0                    1   \n",
       "4                    0                    1   \n",
       "\n",
       "   Did_Police_Officer_Attend_Scene_of_Accident LSOA_of_Accident_Location  \n",
       "0                                            3                 E01004762  \n",
       "1                                            3                 E01003117  \n",
       "2                                            1                 E01000943  \n",
       "3                                            1                 E01000973  \n",
       "4                                            1                 E01000546  "
      ]
     },
     "execution_count": 78,
     "metadata": {},
     "output_type": "execute_result"
    }
   ],
   "source": [
    "# data in load\n",
    "pd.set_option('display.max_columns', None) \n",
    "\n",
    "accidents = pd.read_csv('../dataset/Road Safety Data - Accidents 2019.csv')\n",
    "print('Records:', accidents.shape[0], '\\nColumns:', accidents.shape[1])\n",
    "accidents.head()"
   ]
  },
  {
   "cell_type": "code",
   "execution_count": 79,
   "id": "6d0f3f4f",
   "metadata": {},
   "outputs": [
    {
     "data": {
      "text/plain": [
       "Index(['Accident_Index', 'Location_Easting_OSGR', 'Location_Northing_OSGR',\n",
       "       'Longitude', 'Latitude', 'Police_Force', 'Accident_Severity',\n",
       "       'Number_of_Vehicles', 'Number_of_Casualties', 'Date', 'Day_of_Week',\n",
       "       'Time', 'Local_Authority_(District)', 'Local_Authority_(Highway)',\n",
       "       '1st_Road_Class', '1st_Road_Number', 'Road_Type', 'Speed_limit',\n",
       "       'Junction_Detail', 'Junction_Control', '2nd_Road_Class',\n",
       "       '2nd_Road_Number', 'Pedestrian_Crossing-Human_Control',\n",
       "       'Pedestrian_Crossing-Physical_Facilities', 'Light_Conditions',\n",
       "       'Weather_Conditions', 'Road_Surface_Conditions',\n",
       "       'Special_Conditions_at_Site', 'Carriageway_Hazards',\n",
       "       'Urban_or_Rural_Area', 'Did_Police_Officer_Attend_Scene_of_Accident',\n",
       "       'LSOA_of_Accident_Location'],\n",
       "      dtype='object')"
      ]
     },
     "execution_count": 79,
     "metadata": {},
     "output_type": "execute_result"
    }
   ],
   "source": [
    "accidents.columns"
   ]
  },
  {
   "cell_type": "code",
   "execution_count": 80,
   "id": "07d758a6",
   "metadata": {},
   "outputs": [],
   "source": [
    "#accidents.info()"
   ]
  },
  {
   "cell_type": "code",
   "execution_count": 81,
   "id": "9ceec4c2",
   "metadata": {},
   "outputs": [],
   "source": [
    "accidents['Date']= pd.to_datetime(accidents['Date'])"
   ]
  },
  {
   "cell_type": "code",
   "execution_count": 82,
   "id": "57b8a6ca",
   "metadata": {},
   "outputs": [],
   "source": [
    "# slice first and second string from time column\n",
    "accidents['Hour'] = accidents['Time'].str[0:2]\n",
    "\n",
    "# convert new column to numeric datetype\n",
    "accidents['Hour'] = pd.to_numeric(accidents['Hour'])\n",
    "\n",
    "# drop null values in our new column\n",
    "accidents = accidents.dropna(subset=['Hour'])\n",
    "\n",
    "# cast to integer values\n",
    "accidents['Hour'] = accidents['Hour'].astype('int')"
   ]
  },
  {
   "cell_type": "code",
   "execution_count": 83,
   "id": "d9d23dee",
   "metadata": {},
   "outputs": [],
   "source": [
    "# define a function that turns the hours into daytime groups\n",
    "def when_was_it(hour):\n",
    "    if hour >= 5 and hour < 10:\n",
    "        return \"1\"\n",
    "    elif hour >= 10 and hour < 15:\n",
    "        return \"2\"\n",
    "    elif hour >= 15 and hour < 19:\n",
    "        return \"3\"\n",
    "    elif hour >= 19 and hour < 23:\n",
    "        return \"4\"\n",
    "    else:\n",
    "        return \"5\""
   ]
  },
  {
   "cell_type": "code",
   "execution_count": 84,
   "id": "bd769d78",
   "metadata": {},
   "outputs": [],
   "source": [
    "# create a little dictionary to later look up the groups I created\n",
    "daytime_groups = {1: 'Morning: Between 5 and 10', \n",
    "                  2: 'Office Hours: Between 10 and 15', \n",
    "                  3: 'Afternoon Rush: Between 15 and 19', \n",
    "                  4: 'Evening: Between 19 and 23', \n",
    "                  5: 'Night: Between 23 and 5'}"
   ]
  },
  {
   "cell_type": "code",
   "execution_count": 85,
   "id": "e00a8894",
   "metadata": {},
   "outputs": [
    {
     "data": {
      "text/html": [
       "<div>\n",
       "<style scoped>\n",
       "    .dataframe tbody tr th:only-of-type {\n",
       "        vertical-align: middle;\n",
       "    }\n",
       "\n",
       "    .dataframe tbody tr th {\n",
       "        vertical-align: top;\n",
       "    }\n",
       "\n",
       "    .dataframe thead th {\n",
       "        text-align: right;\n",
       "    }\n",
       "</style>\n",
       "<table border=\"1\" class=\"dataframe\">\n",
       "  <thead>\n",
       "    <tr style=\"text-align: right;\">\n",
       "      <th></th>\n",
       "      <th>Time</th>\n",
       "      <th>Hour</th>\n",
       "      <th>Daytime</th>\n",
       "    </tr>\n",
       "  </thead>\n",
       "  <tbody>\n",
       "    <tr>\n",
       "      <th>0</th>\n",
       "      <td>17:50</td>\n",
       "      <td>17</td>\n",
       "      <td>3</td>\n",
       "    </tr>\n",
       "    <tr>\n",
       "      <th>1</th>\n",
       "      <td>21:45</td>\n",
       "      <td>21</td>\n",
       "      <td>4</td>\n",
       "    </tr>\n",
       "    <tr>\n",
       "      <th>2</th>\n",
       "      <td>01:50</td>\n",
       "      <td>1</td>\n",
       "      <td>5</td>\n",
       "    </tr>\n",
       "    <tr>\n",
       "      <th>3</th>\n",
       "      <td>01:20</td>\n",
       "      <td>1</td>\n",
       "      <td>5</td>\n",
       "    </tr>\n",
       "    <tr>\n",
       "      <th>4</th>\n",
       "      <td>00:40</td>\n",
       "      <td>0</td>\n",
       "      <td>5</td>\n",
       "    </tr>\n",
       "  </tbody>\n",
       "</table>\n",
       "</div>"
      ],
      "text/plain": [
       "    Time  Hour Daytime\n",
       "0  17:50    17       3\n",
       "1  21:45    21       4\n",
       "2  01:50     1       5\n",
       "3  01:20     1       5\n",
       "4  00:40     0       5"
      ]
     },
     "execution_count": 85,
     "metadata": {},
     "output_type": "execute_result"
    }
   ],
   "source": [
    "# apply this function to our temporary hour column\n",
    "accidents['Daytime'] = accidents['Hour'].apply(when_was_it)\n",
    "accidents[['Time', 'Hour', 'Daytime']].head()"
   ]
  },
  {
   "cell_type": "code",
   "execution_count": 86,
   "id": "e2e08691",
   "metadata": {},
   "outputs": [],
   "source": [
    "# drop old time column and temporary hour column\n",
    "accidents = accidents.drop(columns=['Time', 'Hour'])"
   ]
  },
  {
   "cell_type": "code",
   "execution_count": 87,
   "id": "be212a2b",
   "metadata": {},
   "outputs": [
    {
     "name": "stdout",
     "output_type": "stream",
     "text": [
      "Proportion of Missing Values in Accidents Table: 0.05 %\n"
     ]
    }
   ],
   "source": [
    "print('Proportion of Missing Values in Accidents Table:', \n",
    "      round(accidents.isna().sum().sum()/len(accidents), 3), '%')"
   ]
  },
  {
   "cell_type": "code",
   "execution_count": 88,
   "id": "fb9b1cdb",
   "metadata": {},
   "outputs": [],
   "source": [
    "# Define a dictionary for the target mapping\n",
    "# Use the pandas apply method to numerically encode our Did_Police_Officer_Attend_Scene_of_Accident target variable\n",
    "accidents['Did_Police_Officer_Attend_Scene_of_Accident_numerical'] = accidents['Did_Police_Officer_Attend_Scene_of_Accident'].values.reshape(-1,1)"
   ]
  },
  {
   "cell_type": "code",
   "execution_count": 89,
   "id": "c39b0618",
   "metadata": {},
   "outputs": [
    {
     "data": {
      "application/vnd.plotly.v1+json": {
       "config": {
        "linkText": "Export to plot.ly",
        "plotlyServerURL": "https://plot.ly",
        "showLink": false
       },
       "data": [
        {
         "colorscale": [
          [
           0,
           "#440154"
          ],
          [
           0.1111111111111111,
           "#482878"
          ],
          [
           0.2222222222222222,
           "#3e4989"
          ],
          [
           0.3333333333333333,
           "#31688e"
          ],
          [
           0.4444444444444444,
           "#26828e"
          ],
          [
           0.5555555555555556,
           "#1f9e89"
          ],
          [
           0.6666666666666666,
           "#35b779"
          ],
          [
           0.7777777777777778,
           "#6ece58"
          ],
          [
           0.8888888888888888,
           "#b5de2b"
          ],
          [
           1,
           "#fde725"
          ]
         ],
         "opacity": 1,
         "reversescale": false,
         "type": "heatmap",
         "x": [
          "Police_Force",
          "Accident_Severity",
          "Number_of_Vehicles",
          "Number_of_Casualties",
          "Day_of_Week",
          "Local_Authority_(District)",
          "1st_Road_Class",
          "1st_Road_Number",
          "Road_Type",
          "Speed_limit",
          "Junction_Detail",
          "Junction_Control",
          "2nd_Road_Class",
          "2nd_Road_Number",
          "Pedestrian_Crossing-Human_Control",
          "Pedestrian_Crossing-Physical_Facilities",
          "Light_Conditions",
          "Weather_Conditions",
          "Road_Surface_Conditions",
          "Special_Conditions_at_Site",
          "Carriageway_Hazards",
          "Urban_or_Rural_Area",
          "Did_Police_Officer_Attend_Scene_of_Accident"
         ],
         "y": [
          "Police_Force",
          "Accident_Severity",
          "Number_of_Vehicles",
          "Number_of_Casualties",
          "Day_of_Week",
          "Local_Authority_(District)",
          "1st_Road_Class",
          "1st_Road_Number",
          "Road_Type",
          "Speed_limit",
          "Junction_Detail",
          "Junction_Control",
          "2nd_Road_Class",
          "2nd_Road_Number",
          "Pedestrian_Crossing-Human_Control",
          "Pedestrian_Crossing-Physical_Facilities",
          "Light_Conditions",
          "Weather_Conditions",
          "Road_Surface_Conditions",
          "Special_Conditions_at_Site",
          "Carriageway_Hazards",
          "Urban_or_Rural_Area",
          "Did_Police_Officer_Attend_Scene_of_Accident"
         ],
         "z": [
          [
           1,
           -0.07528207123396395,
           0.003341418402805239,
           0.04477988555289021,
           -0.007074138161364718,
           0.9812443258869733,
           0.03518976441794397,
           0.02065690539942393,
           0.027782919269685027,
           0.255132121370475,
           -0.11895025185904168,
           -0.06632963980487168,
           -0.13636957609572953,
           0.010731844710026334,
           0.09211454768492851,
           -0.1035518009163173,
           -0.007603788043318305,
           -0.04454006595721005,
           0.09400640897232286,
           0.03286349583983954,
           0.039948494288383554,
           0.2764199385820106,
           -0.18474844827744258
          ],
          [
           -0.07528207123396395,
           1,
           0.07037493380207348,
           -0.08085668670297544,
           0.005541979679272629,
           -0.07553973909788303,
           0.009565438680054297,
           -0.011569831480066139,
           -0.03405774135689651,
           -0.10073173067498412,
           0.027411725462069474,
           0.03481423393304885,
           0.053094127107628404,
           0.01798241541812361,
           -0.03927528627892738,
           0.013368472824485524,
           -0.045723083336917866,
           0.03130985228620194,
           -0.02293682310594479,
           -0.005437244592064241,
           -0.016079733634273525,
           -0.10145762005985838,
           0.1575147720248822
          ],
          [
           0.003341418402805239,
           0.07037493380207348,
           1,
           0.21693161747048417,
           -0.0031637475918863235,
           0.006080175710095219,
           -0.1358412689538274,
           -0.005439750176039488,
           -0.0752057103055382,
           0.11057872329587436,
           0.026101200960996596,
           0.03895454129756182,
           0.032542734810307054,
           0.012594607304689075,
           -0.011303279336114552,
           -0.06133534486370975,
           -0.06417089950167648,
           -0.03555227330935936,
           -0.027364735364210323,
           -0.007929662533171974,
           -0.0278625405568408,
           0.05479332399581427,
           -0.03663339695237021
          ],
          [
           0.04477988555289021,
           -0.08085668670297544,
           0.21693161747048417,
           1,
           0.003851104344873243,
           0.050508640817394417,
           -0.08640139004102193,
           0.010985723867448038,
           -0.014973195859491712,
           0.16819308249313364,
           -0.008832128274700084,
           -0.025835122651455655,
           -0.04119643678715848,
           -0.0008754505878355471,
           0.019530294715899035,
           -0.03145363077510749,
           0.030175138459164332,
           -0.02521364794074224,
           0.02872925188965943,
           0.014515355557065648,
           0.009917311154951517,
           0.13644399048621145,
           -0.10741760825124623
          ],
          [
           -0.007074138161364718,
           0.005541979679272629,
           -0.0031637475918863235,
           0.003851104344873243,
           1,
           -0.007154443198037639,
           0.0009052339810060987,
           0.00014886971165743252,
           -0.0020495687543752483,
           -0.013585657648522842,
           0.005392851145393073,
           0.004099183186168242,
           0.006578932573290727,
           0.002093475548594051,
           -0.0022929229370961548,
           0.00018810669663224164,
           0.01320127092155436,
           0.015637509531657642,
           0.025916138986479688,
           0.0019824685864255633,
           -0.0024820875352952014,
           -0.01384798462764563,
           0.0066696033531753575
          ],
          [
           0.9812443258869733,
           -0.07553973909788303,
           0.006080175710095219,
           0.050508640817394417,
           -0.007154443198037639,
           1,
           0.047068167590541915,
           0.030243570575178985,
           0.03138166044190564,
           0.2654856507332556,
           -0.1262763948198142,
           -0.06540039856950176,
           -0.14135369754330773,
           0.012989827449348072,
           0.09870288442433034,
           -0.11419067414380644,
           -0.00864087839302858,
           -0.04701766440000033,
           0.09800514482024607,
           0.03390724104299095,
           0.04083494068209355,
           0.2924690029430795,
           -0.19814602669030076
          ],
          [
           0.03518976441794397,
           0.009565438680054297,
           -0.1358412689538274,
           -0.08640139004102193,
           0.0009052339810060987,
           0.047068167590541915,
           1,
           -0.1414197235245685,
           0.2999317283823748,
           -0.35334847162302113,
           0.040738769393307596,
           0.07407373227981238,
           0.08891190208988535,
           -0.04369823024488684,
           0.00859449014533709,
           -0.10526243283135374,
           -0.03659096443504915,
           0.009484869115961745,
           -0.007240635204387667,
           -0.017020457170965304,
           -0.004055803396014385,
           -0.19196174558420012,
           0.03806388297038008
          ],
          [
           0.02065690539942393,
           -0.011569831480066139,
           -0.005439750176039488,
           0.010985723867448038,
           0.00014886971165743252,
           0.030243570575178985,
           -0.1414197235245685,
           1,
           0.011236060066606312,
           -0.02285210530615553,
           0.02096548167350076,
           0.028458913067864584,
           0.026432730343468092,
           0.1498528505422486,
           0.02319289310913656,
           0.048178163084905794,
           0.004244249007308462,
           0.0009766883309219288,
           0.012140106199819495,
           0.0037002182721589966,
           0.0032926575813180914,
           0.0021757323388714818,
           -0.02539651890695812
          ],
          [
           0.027782919269685027,
           -0.03405774135689651,
           -0.0752057103055382,
           -0.014973195859491712,
           -0.0020495687543752483,
           0.03138166044190564,
           0.2999317283823748,
           0.011236060066606312,
           1,
           -0.18631593629707222,
           0.0912050363393089,
           -0.05576494073054749,
           0.014585408317424154,
           -0.07742322125599749,
           -0.05908698092753319,
           -0.06542243423473945,
           -0.006362133577271455,
           0.04772231165696499,
           -0.03424608408344634,
           -0.022762302223857753,
           -0.018508276582788225,
           -0.04513140671069613,
           0.057243795905059756
          ],
          [
           0.255132121370475,
           -0.10073173067498412,
           0.11057872329587436,
           0.16819308249313364,
           -0.013585657648522842,
           0.2654856507332556,
           -0.35334847162302113,
           -0.02285210530615553,
           -0.18631593629707222,
           1,
           -0.22690430989151336,
           -0.2308151379898325,
           -0.3125128813797637,
           -0.02637906794073154,
           0.02698507939353746,
           -0.20050718100376097,
           0.07062806478420187,
           -0.0266056872380512,
           0.11591622720536165,
           0.07071068525565072,
           0.061648456126940365,
           0.669624269408049,
           -0.20447854551879902
          ],
          [
           -0.11895025185904168,
           0.027411725462069474,
           0.026101200960996596,
           -0.008832128274700084,
           0.005392851145393073,
           -0.1262763948198142,
           0.040738769393307596,
           0.02096548167350076,
           0.0912050363393089,
           -0.22690430989151336,
           1,
           0.6632820782661608,
           0.7123672861202694,
           0.12219296700615395,
           0.05027875754735527,
           0.18021687492770838,
           -0.03519270121732027,
           -0.014830792745638267,
           -0.020506106375042823,
           -0.020362751801497114,
           -0.022138147742079693,
           -0.2100115806714757,
           -0.028773514767687816
          ],
          [
           -0.06632963980487168,
           0.03481423393304885,
           0.03895454129756182,
           -0.025835122651455655,
           0.004099183186168242,
           -0.06540039856950176,
           0.07407373227981238,
           0.028458913067864584,
           -0.05576494073054749,
           -0.2308151379898325,
           0.6632820782661608,
           1,
           0.8866722443029402,
           0.1949170539645279,
           0.05878321443874752,
           0.08480800024785287,
           -0.05877494404248757,
           -0.028191654121502225,
           -0.008758565424095957,
           -0.02804557858772376,
           -0.028879307550110624,
           -0.18822389965907868,
           -0.07656860481433361
          ],
          [
           -0.13636957609572953,
           0.053094127107628404,
           0.032542734810307054,
           -0.04119643678715848,
           0.006578932573290727,
           -0.14135369754330773,
           0.08891190208988535,
           0.026432730343468092,
           0.014585408317424154,
           -0.3125128813797637,
           0.7123672861202694,
           0.8866722443029402,
           1,
           0.1214276022033506,
           -0.014504279135121947,
           0.1384787063452267,
           -0.05268418291267763,
           0.0028872353914287884,
           -0.04630287212121221,
           -0.04274695961440761,
           -0.05108807271949112,
           -0.2709202718271189,
           0.059047593460221905
          ],
          [
           0.010731844710026334,
           0.01798241541812361,
           0.012594607304689075,
           -0.0008754505878355471,
           0.002093475548594051,
           0.012989827449348072,
           -0.04369823024488684,
           0.1498528505422486,
           -0.07742322125599749,
           -0.02637906794073154,
           0.12219296700615395,
           0.1949170539645279,
           0.1214276022033506,
           1,
           0.010754771125937411,
           0.1005823681518703,
           -0.005868051366247215,
           -0.005206261521629918,
           -0.0021364571531216248,
           -0.0048670557268034225,
           -0.012835901228896005,
           -0.026923753348003013,
           0.007661139323296166
          ],
          [
           0.09211454768492851,
           -0.03927528627892738,
           -0.011303279336114552,
           0.019530294715899035,
           -0.0022929229370961548,
           0.09870288442433034,
           0.00859449014533709,
           0.02319289310913656,
           -0.05908698092753319,
           0.02698507939353746,
           0.05027875754735527,
           0.05878321443874752,
           -0.014504279135121947,
           0.010754771125937411,
           1,
           0.13086863239504384,
           -0.021535002005929747,
           -0.11075214374188684,
           0.10316156365697945,
           0.057702125604866865,
           0.07856277409101586,
           0.02016368198678298,
           -0.2867018887149909
          ],
          [
           -0.1035518009163173,
           0.013368472824485524,
           -0.06133534486370975,
           -0.03145363077510749,
           0.00018810669663224164,
           -0.11419067414380644,
           -0.10526243283135374,
           0.048178163084905794,
           -0.06542243423473945,
           -0.20050718100376097,
           0.18021687492770838,
           0.08480800024785287,
           0.1384787063452267,
           0.1005823681518703,
           0.13086863239504384,
           1,
           -0.005710028605249493,
           -0.022995429590299585,
           -0.006541309017501998,
           0.0004866543325478413,
           0.006481555097263028,
           -0.2334731970666419,
           0.01532569849950251
          ],
          [
           -0.007603788043318305,
           -0.045723083336917866,
           -0.06417089950167648,
           0.030175138459164332,
           0.01320127092155436,
           -0.00864087839302858,
           -0.03659096443504915,
           0.004244249007308462,
           -0.006362133577271455,
           0.07062806478420187,
           -0.03519270121732027,
           -0.05877494404248757,
           -0.05268418291267763,
           -0.005868051366247215,
           -0.021535002005929747,
           -0.005710028605249493,
           1,
           0.10039203036995716,
           0.17390203540012367,
           0.00688537448537369,
           0.037714890968363154,
           0.041867905270775656,
           -0.012216206345873094
          ],
          [
           -0.04454006595721005,
           0.03130985228620194,
           -0.03555227330935936,
           -0.02521364794074224,
           0.015637509531657642,
           -0.04701766440000033,
           0.009484869115961745,
           0.0009766883309219288,
           0.04772231165696499,
           -0.0266056872380512,
           -0.014830792745638267,
           -0.028191654121502225,
           0.0028872353914287884,
           -0.005206261521629918,
           -0.11075214374188684,
           -0.022995429590299585,
           0.10039203036995716,
           1,
           0.06744657185558492,
           -0.03400240376955519,
           -0.03215143751796946,
           -0.024835109137020837,
           0.16173553694410472
          ],
          [
           0.09400640897232286,
           -0.02293682310594479,
           -0.027364735364210323,
           0.02872925188965943,
           0.025916138986479688,
           0.09800514482024607,
           -0.007240635204387667,
           0.012140106199819495,
           -0.03424608408344634,
           0.11591622720536165,
           -0.020506106375042823,
           -0.008758565424095957,
           -0.04630287212121221,
           -0.0021364571531216248,
           0.10316156365697945,
           -0.006541309017501998,
           0.17390203540012367,
           0.06744657185558492,
           1,
           0.07836246220536693,
           0.062025106707589206,
           0.10549909163315264,
           -0.1677113775163787
          ],
          [
           0.03286349583983954,
           -0.005437244592064241,
           -0.007929662533171974,
           0.014515355557065648,
           0.0019824685864255633,
           0.03390724104299095,
           -0.017020457170965304,
           0.0037002182721589966,
           -0.022762302223857753,
           0.07071068525565072,
           -0.020362751801497114,
           -0.02804557858772376,
           -0.04274695961440761,
           -0.0048670557268034225,
           0.057702125604866865,
           0.0004866543325478413,
           0.00688537448537369,
           -0.03400240376955519,
           0.07836246220536693,
           1,
           0.06322625927770727,
           0.071294930945187,
           -0.0639384880535481
          ],
          [
           0.039948494288383554,
           -0.016079733634273525,
           -0.0278625405568408,
           0.009917311154951517,
           -0.0024820875352952014,
           0.04083494068209355,
           -0.004055803396014385,
           0.0032926575813180914,
           -0.018508276582788225,
           0.061648456126940365,
           -0.022138147742079693,
           -0.028879307550110624,
           -0.05108807271949112,
           -0.012835901228896005,
           0.07856277409101586,
           0.006481555097263028,
           0.037714890968363154,
           -0.03215143751796946,
           0.062025106707589206,
           0.06322625927770727,
           1,
           0.056821961395493586,
           -0.0871263159331554
          ],
          [
           0.2764199385820106,
           -0.10145762005985838,
           0.05479332399581427,
           0.13644399048621145,
           -0.01384798462764563,
           0.2924690029430795,
           -0.19196174558420012,
           0.0021757323388714818,
           -0.04513140671069613,
           0.669624269408049,
           -0.2100115806714757,
           -0.18822389965907868,
           -0.2709202718271189,
           -0.026923753348003013,
           0.02016368198678298,
           -0.2334731970666419,
           0.041867905270775656,
           -0.024835109137020837,
           0.10549909163315264,
           0.071294930945187,
           0.056821961395493586,
           1,
           -0.1822599744112678
          ],
          [
           -0.18474844827744258,
           0.1575147720248822,
           -0.03663339695237021,
           -0.10741760825124623,
           0.0066696033531753575,
           -0.19814602669030076,
           0.03806388297038008,
           -0.02539651890695812,
           0.057243795905059756,
           -0.20447854551879902,
           -0.028773514767687816,
           -0.07656860481433361,
           0.059047593460221905,
           0.007661139323296166,
           -0.2867018887149909,
           0.01532569849950251,
           -0.012216206345873094,
           0.16173553694410472,
           -0.1677113775163787,
           -0.0639384880535481,
           -0.0871263159331554,
           -0.1822599744112678,
           1
          ]
         ]
        }
       ],
       "layout": {
        "height": 700,
        "template": {
         "data": {
          "bar": [
           {
            "error_x": {
             "color": "#2a3f5f"
            },
            "error_y": {
             "color": "#2a3f5f"
            },
            "marker": {
             "line": {
              "color": "#E5ECF6",
              "width": 0.5
             }
            },
            "type": "bar"
           }
          ],
          "barpolar": [
           {
            "marker": {
             "line": {
              "color": "#E5ECF6",
              "width": 0.5
             }
            },
            "type": "barpolar"
           }
          ],
          "carpet": [
           {
            "aaxis": {
             "endlinecolor": "#2a3f5f",
             "gridcolor": "white",
             "linecolor": "white",
             "minorgridcolor": "white",
             "startlinecolor": "#2a3f5f"
            },
            "baxis": {
             "endlinecolor": "#2a3f5f",
             "gridcolor": "white",
             "linecolor": "white",
             "minorgridcolor": "white",
             "startlinecolor": "#2a3f5f"
            },
            "type": "carpet"
           }
          ],
          "choropleth": [
           {
            "colorbar": {
             "outlinewidth": 0,
             "ticks": ""
            },
            "type": "choropleth"
           }
          ],
          "contour": [
           {
            "colorbar": {
             "outlinewidth": 0,
             "ticks": ""
            },
            "colorscale": [
             [
              0,
              "#0d0887"
             ],
             [
              0.1111111111111111,
              "#46039f"
             ],
             [
              0.2222222222222222,
              "#7201a8"
             ],
             [
              0.3333333333333333,
              "#9c179e"
             ],
             [
              0.4444444444444444,
              "#bd3786"
             ],
             [
              0.5555555555555556,
              "#d8576b"
             ],
             [
              0.6666666666666666,
              "#ed7953"
             ],
             [
              0.7777777777777778,
              "#fb9f3a"
             ],
             [
              0.8888888888888888,
              "#fdca26"
             ],
             [
              1,
              "#f0f921"
             ]
            ],
            "type": "contour"
           }
          ],
          "contourcarpet": [
           {
            "colorbar": {
             "outlinewidth": 0,
             "ticks": ""
            },
            "type": "contourcarpet"
           }
          ],
          "heatmap": [
           {
            "colorbar": {
             "outlinewidth": 0,
             "ticks": ""
            },
            "colorscale": [
             [
              0,
              "#0d0887"
             ],
             [
              0.1111111111111111,
              "#46039f"
             ],
             [
              0.2222222222222222,
              "#7201a8"
             ],
             [
              0.3333333333333333,
              "#9c179e"
             ],
             [
              0.4444444444444444,
              "#bd3786"
             ],
             [
              0.5555555555555556,
              "#d8576b"
             ],
             [
              0.6666666666666666,
              "#ed7953"
             ],
             [
              0.7777777777777778,
              "#fb9f3a"
             ],
             [
              0.8888888888888888,
              "#fdca26"
             ],
             [
              1,
              "#f0f921"
             ]
            ],
            "type": "heatmap"
           }
          ],
          "heatmapgl": [
           {
            "colorbar": {
             "outlinewidth": 0,
             "ticks": ""
            },
            "colorscale": [
             [
              0,
              "#0d0887"
             ],
             [
              0.1111111111111111,
              "#46039f"
             ],
             [
              0.2222222222222222,
              "#7201a8"
             ],
             [
              0.3333333333333333,
              "#9c179e"
             ],
             [
              0.4444444444444444,
              "#bd3786"
             ],
             [
              0.5555555555555556,
              "#d8576b"
             ],
             [
              0.6666666666666666,
              "#ed7953"
             ],
             [
              0.7777777777777778,
              "#fb9f3a"
             ],
             [
              0.8888888888888888,
              "#fdca26"
             ],
             [
              1,
              "#f0f921"
             ]
            ],
            "type": "heatmapgl"
           }
          ],
          "histogram": [
           {
            "marker": {
             "colorbar": {
              "outlinewidth": 0,
              "ticks": ""
             }
            },
            "type": "histogram"
           }
          ],
          "histogram2d": [
           {
            "colorbar": {
             "outlinewidth": 0,
             "ticks": ""
            },
            "colorscale": [
             [
              0,
              "#0d0887"
             ],
             [
              0.1111111111111111,
              "#46039f"
             ],
             [
              0.2222222222222222,
              "#7201a8"
             ],
             [
              0.3333333333333333,
              "#9c179e"
             ],
             [
              0.4444444444444444,
              "#bd3786"
             ],
             [
              0.5555555555555556,
              "#d8576b"
             ],
             [
              0.6666666666666666,
              "#ed7953"
             ],
             [
              0.7777777777777778,
              "#fb9f3a"
             ],
             [
              0.8888888888888888,
              "#fdca26"
             ],
             [
              1,
              "#f0f921"
             ]
            ],
            "type": "histogram2d"
           }
          ],
          "histogram2dcontour": [
           {
            "colorbar": {
             "outlinewidth": 0,
             "ticks": ""
            },
            "colorscale": [
             [
              0,
              "#0d0887"
             ],
             [
              0.1111111111111111,
              "#46039f"
             ],
             [
              0.2222222222222222,
              "#7201a8"
             ],
             [
              0.3333333333333333,
              "#9c179e"
             ],
             [
              0.4444444444444444,
              "#bd3786"
             ],
             [
              0.5555555555555556,
              "#d8576b"
             ],
             [
              0.6666666666666666,
              "#ed7953"
             ],
             [
              0.7777777777777778,
              "#fb9f3a"
             ],
             [
              0.8888888888888888,
              "#fdca26"
             ],
             [
              1,
              "#f0f921"
             ]
            ],
            "type": "histogram2dcontour"
           }
          ],
          "mesh3d": [
           {
            "colorbar": {
             "outlinewidth": 0,
             "ticks": ""
            },
            "type": "mesh3d"
           }
          ],
          "parcoords": [
           {
            "line": {
             "colorbar": {
              "outlinewidth": 0,
              "ticks": ""
             }
            },
            "type": "parcoords"
           }
          ],
          "pie": [
           {
            "automargin": true,
            "type": "pie"
           }
          ],
          "scatter": [
           {
            "marker": {
             "colorbar": {
              "outlinewidth": 0,
              "ticks": ""
             }
            },
            "type": "scatter"
           }
          ],
          "scatter3d": [
           {
            "line": {
             "colorbar": {
              "outlinewidth": 0,
              "ticks": ""
             }
            },
            "marker": {
             "colorbar": {
              "outlinewidth": 0,
              "ticks": ""
             }
            },
            "type": "scatter3d"
           }
          ],
          "scattercarpet": [
           {
            "marker": {
             "colorbar": {
              "outlinewidth": 0,
              "ticks": ""
             }
            },
            "type": "scattercarpet"
           }
          ],
          "scattergeo": [
           {
            "marker": {
             "colorbar": {
              "outlinewidth": 0,
              "ticks": ""
             }
            },
            "type": "scattergeo"
           }
          ],
          "scattergl": [
           {
            "marker": {
             "colorbar": {
              "outlinewidth": 0,
              "ticks": ""
             }
            },
            "type": "scattergl"
           }
          ],
          "scattermapbox": [
           {
            "marker": {
             "colorbar": {
              "outlinewidth": 0,
              "ticks": ""
             }
            },
            "type": "scattermapbox"
           }
          ],
          "scatterpolar": [
           {
            "marker": {
             "colorbar": {
              "outlinewidth": 0,
              "ticks": ""
             }
            },
            "type": "scatterpolar"
           }
          ],
          "scatterpolargl": [
           {
            "marker": {
             "colorbar": {
              "outlinewidth": 0,
              "ticks": ""
             }
            },
            "type": "scatterpolargl"
           }
          ],
          "scatterternary": [
           {
            "marker": {
             "colorbar": {
              "outlinewidth": 0,
              "ticks": ""
             }
            },
            "type": "scatterternary"
           }
          ],
          "surface": [
           {
            "colorbar": {
             "outlinewidth": 0,
             "ticks": ""
            },
            "colorscale": [
             [
              0,
              "#0d0887"
             ],
             [
              0.1111111111111111,
              "#46039f"
             ],
             [
              0.2222222222222222,
              "#7201a8"
             ],
             [
              0.3333333333333333,
              "#9c179e"
             ],
             [
              0.4444444444444444,
              "#bd3786"
             ],
             [
              0.5555555555555556,
              "#d8576b"
             ],
             [
              0.6666666666666666,
              "#ed7953"
             ],
             [
              0.7777777777777778,
              "#fb9f3a"
             ],
             [
              0.8888888888888888,
              "#fdca26"
             ],
             [
              1,
              "#f0f921"
             ]
            ],
            "type": "surface"
           }
          ],
          "table": [
           {
            "cells": {
             "fill": {
              "color": "#EBF0F8"
             },
             "line": {
              "color": "white"
             }
            },
            "header": {
             "fill": {
              "color": "#C8D4E3"
             },
             "line": {
              "color": "white"
             }
            },
            "type": "table"
           }
          ]
         },
         "layout": {
          "annotationdefaults": {
           "arrowcolor": "#2a3f5f",
           "arrowhead": 0,
           "arrowwidth": 1
          },
          "autotypenumbers": "strict",
          "coloraxis": {
           "colorbar": {
            "outlinewidth": 0,
            "ticks": ""
           }
          },
          "colorscale": {
           "diverging": [
            [
             0,
             "#8e0152"
            ],
            [
             0.1,
             "#c51b7d"
            ],
            [
             0.2,
             "#de77ae"
            ],
            [
             0.3,
             "#f1b6da"
            ],
            [
             0.4,
             "#fde0ef"
            ],
            [
             0.5,
             "#f7f7f7"
            ],
            [
             0.6,
             "#e6f5d0"
            ],
            [
             0.7,
             "#b8e186"
            ],
            [
             0.8,
             "#7fbc41"
            ],
            [
             0.9,
             "#4d9221"
            ],
            [
             1,
             "#276419"
            ]
           ],
           "sequential": [
            [
             0,
             "#0d0887"
            ],
            [
             0.1111111111111111,
             "#46039f"
            ],
            [
             0.2222222222222222,
             "#7201a8"
            ],
            [
             0.3333333333333333,
             "#9c179e"
            ],
            [
             0.4444444444444444,
             "#bd3786"
            ],
            [
             0.5555555555555556,
             "#d8576b"
            ],
            [
             0.6666666666666666,
             "#ed7953"
            ],
            [
             0.7777777777777778,
             "#fb9f3a"
            ],
            [
             0.8888888888888888,
             "#fdca26"
            ],
            [
             1,
             "#f0f921"
            ]
           ],
           "sequentialminus": [
            [
             0,
             "#0d0887"
            ],
            [
             0.1111111111111111,
             "#46039f"
            ],
            [
             0.2222222222222222,
             "#7201a8"
            ],
            [
             0.3333333333333333,
             "#9c179e"
            ],
            [
             0.4444444444444444,
             "#bd3786"
            ],
            [
             0.5555555555555556,
             "#d8576b"
            ],
            [
             0.6666666666666666,
             "#ed7953"
            ],
            [
             0.7777777777777778,
             "#fb9f3a"
            ],
            [
             0.8888888888888888,
             "#fdca26"
            ],
            [
             1,
             "#f0f921"
            ]
           ]
          },
          "colorway": [
           "#636efa",
           "#EF553B",
           "#00cc96",
           "#ab63fa",
           "#FFA15A",
           "#19d3f3",
           "#FF6692",
           "#B6E880",
           "#FF97FF",
           "#FECB52"
          ],
          "font": {
           "color": "#2a3f5f"
          },
          "geo": {
           "bgcolor": "white",
           "lakecolor": "white",
           "landcolor": "#E5ECF6",
           "showlakes": true,
           "showland": true,
           "subunitcolor": "white"
          },
          "hoverlabel": {
           "align": "left"
          },
          "hovermode": "closest",
          "mapbox": {
           "style": "light"
          },
          "paper_bgcolor": "white",
          "plot_bgcolor": "#E5ECF6",
          "polar": {
           "angularaxis": {
            "gridcolor": "white",
            "linecolor": "white",
            "ticks": ""
           },
           "bgcolor": "#E5ECF6",
           "radialaxis": {
            "gridcolor": "white",
            "linecolor": "white",
            "ticks": ""
           }
          },
          "scene": {
           "xaxis": {
            "backgroundcolor": "#E5ECF6",
            "gridcolor": "white",
            "gridwidth": 2,
            "linecolor": "white",
            "showbackground": true,
            "ticks": "",
            "zerolinecolor": "white"
           },
           "yaxis": {
            "backgroundcolor": "#E5ECF6",
            "gridcolor": "white",
            "gridwidth": 2,
            "linecolor": "white",
            "showbackground": true,
            "ticks": "",
            "zerolinecolor": "white"
           },
           "zaxis": {
            "backgroundcolor": "#E5ECF6",
            "gridcolor": "white",
            "gridwidth": 2,
            "linecolor": "white",
            "showbackground": true,
            "ticks": "",
            "zerolinecolor": "white"
           }
          },
          "shapedefaults": {
           "line": {
            "color": "#2a3f5f"
           }
          },
          "ternary": {
           "aaxis": {
            "gridcolor": "white",
            "linecolor": "white",
            "ticks": ""
           },
           "baxis": {
            "gridcolor": "white",
            "linecolor": "white",
            "ticks": ""
           },
           "bgcolor": "#E5ECF6",
           "caxis": {
            "gridcolor": "white",
            "linecolor": "white",
            "ticks": ""
           }
          },
          "title": {
           "x": 0.05
          },
          "xaxis": {
           "automargin": true,
           "gridcolor": "white",
           "linecolor": "white",
           "ticks": "",
           "title": {
            "standoff": 15
           },
           "zerolinecolor": "white",
           "zerolinewidth": 2
          },
          "yaxis": {
           "automargin": true,
           "gridcolor": "white",
           "linecolor": "white",
           "ticks": "",
           "title": {
            "standoff": 15
           },
           "zerolinecolor": "white",
           "zerolinewidth": 2
          }
         }
        },
        "title": {
         "text": "Pearson Correlation of numerical features"
        },
        "width": 900,
        "xaxis": {
         "nticks": 36,
         "ticks": ""
        },
        "yaxis": {
         "ticks": ""
        }
       }
      },
      "text/html": [
       "<div>                            <div id=\"f6409e93-6fdc-491c-b390-329fa4b4dd73\" class=\"plotly-graph-div\" style=\"height:700px; width:900px;\"></div>            <script type=\"text/javascript\">                require([\"plotly\"], function(Plotly) {                    window.PLOTLYENV=window.PLOTLYENV || {};                                    if (document.getElementById(\"f6409e93-6fdc-491c-b390-329fa4b4dd73\")) {                    Plotly.newPlot(                        \"f6409e93-6fdc-491c-b390-329fa4b4dd73\",                        [{\"colorscale\": [[0.0, \"#440154\"], [0.1111111111111111, \"#482878\"], [0.2222222222222222, \"#3e4989\"], [0.3333333333333333, \"#31688e\"], [0.4444444444444444, \"#26828e\"], [0.5555555555555556, \"#1f9e89\"], [0.6666666666666666, \"#35b779\"], [0.7777777777777778, \"#6ece58\"], [0.8888888888888888, \"#b5de2b\"], [1.0, \"#fde725\"]], \"opacity\": 1.0, \"reversescale\": false, \"type\": \"heatmap\", \"x\": [\"Police_Force\", \"Accident_Severity\", \"Number_of_Vehicles\", \"Number_of_Casualties\", \"Day_of_Week\", \"Local_Authority_(District)\", \"1st_Road_Class\", \"1st_Road_Number\", \"Road_Type\", \"Speed_limit\", \"Junction_Detail\", \"Junction_Control\", \"2nd_Road_Class\", \"2nd_Road_Number\", \"Pedestrian_Crossing-Human_Control\", \"Pedestrian_Crossing-Physical_Facilities\", \"Light_Conditions\", \"Weather_Conditions\", \"Road_Surface_Conditions\", \"Special_Conditions_at_Site\", \"Carriageway_Hazards\", \"Urban_or_Rural_Area\", \"Did_Police_Officer_Attend_Scene_of_Accident\"], \"y\": [\"Police_Force\", \"Accident_Severity\", \"Number_of_Vehicles\", \"Number_of_Casualties\", \"Day_of_Week\", \"Local_Authority_(District)\", \"1st_Road_Class\", \"1st_Road_Number\", \"Road_Type\", \"Speed_limit\", \"Junction_Detail\", \"Junction_Control\", \"2nd_Road_Class\", \"2nd_Road_Number\", \"Pedestrian_Crossing-Human_Control\", \"Pedestrian_Crossing-Physical_Facilities\", \"Light_Conditions\", \"Weather_Conditions\", \"Road_Surface_Conditions\", \"Special_Conditions_at_Site\", \"Carriageway_Hazards\", \"Urban_or_Rural_Area\", \"Did_Police_Officer_Attend_Scene_of_Accident\"], \"z\": [[1.0, -0.07528207123396395, 0.003341418402805239, 0.04477988555289021, -0.007074138161364718, 0.9812443258869733, 0.03518976441794397, 0.02065690539942393, 0.027782919269685027, 0.255132121370475, -0.11895025185904168, -0.06632963980487168, -0.13636957609572953, 0.010731844710026334, 0.09211454768492851, -0.1035518009163173, -0.007603788043318305, -0.04454006595721005, 0.09400640897232286, 0.03286349583983954, 0.039948494288383554, 0.2764199385820106, -0.18474844827744258], [-0.07528207123396395, 1.0, 0.07037493380207348, -0.08085668670297544, 0.005541979679272629, -0.07553973909788303, 0.009565438680054297, -0.011569831480066139, -0.03405774135689651, -0.10073173067498412, 0.027411725462069474, 0.03481423393304885, 0.053094127107628404, 0.01798241541812361, -0.03927528627892738, 0.013368472824485524, -0.045723083336917866, 0.03130985228620194, -0.02293682310594479, -0.005437244592064241, -0.016079733634273525, -0.10145762005985838, 0.1575147720248822], [0.003341418402805239, 0.07037493380207348, 1.0, 0.21693161747048417, -0.0031637475918863235, 0.006080175710095219, -0.1358412689538274, -0.005439750176039488, -0.0752057103055382, 0.11057872329587436, 0.026101200960996596, 0.03895454129756182, 0.032542734810307054, 0.012594607304689075, -0.011303279336114552, -0.06133534486370975, -0.06417089950167648, -0.03555227330935936, -0.027364735364210323, -0.007929662533171974, -0.0278625405568408, 0.05479332399581427, -0.03663339695237021], [0.04477988555289021, -0.08085668670297544, 0.21693161747048417, 1.0, 0.003851104344873243, 0.050508640817394417, -0.08640139004102193, 0.010985723867448038, -0.014973195859491712, 0.16819308249313364, -0.008832128274700084, -0.025835122651455655, -0.04119643678715848, -0.0008754505878355471, 0.019530294715899035, -0.03145363077510749, 0.030175138459164332, -0.02521364794074224, 0.02872925188965943, 0.014515355557065648, 0.009917311154951517, 0.13644399048621145, -0.10741760825124623], [-0.007074138161364718, 0.005541979679272629, -0.0031637475918863235, 0.003851104344873243, 1.0, -0.007154443198037639, 0.0009052339810060987, 0.00014886971165743252, -0.0020495687543752483, -0.013585657648522842, 0.005392851145393073, 0.004099183186168242, 0.006578932573290727, 0.002093475548594051, -0.0022929229370961548, 0.00018810669663224164, 0.01320127092155436, 0.015637509531657642, 0.025916138986479688, 0.0019824685864255633, -0.0024820875352952014, -0.01384798462764563, 0.0066696033531753575], [0.9812443258869733, -0.07553973909788303, 0.006080175710095219, 0.050508640817394417, -0.007154443198037639, 1.0, 0.047068167590541915, 0.030243570575178985, 0.03138166044190564, 0.2654856507332556, -0.1262763948198142, -0.06540039856950176, -0.14135369754330773, 0.012989827449348072, 0.09870288442433034, -0.11419067414380644, -0.00864087839302858, -0.04701766440000033, 0.09800514482024607, 0.03390724104299095, 0.04083494068209355, 0.2924690029430795, -0.19814602669030076], [0.03518976441794397, 0.009565438680054297, -0.1358412689538274, -0.08640139004102193, 0.0009052339810060987, 0.047068167590541915, 1.0, -0.1414197235245685, 0.2999317283823748, -0.35334847162302113, 0.040738769393307596, 0.07407373227981238, 0.08891190208988535, -0.04369823024488684, 0.00859449014533709, -0.10526243283135374, -0.03659096443504915, 0.009484869115961745, -0.007240635204387667, -0.017020457170965304, -0.004055803396014385, -0.19196174558420012, 0.03806388297038008], [0.02065690539942393, -0.011569831480066139, -0.005439750176039488, 0.010985723867448038, 0.00014886971165743252, 0.030243570575178985, -0.1414197235245685, 1.0, 0.011236060066606312, -0.02285210530615553, 0.02096548167350076, 0.028458913067864584, 0.026432730343468092, 0.1498528505422486, 0.02319289310913656, 0.048178163084905794, 0.004244249007308462, 0.0009766883309219288, 0.012140106199819495, 0.0037002182721589966, 0.0032926575813180914, 0.0021757323388714818, -0.02539651890695812], [0.027782919269685027, -0.03405774135689651, -0.0752057103055382, -0.014973195859491712, -0.0020495687543752483, 0.03138166044190564, 0.2999317283823748, 0.011236060066606312, 1.0, -0.18631593629707222, 0.0912050363393089, -0.05576494073054749, 0.014585408317424154, -0.07742322125599749, -0.05908698092753319, -0.06542243423473945, -0.006362133577271455, 0.04772231165696499, -0.03424608408344634, -0.022762302223857753, -0.018508276582788225, -0.04513140671069613, 0.057243795905059756], [0.255132121370475, -0.10073173067498412, 0.11057872329587436, 0.16819308249313364, -0.013585657648522842, 0.2654856507332556, -0.35334847162302113, -0.02285210530615553, -0.18631593629707222, 1.0, -0.22690430989151336, -0.2308151379898325, -0.3125128813797637, -0.02637906794073154, 0.02698507939353746, -0.20050718100376097, 0.07062806478420187, -0.0266056872380512, 0.11591622720536165, 0.07071068525565072, 0.061648456126940365, 0.669624269408049, -0.20447854551879902], [-0.11895025185904168, 0.027411725462069474, 0.026101200960996596, -0.008832128274700084, 0.005392851145393073, -0.1262763948198142, 0.040738769393307596, 0.02096548167350076, 0.0912050363393089, -0.22690430989151336, 1.0, 0.6632820782661608, 0.7123672861202694, 0.12219296700615395, 0.05027875754735527, 0.18021687492770838, -0.03519270121732027, -0.014830792745638267, -0.020506106375042823, -0.020362751801497114, -0.022138147742079693, -0.2100115806714757, -0.028773514767687816], [-0.06632963980487168, 0.03481423393304885, 0.03895454129756182, -0.025835122651455655, 0.004099183186168242, -0.06540039856950176, 0.07407373227981238, 0.028458913067864584, -0.05576494073054749, -0.2308151379898325, 0.6632820782661608, 1.0, 0.8866722443029402, 0.1949170539645279, 0.05878321443874752, 0.08480800024785287, -0.05877494404248757, -0.028191654121502225, -0.008758565424095957, -0.02804557858772376, -0.028879307550110624, -0.18822389965907868, -0.07656860481433361], [-0.13636957609572953, 0.053094127107628404, 0.032542734810307054, -0.04119643678715848, 0.006578932573290727, -0.14135369754330773, 0.08891190208988535, 0.026432730343468092, 0.014585408317424154, -0.3125128813797637, 0.7123672861202694, 0.8866722443029402, 1.0, 0.1214276022033506, -0.014504279135121947, 0.1384787063452267, -0.05268418291267763, 0.0028872353914287884, -0.04630287212121221, -0.04274695961440761, -0.05108807271949112, -0.2709202718271189, 0.059047593460221905], [0.010731844710026334, 0.01798241541812361, 0.012594607304689075, -0.0008754505878355471, 0.002093475548594051, 0.012989827449348072, -0.04369823024488684, 0.1498528505422486, -0.07742322125599749, -0.02637906794073154, 0.12219296700615395, 0.1949170539645279, 0.1214276022033506, 1.0, 0.010754771125937411, 0.1005823681518703, -0.005868051366247215, -0.005206261521629918, -0.0021364571531216248, -0.0048670557268034225, -0.012835901228896005, -0.026923753348003013, 0.007661139323296166], [0.09211454768492851, -0.03927528627892738, -0.011303279336114552, 0.019530294715899035, -0.0022929229370961548, 0.09870288442433034, 0.00859449014533709, 0.02319289310913656, -0.05908698092753319, 0.02698507939353746, 0.05027875754735527, 0.05878321443874752, -0.014504279135121947, 0.010754771125937411, 1.0, 0.13086863239504384, -0.021535002005929747, -0.11075214374188684, 0.10316156365697945, 0.057702125604866865, 0.07856277409101586, 0.02016368198678298, -0.2867018887149909], [-0.1035518009163173, 0.013368472824485524, -0.06133534486370975, -0.03145363077510749, 0.00018810669663224164, -0.11419067414380644, -0.10526243283135374, 0.048178163084905794, -0.06542243423473945, -0.20050718100376097, 0.18021687492770838, 0.08480800024785287, 0.1384787063452267, 0.1005823681518703, 0.13086863239504384, 1.0, -0.005710028605249493, -0.022995429590299585, -0.006541309017501998, 0.0004866543325478413, 0.006481555097263028, -0.2334731970666419, 0.01532569849950251], [-0.007603788043318305, -0.045723083336917866, -0.06417089950167648, 0.030175138459164332, 0.01320127092155436, -0.00864087839302858, -0.03659096443504915, 0.004244249007308462, -0.006362133577271455, 0.07062806478420187, -0.03519270121732027, -0.05877494404248757, -0.05268418291267763, -0.005868051366247215, -0.021535002005929747, -0.005710028605249493, 1.0, 0.10039203036995716, 0.17390203540012367, 0.00688537448537369, 0.037714890968363154, 0.041867905270775656, -0.012216206345873094], [-0.04454006595721005, 0.03130985228620194, -0.03555227330935936, -0.02521364794074224, 0.015637509531657642, -0.04701766440000033, 0.009484869115961745, 0.0009766883309219288, 0.04772231165696499, -0.0266056872380512, -0.014830792745638267, -0.028191654121502225, 0.0028872353914287884, -0.005206261521629918, -0.11075214374188684, -0.022995429590299585, 0.10039203036995716, 1.0, 0.06744657185558492, -0.03400240376955519, -0.03215143751796946, -0.024835109137020837, 0.16173553694410472], [0.09400640897232286, -0.02293682310594479, -0.027364735364210323, 0.02872925188965943, 0.025916138986479688, 0.09800514482024607, -0.007240635204387667, 0.012140106199819495, -0.03424608408344634, 0.11591622720536165, -0.020506106375042823, -0.008758565424095957, -0.04630287212121221, -0.0021364571531216248, 0.10316156365697945, -0.006541309017501998, 0.17390203540012367, 0.06744657185558492, 1.0, 0.07836246220536693, 0.062025106707589206, 0.10549909163315264, -0.1677113775163787], [0.03286349583983954, -0.005437244592064241, -0.007929662533171974, 0.014515355557065648, 0.0019824685864255633, 0.03390724104299095, -0.017020457170965304, 0.0037002182721589966, -0.022762302223857753, 0.07071068525565072, -0.020362751801497114, -0.02804557858772376, -0.04274695961440761, -0.0048670557268034225, 0.057702125604866865, 0.0004866543325478413, 0.00688537448537369, -0.03400240376955519, 0.07836246220536693, 1.0, 0.06322625927770727, 0.071294930945187, -0.0639384880535481], [0.039948494288383554, -0.016079733634273525, -0.0278625405568408, 0.009917311154951517, -0.0024820875352952014, 0.04083494068209355, -0.004055803396014385, 0.0032926575813180914, -0.018508276582788225, 0.061648456126940365, -0.022138147742079693, -0.028879307550110624, -0.05108807271949112, -0.012835901228896005, 0.07856277409101586, 0.006481555097263028, 0.037714890968363154, -0.03215143751796946, 0.062025106707589206, 0.06322625927770727, 1.0, 0.056821961395493586, -0.0871263159331554], [0.2764199385820106, -0.10145762005985838, 0.05479332399581427, 0.13644399048621145, -0.01384798462764563, 0.2924690029430795, -0.19196174558420012, 0.0021757323388714818, -0.04513140671069613, 0.669624269408049, -0.2100115806714757, -0.18822389965907868, -0.2709202718271189, -0.026923753348003013, 0.02016368198678298, -0.2334731970666419, 0.041867905270775656, -0.024835109137020837, 0.10549909163315264, 0.071294930945187, 0.056821961395493586, 1.0, -0.1822599744112678], [-0.18474844827744258, 0.1575147720248822, -0.03663339695237021, -0.10741760825124623, 0.0066696033531753575, -0.19814602669030076, 0.03806388297038008, -0.02539651890695812, 0.057243795905059756, -0.20447854551879902, -0.028773514767687816, -0.07656860481433361, 0.059047593460221905, 0.007661139323296166, -0.2867018887149909, 0.01532569849950251, -0.012216206345873094, 0.16173553694410472, -0.1677113775163787, -0.0639384880535481, -0.0871263159331554, -0.1822599744112678, 1.0]]}],                        {\"height\": 700, \"template\": {\"data\": {\"bar\": [{\"error_x\": {\"color\": \"#2a3f5f\"}, \"error_y\": {\"color\": \"#2a3f5f\"}, \"marker\": {\"line\": {\"color\": \"#E5ECF6\", \"width\": 0.5}}, \"type\": \"bar\"}], \"barpolar\": [{\"marker\": {\"line\": {\"color\": \"#E5ECF6\", \"width\": 0.5}}, \"type\": \"barpolar\"}], \"carpet\": [{\"aaxis\": {\"endlinecolor\": \"#2a3f5f\", \"gridcolor\": \"white\", \"linecolor\": \"white\", \"minorgridcolor\": \"white\", \"startlinecolor\": \"#2a3f5f\"}, \"baxis\": {\"endlinecolor\": \"#2a3f5f\", \"gridcolor\": \"white\", \"linecolor\": \"white\", \"minorgridcolor\": \"white\", \"startlinecolor\": \"#2a3f5f\"}, \"type\": \"carpet\"}], \"choropleth\": [{\"colorbar\": {\"outlinewidth\": 0, \"ticks\": \"\"}, \"type\": \"choropleth\"}], \"contour\": [{\"colorbar\": {\"outlinewidth\": 0, \"ticks\": \"\"}, \"colorscale\": [[0.0, \"#0d0887\"], [0.1111111111111111, \"#46039f\"], [0.2222222222222222, \"#7201a8\"], [0.3333333333333333, \"#9c179e\"], [0.4444444444444444, \"#bd3786\"], [0.5555555555555556, \"#d8576b\"], [0.6666666666666666, \"#ed7953\"], [0.7777777777777778, \"#fb9f3a\"], [0.8888888888888888, \"#fdca26\"], [1.0, \"#f0f921\"]], \"type\": \"contour\"}], \"contourcarpet\": [{\"colorbar\": {\"outlinewidth\": 0, \"ticks\": \"\"}, \"type\": \"contourcarpet\"}], \"heatmap\": [{\"colorbar\": {\"outlinewidth\": 0, \"ticks\": \"\"}, \"colorscale\": [[0.0, \"#0d0887\"], [0.1111111111111111, \"#46039f\"], [0.2222222222222222, \"#7201a8\"], [0.3333333333333333, \"#9c179e\"], [0.4444444444444444, \"#bd3786\"], [0.5555555555555556, \"#d8576b\"], [0.6666666666666666, \"#ed7953\"], [0.7777777777777778, \"#fb9f3a\"], [0.8888888888888888, \"#fdca26\"], [1.0, \"#f0f921\"]], \"type\": \"heatmap\"}], \"heatmapgl\": [{\"colorbar\": {\"outlinewidth\": 0, \"ticks\": \"\"}, \"colorscale\": [[0.0, \"#0d0887\"], [0.1111111111111111, \"#46039f\"], [0.2222222222222222, \"#7201a8\"], [0.3333333333333333, \"#9c179e\"], [0.4444444444444444, \"#bd3786\"], [0.5555555555555556, \"#d8576b\"], [0.6666666666666666, \"#ed7953\"], [0.7777777777777778, \"#fb9f3a\"], [0.8888888888888888, \"#fdca26\"], [1.0, \"#f0f921\"]], \"type\": \"heatmapgl\"}], \"histogram\": [{\"marker\": {\"colorbar\": {\"outlinewidth\": 0, \"ticks\": \"\"}}, \"type\": \"histogram\"}], \"histogram2d\": [{\"colorbar\": {\"outlinewidth\": 0, \"ticks\": \"\"}, \"colorscale\": [[0.0, \"#0d0887\"], [0.1111111111111111, \"#46039f\"], [0.2222222222222222, \"#7201a8\"], [0.3333333333333333, \"#9c179e\"], [0.4444444444444444, \"#bd3786\"], [0.5555555555555556, \"#d8576b\"], [0.6666666666666666, \"#ed7953\"], [0.7777777777777778, \"#fb9f3a\"], [0.8888888888888888, \"#fdca26\"], [1.0, \"#f0f921\"]], \"type\": \"histogram2d\"}], \"histogram2dcontour\": [{\"colorbar\": {\"outlinewidth\": 0, \"ticks\": \"\"}, \"colorscale\": [[0.0, \"#0d0887\"], [0.1111111111111111, \"#46039f\"], [0.2222222222222222, \"#7201a8\"], [0.3333333333333333, \"#9c179e\"], [0.4444444444444444, \"#bd3786\"], [0.5555555555555556, \"#d8576b\"], [0.6666666666666666, \"#ed7953\"], [0.7777777777777778, \"#fb9f3a\"], [0.8888888888888888, \"#fdca26\"], [1.0, \"#f0f921\"]], \"type\": \"histogram2dcontour\"}], \"mesh3d\": [{\"colorbar\": {\"outlinewidth\": 0, \"ticks\": \"\"}, \"type\": \"mesh3d\"}], \"parcoords\": [{\"line\": {\"colorbar\": {\"outlinewidth\": 0, \"ticks\": \"\"}}, \"type\": \"parcoords\"}], \"pie\": [{\"automargin\": true, \"type\": \"pie\"}], \"scatter\": [{\"marker\": {\"colorbar\": {\"outlinewidth\": 0, \"ticks\": \"\"}}, \"type\": \"scatter\"}], \"scatter3d\": [{\"line\": {\"colorbar\": {\"outlinewidth\": 0, \"ticks\": \"\"}}, \"marker\": {\"colorbar\": {\"outlinewidth\": 0, \"ticks\": \"\"}}, \"type\": \"scatter3d\"}], \"scattercarpet\": [{\"marker\": {\"colorbar\": {\"outlinewidth\": 0, \"ticks\": \"\"}}, \"type\": \"scattercarpet\"}], \"scattergeo\": [{\"marker\": {\"colorbar\": {\"outlinewidth\": 0, \"ticks\": \"\"}}, \"type\": \"scattergeo\"}], \"scattergl\": [{\"marker\": {\"colorbar\": {\"outlinewidth\": 0, \"ticks\": \"\"}}, \"type\": \"scattergl\"}], \"scattermapbox\": [{\"marker\": {\"colorbar\": {\"outlinewidth\": 0, \"ticks\": \"\"}}, \"type\": \"scattermapbox\"}], \"scatterpolar\": [{\"marker\": {\"colorbar\": {\"outlinewidth\": 0, \"ticks\": \"\"}}, \"type\": \"scatterpolar\"}], \"scatterpolargl\": [{\"marker\": {\"colorbar\": {\"outlinewidth\": 0, \"ticks\": \"\"}}, \"type\": \"scatterpolargl\"}], \"scatterternary\": [{\"marker\": {\"colorbar\": {\"outlinewidth\": 0, \"ticks\": \"\"}}, \"type\": \"scatterternary\"}], \"surface\": [{\"colorbar\": {\"outlinewidth\": 0, \"ticks\": \"\"}, \"colorscale\": [[0.0, \"#0d0887\"], [0.1111111111111111, \"#46039f\"], [0.2222222222222222, \"#7201a8\"], [0.3333333333333333, \"#9c179e\"], [0.4444444444444444, \"#bd3786\"], [0.5555555555555556, \"#d8576b\"], [0.6666666666666666, \"#ed7953\"], [0.7777777777777778, \"#fb9f3a\"], [0.8888888888888888, \"#fdca26\"], [1.0, \"#f0f921\"]], \"type\": \"surface\"}], \"table\": [{\"cells\": {\"fill\": {\"color\": \"#EBF0F8\"}, \"line\": {\"color\": \"white\"}}, \"header\": {\"fill\": {\"color\": \"#C8D4E3\"}, \"line\": {\"color\": \"white\"}}, \"type\": \"table\"}]}, \"layout\": {\"annotationdefaults\": {\"arrowcolor\": \"#2a3f5f\", \"arrowhead\": 0, \"arrowwidth\": 1}, \"autotypenumbers\": \"strict\", \"coloraxis\": {\"colorbar\": {\"outlinewidth\": 0, \"ticks\": \"\"}}, \"colorscale\": {\"diverging\": [[0, \"#8e0152\"], [0.1, \"#c51b7d\"], [0.2, \"#de77ae\"], [0.3, \"#f1b6da\"], [0.4, \"#fde0ef\"], [0.5, \"#f7f7f7\"], [0.6, \"#e6f5d0\"], [0.7, \"#b8e186\"], [0.8, \"#7fbc41\"], [0.9, \"#4d9221\"], [1, \"#276419\"]], \"sequential\": [[0.0, \"#0d0887\"], [0.1111111111111111, \"#46039f\"], [0.2222222222222222, \"#7201a8\"], [0.3333333333333333, \"#9c179e\"], [0.4444444444444444, \"#bd3786\"], [0.5555555555555556, \"#d8576b\"], [0.6666666666666666, \"#ed7953\"], [0.7777777777777778, \"#fb9f3a\"], [0.8888888888888888, \"#fdca26\"], [1.0, \"#f0f921\"]], \"sequentialminus\": [[0.0, \"#0d0887\"], [0.1111111111111111, \"#46039f\"], [0.2222222222222222, \"#7201a8\"], [0.3333333333333333, \"#9c179e\"], [0.4444444444444444, \"#bd3786\"], [0.5555555555555556, \"#d8576b\"], [0.6666666666666666, \"#ed7953\"], [0.7777777777777778, \"#fb9f3a\"], [0.8888888888888888, \"#fdca26\"], [1.0, \"#f0f921\"]]}, \"colorway\": [\"#636efa\", \"#EF553B\", \"#00cc96\", \"#ab63fa\", \"#FFA15A\", \"#19d3f3\", \"#FF6692\", \"#B6E880\", \"#FF97FF\", \"#FECB52\"], \"font\": {\"color\": \"#2a3f5f\"}, \"geo\": {\"bgcolor\": \"white\", \"lakecolor\": \"white\", \"landcolor\": \"#E5ECF6\", \"showlakes\": true, \"showland\": true, \"subunitcolor\": \"white\"}, \"hoverlabel\": {\"align\": \"left\"}, \"hovermode\": \"closest\", \"mapbox\": {\"style\": \"light\"}, \"paper_bgcolor\": \"white\", \"plot_bgcolor\": \"#E5ECF6\", \"polar\": {\"angularaxis\": {\"gridcolor\": \"white\", \"linecolor\": \"white\", \"ticks\": \"\"}, \"bgcolor\": \"#E5ECF6\", \"radialaxis\": {\"gridcolor\": \"white\", \"linecolor\": \"white\", \"ticks\": \"\"}}, \"scene\": {\"xaxis\": {\"backgroundcolor\": \"#E5ECF6\", \"gridcolor\": \"white\", \"gridwidth\": 2, \"linecolor\": \"white\", \"showbackground\": true, \"ticks\": \"\", \"zerolinecolor\": \"white\"}, \"yaxis\": {\"backgroundcolor\": \"#E5ECF6\", \"gridcolor\": \"white\", \"gridwidth\": 2, \"linecolor\": \"white\", \"showbackground\": true, \"ticks\": \"\", \"zerolinecolor\": \"white\"}, \"zaxis\": {\"backgroundcolor\": \"#E5ECF6\", \"gridcolor\": \"white\", \"gridwidth\": 2, \"linecolor\": \"white\", \"showbackground\": true, \"ticks\": \"\", \"zerolinecolor\": \"white\"}}, \"shapedefaults\": {\"line\": {\"color\": \"#2a3f5f\"}}, \"ternary\": {\"aaxis\": {\"gridcolor\": \"white\", \"linecolor\": \"white\", \"ticks\": \"\"}, \"baxis\": {\"gridcolor\": \"white\", \"linecolor\": \"white\", \"ticks\": \"\"}, \"bgcolor\": \"#E5ECF6\", \"caxis\": {\"gridcolor\": \"white\", \"linecolor\": \"white\", \"ticks\": \"\"}}, \"title\": {\"x\": 0.05}, \"xaxis\": {\"automargin\": true, \"gridcolor\": \"white\", \"linecolor\": \"white\", \"ticks\": \"\", \"title\": {\"standoff\": 15}, \"zerolinecolor\": \"white\", \"zerolinewidth\": 2}, \"yaxis\": {\"automargin\": true, \"gridcolor\": \"white\", \"linecolor\": \"white\", \"ticks\": \"\", \"title\": {\"standoff\": 15}, \"zerolinecolor\": \"white\", \"zerolinewidth\": 2}}}, \"title\": {\"text\": \"Pearson Correlation of numerical features\"}, \"width\": 900, \"xaxis\": {\"nticks\": 36, \"ticks\": \"\"}, \"yaxis\": {\"ticks\": \"\"}},                        {\"responsive\": true}                    ).then(function(){\n",
       "                            \n",
       "var gd = document.getElementById('f6409e93-6fdc-491c-b390-329fa4b4dd73');\n",
       "var x = new MutationObserver(function (mutations, observer) {{\n",
       "        var display = window.getComputedStyle(gd).display;\n",
       "        if (!display || display === 'none') {{\n",
       "            console.log([gd, 'removed!']);\n",
       "            Plotly.purge(gd);\n",
       "            observer.disconnect();\n",
       "        }}\n",
       "}});\n",
       "\n",
       "// Listen for the removal of the full notebook cells\n",
       "var notebookContainer = gd.closest('#notebook-container');\n",
       "if (notebookContainer) {{\n",
       "    x.observe(notebookContainer, {childList: true});\n",
       "}}\n",
       "\n",
       "// Listen for the clearing of the current output cell\n",
       "var outputEl = gd.closest('.output');\n",
       "if (outputEl) {{\n",
       "    x.observe(outputEl, {childList: true});\n",
       "}}\n",
       "\n",
       "                        })                };                });            </script>        </div>"
      ]
     },
     "metadata": {},
     "output_type": "display_data"
    }
   ],
   "source": [
    "# creating a list of only numerical categories for correlation plotting\n",
    "    \n",
    "numerical = [\n",
    "#            u'Location_Easting_OSGR', \n",
    "#            u'Location_Northing_OSGR',\n",
    "#            u'Longitude',\n",
    "#            u'Latitude',\n",
    "            u'Police_Force',\n",
    "            u'Accident_Severity', \n",
    "            u'Number_of_Vehicles',\n",
    "            u'Number_of_Casualties', \n",
    "            u'Day_of_Week', \n",
    "            u'Local_Authority_(District)', \n",
    "            u'1st_Road_Class',\n",
    "            u'1st_Road_Number',\n",
    "            u'Road_Type',\n",
    "            u'Speed_limit',\n",
    "            u'Junction_Detail',\n",
    "            u'Junction_Control',\n",
    "            u'2nd_Road_Class',\n",
    "            u'2nd_Road_Number',\n",
    "            u'Pedestrian_Crossing-Human_Control',\n",
    "            u'Pedestrian_Crossing-Physical_Facilities',\n",
    "            u'Light_Conditions',\n",
    "            u'Weather_Conditions', \n",
    "            u'Road_Surface_Conditions',\n",
    "            u'Special_Conditions_at_Site', \n",
    "            u'Carriageway_Hazards',\n",
    "            u'Urban_or_Rural_Area', \n",
    "            u'Did_Police_Officer_Attend_Scene_of_Accident'\n",
    "]\n",
    "data = [\n",
    "    go.Heatmap(\n",
    "        z=accidents[numerical].astype(float).corr().values, # Generating the Pearson correlation\n",
    "        x=accidents[numerical].columns.values,\n",
    "        y=accidents[numerical].columns.values,\n",
    "        colorscale='Viridis',\n",
    "        reversescale = False,\n",
    "#         text = True ,\n",
    "        opacity = 1.0\n",
    "        \n",
    "    )\n",
    "]\n",
    "\n",
    "layout = go.Layout(\n",
    "    title='Pearson Correlation of numerical features',\n",
    "    xaxis = dict(ticks='', nticks=36),\n",
    "    yaxis = dict(ticks='' ),\n",
    "    width = 900, height = 700,\n",
    "    \n",
    ")\n",
    "\n",
    "fig = go.Figure(data=data, layout=layout)\n",
    "py.iplot(fig, filename='labelled-heatmap')"
   ]
  },
  {
   "cell_type": "code",
   "execution_count": 90,
   "id": "2b1e93d8",
   "metadata": {},
   "outputs": [],
   "source": [
    "# leaving out highly correlated features from final numerical features before model learning\n",
    "numerical = [\n",
    "#            u'Location_Easting_OSGR', \n",
    "#            u'Location_Northing_OSGR',\n",
    "#            u'Longitude',\n",
    "#            u'Latitude',\n",
    "#            u'Police_Force',\n",
    "            u'Accident_Severity', \n",
    "            u'Number_of_Vehicles',\n",
    "            u'Number_of_Casualties', \n",
    "            u'Day_of_Week', \n",
    "#           u'Local_Authority_(District)', \n",
    "##>>            u'1st_Road_Class',\n",
    "##>>            u'1st_Road_Number',\n",
    "            u'Road_Type',\n",
    "#            u'Speed_limit',\n",
    "#            u'Junction_Detail',\n",
    "#            u'Junction_Control',\n",
    "#            u'2nd_Road_Class',\n",
    "##>>            u'2nd_Road_Number',\n",
    "            u'Pedestrian_Crossing-Human_Control',\n",
    "            u'Pedestrian_Crossing-Physical_Facilities',\n",
    "            u'Light_Conditions',\n",
    "            u'Weather_Conditions', \n",
    "            u'Road_Surface_Conditions',\n",
    "            u'Special_Conditions_at_Site', \n",
    "            u'Carriageway_Hazards',\n",
    "#            u'Urban_or_Rural_Area', \n",
    "            u'Did_Police_Officer_Attend_Scene_of_Accident'\n",
    "]\n",
    "\n",
    "#g = sns.pairplot(df[numerical], hue='Did_Police_Officer_Attend_Scene_of_Accident', palette='seismic', diag_kind = 'kde',diag_kws=dict(shade=True))\n",
    "#g.set(xticklabels=[])"
   ]
  },
  {
   "cell_type": "code",
   "execution_count": 91,
   "id": "d3eed5fd",
   "metadata": {},
   "outputs": [],
   "source": [
    "# drop columns we don't need (geographical features as well as highly correlated ones)\n",
    "#accidents = accidents.drop(columns=['2nd_Road_Class', '2nd_Road_Number',\n",
    "#                                    'Location_Easting_OSGR', 'Location_Northing_OSGR', \n",
    "#                                    'Longitude', 'Latitude', 'LSOA_of_Accident_Location',\n",
    "#                                    'Pedestrian_Crossing-Human_Control', \n",
    "#                                    'Pedestrian_Crossing-Physical_Facilities'])"
   ]
  },
  {
   "cell_type": "code",
   "execution_count": 92,
   "id": "2edd18c4",
   "metadata": {},
   "outputs": [
    {
     "data": {
      "text/plain": [
       "0"
      ]
     },
     "execution_count": 92,
     "metadata": {},
     "output_type": "execute_result"
    }
   ],
   "source": [
    "# dealing with empty values remaining\n",
    "# drop remaining records with NaN's\n",
    "accidents = accidents.dropna()\n",
    "\n",
    "# check if we have no NaN's anymore\n",
    "accidents.isna().sum().sum()"
   ]
  },
  {
   "cell_type": "code",
   "execution_count": 93,
   "id": "ff46982f",
   "metadata": {},
   "outputs": [
    {
     "name": "stdout",
     "output_type": "stream",
     "text": [
      "<class 'pandas.core.frame.DataFrame'>\n",
      "Int64Index: 111760 entries, 0 to 111851\n",
      "Data columns (total 33 columns):\n",
      " #   Column                                                 Non-Null Count   Dtype         \n",
      "---  ------                                                 --------------   -----         \n",
      " 0   Accident_Index                                         111760 non-null  object        \n",
      " 1   Location_Easting_OSGR                                  111760 non-null  float64       \n",
      " 2   Location_Northing_OSGR                                 111760 non-null  float64       \n",
      " 3   Longitude                                              111760 non-null  float64       \n",
      " 4   Latitude                                               111760 non-null  float64       \n",
      " 5   Police_Force                                           111760 non-null  int64         \n",
      " 6   Accident_Severity                                      111760 non-null  int64         \n",
      " 7   Number_of_Vehicles                                     111760 non-null  int64         \n",
      " 8   Number_of_Casualties                                   111760 non-null  int64         \n",
      " 9   Date                                                   111760 non-null  datetime64[ns]\n",
      " 10  Day_of_Week                                            111760 non-null  int64         \n",
      " 11  Local_Authority_(District)                             111760 non-null  int64         \n",
      " 12  Local_Authority_(Highway)                              111760 non-null  object        \n",
      " 13  1st_Road_Class                                         111760 non-null  int64         \n",
      " 14  1st_Road_Number                                        111760 non-null  int64         \n",
      " 15  Road_Type                                              111760 non-null  int64         \n",
      " 16  Speed_limit                                            111760 non-null  int64         \n",
      " 17  Junction_Detail                                        111760 non-null  int64         \n",
      " 18  Junction_Control                                       111760 non-null  int64         \n",
      " 19  2nd_Road_Class                                         111760 non-null  int64         \n",
      " 20  2nd_Road_Number                                        111760 non-null  int64         \n",
      " 21  Pedestrian_Crossing-Human_Control                      111760 non-null  int64         \n",
      " 22  Pedestrian_Crossing-Physical_Facilities                111760 non-null  int64         \n",
      " 23  Light_Conditions                                       111760 non-null  int64         \n",
      " 24  Weather_Conditions                                     111760 non-null  int64         \n",
      " 25  Road_Surface_Conditions                                111760 non-null  int64         \n",
      " 26  Special_Conditions_at_Site                             111760 non-null  int64         \n",
      " 27  Carriageway_Hazards                                    111760 non-null  int64         \n",
      " 28  Urban_or_Rural_Area                                    111760 non-null  int64         \n",
      " 29  Did_Police_Officer_Attend_Scene_of_Accident            111760 non-null  int64         \n",
      " 30  LSOA_of_Accident_Location                              111760 non-null  object        \n",
      " 31  Daytime                                                111760 non-null  object        \n",
      " 32  Did_Police_Officer_Attend_Scene_of_Accident_numerical  111760 non-null  int64         \n",
      "dtypes: datetime64[ns](1), float64(4), int64(24), object(4)\n",
      "memory usage: 29.0+ MB\n"
     ]
    }
   ],
   "source": [
    "accidents.info()"
   ]
  },
  {
   "cell_type": "code",
   "execution_count": 45,
   "id": "00b9e0e8",
   "metadata": {},
   "outputs": [
    {
     "name": "stdout",
     "output_type": "stream",
     "text": [
      "<class 'pandas.core.frame.DataFrame'>\n",
      "Int64Index: 117473 entries, 0 to 117535\n",
      "Data columns (total 24 columns):\n",
      " #   Column                                                 Non-Null Count   Dtype         \n",
      "---  ------                                                 --------------   -----         \n",
      " 0   Accident_Index                                         117473 non-null  object        \n",
      " 1   Police_Force                                           117473 non-null  int64         \n",
      " 2   Accident_Severity                                      117473 non-null  category      \n",
      " 3   Number_of_Vehicles                                     117473 non-null  int64         \n",
      " 4   Number_of_Casualties                                   117473 non-null  int64         \n",
      " 5   Date                                                   117473 non-null  datetime64[ns]\n",
      " 6   Day_of_Week                                            117473 non-null  int64         \n",
      " 7   Local_Authority_(District)                             117473 non-null  int64         \n",
      " 8   Local_Authority_(Highway)                              117473 non-null  object        \n",
      " 9   1st_Road_Class                                         117473 non-null  int64         \n",
      " 10  1st_Road_Number                                        117473 non-null  int64         \n",
      " 11  Road_Type                                              117473 non-null  int64         \n",
      " 12  Speed_limit                                            117473 non-null  category      \n",
      " 13  Junction_Detail                                        117473 non-null  int64         \n",
      " 14  Junction_Control                                       117473 non-null  int64         \n",
      " 15  Light_Conditions                                       117473 non-null  int64         \n",
      " 16  Weather_Conditions                                     117473 non-null  int64         \n",
      " 17  Road_Surface_Conditions                                117473 non-null  int64         \n",
      " 18  Special_Conditions_at_Site                             117473 non-null  int64         \n",
      " 19  Carriageway_Hazards                                    117473 non-null  int64         \n",
      " 20  Urban_or_Rural_Area                                    117473 non-null  category      \n",
      " 21  Did_Police_Officer_Attend_Scene_of_Accident            117473 non-null  int64         \n",
      " 22  Daytime                                                117473 non-null  category      \n",
      " 23  Did_Police_Officer_Attend_Scene_of_Accident_numerical  117473 non-null  int64         \n",
      "dtypes: category(4), datetime64[ns](1), int64(17), object(2)\n",
      "memory usage: 19.3+ MB\n"
     ]
    }
   ],
   "source": [
    "# cast categorical features - currently stored as string data - to their proper data format\n",
    "for col in ['Accident_Severity', 'Daytime', 'Speed_limit', 'Urban_or_Rural_Area']:\n",
    "    accidents[col] = accidents[col].astype('category')\n",
    "    \n",
    "accidents.info()"
   ]
  },
  {
   "cell_type": "code",
   "execution_count": 94,
   "id": "500f5934",
   "metadata": {},
   "outputs": [
    {
     "data": {
      "text/plain": [
       "Index(['Location_Easting_OSGR', 'Location_Northing_OSGR', 'Longitude',\n",
       "       'Latitude', 'Police_Force', 'Accident_Severity', 'Number_of_Vehicles',\n",
       "       'Number_of_Casualties', 'Day_of_Week', 'Local_Authority_(District)',\n",
       "       '1st_Road_Class', '1st_Road_Number', 'Road_Type', 'Speed_limit',\n",
       "       'Junction_Detail', 'Junction_Control', '2nd_Road_Class',\n",
       "       '2nd_Road_Number', 'Pedestrian_Crossing-Human_Control',\n",
       "       'Pedestrian_Crossing-Physical_Facilities', 'Light_Conditions',\n",
       "       'Weather_Conditions', 'Road_Surface_Conditions',\n",
       "       'Special_Conditions_at_Site', 'Carriageway_Hazards',\n",
       "       'Urban_or_Rural_Area', 'Did_Police_Officer_Attend_Scene_of_Accident',\n",
       "       'Did_Police_Officer_Attend_Scene_of_Accident_numerical'],\n",
       "      dtype='object')"
      ]
     },
     "execution_count": 94,
     "metadata": {},
     "output_type": "execute_result"
    }
   ],
   "source": [
    "numerics = ['int16', 'int32', 'int64', 'float16', 'float32', 'float64']\n",
    "num_cols = accidents.select_dtypes(include=numerics)\n",
    "num_cols.columns"
   ]
  },
  {
   "cell_type": "code",
   "execution_count": 95,
   "id": "3ad56584",
   "metadata": {},
   "outputs": [],
   "source": [
    "# outlier detection using boxplots\n",
    "#sns.set(style='darkgrid')\n",
    "#fig, axes = plt.subplots(2,1, figsize=(10,4))\n",
    "\n",
    "#for ax, col in zip(axes, num_cols):\n",
    "#    accidents.boxplot(column=col, grid=False, vert=False, ax=ax)\n",
    "#    plt.tight_layout();"
   ]
  },
  {
   "cell_type": "code",
   "execution_count": 96,
   "id": "493da5df",
   "metadata": {},
   "outputs": [],
   "source": [
    "# Empty list to store columns with categorical data\n",
    "categorical = []\n",
    "for col, value in accidents.iteritems():\n",
    "    if value.dtype == 'object':\n",
    "        categorical.append(col)"
   ]
  },
  {
   "cell_type": "code",
   "execution_count": 98,
   "id": "0797e25a",
   "metadata": {},
   "outputs": [
    {
     "data": {
      "text/plain": [
       "['Accident_Index',\n",
       " 'Local_Authority_(Highway)',\n",
       " 'LSOA_of_Accident_Location',\n",
       " 'Daytime']"
      ]
     },
     "execution_count": 98,
     "metadata": {},
     "output_type": "execute_result"
    }
   ],
   "source": [
    "categorical # accident index will be dropped, how about Local authority_(Highway)?? <<<"
   ]
  },
  {
   "cell_type": "code",
   "execution_count": 99,
   "id": "43870329",
   "metadata": {},
   "outputs": [
    {
     "data": {
      "text/plain": [
       "['Daytime', 'Speed_limit', 'Urban_or_Rural_Area', 'Local_Authority_(Highway)']"
      ]
     },
     "execution_count": 99,
     "metadata": {},
     "output_type": "execute_result"
    }
   ],
   "source": [
    "# dropping 'Accident_Index' and 'LSOA_of_Accident_Location' given index as well as georelation \n",
    "categorical = ['Daytime', 'Speed_limit', 'Urban_or_Rural_Area', 'Local_Authority_(Highway)']\n",
    "categorical"
   ]
  },
  {
   "cell_type": "code",
   "execution_count": 100,
   "id": "17300f90",
   "metadata": {},
   "outputs": [
    {
     "data": {
      "text/plain": [
       "['Accident_Severity',\n",
       " 'Number_of_Vehicles',\n",
       " 'Number_of_Casualties',\n",
       " 'Day_of_Week',\n",
       " '1st_Road_Class',\n",
       " '1st_Road_Number',\n",
       " 'Road_Type',\n",
       " '2nd_Road_Number',\n",
       " 'Pedestrian_Crossing-Human_Control',\n",
       " 'Pedestrian_Crossing-Physical_Facilities',\n",
       " 'Light_Conditions',\n",
       " 'Weather_Conditions',\n",
       " 'Road_Surface_Conditions',\n",
       " 'Special_Conditions_at_Site',\n",
       " 'Carriageway_Hazards',\n",
       " 'Did_Police_Officer_Attend_Scene_of_Accident']"
      ]
     },
     "execution_count": 100,
     "metadata": {},
     "output_type": "execute_result"
    }
   ],
   "source": [
    "numerical"
   ]
  },
  {
   "cell_type": "code",
   "execution_count": null,
   "id": "0f369686",
   "metadata": {},
   "outputs": [],
   "source": [
    "# define categorical feature columns\n",
    "#cat_cols = ['Daytime', 'Speed_limit', 'Urban_or_Rural_Area']\n",
    "\n",
    "# define target col\n",
    "#target_col = ['Did_Police_Officer_Attend_Scene_of_Accident']\n",
    "\n",
    "#cols = cat_cols + num_cols + target_col"
   ]
  },
  {
   "cell_type": "code",
   "execution_count": 101,
   "id": "03f8e3d2",
   "metadata": {},
   "outputs": [],
   "source": [
    "# copy dataframe - just to be safe\n",
    "#accidents_model = accidents[cols].copy()\n",
    "#accidents_model.shape"
   ]
  },
  {
   "cell_type": "code",
   "execution_count": 102,
   "id": "7049f8e8",
   "metadata": {},
   "outputs": [],
   "source": [
    "# Store the categorical data in a dataframe called Did_Police_Officer_Attend_Scene_of_Accident_cat\n",
    "accidents_cat = accidents[categorical]\n",
    "# df_cat = df_cat.drop(['Did_Police_Officer_Attend_Scene_of_Accident'], axis=1) # Dropping the target column"
   ]
  },
  {
   "cell_type": "code",
   "execution_count": 103,
   "id": "fe1b6c81",
   "metadata": {},
   "outputs": [],
   "source": [
    "# Encoding categorical features\n",
    "#dummies = pd.get_dummies(df_model[cat_cols], drop_first=True)\n",
    "#df_model = pd.concat([df_model[num_cols], df_model[target_col], dummies], axis=1)\n",
    "#df_model.shape"
   ]
  },
  {
   "cell_type": "code",
   "execution_count": 104,
   "id": "262e33bf",
   "metadata": {},
   "outputs": [
    {
     "data": {
      "text/html": [
       "<div>\n",
       "<style scoped>\n",
       "    .dataframe tbody tr th:only-of-type {\n",
       "        vertical-align: middle;\n",
       "    }\n",
       "\n",
       "    .dataframe tbody tr th {\n",
       "        vertical-align: top;\n",
       "    }\n",
       "\n",
       "    .dataframe thead th {\n",
       "        text-align: right;\n",
       "    }\n",
       "</style>\n",
       "<table border=\"1\" class=\"dataframe\">\n",
       "  <thead>\n",
       "    <tr style=\"text-align: right;\">\n",
       "      <th></th>\n",
       "      <th>Speed_limit</th>\n",
       "      <th>Urban_or_Rural_Area</th>\n",
       "      <th>Daytime_1</th>\n",
       "      <th>Daytime_2</th>\n",
       "      <th>Daytime_3</th>\n",
       "      <th>Daytime_4</th>\n",
       "      <th>Daytime_5</th>\n",
       "      <th>Local_Authority_(Highway)_E06000001</th>\n",
       "      <th>Local_Authority_(Highway)_E06000002</th>\n",
       "      <th>Local_Authority_(Highway)_E06000003</th>\n",
       "      <th>Local_Authority_(Highway)_E06000004</th>\n",
       "      <th>Local_Authority_(Highway)_E06000005</th>\n",
       "      <th>Local_Authority_(Highway)_E06000006</th>\n",
       "      <th>Local_Authority_(Highway)_E06000007</th>\n",
       "      <th>Local_Authority_(Highway)_E06000008</th>\n",
       "      <th>Local_Authority_(Highway)_E06000009</th>\n",
       "      <th>Local_Authority_(Highway)_E06000010</th>\n",
       "      <th>Local_Authority_(Highway)_E06000011</th>\n",
       "      <th>Local_Authority_(Highway)_E06000012</th>\n",
       "      <th>Local_Authority_(Highway)_E06000013</th>\n",
       "      <th>Local_Authority_(Highway)_E06000014</th>\n",
       "      <th>Local_Authority_(Highway)_E06000015</th>\n",
       "      <th>Local_Authority_(Highway)_E06000016</th>\n",
       "      <th>Local_Authority_(Highway)_E06000017</th>\n",
       "      <th>Local_Authority_(Highway)_E06000018</th>\n",
       "      <th>Local_Authority_(Highway)_E06000019</th>\n",
       "      <th>Local_Authority_(Highway)_E06000020</th>\n",
       "      <th>Local_Authority_(Highway)_E06000021</th>\n",
       "      <th>Local_Authority_(Highway)_E06000022</th>\n",
       "      <th>Local_Authority_(Highway)_E06000023</th>\n",
       "      <th>Local_Authority_(Highway)_E06000024</th>\n",
       "      <th>Local_Authority_(Highway)_E06000025</th>\n",
       "      <th>Local_Authority_(Highway)_E06000026</th>\n",
       "      <th>Local_Authority_(Highway)_E06000027</th>\n",
       "      <th>Local_Authority_(Highway)_E06000028</th>\n",
       "      <th>Local_Authority_(Highway)_E06000029</th>\n",
       "      <th>Local_Authority_(Highway)_E06000030</th>\n",
       "      <th>Local_Authority_(Highway)_E06000031</th>\n",
       "      <th>Local_Authority_(Highway)_E06000032</th>\n",
       "      <th>Local_Authority_(Highway)_E06000033</th>\n",
       "      <th>Local_Authority_(Highway)_E06000034</th>\n",
       "      <th>Local_Authority_(Highway)_E06000035</th>\n",
       "      <th>Local_Authority_(Highway)_E06000036</th>\n",
       "      <th>Local_Authority_(Highway)_E06000037</th>\n",
       "      <th>Local_Authority_(Highway)_E06000038</th>\n",
       "      <th>Local_Authority_(Highway)_E06000039</th>\n",
       "      <th>Local_Authority_(Highway)_E06000040</th>\n",
       "      <th>Local_Authority_(Highway)_E06000041</th>\n",
       "      <th>Local_Authority_(Highway)_E06000042</th>\n",
       "      <th>Local_Authority_(Highway)_E06000043</th>\n",
       "      <th>Local_Authority_(Highway)_E06000044</th>\n",
       "      <th>Local_Authority_(Highway)_E06000045</th>\n",
       "      <th>Local_Authority_(Highway)_E06000046</th>\n",
       "      <th>Local_Authority_(Highway)_E06000047</th>\n",
       "      <th>Local_Authority_(Highway)_E06000048</th>\n",
       "      <th>Local_Authority_(Highway)_E06000049</th>\n",
       "      <th>Local_Authority_(Highway)_E06000050</th>\n",
       "      <th>Local_Authority_(Highway)_E06000051</th>\n",
       "      <th>Local_Authority_(Highway)_E06000052</th>\n",
       "      <th>Local_Authority_(Highway)_E06000053</th>\n",
       "      <th>Local_Authority_(Highway)_E06000054</th>\n",
       "      <th>Local_Authority_(Highway)_E06000055</th>\n",
       "      <th>Local_Authority_(Highway)_E06000056</th>\n",
       "      <th>Local_Authority_(Highway)_E08000001</th>\n",
       "      <th>Local_Authority_(Highway)_E08000002</th>\n",
       "      <th>Local_Authority_(Highway)_E08000003</th>\n",
       "      <th>Local_Authority_(Highway)_E08000004</th>\n",
       "      <th>Local_Authority_(Highway)_E08000005</th>\n",
       "      <th>Local_Authority_(Highway)_E08000006</th>\n",
       "      <th>Local_Authority_(Highway)_E08000007</th>\n",
       "      <th>Local_Authority_(Highway)_E08000008</th>\n",
       "      <th>Local_Authority_(Highway)_E08000009</th>\n",
       "      <th>Local_Authority_(Highway)_E08000010</th>\n",
       "      <th>Local_Authority_(Highway)_E08000011</th>\n",
       "      <th>Local_Authority_(Highway)_E08000012</th>\n",
       "      <th>Local_Authority_(Highway)_E08000013</th>\n",
       "      <th>Local_Authority_(Highway)_E08000014</th>\n",
       "      <th>Local_Authority_(Highway)_E08000015</th>\n",
       "      <th>Local_Authority_(Highway)_E08000016</th>\n",
       "      <th>Local_Authority_(Highway)_E08000017</th>\n",
       "      <th>Local_Authority_(Highway)_E08000018</th>\n",
       "      <th>Local_Authority_(Highway)_E08000019</th>\n",
       "      <th>Local_Authority_(Highway)_E08000020</th>\n",
       "      <th>Local_Authority_(Highway)_E08000021</th>\n",
       "      <th>Local_Authority_(Highway)_E08000022</th>\n",
       "      <th>Local_Authority_(Highway)_E08000023</th>\n",
       "      <th>Local_Authority_(Highway)_E08000024</th>\n",
       "      <th>Local_Authority_(Highway)_E08000025</th>\n",
       "      <th>Local_Authority_(Highway)_E08000026</th>\n",
       "      <th>Local_Authority_(Highway)_E08000027</th>\n",
       "      <th>Local_Authority_(Highway)_E08000028</th>\n",
       "      <th>Local_Authority_(Highway)_E08000029</th>\n",
       "      <th>Local_Authority_(Highway)_E08000030</th>\n",
       "      <th>Local_Authority_(Highway)_E08000031</th>\n",
       "      <th>Local_Authority_(Highway)_E08000032</th>\n",
       "      <th>Local_Authority_(Highway)_E08000033</th>\n",
       "      <th>Local_Authority_(Highway)_E08000034</th>\n",
       "      <th>Local_Authority_(Highway)_E08000035</th>\n",
       "      <th>Local_Authority_(Highway)_E08000036</th>\n",
       "      <th>Local_Authority_(Highway)_E09000001</th>\n",
       "      <th>Local_Authority_(Highway)_E09000002</th>\n",
       "      <th>Local_Authority_(Highway)_E09000003</th>\n",
       "      <th>Local_Authority_(Highway)_E09000004</th>\n",
       "      <th>Local_Authority_(Highway)_E09000005</th>\n",
       "      <th>Local_Authority_(Highway)_E09000006</th>\n",
       "      <th>Local_Authority_(Highway)_E09000007</th>\n",
       "      <th>Local_Authority_(Highway)_E09000008</th>\n",
       "      <th>Local_Authority_(Highway)_E09000009</th>\n",
       "      <th>Local_Authority_(Highway)_E09000010</th>\n",
       "      <th>Local_Authority_(Highway)_E09000011</th>\n",
       "      <th>Local_Authority_(Highway)_E09000012</th>\n",
       "      <th>Local_Authority_(Highway)_E09000013</th>\n",
       "      <th>Local_Authority_(Highway)_E09000014</th>\n",
       "      <th>Local_Authority_(Highway)_E09000015</th>\n",
       "      <th>Local_Authority_(Highway)_E09000016</th>\n",
       "      <th>Local_Authority_(Highway)_E09000017</th>\n",
       "      <th>Local_Authority_(Highway)_E09000018</th>\n",
       "      <th>Local_Authority_(Highway)_E09000019</th>\n",
       "      <th>Local_Authority_(Highway)_E09000020</th>\n",
       "      <th>Local_Authority_(Highway)_E09000021</th>\n",
       "      <th>Local_Authority_(Highway)_E09000022</th>\n",
       "      <th>Local_Authority_(Highway)_E09000023</th>\n",
       "      <th>Local_Authority_(Highway)_E09000024</th>\n",
       "      <th>Local_Authority_(Highway)_E09000025</th>\n",
       "      <th>Local_Authority_(Highway)_E09000026</th>\n",
       "      <th>Local_Authority_(Highway)_E09000027</th>\n",
       "      <th>Local_Authority_(Highway)_E09000028</th>\n",
       "      <th>Local_Authority_(Highway)_E09000029</th>\n",
       "      <th>Local_Authority_(Highway)_E09000030</th>\n",
       "      <th>Local_Authority_(Highway)_E09000031</th>\n",
       "      <th>Local_Authority_(Highway)_E09000032</th>\n",
       "      <th>Local_Authority_(Highway)_E09000033</th>\n",
       "      <th>Local_Authority_(Highway)_E10000002</th>\n",
       "      <th>Local_Authority_(Highway)_E10000003</th>\n",
       "      <th>Local_Authority_(Highway)_E10000006</th>\n",
       "      <th>Local_Authority_(Highway)_E10000007</th>\n",
       "      <th>Local_Authority_(Highway)_E10000008</th>\n",
       "      <th>Local_Authority_(Highway)_E10000009</th>\n",
       "      <th>Local_Authority_(Highway)_E10000011</th>\n",
       "      <th>Local_Authority_(Highway)_E10000012</th>\n",
       "      <th>Local_Authority_(Highway)_E10000013</th>\n",
       "      <th>Local_Authority_(Highway)_E10000014</th>\n",
       "      <th>Local_Authority_(Highway)_E10000015</th>\n",
       "      <th>Local_Authority_(Highway)_E10000016</th>\n",
       "      <th>Local_Authority_(Highway)_E10000017</th>\n",
       "      <th>Local_Authority_(Highway)_E10000018</th>\n",
       "      <th>Local_Authority_(Highway)_E10000019</th>\n",
       "      <th>Local_Authority_(Highway)_E10000020</th>\n",
       "      <th>Local_Authority_(Highway)_E10000021</th>\n",
       "      <th>Local_Authority_(Highway)_E10000023</th>\n",
       "      <th>Local_Authority_(Highway)_E10000024</th>\n",
       "      <th>Local_Authority_(Highway)_E10000025</th>\n",
       "      <th>Local_Authority_(Highway)_E10000027</th>\n",
       "      <th>Local_Authority_(Highway)_E10000028</th>\n",
       "      <th>Local_Authority_(Highway)_E10000029</th>\n",
       "      <th>Local_Authority_(Highway)_E10000030</th>\n",
       "      <th>Local_Authority_(Highway)_E10000031</th>\n",
       "      <th>Local_Authority_(Highway)_E10000032</th>\n",
       "      <th>Local_Authority_(Highway)_E10000034</th>\n",
       "      <th>Local_Authority_(Highway)_EHEATHROW</th>\n",
       "      <th>Local_Authority_(Highway)_W06000001</th>\n",
       "      <th>Local_Authority_(Highway)_W06000002</th>\n",
       "      <th>Local_Authority_(Highway)_W06000003</th>\n",
       "      <th>Local_Authority_(Highway)_W06000004</th>\n",
       "      <th>Local_Authority_(Highway)_W06000005</th>\n",
       "      <th>Local_Authority_(Highway)_W06000006</th>\n",
       "      <th>Local_Authority_(Highway)_W06000008</th>\n",
       "      <th>Local_Authority_(Highway)_W06000009</th>\n",
       "      <th>Local_Authority_(Highway)_W06000010</th>\n",
       "      <th>Local_Authority_(Highway)_W06000011</th>\n",
       "      <th>Local_Authority_(Highway)_W06000012</th>\n",
       "      <th>Local_Authority_(Highway)_W06000013</th>\n",
       "      <th>Local_Authority_(Highway)_W06000014</th>\n",
       "      <th>Local_Authority_(Highway)_W06000015</th>\n",
       "      <th>Local_Authority_(Highway)_W06000016</th>\n",
       "      <th>Local_Authority_(Highway)_W06000018</th>\n",
       "      <th>Local_Authority_(Highway)_W06000019</th>\n",
       "      <th>Local_Authority_(Highway)_W06000020</th>\n",
       "      <th>Local_Authority_(Highway)_W06000021</th>\n",
       "      <th>Local_Authority_(Highway)_W06000022</th>\n",
       "      <th>Local_Authority_(Highway)_W06000023</th>\n",
       "      <th>Local_Authority_(Highway)_W06000024</th>\n",
       "    </tr>\n",
       "  </thead>\n",
       "  <tbody>\n",
       "    <tr>\n",
       "      <th>0</th>\n",
       "      <td>30</td>\n",
       "      <td>1</td>\n",
       "      <td>0</td>\n",
       "      <td>0</td>\n",
       "      <td>1</td>\n",
       "      <td>0</td>\n",
       "      <td>0</td>\n",
       "      <td>0</td>\n",
       "      <td>0</td>\n",
       "      <td>0</td>\n",
       "      <td>0</td>\n",
       "      <td>0</td>\n",
       "      <td>0</td>\n",
       "      <td>0</td>\n",
       "      <td>0</td>\n",
       "      <td>0</td>\n",
       "      <td>0</td>\n",
       "      <td>0</td>\n",
       "      <td>0</td>\n",
       "      <td>0</td>\n",
       "      <td>0</td>\n",
       "      <td>0</td>\n",
       "      <td>0</td>\n",
       "      <td>0</td>\n",
       "      <td>0</td>\n",
       "      <td>0</td>\n",
       "      <td>0</td>\n",
       "      <td>0</td>\n",
       "      <td>0</td>\n",
       "      <td>0</td>\n",
       "      <td>0</td>\n",
       "      <td>0</td>\n",
       "      <td>0</td>\n",
       "      <td>0</td>\n",
       "      <td>0</td>\n",
       "      <td>0</td>\n",
       "      <td>0</td>\n",
       "      <td>0</td>\n",
       "      <td>0</td>\n",
       "      <td>0</td>\n",
       "      <td>0</td>\n",
       "      <td>0</td>\n",
       "      <td>0</td>\n",
       "      <td>0</td>\n",
       "      <td>0</td>\n",
       "      <td>0</td>\n",
       "      <td>0</td>\n",
       "      <td>0</td>\n",
       "      <td>0</td>\n",
       "      <td>0</td>\n",
       "      <td>0</td>\n",
       "      <td>0</td>\n",
       "      <td>0</td>\n",
       "      <td>0</td>\n",
       "      <td>0</td>\n",
       "      <td>0</td>\n",
       "      <td>0</td>\n",
       "      <td>0</td>\n",
       "      <td>0</td>\n",
       "      <td>0</td>\n",
       "      <td>0</td>\n",
       "      <td>0</td>\n",
       "      <td>0</td>\n",
       "      <td>0</td>\n",
       "      <td>0</td>\n",
       "      <td>0</td>\n",
       "      <td>0</td>\n",
       "      <td>0</td>\n",
       "      <td>0</td>\n",
       "      <td>0</td>\n",
       "      <td>0</td>\n",
       "      <td>0</td>\n",
       "      <td>0</td>\n",
       "      <td>0</td>\n",
       "      <td>0</td>\n",
       "      <td>0</td>\n",
       "      <td>0</td>\n",
       "      <td>0</td>\n",
       "      <td>0</td>\n",
       "      <td>0</td>\n",
       "      <td>0</td>\n",
       "      <td>0</td>\n",
       "      <td>0</td>\n",
       "      <td>0</td>\n",
       "      <td>0</td>\n",
       "      <td>0</td>\n",
       "      <td>0</td>\n",
       "      <td>0</td>\n",
       "      <td>0</td>\n",
       "      <td>0</td>\n",
       "      <td>0</td>\n",
       "      <td>0</td>\n",
       "      <td>0</td>\n",
       "      <td>0</td>\n",
       "      <td>0</td>\n",
       "      <td>0</td>\n",
       "      <td>0</td>\n",
       "      <td>0</td>\n",
       "      <td>0</td>\n",
       "      <td>0</td>\n",
       "      <td>0</td>\n",
       "      <td>0</td>\n",
       "      <td>0</td>\n",
       "      <td>0</td>\n",
       "      <td>0</td>\n",
       "      <td>0</td>\n",
       "      <td>0</td>\n",
       "      <td>0</td>\n",
       "      <td>0</td>\n",
       "      <td>0</td>\n",
       "      <td>0</td>\n",
       "      <td>0</td>\n",
       "      <td>0</td>\n",
       "      <td>0</td>\n",
       "      <td>0</td>\n",
       "      <td>0</td>\n",
       "      <td>0</td>\n",
       "      <td>0</td>\n",
       "      <td>0</td>\n",
       "      <td>0</td>\n",
       "      <td>0</td>\n",
       "      <td>0</td>\n",
       "      <td>0</td>\n",
       "      <td>0</td>\n",
       "      <td>0</td>\n",
       "      <td>0</td>\n",
       "      <td>0</td>\n",
       "      <td>0</td>\n",
       "      <td>0</td>\n",
       "      <td>0</td>\n",
       "      <td>0</td>\n",
       "      <td>1</td>\n",
       "      <td>0</td>\n",
       "      <td>0</td>\n",
       "      <td>0</td>\n",
       "      <td>0</td>\n",
       "      <td>0</td>\n",
       "      <td>0</td>\n",
       "      <td>0</td>\n",
       "      <td>0</td>\n",
       "      <td>0</td>\n",
       "      <td>0</td>\n",
       "      <td>0</td>\n",
       "      <td>0</td>\n",
       "      <td>0</td>\n",
       "      <td>0</td>\n",
       "      <td>0</td>\n",
       "      <td>0</td>\n",
       "      <td>0</td>\n",
       "      <td>0</td>\n",
       "      <td>0</td>\n",
       "      <td>0</td>\n",
       "      <td>0</td>\n",
       "      <td>0</td>\n",
       "      <td>0</td>\n",
       "      <td>0</td>\n",
       "      <td>0</td>\n",
       "      <td>0</td>\n",
       "      <td>0</td>\n",
       "      <td>0</td>\n",
       "      <td>0</td>\n",
       "      <td>0</td>\n",
       "      <td>0</td>\n",
       "      <td>0</td>\n",
       "      <td>0</td>\n",
       "      <td>0</td>\n",
       "      <td>0</td>\n",
       "      <td>0</td>\n",
       "      <td>0</td>\n",
       "      <td>0</td>\n",
       "      <td>0</td>\n",
       "      <td>0</td>\n",
       "      <td>0</td>\n",
       "      <td>0</td>\n",
       "      <td>0</td>\n",
       "      <td>0</td>\n",
       "      <td>0</td>\n",
       "      <td>0</td>\n",
       "      <td>0</td>\n",
       "      <td>0</td>\n",
       "      <td>0</td>\n",
       "      <td>0</td>\n",
       "    </tr>\n",
       "    <tr>\n",
       "      <th>1</th>\n",
       "      <td>30</td>\n",
       "      <td>1</td>\n",
       "      <td>0</td>\n",
       "      <td>0</td>\n",
       "      <td>0</td>\n",
       "      <td>1</td>\n",
       "      <td>0</td>\n",
       "      <td>0</td>\n",
       "      <td>0</td>\n",
       "      <td>0</td>\n",
       "      <td>0</td>\n",
       "      <td>0</td>\n",
       "      <td>0</td>\n",
       "      <td>0</td>\n",
       "      <td>0</td>\n",
       "      <td>0</td>\n",
       "      <td>0</td>\n",
       "      <td>0</td>\n",
       "      <td>0</td>\n",
       "      <td>0</td>\n",
       "      <td>0</td>\n",
       "      <td>0</td>\n",
       "      <td>0</td>\n",
       "      <td>0</td>\n",
       "      <td>0</td>\n",
       "      <td>0</td>\n",
       "      <td>0</td>\n",
       "      <td>0</td>\n",
       "      <td>0</td>\n",
       "      <td>0</td>\n",
       "      <td>0</td>\n",
       "      <td>0</td>\n",
       "      <td>0</td>\n",
       "      <td>0</td>\n",
       "      <td>0</td>\n",
       "      <td>0</td>\n",
       "      <td>0</td>\n",
       "      <td>0</td>\n",
       "      <td>0</td>\n",
       "      <td>0</td>\n",
       "      <td>0</td>\n",
       "      <td>0</td>\n",
       "      <td>0</td>\n",
       "      <td>0</td>\n",
       "      <td>0</td>\n",
       "      <td>0</td>\n",
       "      <td>0</td>\n",
       "      <td>0</td>\n",
       "      <td>0</td>\n",
       "      <td>0</td>\n",
       "      <td>0</td>\n",
       "      <td>0</td>\n",
       "      <td>0</td>\n",
       "      <td>0</td>\n",
       "      <td>0</td>\n",
       "      <td>0</td>\n",
       "      <td>0</td>\n",
       "      <td>0</td>\n",
       "      <td>0</td>\n",
       "      <td>0</td>\n",
       "      <td>0</td>\n",
       "      <td>0</td>\n",
       "      <td>0</td>\n",
       "      <td>0</td>\n",
       "      <td>0</td>\n",
       "      <td>0</td>\n",
       "      <td>0</td>\n",
       "      <td>0</td>\n",
       "      <td>0</td>\n",
       "      <td>0</td>\n",
       "      <td>0</td>\n",
       "      <td>0</td>\n",
       "      <td>0</td>\n",
       "      <td>0</td>\n",
       "      <td>0</td>\n",
       "      <td>0</td>\n",
       "      <td>0</td>\n",
       "      <td>0</td>\n",
       "      <td>0</td>\n",
       "      <td>0</td>\n",
       "      <td>0</td>\n",
       "      <td>0</td>\n",
       "      <td>0</td>\n",
       "      <td>0</td>\n",
       "      <td>0</td>\n",
       "      <td>0</td>\n",
       "      <td>0</td>\n",
       "      <td>0</td>\n",
       "      <td>0</td>\n",
       "      <td>0</td>\n",
       "      <td>0</td>\n",
       "      <td>0</td>\n",
       "      <td>0</td>\n",
       "      <td>0</td>\n",
       "      <td>0</td>\n",
       "      <td>0</td>\n",
       "      <td>0</td>\n",
       "      <td>0</td>\n",
       "      <td>0</td>\n",
       "      <td>0</td>\n",
       "      <td>0</td>\n",
       "      <td>0</td>\n",
       "      <td>0</td>\n",
       "      <td>0</td>\n",
       "      <td>0</td>\n",
       "      <td>0</td>\n",
       "      <td>0</td>\n",
       "      <td>0</td>\n",
       "      <td>0</td>\n",
       "      <td>0</td>\n",
       "      <td>0</td>\n",
       "      <td>0</td>\n",
       "      <td>0</td>\n",
       "      <td>0</td>\n",
       "      <td>0</td>\n",
       "      <td>0</td>\n",
       "      <td>0</td>\n",
       "      <td>0</td>\n",
       "      <td>0</td>\n",
       "      <td>0</td>\n",
       "      <td>1</td>\n",
       "      <td>0</td>\n",
       "      <td>0</td>\n",
       "      <td>0</td>\n",
       "      <td>0</td>\n",
       "      <td>0</td>\n",
       "      <td>0</td>\n",
       "      <td>0</td>\n",
       "      <td>0</td>\n",
       "      <td>0</td>\n",
       "      <td>0</td>\n",
       "      <td>0</td>\n",
       "      <td>0</td>\n",
       "      <td>0</td>\n",
       "      <td>0</td>\n",
       "      <td>0</td>\n",
       "      <td>0</td>\n",
       "      <td>0</td>\n",
       "      <td>0</td>\n",
       "      <td>0</td>\n",
       "      <td>0</td>\n",
       "      <td>0</td>\n",
       "      <td>0</td>\n",
       "      <td>0</td>\n",
       "      <td>0</td>\n",
       "      <td>0</td>\n",
       "      <td>0</td>\n",
       "      <td>0</td>\n",
       "      <td>0</td>\n",
       "      <td>0</td>\n",
       "      <td>0</td>\n",
       "      <td>0</td>\n",
       "      <td>0</td>\n",
       "      <td>0</td>\n",
       "      <td>0</td>\n",
       "      <td>0</td>\n",
       "      <td>0</td>\n",
       "      <td>0</td>\n",
       "      <td>0</td>\n",
       "      <td>0</td>\n",
       "      <td>0</td>\n",
       "      <td>0</td>\n",
       "      <td>0</td>\n",
       "      <td>0</td>\n",
       "      <td>0</td>\n",
       "      <td>0</td>\n",
       "      <td>0</td>\n",
       "      <td>0</td>\n",
       "      <td>0</td>\n",
       "      <td>0</td>\n",
       "      <td>0</td>\n",
       "      <td>0</td>\n",
       "      <td>0</td>\n",
       "      <td>0</td>\n",
       "      <td>0</td>\n",
       "      <td>0</td>\n",
       "      <td>0</td>\n",
       "      <td>0</td>\n",
       "      <td>0</td>\n",
       "      <td>0</td>\n",
       "      <td>0</td>\n",
       "      <td>0</td>\n",
       "    </tr>\n",
       "    <tr>\n",
       "      <th>2</th>\n",
       "      <td>30</td>\n",
       "      <td>1</td>\n",
       "      <td>0</td>\n",
       "      <td>0</td>\n",
       "      <td>0</td>\n",
       "      <td>0</td>\n",
       "      <td>1</td>\n",
       "      <td>0</td>\n",
       "      <td>0</td>\n",
       "      <td>0</td>\n",
       "      <td>0</td>\n",
       "      <td>0</td>\n",
       "      <td>0</td>\n",
       "      <td>0</td>\n",
       "      <td>0</td>\n",
       "      <td>0</td>\n",
       "      <td>0</td>\n",
       "      <td>0</td>\n",
       "      <td>0</td>\n",
       "      <td>0</td>\n",
       "      <td>0</td>\n",
       "      <td>0</td>\n",
       "      <td>0</td>\n",
       "      <td>0</td>\n",
       "      <td>0</td>\n",
       "      <td>0</td>\n",
       "      <td>0</td>\n",
       "      <td>0</td>\n",
       "      <td>0</td>\n",
       "      <td>0</td>\n",
       "      <td>0</td>\n",
       "      <td>0</td>\n",
       "      <td>0</td>\n",
       "      <td>0</td>\n",
       "      <td>0</td>\n",
       "      <td>0</td>\n",
       "      <td>0</td>\n",
       "      <td>0</td>\n",
       "      <td>0</td>\n",
       "      <td>0</td>\n",
       "      <td>0</td>\n",
       "      <td>0</td>\n",
       "      <td>0</td>\n",
       "      <td>0</td>\n",
       "      <td>0</td>\n",
       "      <td>0</td>\n",
       "      <td>0</td>\n",
       "      <td>0</td>\n",
       "      <td>0</td>\n",
       "      <td>0</td>\n",
       "      <td>0</td>\n",
       "      <td>0</td>\n",
       "      <td>0</td>\n",
       "      <td>0</td>\n",
       "      <td>0</td>\n",
       "      <td>0</td>\n",
       "      <td>0</td>\n",
       "      <td>0</td>\n",
       "      <td>0</td>\n",
       "      <td>0</td>\n",
       "      <td>0</td>\n",
       "      <td>0</td>\n",
       "      <td>0</td>\n",
       "      <td>0</td>\n",
       "      <td>0</td>\n",
       "      <td>0</td>\n",
       "      <td>0</td>\n",
       "      <td>0</td>\n",
       "      <td>0</td>\n",
       "      <td>0</td>\n",
       "      <td>0</td>\n",
       "      <td>0</td>\n",
       "      <td>0</td>\n",
       "      <td>0</td>\n",
       "      <td>0</td>\n",
       "      <td>0</td>\n",
       "      <td>0</td>\n",
       "      <td>0</td>\n",
       "      <td>0</td>\n",
       "      <td>0</td>\n",
       "      <td>0</td>\n",
       "      <td>0</td>\n",
       "      <td>0</td>\n",
       "      <td>0</td>\n",
       "      <td>0</td>\n",
       "      <td>0</td>\n",
       "      <td>0</td>\n",
       "      <td>0</td>\n",
       "      <td>0</td>\n",
       "      <td>0</td>\n",
       "      <td>0</td>\n",
       "      <td>0</td>\n",
       "      <td>0</td>\n",
       "      <td>0</td>\n",
       "      <td>0</td>\n",
       "      <td>0</td>\n",
       "      <td>0</td>\n",
       "      <td>0</td>\n",
       "      <td>0</td>\n",
       "      <td>0</td>\n",
       "      <td>0</td>\n",
       "      <td>0</td>\n",
       "      <td>0</td>\n",
       "      <td>0</td>\n",
       "      <td>0</td>\n",
       "      <td>1</td>\n",
       "      <td>0</td>\n",
       "      <td>0</td>\n",
       "      <td>0</td>\n",
       "      <td>0</td>\n",
       "      <td>0</td>\n",
       "      <td>0</td>\n",
       "      <td>0</td>\n",
       "      <td>0</td>\n",
       "      <td>0</td>\n",
       "      <td>0</td>\n",
       "      <td>0</td>\n",
       "      <td>0</td>\n",
       "      <td>0</td>\n",
       "      <td>0</td>\n",
       "      <td>0</td>\n",
       "      <td>0</td>\n",
       "      <td>0</td>\n",
       "      <td>0</td>\n",
       "      <td>0</td>\n",
       "      <td>0</td>\n",
       "      <td>0</td>\n",
       "      <td>0</td>\n",
       "      <td>0</td>\n",
       "      <td>0</td>\n",
       "      <td>0</td>\n",
       "      <td>0</td>\n",
       "      <td>0</td>\n",
       "      <td>0</td>\n",
       "      <td>0</td>\n",
       "      <td>0</td>\n",
       "      <td>0</td>\n",
       "      <td>0</td>\n",
       "      <td>0</td>\n",
       "      <td>0</td>\n",
       "      <td>0</td>\n",
       "      <td>0</td>\n",
       "      <td>0</td>\n",
       "      <td>0</td>\n",
       "      <td>0</td>\n",
       "      <td>0</td>\n",
       "      <td>0</td>\n",
       "      <td>0</td>\n",
       "      <td>0</td>\n",
       "      <td>0</td>\n",
       "      <td>0</td>\n",
       "      <td>0</td>\n",
       "      <td>0</td>\n",
       "      <td>0</td>\n",
       "      <td>0</td>\n",
       "      <td>0</td>\n",
       "      <td>0</td>\n",
       "      <td>0</td>\n",
       "      <td>0</td>\n",
       "      <td>0</td>\n",
       "      <td>0</td>\n",
       "      <td>0</td>\n",
       "      <td>0</td>\n",
       "      <td>0</td>\n",
       "      <td>0</td>\n",
       "      <td>0</td>\n",
       "      <td>0</td>\n",
       "      <td>0</td>\n",
       "      <td>0</td>\n",
       "      <td>0</td>\n",
       "      <td>0</td>\n",
       "      <td>0</td>\n",
       "      <td>0</td>\n",
       "      <td>0</td>\n",
       "      <td>0</td>\n",
       "      <td>0</td>\n",
       "      <td>0</td>\n",
       "      <td>0</td>\n",
       "      <td>0</td>\n",
       "      <td>0</td>\n",
       "      <td>0</td>\n",
       "      <td>0</td>\n",
       "    </tr>\n",
       "    <tr>\n",
       "      <th>3</th>\n",
       "      <td>20</td>\n",
       "      <td>1</td>\n",
       "      <td>0</td>\n",
       "      <td>0</td>\n",
       "      <td>0</td>\n",
       "      <td>0</td>\n",
       "      <td>1</td>\n",
       "      <td>0</td>\n",
       "      <td>0</td>\n",
       "      <td>0</td>\n",
       "      <td>0</td>\n",
       "      <td>0</td>\n",
       "      <td>0</td>\n",
       "      <td>0</td>\n",
       "      <td>0</td>\n",
       "      <td>0</td>\n",
       "      <td>0</td>\n",
       "      <td>0</td>\n",
       "      <td>0</td>\n",
       "      <td>0</td>\n",
       "      <td>0</td>\n",
       "      <td>0</td>\n",
       "      <td>0</td>\n",
       "      <td>0</td>\n",
       "      <td>0</td>\n",
       "      <td>0</td>\n",
       "      <td>0</td>\n",
       "      <td>0</td>\n",
       "      <td>0</td>\n",
       "      <td>0</td>\n",
       "      <td>0</td>\n",
       "      <td>0</td>\n",
       "      <td>0</td>\n",
       "      <td>0</td>\n",
       "      <td>0</td>\n",
       "      <td>0</td>\n",
       "      <td>0</td>\n",
       "      <td>0</td>\n",
       "      <td>0</td>\n",
       "      <td>0</td>\n",
       "      <td>0</td>\n",
       "      <td>0</td>\n",
       "      <td>0</td>\n",
       "      <td>0</td>\n",
       "      <td>0</td>\n",
       "      <td>0</td>\n",
       "      <td>0</td>\n",
       "      <td>0</td>\n",
       "      <td>0</td>\n",
       "      <td>0</td>\n",
       "      <td>0</td>\n",
       "      <td>0</td>\n",
       "      <td>0</td>\n",
       "      <td>0</td>\n",
       "      <td>0</td>\n",
       "      <td>0</td>\n",
       "      <td>0</td>\n",
       "      <td>0</td>\n",
       "      <td>0</td>\n",
       "      <td>0</td>\n",
       "      <td>0</td>\n",
       "      <td>0</td>\n",
       "      <td>0</td>\n",
       "      <td>0</td>\n",
       "      <td>0</td>\n",
       "      <td>0</td>\n",
       "      <td>0</td>\n",
       "      <td>0</td>\n",
       "      <td>0</td>\n",
       "      <td>0</td>\n",
       "      <td>0</td>\n",
       "      <td>0</td>\n",
       "      <td>0</td>\n",
       "      <td>0</td>\n",
       "      <td>0</td>\n",
       "      <td>0</td>\n",
       "      <td>0</td>\n",
       "      <td>0</td>\n",
       "      <td>0</td>\n",
       "      <td>0</td>\n",
       "      <td>0</td>\n",
       "      <td>0</td>\n",
       "      <td>0</td>\n",
       "      <td>0</td>\n",
       "      <td>0</td>\n",
       "      <td>0</td>\n",
       "      <td>0</td>\n",
       "      <td>0</td>\n",
       "      <td>0</td>\n",
       "      <td>0</td>\n",
       "      <td>0</td>\n",
       "      <td>0</td>\n",
       "      <td>0</td>\n",
       "      <td>0</td>\n",
       "      <td>0</td>\n",
       "      <td>0</td>\n",
       "      <td>0</td>\n",
       "      <td>0</td>\n",
       "      <td>0</td>\n",
       "      <td>0</td>\n",
       "      <td>0</td>\n",
       "      <td>0</td>\n",
       "      <td>0</td>\n",
       "      <td>0</td>\n",
       "      <td>0</td>\n",
       "      <td>1</td>\n",
       "      <td>0</td>\n",
       "      <td>0</td>\n",
       "      <td>0</td>\n",
       "      <td>0</td>\n",
       "      <td>0</td>\n",
       "      <td>0</td>\n",
       "      <td>0</td>\n",
       "      <td>0</td>\n",
       "      <td>0</td>\n",
       "      <td>0</td>\n",
       "      <td>0</td>\n",
       "      <td>0</td>\n",
       "      <td>0</td>\n",
       "      <td>0</td>\n",
       "      <td>0</td>\n",
       "      <td>0</td>\n",
       "      <td>0</td>\n",
       "      <td>0</td>\n",
       "      <td>0</td>\n",
       "      <td>0</td>\n",
       "      <td>0</td>\n",
       "      <td>0</td>\n",
       "      <td>0</td>\n",
       "      <td>0</td>\n",
       "      <td>0</td>\n",
       "      <td>0</td>\n",
       "      <td>0</td>\n",
       "      <td>0</td>\n",
       "      <td>0</td>\n",
       "      <td>0</td>\n",
       "      <td>0</td>\n",
       "      <td>0</td>\n",
       "      <td>0</td>\n",
       "      <td>0</td>\n",
       "      <td>0</td>\n",
       "      <td>0</td>\n",
       "      <td>0</td>\n",
       "      <td>0</td>\n",
       "      <td>0</td>\n",
       "      <td>0</td>\n",
       "      <td>0</td>\n",
       "      <td>0</td>\n",
       "      <td>0</td>\n",
       "      <td>0</td>\n",
       "      <td>0</td>\n",
       "      <td>0</td>\n",
       "      <td>0</td>\n",
       "      <td>0</td>\n",
       "      <td>0</td>\n",
       "      <td>0</td>\n",
       "      <td>0</td>\n",
       "      <td>0</td>\n",
       "      <td>0</td>\n",
       "      <td>0</td>\n",
       "      <td>0</td>\n",
       "      <td>0</td>\n",
       "      <td>0</td>\n",
       "      <td>0</td>\n",
       "      <td>0</td>\n",
       "      <td>0</td>\n",
       "      <td>0</td>\n",
       "      <td>0</td>\n",
       "      <td>0</td>\n",
       "      <td>0</td>\n",
       "      <td>0</td>\n",
       "      <td>0</td>\n",
       "      <td>0</td>\n",
       "      <td>0</td>\n",
       "      <td>0</td>\n",
       "      <td>0</td>\n",
       "      <td>0</td>\n",
       "      <td>0</td>\n",
       "      <td>0</td>\n",
       "      <td>0</td>\n",
       "      <td>0</td>\n",
       "      <td>0</td>\n",
       "    </tr>\n",
       "    <tr>\n",
       "      <th>4</th>\n",
       "      <td>30</td>\n",
       "      <td>1</td>\n",
       "      <td>0</td>\n",
       "      <td>0</td>\n",
       "      <td>0</td>\n",
       "      <td>0</td>\n",
       "      <td>1</td>\n",
       "      <td>0</td>\n",
       "      <td>0</td>\n",
       "      <td>0</td>\n",
       "      <td>0</td>\n",
       "      <td>0</td>\n",
       "      <td>0</td>\n",
       "      <td>0</td>\n",
       "      <td>0</td>\n",
       "      <td>0</td>\n",
       "      <td>0</td>\n",
       "      <td>0</td>\n",
       "      <td>0</td>\n",
       "      <td>0</td>\n",
       "      <td>0</td>\n",
       "      <td>0</td>\n",
       "      <td>0</td>\n",
       "      <td>0</td>\n",
       "      <td>0</td>\n",
       "      <td>0</td>\n",
       "      <td>0</td>\n",
       "      <td>0</td>\n",
       "      <td>0</td>\n",
       "      <td>0</td>\n",
       "      <td>0</td>\n",
       "      <td>0</td>\n",
       "      <td>0</td>\n",
       "      <td>0</td>\n",
       "      <td>0</td>\n",
       "      <td>0</td>\n",
       "      <td>0</td>\n",
       "      <td>0</td>\n",
       "      <td>0</td>\n",
       "      <td>0</td>\n",
       "      <td>0</td>\n",
       "      <td>0</td>\n",
       "      <td>0</td>\n",
       "      <td>0</td>\n",
       "      <td>0</td>\n",
       "      <td>0</td>\n",
       "      <td>0</td>\n",
       "      <td>0</td>\n",
       "      <td>0</td>\n",
       "      <td>0</td>\n",
       "      <td>0</td>\n",
       "      <td>0</td>\n",
       "      <td>0</td>\n",
       "      <td>0</td>\n",
       "      <td>0</td>\n",
       "      <td>0</td>\n",
       "      <td>0</td>\n",
       "      <td>0</td>\n",
       "      <td>0</td>\n",
       "      <td>0</td>\n",
       "      <td>0</td>\n",
       "      <td>0</td>\n",
       "      <td>0</td>\n",
       "      <td>0</td>\n",
       "      <td>0</td>\n",
       "      <td>0</td>\n",
       "      <td>0</td>\n",
       "      <td>0</td>\n",
       "      <td>0</td>\n",
       "      <td>0</td>\n",
       "      <td>0</td>\n",
       "      <td>0</td>\n",
       "      <td>0</td>\n",
       "      <td>0</td>\n",
       "      <td>0</td>\n",
       "      <td>0</td>\n",
       "      <td>0</td>\n",
       "      <td>0</td>\n",
       "      <td>0</td>\n",
       "      <td>0</td>\n",
       "      <td>0</td>\n",
       "      <td>0</td>\n",
       "      <td>0</td>\n",
       "      <td>0</td>\n",
       "      <td>0</td>\n",
       "      <td>0</td>\n",
       "      <td>0</td>\n",
       "      <td>0</td>\n",
       "      <td>0</td>\n",
       "      <td>0</td>\n",
       "      <td>0</td>\n",
       "      <td>0</td>\n",
       "      <td>0</td>\n",
       "      <td>0</td>\n",
       "      <td>0</td>\n",
       "      <td>0</td>\n",
       "      <td>0</td>\n",
       "      <td>0</td>\n",
       "      <td>0</td>\n",
       "      <td>0</td>\n",
       "      <td>0</td>\n",
       "      <td>0</td>\n",
       "      <td>0</td>\n",
       "      <td>1</td>\n",
       "      <td>0</td>\n",
       "      <td>0</td>\n",
       "      <td>0</td>\n",
       "      <td>0</td>\n",
       "      <td>0</td>\n",
       "      <td>0</td>\n",
       "      <td>0</td>\n",
       "      <td>0</td>\n",
       "      <td>0</td>\n",
       "      <td>0</td>\n",
       "      <td>0</td>\n",
       "      <td>0</td>\n",
       "      <td>0</td>\n",
       "      <td>0</td>\n",
       "      <td>0</td>\n",
       "      <td>0</td>\n",
       "      <td>0</td>\n",
       "      <td>0</td>\n",
       "      <td>0</td>\n",
       "      <td>0</td>\n",
       "      <td>0</td>\n",
       "      <td>0</td>\n",
       "      <td>0</td>\n",
       "      <td>0</td>\n",
       "      <td>0</td>\n",
       "      <td>0</td>\n",
       "      <td>0</td>\n",
       "      <td>0</td>\n",
       "      <td>0</td>\n",
       "      <td>0</td>\n",
       "      <td>0</td>\n",
       "      <td>0</td>\n",
       "      <td>0</td>\n",
       "      <td>0</td>\n",
       "      <td>0</td>\n",
       "      <td>0</td>\n",
       "      <td>0</td>\n",
       "      <td>0</td>\n",
       "      <td>0</td>\n",
       "      <td>0</td>\n",
       "      <td>0</td>\n",
       "      <td>0</td>\n",
       "      <td>0</td>\n",
       "      <td>0</td>\n",
       "      <td>0</td>\n",
       "      <td>0</td>\n",
       "      <td>0</td>\n",
       "      <td>0</td>\n",
       "      <td>0</td>\n",
       "      <td>0</td>\n",
       "      <td>0</td>\n",
       "      <td>0</td>\n",
       "      <td>0</td>\n",
       "      <td>0</td>\n",
       "      <td>0</td>\n",
       "      <td>0</td>\n",
       "      <td>0</td>\n",
       "      <td>0</td>\n",
       "      <td>0</td>\n",
       "      <td>0</td>\n",
       "      <td>0</td>\n",
       "      <td>0</td>\n",
       "      <td>0</td>\n",
       "      <td>0</td>\n",
       "      <td>0</td>\n",
       "      <td>0</td>\n",
       "      <td>0</td>\n",
       "      <td>0</td>\n",
       "      <td>0</td>\n",
       "      <td>0</td>\n",
       "      <td>0</td>\n",
       "      <td>0</td>\n",
       "      <td>0</td>\n",
       "      <td>0</td>\n",
       "      <td>0</td>\n",
       "      <td>0</td>\n",
       "      <td>0</td>\n",
       "      <td>0</td>\n",
       "    </tr>\n",
       "  </tbody>\n",
       "</table>\n",
       "</div>"
      ],
      "text/plain": [
       "   Speed_limit  Urban_or_Rural_Area  Daytime_1  Daytime_2  Daytime_3  \\\n",
       "0           30                    1          0          0          1   \n",
       "1           30                    1          0          0          0   \n",
       "2           30                    1          0          0          0   \n",
       "3           20                    1          0          0          0   \n",
       "4           30                    1          0          0          0   \n",
       "\n",
       "   Daytime_4  Daytime_5  Local_Authority_(Highway)_E06000001  \\\n",
       "0          0          0                                    0   \n",
       "1          1          0                                    0   \n",
       "2          0          1                                    0   \n",
       "3          0          1                                    0   \n",
       "4          0          1                                    0   \n",
       "\n",
       "   Local_Authority_(Highway)_E06000002  Local_Authority_(Highway)_E06000003  \\\n",
       "0                                    0                                    0   \n",
       "1                                    0                                    0   \n",
       "2                                    0                                    0   \n",
       "3                                    0                                    0   \n",
       "4                                    0                                    0   \n",
       "\n",
       "   Local_Authority_(Highway)_E06000004  Local_Authority_(Highway)_E06000005  \\\n",
       "0                                    0                                    0   \n",
       "1                                    0                                    0   \n",
       "2                                    0                                    0   \n",
       "3                                    0                                    0   \n",
       "4                                    0                                    0   \n",
       "\n",
       "   Local_Authority_(Highway)_E06000006  Local_Authority_(Highway)_E06000007  \\\n",
       "0                                    0                                    0   \n",
       "1                                    0                                    0   \n",
       "2                                    0                                    0   \n",
       "3                                    0                                    0   \n",
       "4                                    0                                    0   \n",
       "\n",
       "   Local_Authority_(Highway)_E06000008  Local_Authority_(Highway)_E06000009  \\\n",
       "0                                    0                                    0   \n",
       "1                                    0                                    0   \n",
       "2                                    0                                    0   \n",
       "3                                    0                                    0   \n",
       "4                                    0                                    0   \n",
       "\n",
       "   Local_Authority_(Highway)_E06000010  Local_Authority_(Highway)_E06000011  \\\n",
       "0                                    0                                    0   \n",
       "1                                    0                                    0   \n",
       "2                                    0                                    0   \n",
       "3                                    0                                    0   \n",
       "4                                    0                                    0   \n",
       "\n",
       "   Local_Authority_(Highway)_E06000012  Local_Authority_(Highway)_E06000013  \\\n",
       "0                                    0                                    0   \n",
       "1                                    0                                    0   \n",
       "2                                    0                                    0   \n",
       "3                                    0                                    0   \n",
       "4                                    0                                    0   \n",
       "\n",
       "   Local_Authority_(Highway)_E06000014  Local_Authority_(Highway)_E06000015  \\\n",
       "0                                    0                                    0   \n",
       "1                                    0                                    0   \n",
       "2                                    0                                    0   \n",
       "3                                    0                                    0   \n",
       "4                                    0                                    0   \n",
       "\n",
       "   Local_Authority_(Highway)_E06000016  Local_Authority_(Highway)_E06000017  \\\n",
       "0                                    0                                    0   \n",
       "1                                    0                                    0   \n",
       "2                                    0                                    0   \n",
       "3                                    0                                    0   \n",
       "4                                    0                                    0   \n",
       "\n",
       "   Local_Authority_(Highway)_E06000018  Local_Authority_(Highway)_E06000019  \\\n",
       "0                                    0                                    0   \n",
       "1                                    0                                    0   \n",
       "2                                    0                                    0   \n",
       "3                                    0                                    0   \n",
       "4                                    0                                    0   \n",
       "\n",
       "   Local_Authority_(Highway)_E06000020  Local_Authority_(Highway)_E06000021  \\\n",
       "0                                    0                                    0   \n",
       "1                                    0                                    0   \n",
       "2                                    0                                    0   \n",
       "3                                    0                                    0   \n",
       "4                                    0                                    0   \n",
       "\n",
       "   Local_Authority_(Highway)_E06000022  Local_Authority_(Highway)_E06000023  \\\n",
       "0                                    0                                    0   \n",
       "1                                    0                                    0   \n",
       "2                                    0                                    0   \n",
       "3                                    0                                    0   \n",
       "4                                    0                                    0   \n",
       "\n",
       "   Local_Authority_(Highway)_E06000024  Local_Authority_(Highway)_E06000025  \\\n",
       "0                                    0                                    0   \n",
       "1                                    0                                    0   \n",
       "2                                    0                                    0   \n",
       "3                                    0                                    0   \n",
       "4                                    0                                    0   \n",
       "\n",
       "   Local_Authority_(Highway)_E06000026  Local_Authority_(Highway)_E06000027  \\\n",
       "0                                    0                                    0   \n",
       "1                                    0                                    0   \n",
       "2                                    0                                    0   \n",
       "3                                    0                                    0   \n",
       "4                                    0                                    0   \n",
       "\n",
       "   Local_Authority_(Highway)_E06000028  Local_Authority_(Highway)_E06000029  \\\n",
       "0                                    0                                    0   \n",
       "1                                    0                                    0   \n",
       "2                                    0                                    0   \n",
       "3                                    0                                    0   \n",
       "4                                    0                                    0   \n",
       "\n",
       "   Local_Authority_(Highway)_E06000030  Local_Authority_(Highway)_E06000031  \\\n",
       "0                                    0                                    0   \n",
       "1                                    0                                    0   \n",
       "2                                    0                                    0   \n",
       "3                                    0                                    0   \n",
       "4                                    0                                    0   \n",
       "\n",
       "   Local_Authority_(Highway)_E06000032  Local_Authority_(Highway)_E06000033  \\\n",
       "0                                    0                                    0   \n",
       "1                                    0                                    0   \n",
       "2                                    0                                    0   \n",
       "3                                    0                                    0   \n",
       "4                                    0                                    0   \n",
       "\n",
       "   Local_Authority_(Highway)_E06000034  Local_Authority_(Highway)_E06000035  \\\n",
       "0                                    0                                    0   \n",
       "1                                    0                                    0   \n",
       "2                                    0                                    0   \n",
       "3                                    0                                    0   \n",
       "4                                    0                                    0   \n",
       "\n",
       "   Local_Authority_(Highway)_E06000036  Local_Authority_(Highway)_E06000037  \\\n",
       "0                                    0                                    0   \n",
       "1                                    0                                    0   \n",
       "2                                    0                                    0   \n",
       "3                                    0                                    0   \n",
       "4                                    0                                    0   \n",
       "\n",
       "   Local_Authority_(Highway)_E06000038  Local_Authority_(Highway)_E06000039  \\\n",
       "0                                    0                                    0   \n",
       "1                                    0                                    0   \n",
       "2                                    0                                    0   \n",
       "3                                    0                                    0   \n",
       "4                                    0                                    0   \n",
       "\n",
       "   Local_Authority_(Highway)_E06000040  Local_Authority_(Highway)_E06000041  \\\n",
       "0                                    0                                    0   \n",
       "1                                    0                                    0   \n",
       "2                                    0                                    0   \n",
       "3                                    0                                    0   \n",
       "4                                    0                                    0   \n",
       "\n",
       "   Local_Authority_(Highway)_E06000042  Local_Authority_(Highway)_E06000043  \\\n",
       "0                                    0                                    0   \n",
       "1                                    0                                    0   \n",
       "2                                    0                                    0   \n",
       "3                                    0                                    0   \n",
       "4                                    0                                    0   \n",
       "\n",
       "   Local_Authority_(Highway)_E06000044  Local_Authority_(Highway)_E06000045  \\\n",
       "0                                    0                                    0   \n",
       "1                                    0                                    0   \n",
       "2                                    0                                    0   \n",
       "3                                    0                                    0   \n",
       "4                                    0                                    0   \n",
       "\n",
       "   Local_Authority_(Highway)_E06000046  Local_Authority_(Highway)_E06000047  \\\n",
       "0                                    0                                    0   \n",
       "1                                    0                                    0   \n",
       "2                                    0                                    0   \n",
       "3                                    0                                    0   \n",
       "4                                    0                                    0   \n",
       "\n",
       "   Local_Authority_(Highway)_E06000048  Local_Authority_(Highway)_E06000049  \\\n",
       "0                                    0                                    0   \n",
       "1                                    0                                    0   \n",
       "2                                    0                                    0   \n",
       "3                                    0                                    0   \n",
       "4                                    0                                    0   \n",
       "\n",
       "   Local_Authority_(Highway)_E06000050  Local_Authority_(Highway)_E06000051  \\\n",
       "0                                    0                                    0   \n",
       "1                                    0                                    0   \n",
       "2                                    0                                    0   \n",
       "3                                    0                                    0   \n",
       "4                                    0                                    0   \n",
       "\n",
       "   Local_Authority_(Highway)_E06000052  Local_Authority_(Highway)_E06000053  \\\n",
       "0                                    0                                    0   \n",
       "1                                    0                                    0   \n",
       "2                                    0                                    0   \n",
       "3                                    0                                    0   \n",
       "4                                    0                                    0   \n",
       "\n",
       "   Local_Authority_(Highway)_E06000054  Local_Authority_(Highway)_E06000055  \\\n",
       "0                                    0                                    0   \n",
       "1                                    0                                    0   \n",
       "2                                    0                                    0   \n",
       "3                                    0                                    0   \n",
       "4                                    0                                    0   \n",
       "\n",
       "   Local_Authority_(Highway)_E06000056  Local_Authority_(Highway)_E08000001  \\\n",
       "0                                    0                                    0   \n",
       "1                                    0                                    0   \n",
       "2                                    0                                    0   \n",
       "3                                    0                                    0   \n",
       "4                                    0                                    0   \n",
       "\n",
       "   Local_Authority_(Highway)_E08000002  Local_Authority_(Highway)_E08000003  \\\n",
       "0                                    0                                    0   \n",
       "1                                    0                                    0   \n",
       "2                                    0                                    0   \n",
       "3                                    0                                    0   \n",
       "4                                    0                                    0   \n",
       "\n",
       "   Local_Authority_(Highway)_E08000004  Local_Authority_(Highway)_E08000005  \\\n",
       "0                                    0                                    0   \n",
       "1                                    0                                    0   \n",
       "2                                    0                                    0   \n",
       "3                                    0                                    0   \n",
       "4                                    0                                    0   \n",
       "\n",
       "   Local_Authority_(Highway)_E08000006  Local_Authority_(Highway)_E08000007  \\\n",
       "0                                    0                                    0   \n",
       "1                                    0                                    0   \n",
       "2                                    0                                    0   \n",
       "3                                    0                                    0   \n",
       "4                                    0                                    0   \n",
       "\n",
       "   Local_Authority_(Highway)_E08000008  Local_Authority_(Highway)_E08000009  \\\n",
       "0                                    0                                    0   \n",
       "1                                    0                                    0   \n",
       "2                                    0                                    0   \n",
       "3                                    0                                    0   \n",
       "4                                    0                                    0   \n",
       "\n",
       "   Local_Authority_(Highway)_E08000010  Local_Authority_(Highway)_E08000011  \\\n",
       "0                                    0                                    0   \n",
       "1                                    0                                    0   \n",
       "2                                    0                                    0   \n",
       "3                                    0                                    0   \n",
       "4                                    0                                    0   \n",
       "\n",
       "   Local_Authority_(Highway)_E08000012  Local_Authority_(Highway)_E08000013  \\\n",
       "0                                    0                                    0   \n",
       "1                                    0                                    0   \n",
       "2                                    0                                    0   \n",
       "3                                    0                                    0   \n",
       "4                                    0                                    0   \n",
       "\n",
       "   Local_Authority_(Highway)_E08000014  Local_Authority_(Highway)_E08000015  \\\n",
       "0                                    0                                    0   \n",
       "1                                    0                                    0   \n",
       "2                                    0                                    0   \n",
       "3                                    0                                    0   \n",
       "4                                    0                                    0   \n",
       "\n",
       "   Local_Authority_(Highway)_E08000016  Local_Authority_(Highway)_E08000017  \\\n",
       "0                                    0                                    0   \n",
       "1                                    0                                    0   \n",
       "2                                    0                                    0   \n",
       "3                                    0                                    0   \n",
       "4                                    0                                    0   \n",
       "\n",
       "   Local_Authority_(Highway)_E08000018  Local_Authority_(Highway)_E08000019  \\\n",
       "0                                    0                                    0   \n",
       "1                                    0                                    0   \n",
       "2                                    0                                    0   \n",
       "3                                    0                                    0   \n",
       "4                                    0                                    0   \n",
       "\n",
       "   Local_Authority_(Highway)_E08000020  Local_Authority_(Highway)_E08000021  \\\n",
       "0                                    0                                    0   \n",
       "1                                    0                                    0   \n",
       "2                                    0                                    0   \n",
       "3                                    0                                    0   \n",
       "4                                    0                                    0   \n",
       "\n",
       "   Local_Authority_(Highway)_E08000022  Local_Authority_(Highway)_E08000023  \\\n",
       "0                                    0                                    0   \n",
       "1                                    0                                    0   \n",
       "2                                    0                                    0   \n",
       "3                                    0                                    0   \n",
       "4                                    0                                    0   \n",
       "\n",
       "   Local_Authority_(Highway)_E08000024  Local_Authority_(Highway)_E08000025  \\\n",
       "0                                    0                                    0   \n",
       "1                                    0                                    0   \n",
       "2                                    0                                    0   \n",
       "3                                    0                                    0   \n",
       "4                                    0                                    0   \n",
       "\n",
       "   Local_Authority_(Highway)_E08000026  Local_Authority_(Highway)_E08000027  \\\n",
       "0                                    0                                    0   \n",
       "1                                    0                                    0   \n",
       "2                                    0                                    0   \n",
       "3                                    0                                    0   \n",
       "4                                    0                                    0   \n",
       "\n",
       "   Local_Authority_(Highway)_E08000028  Local_Authority_(Highway)_E08000029  \\\n",
       "0                                    0                                    0   \n",
       "1                                    0                                    0   \n",
       "2                                    0                                    0   \n",
       "3                                    0                                    0   \n",
       "4                                    0                                    0   \n",
       "\n",
       "   Local_Authority_(Highway)_E08000030  Local_Authority_(Highway)_E08000031  \\\n",
       "0                                    0                                    0   \n",
       "1                                    0                                    0   \n",
       "2                                    0                                    0   \n",
       "3                                    0                                    0   \n",
       "4                                    0                                    0   \n",
       "\n",
       "   Local_Authority_(Highway)_E08000032  Local_Authority_(Highway)_E08000033  \\\n",
       "0                                    0                                    0   \n",
       "1                                    0                                    0   \n",
       "2                                    0                                    0   \n",
       "3                                    0                                    0   \n",
       "4                                    0                                    0   \n",
       "\n",
       "   Local_Authority_(Highway)_E08000034  Local_Authority_(Highway)_E08000035  \\\n",
       "0                                    0                                    0   \n",
       "1                                    0                                    0   \n",
       "2                                    0                                    0   \n",
       "3                                    0                                    0   \n",
       "4                                    0                                    0   \n",
       "\n",
       "   Local_Authority_(Highway)_E08000036  Local_Authority_(Highway)_E09000001  \\\n",
       "0                                    0                                    0   \n",
       "1                                    0                                    0   \n",
       "2                                    0                                    0   \n",
       "3                                    0                                    0   \n",
       "4                                    0                                    0   \n",
       "\n",
       "   Local_Authority_(Highway)_E09000002  Local_Authority_(Highway)_E09000003  \\\n",
       "0                                    0                                    0   \n",
       "1                                    0                                    0   \n",
       "2                                    0                                    0   \n",
       "3                                    0                                    0   \n",
       "4                                    0                                    0   \n",
       "\n",
       "   Local_Authority_(Highway)_E09000004  Local_Authority_(Highway)_E09000005  \\\n",
       "0                                    0                                    0   \n",
       "1                                    0                                    0   \n",
       "2                                    0                                    0   \n",
       "3                                    0                                    0   \n",
       "4                                    0                                    1   \n",
       "\n",
       "   Local_Authority_(Highway)_E09000006  Local_Authority_(Highway)_E09000007  \\\n",
       "0                                    0                                    0   \n",
       "1                                    0                                    0   \n",
       "2                                    0                                    1   \n",
       "3                                    0                                    1   \n",
       "4                                    0                                    0   \n",
       "\n",
       "   Local_Authority_(Highway)_E09000008  Local_Authority_(Highway)_E09000009  \\\n",
       "0                                    0                                    0   \n",
       "1                                    0                                    0   \n",
       "2                                    0                                    0   \n",
       "3                                    0                                    0   \n",
       "4                                    0                                    0   \n",
       "\n",
       "   Local_Authority_(Highway)_E09000010  Local_Authority_(Highway)_E09000011  \\\n",
       "0                                    0                                    0   \n",
       "1                                    0                                    0   \n",
       "2                                    0                                    0   \n",
       "3                                    0                                    0   \n",
       "4                                    0                                    0   \n",
       "\n",
       "   Local_Authority_(Highway)_E09000012  Local_Authority_(Highway)_E09000013  \\\n",
       "0                                    0                                    0   \n",
       "1                                    0                                    0   \n",
       "2                                    0                                    0   \n",
       "3                                    0                                    0   \n",
       "4                                    0                                    0   \n",
       "\n",
       "   Local_Authority_(Highway)_E09000014  Local_Authority_(Highway)_E09000015  \\\n",
       "0                                    0                                    0   \n",
       "1                                    0                                    0   \n",
       "2                                    0                                    0   \n",
       "3                                    0                                    0   \n",
       "4                                    0                                    0   \n",
       "\n",
       "   Local_Authority_(Highway)_E09000016  Local_Authority_(Highway)_E09000017  \\\n",
       "0                                    0                                    0   \n",
       "1                                    0                                    0   \n",
       "2                                    0                                    0   \n",
       "3                                    0                                    0   \n",
       "4                                    0                                    0   \n",
       "\n",
       "   Local_Authority_(Highway)_E09000018  Local_Authority_(Highway)_E09000019  \\\n",
       "0                                    0                                    0   \n",
       "1                                    0                                    0   \n",
       "2                                    0                                    0   \n",
       "3                                    0                                    0   \n",
       "4                                    0                                    0   \n",
       "\n",
       "   Local_Authority_(Highway)_E09000020  Local_Authority_(Highway)_E09000021  \\\n",
       "0                                    0                                    0   \n",
       "1                                    0                                    0   \n",
       "2                                    0                                    0   \n",
       "3                                    0                                    0   \n",
       "4                                    0                                    0   \n",
       "\n",
       "   Local_Authority_(Highway)_E09000022  Local_Authority_(Highway)_E09000023  \\\n",
       "0                                    0                                    0   \n",
       "1                                    1                                    0   \n",
       "2                                    0                                    0   \n",
       "3                                    0                                    0   \n",
       "4                                    0                                    0   \n",
       "\n",
       "   Local_Authority_(Highway)_E09000024  Local_Authority_(Highway)_E09000025  \\\n",
       "0                                    0                                    0   \n",
       "1                                    0                                    0   \n",
       "2                                    0                                    0   \n",
       "3                                    0                                    0   \n",
       "4                                    0                                    0   \n",
       "\n",
       "   Local_Authority_(Highway)_E09000026  Local_Authority_(Highway)_E09000027  \\\n",
       "0                                    0                                    0   \n",
       "1                                    0                                    0   \n",
       "2                                    0                                    0   \n",
       "3                                    0                                    0   \n",
       "4                                    0                                    0   \n",
       "\n",
       "   Local_Authority_(Highway)_E09000028  Local_Authority_(Highway)_E09000029  \\\n",
       "0                                    0                                    0   \n",
       "1                                    0                                    0   \n",
       "2                                    0                                    0   \n",
       "3                                    0                                    0   \n",
       "4                                    0                                    0   \n",
       "\n",
       "   Local_Authority_(Highway)_E09000030  Local_Authority_(Highway)_E09000031  \\\n",
       "0                                    0                                    0   \n",
       "1                                    0                                    0   \n",
       "2                                    0                                    0   \n",
       "3                                    0                                    0   \n",
       "4                                    0                                    0   \n",
       "\n",
       "   Local_Authority_(Highway)_E09000032  Local_Authority_(Highway)_E09000033  \\\n",
       "0                                    0                                    1   \n",
       "1                                    0                                    0   \n",
       "2                                    0                                    0   \n",
       "3                                    0                                    0   \n",
       "4                                    0                                    0   \n",
       "\n",
       "   Local_Authority_(Highway)_E10000002  Local_Authority_(Highway)_E10000003  \\\n",
       "0                                    0                                    0   \n",
       "1                                    0                                    0   \n",
       "2                                    0                                    0   \n",
       "3                                    0                                    0   \n",
       "4                                    0                                    0   \n",
       "\n",
       "   Local_Authority_(Highway)_E10000006  Local_Authority_(Highway)_E10000007  \\\n",
       "0                                    0                                    0   \n",
       "1                                    0                                    0   \n",
       "2                                    0                                    0   \n",
       "3                                    0                                    0   \n",
       "4                                    0                                    0   \n",
       "\n",
       "   Local_Authority_(Highway)_E10000008  Local_Authority_(Highway)_E10000009  \\\n",
       "0                                    0                                    0   \n",
       "1                                    0                                    0   \n",
       "2                                    0                                    0   \n",
       "3                                    0                                    0   \n",
       "4                                    0                                    0   \n",
       "\n",
       "   Local_Authority_(Highway)_E10000011  Local_Authority_(Highway)_E10000012  \\\n",
       "0                                    0                                    0   \n",
       "1                                    0                                    0   \n",
       "2                                    0                                    0   \n",
       "3                                    0                                    0   \n",
       "4                                    0                                    0   \n",
       "\n",
       "   Local_Authority_(Highway)_E10000013  Local_Authority_(Highway)_E10000014  \\\n",
       "0                                    0                                    0   \n",
       "1                                    0                                    0   \n",
       "2                                    0                                    0   \n",
       "3                                    0                                    0   \n",
       "4                                    0                                    0   \n",
       "\n",
       "   Local_Authority_(Highway)_E10000015  Local_Authority_(Highway)_E10000016  \\\n",
       "0                                    0                                    0   \n",
       "1                                    0                                    0   \n",
       "2                                    0                                    0   \n",
       "3                                    0                                    0   \n",
       "4                                    0                                    0   \n",
       "\n",
       "   Local_Authority_(Highway)_E10000017  Local_Authority_(Highway)_E10000018  \\\n",
       "0                                    0                                    0   \n",
       "1                                    0                                    0   \n",
       "2                                    0                                    0   \n",
       "3                                    0                                    0   \n",
       "4                                    0                                    0   \n",
       "\n",
       "   Local_Authority_(Highway)_E10000019  Local_Authority_(Highway)_E10000020  \\\n",
       "0                                    0                                    0   \n",
       "1                                    0                                    0   \n",
       "2                                    0                                    0   \n",
       "3                                    0                                    0   \n",
       "4                                    0                                    0   \n",
       "\n",
       "   Local_Authority_(Highway)_E10000021  Local_Authority_(Highway)_E10000023  \\\n",
       "0                                    0                                    0   \n",
       "1                                    0                                    0   \n",
       "2                                    0                                    0   \n",
       "3                                    0                                    0   \n",
       "4                                    0                                    0   \n",
       "\n",
       "   Local_Authority_(Highway)_E10000024  Local_Authority_(Highway)_E10000025  \\\n",
       "0                                    0                                    0   \n",
       "1                                    0                                    0   \n",
       "2                                    0                                    0   \n",
       "3                                    0                                    0   \n",
       "4                                    0                                    0   \n",
       "\n",
       "   Local_Authority_(Highway)_E10000027  Local_Authority_(Highway)_E10000028  \\\n",
       "0                                    0                                    0   \n",
       "1                                    0                                    0   \n",
       "2                                    0                                    0   \n",
       "3                                    0                                    0   \n",
       "4                                    0                                    0   \n",
       "\n",
       "   Local_Authority_(Highway)_E10000029  Local_Authority_(Highway)_E10000030  \\\n",
       "0                                    0                                    0   \n",
       "1                                    0                                    0   \n",
       "2                                    0                                    0   \n",
       "3                                    0                                    0   \n",
       "4                                    0                                    0   \n",
       "\n",
       "   Local_Authority_(Highway)_E10000031  Local_Authority_(Highway)_E10000032  \\\n",
       "0                                    0                                    0   \n",
       "1                                    0                                    0   \n",
       "2                                    0                                    0   \n",
       "3                                    0                                    0   \n",
       "4                                    0                                    0   \n",
       "\n",
       "   Local_Authority_(Highway)_E10000034  Local_Authority_(Highway)_EHEATHROW  \\\n",
       "0                                    0                                    0   \n",
       "1                                    0                                    0   \n",
       "2                                    0                                    0   \n",
       "3                                    0                                    0   \n",
       "4                                    0                                    0   \n",
       "\n",
       "   Local_Authority_(Highway)_W06000001  Local_Authority_(Highway)_W06000002  \\\n",
       "0                                    0                                    0   \n",
       "1                                    0                                    0   \n",
       "2                                    0                                    0   \n",
       "3                                    0                                    0   \n",
       "4                                    0                                    0   \n",
       "\n",
       "   Local_Authority_(Highway)_W06000003  Local_Authority_(Highway)_W06000004  \\\n",
       "0                                    0                                    0   \n",
       "1                                    0                                    0   \n",
       "2                                    0                                    0   \n",
       "3                                    0                                    0   \n",
       "4                                    0                                    0   \n",
       "\n",
       "   Local_Authority_(Highway)_W06000005  Local_Authority_(Highway)_W06000006  \\\n",
       "0                                    0                                    0   \n",
       "1                                    0                                    0   \n",
       "2                                    0                                    0   \n",
       "3                                    0                                    0   \n",
       "4                                    0                                    0   \n",
       "\n",
       "   Local_Authority_(Highway)_W06000008  Local_Authority_(Highway)_W06000009  \\\n",
       "0                                    0                                    0   \n",
       "1                                    0                                    0   \n",
       "2                                    0                                    0   \n",
       "3                                    0                                    0   \n",
       "4                                    0                                    0   \n",
       "\n",
       "   Local_Authority_(Highway)_W06000010  Local_Authority_(Highway)_W06000011  \\\n",
       "0                                    0                                    0   \n",
       "1                                    0                                    0   \n",
       "2                                    0                                    0   \n",
       "3                                    0                                    0   \n",
       "4                                    0                                    0   \n",
       "\n",
       "   Local_Authority_(Highway)_W06000012  Local_Authority_(Highway)_W06000013  \\\n",
       "0                                    0                                    0   \n",
       "1                                    0                                    0   \n",
       "2                                    0                                    0   \n",
       "3                                    0                                    0   \n",
       "4                                    0                                    0   \n",
       "\n",
       "   Local_Authority_(Highway)_W06000014  Local_Authority_(Highway)_W06000015  \\\n",
       "0                                    0                                    0   \n",
       "1                                    0                                    0   \n",
       "2                                    0                                    0   \n",
       "3                                    0                                    0   \n",
       "4                                    0                                    0   \n",
       "\n",
       "   Local_Authority_(Highway)_W06000016  Local_Authority_(Highway)_W06000018  \\\n",
       "0                                    0                                    0   \n",
       "1                                    0                                    0   \n",
       "2                                    0                                    0   \n",
       "3                                    0                                    0   \n",
       "4                                    0                                    0   \n",
       "\n",
       "   Local_Authority_(Highway)_W06000019  Local_Authority_(Highway)_W06000020  \\\n",
       "0                                    0                                    0   \n",
       "1                                    0                                    0   \n",
       "2                                    0                                    0   \n",
       "3                                    0                                    0   \n",
       "4                                    0                                    0   \n",
       "\n",
       "   Local_Authority_(Highway)_W06000021  Local_Authority_(Highway)_W06000022  \\\n",
       "0                                    0                                    0   \n",
       "1                                    0                                    0   \n",
       "2                                    0                                    0   \n",
       "3                                    0                                    0   \n",
       "4                                    0                                    0   \n",
       "\n",
       "   Local_Authority_(Highway)_W06000023  Local_Authority_(Highway)_W06000024  \n",
       "0                                    0                                    0  \n",
       "1                                    0                                    0  \n",
       "2                                    0                                    0  \n",
       "3                                    0                                    0  \n",
       "4                                    0                                    0  "
      ]
     },
     "execution_count": 104,
     "metadata": {},
     "output_type": "execute_result"
    }
   ],
   "source": [
    "# converting categorical indicators to dummy indicator variables\n",
    "accidents_cat = pd.get_dummies(accidents_cat)\n",
    "accidents_cat.head(5)"
   ]
  },
  {
   "cell_type": "code",
   "execution_count": 117,
   "id": "1534b003",
   "metadata": {},
   "outputs": [],
   "source": [
    "# Store the numerical features to a dataframe Did_Police_Officer_Attend_Scene_of_Accident_num\n",
    "accidents_num = accidents[numerical]"
   ]
  },
  {
   "cell_type": "code",
   "execution_count": 118,
   "id": "569f9765",
   "metadata": {},
   "outputs": [],
   "source": [
    "# Concat the two dataframes together columnwise\n",
    "# accidents_final = pd.concat([df_num, df_cat], axis=1)\n",
    "accidents_model = pd.concat([accidents_num], axis=1)"
   ]
  },
  {
   "cell_type": "code",
   "execution_count": 119,
   "id": "58a94790",
   "metadata": {},
   "outputs": [],
   "source": [
    "# removing Accident ids\n",
    "accidents_model.reset_index(drop=True, inplace=True)"
   ]
  },
  {
   "cell_type": "code",
   "execution_count": 120,
   "id": "613e6b68",
   "metadata": {},
   "outputs": [
    {
     "data": {
      "text/html": [
       "<div>\n",
       "<style scoped>\n",
       "    .dataframe tbody tr th:only-of-type {\n",
       "        vertical-align: middle;\n",
       "    }\n",
       "\n",
       "    .dataframe tbody tr th {\n",
       "        vertical-align: top;\n",
       "    }\n",
       "\n",
       "    .dataframe thead th {\n",
       "        text-align: right;\n",
       "    }\n",
       "</style>\n",
       "<table border=\"1\" class=\"dataframe\">\n",
       "  <thead>\n",
       "    <tr style=\"text-align: right;\">\n",
       "      <th></th>\n",
       "      <th>Accident_Severity</th>\n",
       "      <th>Number_of_Vehicles</th>\n",
       "      <th>Number_of_Casualties</th>\n",
       "      <th>Day_of_Week</th>\n",
       "      <th>1st_Road_Class</th>\n",
       "      <th>1st_Road_Number</th>\n",
       "      <th>Road_Type</th>\n",
       "      <th>2nd_Road_Number</th>\n",
       "      <th>Pedestrian_Crossing-Human_Control</th>\n",
       "      <th>Pedestrian_Crossing-Physical_Facilities</th>\n",
       "      <th>Light_Conditions</th>\n",
       "      <th>Weather_Conditions</th>\n",
       "      <th>Road_Surface_Conditions</th>\n",
       "      <th>Special_Conditions_at_Site</th>\n",
       "      <th>Carriageway_Hazards</th>\n",
       "      <th>Did_Police_Officer_Attend_Scene_of_Accident</th>\n",
       "    </tr>\n",
       "  </thead>\n",
       "  <tbody>\n",
       "    <tr>\n",
       "      <th>0</th>\n",
       "      <td>3</td>\n",
       "      <td>2</td>\n",
       "      <td>3</td>\n",
       "      <td>2</td>\n",
       "      <td>3</td>\n",
       "      <td>4202</td>\n",
       "      <td>1</td>\n",
       "      <td>4202</td>\n",
       "      <td>0</td>\n",
       "      <td>5</td>\n",
       "      <td>1</td>\n",
       "      <td>1</td>\n",
       "      <td>1</td>\n",
       "      <td>0</td>\n",
       "      <td>0</td>\n",
       "      <td>3</td>\n",
       "    </tr>\n",
       "    <tr>\n",
       "      <th>1</th>\n",
       "      <td>3</td>\n",
       "      <td>2</td>\n",
       "      <td>1</td>\n",
       "      <td>3</td>\n",
       "      <td>3</td>\n",
       "      <td>23</td>\n",
       "      <td>2</td>\n",
       "      <td>0</td>\n",
       "      <td>-1</td>\n",
       "      <td>-1</td>\n",
       "      <td>4</td>\n",
       "      <td>1</td>\n",
       "      <td>1</td>\n",
       "      <td>0</td>\n",
       "      <td>0</td>\n",
       "      <td>3</td>\n",
       "    </tr>\n",
       "    <tr>\n",
       "      <th>2</th>\n",
       "      <td>3</td>\n",
       "      <td>2</td>\n",
       "      <td>1</td>\n",
       "      <td>3</td>\n",
       "      <td>4</td>\n",
       "      <td>504</td>\n",
       "      <td>6</td>\n",
       "      <td>0</td>\n",
       "      <td>0</td>\n",
       "      <td>0</td>\n",
       "      <td>4</td>\n",
       "      <td>1</td>\n",
       "      <td>1</td>\n",
       "      <td>0</td>\n",
       "      <td>0</td>\n",
       "      <td>1</td>\n",
       "    </tr>\n",
       "    <tr>\n",
       "      <th>3</th>\n",
       "      <td>2</td>\n",
       "      <td>1</td>\n",
       "      <td>1</td>\n",
       "      <td>3</td>\n",
       "      <td>4</td>\n",
       "      <td>510</td>\n",
       "      <td>6</td>\n",
       "      <td>510</td>\n",
       "      <td>0</td>\n",
       "      <td>0</td>\n",
       "      <td>4</td>\n",
       "      <td>1</td>\n",
       "      <td>1</td>\n",
       "      <td>0</td>\n",
       "      <td>0</td>\n",
       "      <td>1</td>\n",
       "    </tr>\n",
       "    <tr>\n",
       "      <th>4</th>\n",
       "      <td>3</td>\n",
       "      <td>2</td>\n",
       "      <td>2</td>\n",
       "      <td>3</td>\n",
       "      <td>3</td>\n",
       "      <td>4003</td>\n",
       "      <td>6</td>\n",
       "      <td>0</td>\n",
       "      <td>0</td>\n",
       "      <td>0</td>\n",
       "      <td>4</td>\n",
       "      <td>1</td>\n",
       "      <td>1</td>\n",
       "      <td>0</td>\n",
       "      <td>0</td>\n",
       "      <td>1</td>\n",
       "    </tr>\n",
       "    <tr>\n",
       "      <th>...</th>\n",
       "      <td>...</td>\n",
       "      <td>...</td>\n",
       "      <td>...</td>\n",
       "      <td>...</td>\n",
       "      <td>...</td>\n",
       "      <td>...</td>\n",
       "      <td>...</td>\n",
       "      <td>...</td>\n",
       "      <td>...</td>\n",
       "      <td>...</td>\n",
       "      <td>...</td>\n",
       "      <td>...</td>\n",
       "      <td>...</td>\n",
       "      <td>...</td>\n",
       "      <td>...</td>\n",
       "      <td>...</td>\n",
       "    </tr>\n",
       "    <tr>\n",
       "      <th>111755</th>\n",
       "      <td>1</td>\n",
       "      <td>3</td>\n",
       "      <td>2</td>\n",
       "      <td>7</td>\n",
       "      <td>3</td>\n",
       "      <td>483</td>\n",
       "      <td>6</td>\n",
       "      <td>0</td>\n",
       "      <td>0</td>\n",
       "      <td>0</td>\n",
       "      <td>1</td>\n",
       "      <td>1</td>\n",
       "      <td>1</td>\n",
       "      <td>0</td>\n",
       "      <td>0</td>\n",
       "      <td>1</td>\n",
       "    </tr>\n",
       "    <tr>\n",
       "      <th>111756</th>\n",
       "      <td>1</td>\n",
       "      <td>3</td>\n",
       "      <td>2</td>\n",
       "      <td>1</td>\n",
       "      <td>3</td>\n",
       "      <td>483</td>\n",
       "      <td>6</td>\n",
       "      <td>0</td>\n",
       "      <td>0</td>\n",
       "      <td>0</td>\n",
       "      <td>1</td>\n",
       "      <td>1</td>\n",
       "      <td>1</td>\n",
       "      <td>0</td>\n",
       "      <td>0</td>\n",
       "      <td>1</td>\n",
       "    </tr>\n",
       "    <tr>\n",
       "      <th>111757</th>\n",
       "      <td>1</td>\n",
       "      <td>1</td>\n",
       "      <td>1</td>\n",
       "      <td>1</td>\n",
       "      <td>4</td>\n",
       "      <td>4569</td>\n",
       "      <td>6</td>\n",
       "      <td>0</td>\n",
       "      <td>0</td>\n",
       "      <td>0</td>\n",
       "      <td>4</td>\n",
       "      <td>2</td>\n",
       "      <td>2</td>\n",
       "      <td>0</td>\n",
       "      <td>0</td>\n",
       "      <td>1</td>\n",
       "    </tr>\n",
       "    <tr>\n",
       "      <th>111758</th>\n",
       "      <td>1</td>\n",
       "      <td>1</td>\n",
       "      <td>2</td>\n",
       "      <td>7</td>\n",
       "      <td>3</td>\n",
       "      <td>483</td>\n",
       "      <td>6</td>\n",
       "      <td>0</td>\n",
       "      <td>0</td>\n",
       "      <td>0</td>\n",
       "      <td>1</td>\n",
       "      <td>1</td>\n",
       "      <td>1</td>\n",
       "      <td>0</td>\n",
       "      <td>0</td>\n",
       "      <td>1</td>\n",
       "    </tr>\n",
       "    <tr>\n",
       "      <th>111759</th>\n",
       "      <td>1</td>\n",
       "      <td>2</td>\n",
       "      <td>1</td>\n",
       "      <td>1</td>\n",
       "      <td>3</td>\n",
       "      <td>4215</td>\n",
       "      <td>6</td>\n",
       "      <td>0</td>\n",
       "      <td>0</td>\n",
       "      <td>0</td>\n",
       "      <td>1</td>\n",
       "      <td>1</td>\n",
       "      <td>1</td>\n",
       "      <td>0</td>\n",
       "      <td>0</td>\n",
       "      <td>1</td>\n",
       "    </tr>\n",
       "  </tbody>\n",
       "</table>\n",
       "<p>111760 rows × 16 columns</p>\n",
       "</div>"
      ],
      "text/plain": [
       "        Accident_Severity  Number_of_Vehicles  Number_of_Casualties  \\\n",
       "0                       3                   2                     3   \n",
       "1                       3                   2                     1   \n",
       "2                       3                   2                     1   \n",
       "3                       2                   1                     1   \n",
       "4                       3                   2                     2   \n",
       "...                   ...                 ...                   ...   \n",
       "111755                  1                   3                     2   \n",
       "111756                  1                   3                     2   \n",
       "111757                  1                   1                     1   \n",
       "111758                  1                   1                     2   \n",
       "111759                  1                   2                     1   \n",
       "\n",
       "        Day_of_Week  1st_Road_Class  1st_Road_Number  Road_Type  \\\n",
       "0                 2               3             4202          1   \n",
       "1                 3               3               23          2   \n",
       "2                 3               4              504          6   \n",
       "3                 3               4              510          6   \n",
       "4                 3               3             4003          6   \n",
       "...             ...             ...              ...        ...   \n",
       "111755            7               3              483          6   \n",
       "111756            1               3              483          6   \n",
       "111757            1               4             4569          6   \n",
       "111758            7               3              483          6   \n",
       "111759            1               3             4215          6   \n",
       "\n",
       "        2nd_Road_Number  Pedestrian_Crossing-Human_Control  \\\n",
       "0                  4202                                  0   \n",
       "1                     0                                 -1   \n",
       "2                     0                                  0   \n",
       "3                   510                                  0   \n",
       "4                     0                                  0   \n",
       "...                 ...                                ...   \n",
       "111755                0                                  0   \n",
       "111756                0                                  0   \n",
       "111757                0                                  0   \n",
       "111758                0                                  0   \n",
       "111759                0                                  0   \n",
       "\n",
       "        Pedestrian_Crossing-Physical_Facilities  Light_Conditions  \\\n",
       "0                                             5                 1   \n",
       "1                                            -1                 4   \n",
       "2                                             0                 4   \n",
       "3                                             0                 4   \n",
       "4                                             0                 4   \n",
       "...                                         ...               ...   \n",
       "111755                                        0                 1   \n",
       "111756                                        0                 1   \n",
       "111757                                        0                 4   \n",
       "111758                                        0                 1   \n",
       "111759                                        0                 1   \n",
       "\n",
       "        Weather_Conditions  Road_Surface_Conditions  \\\n",
       "0                        1                        1   \n",
       "1                        1                        1   \n",
       "2                        1                        1   \n",
       "3                        1                        1   \n",
       "4                        1                        1   \n",
       "...                    ...                      ...   \n",
       "111755                   1                        1   \n",
       "111756                   1                        1   \n",
       "111757                   2                        2   \n",
       "111758                   1                        1   \n",
       "111759                   1                        1   \n",
       "\n",
       "        Special_Conditions_at_Site  Carriageway_Hazards  \\\n",
       "0                                0                    0   \n",
       "1                                0                    0   \n",
       "2                                0                    0   \n",
       "3                                0                    0   \n",
       "4                                0                    0   \n",
       "...                            ...                  ...   \n",
       "111755                           0                    0   \n",
       "111756                           0                    0   \n",
       "111757                           0                    0   \n",
       "111758                           0                    0   \n",
       "111759                           0                    0   \n",
       "\n",
       "        Did_Police_Officer_Attend_Scene_of_Accident  \n",
       "0                                                 3  \n",
       "1                                                 3  \n",
       "2                                                 1  \n",
       "3                                                 1  \n",
       "4                                                 1  \n",
       "...                                             ...  \n",
       "111755                                            1  \n",
       "111756                                            1  \n",
       "111757                                            1  \n",
       "111758                                            1  \n",
       "111759                                            1  \n",
       "\n",
       "[111760 rows x 16 columns]"
      ]
     },
     "execution_count": 120,
     "metadata": {},
     "output_type": "execute_result"
    }
   ],
   "source": [
    "accidents_model"
   ]
  },
  {
   "cell_type": "code",
   "execution_count": 121,
   "id": "013410e8",
   "metadata": {},
   "outputs": [],
   "source": [
    "# define our features \n",
    "features = accidents_model.drop(['Did_Police_Officer_Attend_Scene_of_Accident'], axis=1)\n",
    "\n",
    "# define our target\n",
    "target = accidents_model[['Did_Police_Officer_Attend_Scene_of_Accident']]"
   ]
  },
  {
   "cell_type": "code",
   "execution_count": 122,
   "id": "e7341aa5",
   "metadata": {},
   "outputs": [
    {
     "data": {
      "text/plain": [
       "Index(['Accident_Severity', 'Number_of_Vehicles', 'Number_of_Casualties',\n",
       "       'Day_of_Week', '1st_Road_Class', '1st_Road_Number', 'Road_Type',\n",
       "       '2nd_Road_Number', 'Pedestrian_Crossing-Human_Control',\n",
       "       'Pedestrian_Crossing-Physical_Facilities', 'Light_Conditions',\n",
       "       'Weather_Conditions', 'Road_Surface_Conditions',\n",
       "       'Special_Conditions_at_Site', 'Carriageway_Hazards'],\n",
       "      dtype='object')"
      ]
     },
     "execution_count": 122,
     "metadata": {},
     "output_type": "execute_result"
    }
   ],
   "source": [
    "features.columns"
   ]
  },
  {
   "cell_type": "code",
   "execution_count": 165,
   "id": "9c849846",
   "metadata": {},
   "outputs": [
    {
     "data": {
      "text/plain": [
       "1    0.691813\n",
       "2    0.219488\n",
       "3    0.088699\n",
       "Name: Did_Police_Officer_Attend_Scene_of_Accident, dtype: float64"
      ]
     },
     "execution_count": 165,
     "metadata": {},
     "output_type": "execute_result"
    }
   ],
   "source": [
    "# Observing otentially imbalanced classes\n",
    "accidents_model['Did_Police_Officer_Attend_Scene_of_Accident'].value_counts(normalize=True)"
   ]
  },
  {
   "cell_type": "code",
   "execution_count": 125,
   "id": "436ae919",
   "metadata": {},
   "outputs": [],
   "source": [
    "# Split data into train and test sets as well as for validation and testing\n",
    "# X_train, X_test, y_train, y_test\n",
    "train, test, target_train, target_val = train_test_split(features, \n",
    "                                                         target, \n",
    "                                                         train_size= 0.80,\n",
    "                                                         random_state=0);\n",
    "#train, test, target_train, target_val = StratifiedShuffleSplit(features, target, random_state=0);"
   ]
  },
  {
   "cell_type": "code",
   "execution_count": 127,
   "id": "875061c8",
   "metadata": {},
   "outputs": [
    {
     "name": "stdout",
     "output_type": "stream",
     "text": [
      "<class 'pandas.core.frame.DataFrame'>\n",
      "Int64Index: 89408 entries, 1846 to 68268\n",
      "Data columns (total 15 columns):\n",
      " #   Column                                   Non-Null Count  Dtype\n",
      "---  ------                                   --------------  -----\n",
      " 0   Accident_Severity                        89408 non-null  int64\n",
      " 1   Number_of_Vehicles                       89408 non-null  int64\n",
      " 2   Number_of_Casualties                     89408 non-null  int64\n",
      " 3   Day_of_Week                              89408 non-null  int64\n",
      " 4   1st_Road_Class                           89408 non-null  int64\n",
      " 5   1st_Road_Number                          89408 non-null  int64\n",
      " 6   Road_Type                                89408 non-null  int64\n",
      " 7   2nd_Road_Number                          89408 non-null  int64\n",
      " 8   Pedestrian_Crossing-Human_Control        89408 non-null  int64\n",
      " 9   Pedestrian_Crossing-Physical_Facilities  89408 non-null  int64\n",
      " 10  Light_Conditions                         89408 non-null  int64\n",
      " 11  Weather_Conditions                       89408 non-null  int64\n",
      " 12  Road_Surface_Conditions                  89408 non-null  int64\n",
      " 13  Special_Conditions_at_Site               89408 non-null  int64\n",
      " 14  Carriageway_Hazards                      89408 non-null  int64\n",
      "dtypes: int64(15)\n",
      "memory usage: 10.9 MB\n"
     ]
    }
   ],
   "source": [
    "train.info()"
   ]
  },
  {
   "cell_type": "code",
   "execution_count": null,
   "id": "c015f960",
   "metadata": {},
   "outputs": [],
   "source": [
    "# AutoML as a starting point\n",
    "automl = AutoML()\n",
    "automl.fit(train, target_train)\n",
    "#automl.fit(smote_train, smote_target)"
   ]
  },
  {
   "cell_type": "code",
   "execution_count": null,
   "id": "5b2fa96f",
   "metadata": {},
   "outputs": [],
   "source": [
    "#generating AutoML predictions\n",
    "predictions = automl.predict(test)"
   ]
  },
  {
   "cell_type": "code",
   "execution_count": 128,
   "id": "02e0bc57",
   "metadata": {},
   "outputs": [],
   "source": [
    "# potential need to deal with imbalanced class\n",
    "oversampler = SMOTE(random_state=0)\n",
    "smote_train, smote_target = oversampler.fit_resample(train,target_train)"
   ]
  },
  {
   "cell_type": "code",
   "execution_count": 156,
   "id": "d8c0f339",
   "metadata": {},
   "outputs": [],
   "source": [
    "seed = 0   # We set our random seed to zero for reproducibility\n",
    "# Random Forest parameters\n",
    "rf_params = {\n",
    "    'n_jobs': -1,\n",
    "    'n_estimators': 1000,\n",
    "#   'warm_start': True, \n",
    "    'max_features': 0.3,\n",
    "    'max_depth': 4,\n",
    "    'min_samples_leaf': 2,\n",
    "    'max_features' : 'sqrt',\n",
    "    'random_state' : seed,\n",
    "    'verbose': 0,\n",
    "    'criterion': 'entropy', ## using entropy\n",
    "    'class_weight':'balanced' # alternative strategy to SMOTE\n",
    "}"
   ]
  },
  {
   "cell_type": "code",
   "execution_count": 157,
   "id": "29318537",
   "metadata": {},
   "outputs": [],
   "source": [
    "rf = RandomForestClassifier(**rf_params)"
   ]
  },
  {
   "cell_type": "code",
   "execution_count": 158,
   "id": "859d3d3d",
   "metadata": {},
   "outputs": [
    {
     "name": "stdout",
     "output_type": "stream",
     "text": [
      "Fitting of Random Forest finished\n"
     ]
    }
   ],
   "source": [
    "rf.fit(train,target_train)\n",
    "#rf.fit(smote_train,smote_target)\n",
    "print(\"Fitting of Random Forest finished\")"
   ]
  },
  {
   "cell_type": "code",
   "execution_count": 159,
   "id": "7f1d4394",
   "metadata": {},
   "outputs": [
    {
     "name": "stdout",
     "output_type": "stream",
     "text": [
      "Predictions finished\n"
     ]
    }
   ],
   "source": [
    "rf_predictions = rf.predict(test)\n",
    "print(\"Predictions finished\")"
   ]
  },
  {
   "cell_type": "code",
   "execution_count": 160,
   "id": "9571536d",
   "metadata": {},
   "outputs": [
    {
     "name": "stdout",
     "output_type": "stream",
     "text": [
      "Accuracy score: 0.637213672154617\n",
      "================================================================================\n",
      "              precision    recall  f1-score   support\n",
      "\n",
      "           1       0.79      0.70      0.74     15525\n",
      "           2       0.32      0.49      0.39      4857\n",
      "           3       0.83      0.53      0.65      1970\n",
      "\n",
      "    accuracy                           0.64     22352\n",
      "   macro avg       0.65      0.57      0.59     22352\n",
      "weighted avg       0.69      0.64      0.66     22352\n",
      "\n"
     ]
    }
   ],
   "source": [
    "print(\"Accuracy score: {}\".format(accuracy_score(target_val, rf_predictions)))\n",
    "print(\"=\"*80)\n",
    "print(classification_report(target_val, rf_predictions))"
   ]
  },
  {
   "cell_type": "code",
   "execution_count": 161,
   "id": "c93ec8b3",
   "metadata": {},
   "outputs": [
    {
     "ename": "NameError",
     "evalue": "name 'cross_val_score' is not defined",
     "output_type": "error",
     "traceback": [
      "\u001b[0;31m---------------------------------------------------------------------------\u001b[0m",
      "\u001b[0;31mNameError\u001b[0m                                 Traceback (most recent call last)",
      "\u001b[0;32m<ipython-input-161-92eb3d6b2368>\u001b[0m in \u001b[0;36m<module>\u001b[0;34m\u001b[0m\n\u001b[1;32m      1\u001b[0m \u001b[0;31m# cross-validation with F1 score (more appropriate to imbalanced classes)\u001b[0m\u001b[0;34m\u001b[0m\u001b[0;34m\u001b[0m\u001b[0;34m\u001b[0m\u001b[0m\n\u001b[0;32m----> 2\u001b[0;31m \u001b[0mcross_val_score\u001b[0m\u001b[0;34m(\u001b[0m\u001b[0mforest_1\u001b[0m\u001b[0;34m,\u001b[0m \u001b[0mX_train\u001b[0m\u001b[0;34m,\u001b[0m \u001b[0my_train\u001b[0m\u001b[0;34m,\u001b[0m \u001b[0mscoring\u001b[0m\u001b[0;34m=\u001b[0m\u001b[0;34m'f1_macro'\u001b[0m\u001b[0;34m,\u001b[0m \u001b[0mn_jobs\u001b[0m\u001b[0;34m=\u001b[0m\u001b[0;34m-\u001b[0m\u001b[0;36m1\u001b[0m\u001b[0;34m)\u001b[0m\u001b[0;34m\u001b[0m\u001b[0;34m\u001b[0m\u001b[0m\n\u001b[0m",
      "\u001b[0;31mNameError\u001b[0m: name 'cross_val_score' is not defined"
     ]
    }
   ],
   "source": [
    "# cross-validation with F1 score (more appropriate to imbalanced classes)\n",
    "cross_val_score(forest_1, X_train, y_train, scoring='f1_macro', n_jobs=-1)"
   ]
  },
  {
   "cell_type": "code",
   "execution_count": 162,
   "id": "18824795",
   "metadata": {},
   "outputs": [
    {
     "data": {
      "application/vnd.plotly.v1+json": {
       "config": {
        "linkText": "Export to plot.ly",
        "plotlyServerURL": "https://plot.ly",
        "showLink": false
       },
       "data": [
        {
         "marker": {
          "color": [
           0.05679546281819508,
           0.006492553456285543,
           0.014089987539644747,
           0.00015053033971887273,
           0.030129385258838053,
           0.018969088717583356,
           0.08053809360555433,
           0.0031157518338271115,
           0.3143987281324005,
           0.28231738809917223,
           0.006083413104526936,
           0.01295299160139709,
           0.02645218100499071,
           0.09222841606518536,
           0.05528602842268013
          ],
          "colorscale": [
           [
            0,
            "rgb(12,51,131)"
           ],
           [
            0.25,
            "rgb(10,136,186)"
           ],
           [
            0.5,
            "rgb(242,211,56)"
           ],
           [
            0.75,
            "rgb(242,143,56)"
           ],
           [
            1,
            "rgb(217,30,30)"
           ]
          ],
          "showscale": true,
          "size": 13,
          "sizemode": "diameter",
          "sizeref": 1
         },
         "mode": "markers",
         "text": [
          "Accident_Severity",
          "Number_of_Vehicles",
          "Number_of_Casualties",
          "Day_of_Week",
          "1st_Road_Class",
          "1st_Road_Number",
          "Road_Type",
          "2nd_Road_Number",
          "Pedestrian_Crossing-Human_Control",
          "Pedestrian_Crossing-Physical_Facilities",
          "Light_Conditions",
          "Weather_Conditions",
          "Road_Surface_Conditions",
          "Special_Conditions_at_Site",
          "Carriageway_Hazards",
          "Did_Police_Officer_Attend_Scene_of_Accident"
         ],
         "type": "scatter",
         "x": [
          "Accident_Severity",
          "Number_of_Vehicles",
          "Number_of_Casualties",
          "Day_of_Week",
          "1st_Road_Class",
          "1st_Road_Number",
          "Road_Type",
          "2nd_Road_Number",
          "Pedestrian_Crossing-Human_Control",
          "Pedestrian_Crossing-Physical_Facilities",
          "Light_Conditions",
          "Weather_Conditions",
          "Road_Surface_Conditions",
          "Special_Conditions_at_Site",
          "Carriageway_Hazards",
          "Did_Police_Officer_Attend_Scene_of_Accident"
         ],
         "y": [
          0.05679546281819508,
          0.006492553456285543,
          0.014089987539644747,
          0.00015053033971887273,
          0.030129385258838053,
          0.018969088717583356,
          0.08053809360555433,
          0.0031157518338271115,
          0.3143987281324005,
          0.28231738809917223,
          0.006083413104526936,
          0.01295299160139709,
          0.02645218100499071,
          0.09222841606518536,
          0.05528602842268013
         ]
        }
       ],
       "layout": {
        "autosize": true,
        "hovermode": "closest",
        "showlegend": false,
        "template": {
         "data": {
          "bar": [
           {
            "error_x": {
             "color": "#2a3f5f"
            },
            "error_y": {
             "color": "#2a3f5f"
            },
            "marker": {
             "line": {
              "color": "#E5ECF6",
              "width": 0.5
             }
            },
            "type": "bar"
           }
          ],
          "barpolar": [
           {
            "marker": {
             "line": {
              "color": "#E5ECF6",
              "width": 0.5
             }
            },
            "type": "barpolar"
           }
          ],
          "carpet": [
           {
            "aaxis": {
             "endlinecolor": "#2a3f5f",
             "gridcolor": "white",
             "linecolor": "white",
             "minorgridcolor": "white",
             "startlinecolor": "#2a3f5f"
            },
            "baxis": {
             "endlinecolor": "#2a3f5f",
             "gridcolor": "white",
             "linecolor": "white",
             "minorgridcolor": "white",
             "startlinecolor": "#2a3f5f"
            },
            "type": "carpet"
           }
          ],
          "choropleth": [
           {
            "colorbar": {
             "outlinewidth": 0,
             "ticks": ""
            },
            "type": "choropleth"
           }
          ],
          "contour": [
           {
            "colorbar": {
             "outlinewidth": 0,
             "ticks": ""
            },
            "colorscale": [
             [
              0,
              "#0d0887"
             ],
             [
              0.1111111111111111,
              "#46039f"
             ],
             [
              0.2222222222222222,
              "#7201a8"
             ],
             [
              0.3333333333333333,
              "#9c179e"
             ],
             [
              0.4444444444444444,
              "#bd3786"
             ],
             [
              0.5555555555555556,
              "#d8576b"
             ],
             [
              0.6666666666666666,
              "#ed7953"
             ],
             [
              0.7777777777777778,
              "#fb9f3a"
             ],
             [
              0.8888888888888888,
              "#fdca26"
             ],
             [
              1,
              "#f0f921"
             ]
            ],
            "type": "contour"
           }
          ],
          "contourcarpet": [
           {
            "colorbar": {
             "outlinewidth": 0,
             "ticks": ""
            },
            "type": "contourcarpet"
           }
          ],
          "heatmap": [
           {
            "colorbar": {
             "outlinewidth": 0,
             "ticks": ""
            },
            "colorscale": [
             [
              0,
              "#0d0887"
             ],
             [
              0.1111111111111111,
              "#46039f"
             ],
             [
              0.2222222222222222,
              "#7201a8"
             ],
             [
              0.3333333333333333,
              "#9c179e"
             ],
             [
              0.4444444444444444,
              "#bd3786"
             ],
             [
              0.5555555555555556,
              "#d8576b"
             ],
             [
              0.6666666666666666,
              "#ed7953"
             ],
             [
              0.7777777777777778,
              "#fb9f3a"
             ],
             [
              0.8888888888888888,
              "#fdca26"
             ],
             [
              1,
              "#f0f921"
             ]
            ],
            "type": "heatmap"
           }
          ],
          "heatmapgl": [
           {
            "colorbar": {
             "outlinewidth": 0,
             "ticks": ""
            },
            "colorscale": [
             [
              0,
              "#0d0887"
             ],
             [
              0.1111111111111111,
              "#46039f"
             ],
             [
              0.2222222222222222,
              "#7201a8"
             ],
             [
              0.3333333333333333,
              "#9c179e"
             ],
             [
              0.4444444444444444,
              "#bd3786"
             ],
             [
              0.5555555555555556,
              "#d8576b"
             ],
             [
              0.6666666666666666,
              "#ed7953"
             ],
             [
              0.7777777777777778,
              "#fb9f3a"
             ],
             [
              0.8888888888888888,
              "#fdca26"
             ],
             [
              1,
              "#f0f921"
             ]
            ],
            "type": "heatmapgl"
           }
          ],
          "histogram": [
           {
            "marker": {
             "colorbar": {
              "outlinewidth": 0,
              "ticks": ""
             }
            },
            "type": "histogram"
           }
          ],
          "histogram2d": [
           {
            "colorbar": {
             "outlinewidth": 0,
             "ticks": ""
            },
            "colorscale": [
             [
              0,
              "#0d0887"
             ],
             [
              0.1111111111111111,
              "#46039f"
             ],
             [
              0.2222222222222222,
              "#7201a8"
             ],
             [
              0.3333333333333333,
              "#9c179e"
             ],
             [
              0.4444444444444444,
              "#bd3786"
             ],
             [
              0.5555555555555556,
              "#d8576b"
             ],
             [
              0.6666666666666666,
              "#ed7953"
             ],
             [
              0.7777777777777778,
              "#fb9f3a"
             ],
             [
              0.8888888888888888,
              "#fdca26"
             ],
             [
              1,
              "#f0f921"
             ]
            ],
            "type": "histogram2d"
           }
          ],
          "histogram2dcontour": [
           {
            "colorbar": {
             "outlinewidth": 0,
             "ticks": ""
            },
            "colorscale": [
             [
              0,
              "#0d0887"
             ],
             [
              0.1111111111111111,
              "#46039f"
             ],
             [
              0.2222222222222222,
              "#7201a8"
             ],
             [
              0.3333333333333333,
              "#9c179e"
             ],
             [
              0.4444444444444444,
              "#bd3786"
             ],
             [
              0.5555555555555556,
              "#d8576b"
             ],
             [
              0.6666666666666666,
              "#ed7953"
             ],
             [
              0.7777777777777778,
              "#fb9f3a"
             ],
             [
              0.8888888888888888,
              "#fdca26"
             ],
             [
              1,
              "#f0f921"
             ]
            ],
            "type": "histogram2dcontour"
           }
          ],
          "mesh3d": [
           {
            "colorbar": {
             "outlinewidth": 0,
             "ticks": ""
            },
            "type": "mesh3d"
           }
          ],
          "parcoords": [
           {
            "line": {
             "colorbar": {
              "outlinewidth": 0,
              "ticks": ""
             }
            },
            "type": "parcoords"
           }
          ],
          "pie": [
           {
            "automargin": true,
            "type": "pie"
           }
          ],
          "scatter": [
           {
            "marker": {
             "colorbar": {
              "outlinewidth": 0,
              "ticks": ""
             }
            },
            "type": "scatter"
           }
          ],
          "scatter3d": [
           {
            "line": {
             "colorbar": {
              "outlinewidth": 0,
              "ticks": ""
             }
            },
            "marker": {
             "colorbar": {
              "outlinewidth": 0,
              "ticks": ""
             }
            },
            "type": "scatter3d"
           }
          ],
          "scattercarpet": [
           {
            "marker": {
             "colorbar": {
              "outlinewidth": 0,
              "ticks": ""
             }
            },
            "type": "scattercarpet"
           }
          ],
          "scattergeo": [
           {
            "marker": {
             "colorbar": {
              "outlinewidth": 0,
              "ticks": ""
             }
            },
            "type": "scattergeo"
           }
          ],
          "scattergl": [
           {
            "marker": {
             "colorbar": {
              "outlinewidth": 0,
              "ticks": ""
             }
            },
            "type": "scattergl"
           }
          ],
          "scattermapbox": [
           {
            "marker": {
             "colorbar": {
              "outlinewidth": 0,
              "ticks": ""
             }
            },
            "type": "scattermapbox"
           }
          ],
          "scatterpolar": [
           {
            "marker": {
             "colorbar": {
              "outlinewidth": 0,
              "ticks": ""
             }
            },
            "type": "scatterpolar"
           }
          ],
          "scatterpolargl": [
           {
            "marker": {
             "colorbar": {
              "outlinewidth": 0,
              "ticks": ""
             }
            },
            "type": "scatterpolargl"
           }
          ],
          "scatterternary": [
           {
            "marker": {
             "colorbar": {
              "outlinewidth": 0,
              "ticks": ""
             }
            },
            "type": "scatterternary"
           }
          ],
          "surface": [
           {
            "colorbar": {
             "outlinewidth": 0,
             "ticks": ""
            },
            "colorscale": [
             [
              0,
              "#0d0887"
             ],
             [
              0.1111111111111111,
              "#46039f"
             ],
             [
              0.2222222222222222,
              "#7201a8"
             ],
             [
              0.3333333333333333,
              "#9c179e"
             ],
             [
              0.4444444444444444,
              "#bd3786"
             ],
             [
              0.5555555555555556,
              "#d8576b"
             ],
             [
              0.6666666666666666,
              "#ed7953"
             ],
             [
              0.7777777777777778,
              "#fb9f3a"
             ],
             [
              0.8888888888888888,
              "#fdca26"
             ],
             [
              1,
              "#f0f921"
             ]
            ],
            "type": "surface"
           }
          ],
          "table": [
           {
            "cells": {
             "fill": {
              "color": "#EBF0F8"
             },
             "line": {
              "color": "white"
             }
            },
            "header": {
             "fill": {
              "color": "#C8D4E3"
             },
             "line": {
              "color": "white"
             }
            },
            "type": "table"
           }
          ]
         },
         "layout": {
          "annotationdefaults": {
           "arrowcolor": "#2a3f5f",
           "arrowhead": 0,
           "arrowwidth": 1
          },
          "autotypenumbers": "strict",
          "coloraxis": {
           "colorbar": {
            "outlinewidth": 0,
            "ticks": ""
           }
          },
          "colorscale": {
           "diverging": [
            [
             0,
             "#8e0152"
            ],
            [
             0.1,
             "#c51b7d"
            ],
            [
             0.2,
             "#de77ae"
            ],
            [
             0.3,
             "#f1b6da"
            ],
            [
             0.4,
             "#fde0ef"
            ],
            [
             0.5,
             "#f7f7f7"
            ],
            [
             0.6,
             "#e6f5d0"
            ],
            [
             0.7,
             "#b8e186"
            ],
            [
             0.8,
             "#7fbc41"
            ],
            [
             0.9,
             "#4d9221"
            ],
            [
             1,
             "#276419"
            ]
           ],
           "sequential": [
            [
             0,
             "#0d0887"
            ],
            [
             0.1111111111111111,
             "#46039f"
            ],
            [
             0.2222222222222222,
             "#7201a8"
            ],
            [
             0.3333333333333333,
             "#9c179e"
            ],
            [
             0.4444444444444444,
             "#bd3786"
            ],
            [
             0.5555555555555556,
             "#d8576b"
            ],
            [
             0.6666666666666666,
             "#ed7953"
            ],
            [
             0.7777777777777778,
             "#fb9f3a"
            ],
            [
             0.8888888888888888,
             "#fdca26"
            ],
            [
             1,
             "#f0f921"
            ]
           ],
           "sequentialminus": [
            [
             0,
             "#0d0887"
            ],
            [
             0.1111111111111111,
             "#46039f"
            ],
            [
             0.2222222222222222,
             "#7201a8"
            ],
            [
             0.3333333333333333,
             "#9c179e"
            ],
            [
             0.4444444444444444,
             "#bd3786"
            ],
            [
             0.5555555555555556,
             "#d8576b"
            ],
            [
             0.6666666666666666,
             "#ed7953"
            ],
            [
             0.7777777777777778,
             "#fb9f3a"
            ],
            [
             0.8888888888888888,
             "#fdca26"
            ],
            [
             1,
             "#f0f921"
            ]
           ]
          },
          "colorway": [
           "#636efa",
           "#EF553B",
           "#00cc96",
           "#ab63fa",
           "#FFA15A",
           "#19d3f3",
           "#FF6692",
           "#B6E880",
           "#FF97FF",
           "#FECB52"
          ],
          "font": {
           "color": "#2a3f5f"
          },
          "geo": {
           "bgcolor": "white",
           "lakecolor": "white",
           "landcolor": "#E5ECF6",
           "showlakes": true,
           "showland": true,
           "subunitcolor": "white"
          },
          "hoverlabel": {
           "align": "left"
          },
          "hovermode": "closest",
          "mapbox": {
           "style": "light"
          },
          "paper_bgcolor": "white",
          "plot_bgcolor": "#E5ECF6",
          "polar": {
           "angularaxis": {
            "gridcolor": "white",
            "linecolor": "white",
            "ticks": ""
           },
           "bgcolor": "#E5ECF6",
           "radialaxis": {
            "gridcolor": "white",
            "linecolor": "white",
            "ticks": ""
           }
          },
          "scene": {
           "xaxis": {
            "backgroundcolor": "#E5ECF6",
            "gridcolor": "white",
            "gridwidth": 2,
            "linecolor": "white",
            "showbackground": true,
            "ticks": "",
            "zerolinecolor": "white"
           },
           "yaxis": {
            "backgroundcolor": "#E5ECF6",
            "gridcolor": "white",
            "gridwidth": 2,
            "linecolor": "white",
            "showbackground": true,
            "ticks": "",
            "zerolinecolor": "white"
           },
           "zaxis": {
            "backgroundcolor": "#E5ECF6",
            "gridcolor": "white",
            "gridwidth": 2,
            "linecolor": "white",
            "showbackground": true,
            "ticks": "",
            "zerolinecolor": "white"
           }
          },
          "shapedefaults": {
           "line": {
            "color": "#2a3f5f"
           }
          },
          "ternary": {
           "aaxis": {
            "gridcolor": "white",
            "linecolor": "white",
            "ticks": ""
           },
           "baxis": {
            "gridcolor": "white",
            "linecolor": "white",
            "ticks": ""
           },
           "bgcolor": "#E5ECF6",
           "caxis": {
            "gridcolor": "white",
            "linecolor": "white",
            "ticks": ""
           }
          },
          "title": {
           "x": 0.05
          },
          "xaxis": {
           "automargin": true,
           "gridcolor": "white",
           "linecolor": "white",
           "ticks": "",
           "title": {
            "standoff": 15
           },
           "zerolinecolor": "white",
           "zerolinewidth": 2
          },
          "yaxis": {
           "automargin": true,
           "gridcolor": "white",
           "linecolor": "white",
           "ticks": "",
           "title": {
            "standoff": 15
           },
           "zerolinecolor": "white",
           "zerolinewidth": 2
          }
         }
        },
        "title": {
         "text": "Random Forest Feature Importance"
        },
        "xaxis": {
         "showgrid": false,
         "showline": false,
         "ticklen": 5,
         "zeroline": false
        },
        "yaxis": {
         "gridwidth": 2,
         "showgrid": false,
         "ticklen": 5,
         "title": {
          "text": "Feature Importance"
         },
         "zeroline": false
        }
       }
      },
      "text/html": [
       "<div>                            <div id=\"12336458-ed38-44cc-8cc5-6528f1d6ccfa\" class=\"plotly-graph-div\" style=\"height:525px; width:100%;\"></div>            <script type=\"text/javascript\">                require([\"plotly\"], function(Plotly) {                    window.PLOTLYENV=window.PLOTLYENV || {};                                    if (document.getElementById(\"12336458-ed38-44cc-8cc5-6528f1d6ccfa\")) {                    Plotly.newPlot(                        \"12336458-ed38-44cc-8cc5-6528f1d6ccfa\",                        [{\"marker\": {\"color\": [0.05679546281819508, 0.006492553456285543, 0.014089987539644747, 0.00015053033971887273, 0.030129385258838053, 0.018969088717583356, 0.08053809360555433, 0.0031157518338271115, 0.3143987281324005, 0.28231738809917223, 0.006083413104526936, 0.01295299160139709, 0.02645218100499071, 0.09222841606518536, 0.05528602842268013], \"colorscale\": [[0.0, \"rgb(12,51,131)\"], [0.25, \"rgb(10,136,186)\"], [0.5, \"rgb(242,211,56)\"], [0.75, \"rgb(242,143,56)\"], [1.0, \"rgb(217,30,30)\"]], \"showscale\": true, \"size\": 13, \"sizemode\": \"diameter\", \"sizeref\": 1}, \"mode\": \"markers\", \"text\": [\"Accident_Severity\", \"Number_of_Vehicles\", \"Number_of_Casualties\", \"Day_of_Week\", \"1st_Road_Class\", \"1st_Road_Number\", \"Road_Type\", \"2nd_Road_Number\", \"Pedestrian_Crossing-Human_Control\", \"Pedestrian_Crossing-Physical_Facilities\", \"Light_Conditions\", \"Weather_Conditions\", \"Road_Surface_Conditions\", \"Special_Conditions_at_Site\", \"Carriageway_Hazards\", \"Did_Police_Officer_Attend_Scene_of_Accident\"], \"type\": \"scatter\", \"x\": [\"Accident_Severity\", \"Number_of_Vehicles\", \"Number_of_Casualties\", \"Day_of_Week\", \"1st_Road_Class\", \"1st_Road_Number\", \"Road_Type\", \"2nd_Road_Number\", \"Pedestrian_Crossing-Human_Control\", \"Pedestrian_Crossing-Physical_Facilities\", \"Light_Conditions\", \"Weather_Conditions\", \"Road_Surface_Conditions\", \"Special_Conditions_at_Site\", \"Carriageway_Hazards\", \"Did_Police_Officer_Attend_Scene_of_Accident\"], \"y\": [0.05679546281819508, 0.006492553456285543, 0.014089987539644747, 0.00015053033971887273, 0.030129385258838053, 0.018969088717583356, 0.08053809360555433, 0.0031157518338271115, 0.3143987281324005, 0.28231738809917223, 0.006083413104526936, 0.01295299160139709, 0.02645218100499071, 0.09222841606518536, 0.05528602842268013]}],                        {\"autosize\": true, \"hovermode\": \"closest\", \"showlegend\": false, \"template\": {\"data\": {\"bar\": [{\"error_x\": {\"color\": \"#2a3f5f\"}, \"error_y\": {\"color\": \"#2a3f5f\"}, \"marker\": {\"line\": {\"color\": \"#E5ECF6\", \"width\": 0.5}}, \"type\": \"bar\"}], \"barpolar\": [{\"marker\": {\"line\": {\"color\": \"#E5ECF6\", \"width\": 0.5}}, \"type\": \"barpolar\"}], \"carpet\": [{\"aaxis\": {\"endlinecolor\": \"#2a3f5f\", \"gridcolor\": \"white\", \"linecolor\": \"white\", \"minorgridcolor\": \"white\", \"startlinecolor\": \"#2a3f5f\"}, \"baxis\": {\"endlinecolor\": \"#2a3f5f\", \"gridcolor\": \"white\", \"linecolor\": \"white\", \"minorgridcolor\": \"white\", \"startlinecolor\": \"#2a3f5f\"}, \"type\": \"carpet\"}], \"choropleth\": [{\"colorbar\": {\"outlinewidth\": 0, \"ticks\": \"\"}, \"type\": \"choropleth\"}], \"contour\": [{\"colorbar\": {\"outlinewidth\": 0, \"ticks\": \"\"}, \"colorscale\": [[0.0, \"#0d0887\"], [0.1111111111111111, \"#46039f\"], [0.2222222222222222, \"#7201a8\"], [0.3333333333333333, \"#9c179e\"], [0.4444444444444444, \"#bd3786\"], [0.5555555555555556, \"#d8576b\"], [0.6666666666666666, \"#ed7953\"], [0.7777777777777778, \"#fb9f3a\"], [0.8888888888888888, \"#fdca26\"], [1.0, \"#f0f921\"]], \"type\": \"contour\"}], \"contourcarpet\": [{\"colorbar\": {\"outlinewidth\": 0, \"ticks\": \"\"}, \"type\": \"contourcarpet\"}], \"heatmap\": [{\"colorbar\": {\"outlinewidth\": 0, \"ticks\": \"\"}, \"colorscale\": [[0.0, \"#0d0887\"], [0.1111111111111111, \"#46039f\"], [0.2222222222222222, \"#7201a8\"], [0.3333333333333333, \"#9c179e\"], [0.4444444444444444, \"#bd3786\"], [0.5555555555555556, \"#d8576b\"], [0.6666666666666666, \"#ed7953\"], [0.7777777777777778, \"#fb9f3a\"], [0.8888888888888888, \"#fdca26\"], [1.0, \"#f0f921\"]], \"type\": \"heatmap\"}], \"heatmapgl\": [{\"colorbar\": {\"outlinewidth\": 0, \"ticks\": \"\"}, \"colorscale\": [[0.0, \"#0d0887\"], [0.1111111111111111, \"#46039f\"], [0.2222222222222222, \"#7201a8\"], [0.3333333333333333, \"#9c179e\"], [0.4444444444444444, \"#bd3786\"], [0.5555555555555556, \"#d8576b\"], [0.6666666666666666, \"#ed7953\"], [0.7777777777777778, \"#fb9f3a\"], [0.8888888888888888, \"#fdca26\"], [1.0, \"#f0f921\"]], \"type\": \"heatmapgl\"}], \"histogram\": [{\"marker\": {\"colorbar\": {\"outlinewidth\": 0, \"ticks\": \"\"}}, \"type\": \"histogram\"}], \"histogram2d\": [{\"colorbar\": {\"outlinewidth\": 0, \"ticks\": \"\"}, \"colorscale\": [[0.0, \"#0d0887\"], [0.1111111111111111, \"#46039f\"], [0.2222222222222222, \"#7201a8\"], [0.3333333333333333, \"#9c179e\"], [0.4444444444444444, \"#bd3786\"], [0.5555555555555556, \"#d8576b\"], [0.6666666666666666, \"#ed7953\"], [0.7777777777777778, \"#fb9f3a\"], [0.8888888888888888, \"#fdca26\"], [1.0, \"#f0f921\"]], \"type\": \"histogram2d\"}], \"histogram2dcontour\": [{\"colorbar\": {\"outlinewidth\": 0, \"ticks\": \"\"}, \"colorscale\": [[0.0, \"#0d0887\"], [0.1111111111111111, \"#46039f\"], [0.2222222222222222, \"#7201a8\"], [0.3333333333333333, \"#9c179e\"], [0.4444444444444444, \"#bd3786\"], [0.5555555555555556, \"#d8576b\"], [0.6666666666666666, \"#ed7953\"], [0.7777777777777778, \"#fb9f3a\"], [0.8888888888888888, \"#fdca26\"], [1.0, \"#f0f921\"]], \"type\": \"histogram2dcontour\"}], \"mesh3d\": [{\"colorbar\": {\"outlinewidth\": 0, \"ticks\": \"\"}, \"type\": \"mesh3d\"}], \"parcoords\": [{\"line\": {\"colorbar\": {\"outlinewidth\": 0, \"ticks\": \"\"}}, \"type\": \"parcoords\"}], \"pie\": [{\"automargin\": true, \"type\": \"pie\"}], \"scatter\": [{\"marker\": {\"colorbar\": {\"outlinewidth\": 0, \"ticks\": \"\"}}, \"type\": \"scatter\"}], \"scatter3d\": [{\"line\": {\"colorbar\": {\"outlinewidth\": 0, \"ticks\": \"\"}}, \"marker\": {\"colorbar\": {\"outlinewidth\": 0, \"ticks\": \"\"}}, \"type\": \"scatter3d\"}], \"scattercarpet\": [{\"marker\": {\"colorbar\": {\"outlinewidth\": 0, \"ticks\": \"\"}}, \"type\": \"scattercarpet\"}], \"scattergeo\": [{\"marker\": {\"colorbar\": {\"outlinewidth\": 0, \"ticks\": \"\"}}, \"type\": \"scattergeo\"}], \"scattergl\": [{\"marker\": {\"colorbar\": {\"outlinewidth\": 0, \"ticks\": \"\"}}, \"type\": \"scattergl\"}], \"scattermapbox\": [{\"marker\": {\"colorbar\": {\"outlinewidth\": 0, \"ticks\": \"\"}}, \"type\": \"scattermapbox\"}], \"scatterpolar\": [{\"marker\": {\"colorbar\": {\"outlinewidth\": 0, \"ticks\": \"\"}}, \"type\": \"scatterpolar\"}], \"scatterpolargl\": [{\"marker\": {\"colorbar\": {\"outlinewidth\": 0, \"ticks\": \"\"}}, \"type\": \"scatterpolargl\"}], \"scatterternary\": [{\"marker\": {\"colorbar\": {\"outlinewidth\": 0, \"ticks\": \"\"}}, \"type\": \"scatterternary\"}], \"surface\": [{\"colorbar\": {\"outlinewidth\": 0, \"ticks\": \"\"}, \"colorscale\": [[0.0, \"#0d0887\"], [0.1111111111111111, \"#46039f\"], [0.2222222222222222, \"#7201a8\"], [0.3333333333333333, \"#9c179e\"], [0.4444444444444444, \"#bd3786\"], [0.5555555555555556, \"#d8576b\"], [0.6666666666666666, \"#ed7953\"], [0.7777777777777778, \"#fb9f3a\"], [0.8888888888888888, \"#fdca26\"], [1.0, \"#f0f921\"]], \"type\": \"surface\"}], \"table\": [{\"cells\": {\"fill\": {\"color\": \"#EBF0F8\"}, \"line\": {\"color\": \"white\"}}, \"header\": {\"fill\": {\"color\": \"#C8D4E3\"}, \"line\": {\"color\": \"white\"}}, \"type\": \"table\"}]}, \"layout\": {\"annotationdefaults\": {\"arrowcolor\": \"#2a3f5f\", \"arrowhead\": 0, \"arrowwidth\": 1}, \"autotypenumbers\": \"strict\", \"coloraxis\": {\"colorbar\": {\"outlinewidth\": 0, \"ticks\": \"\"}}, \"colorscale\": {\"diverging\": [[0, \"#8e0152\"], [0.1, \"#c51b7d\"], [0.2, \"#de77ae\"], [0.3, \"#f1b6da\"], [0.4, \"#fde0ef\"], [0.5, \"#f7f7f7\"], [0.6, \"#e6f5d0\"], [0.7, \"#b8e186\"], [0.8, \"#7fbc41\"], [0.9, \"#4d9221\"], [1, \"#276419\"]], \"sequential\": [[0.0, \"#0d0887\"], [0.1111111111111111, \"#46039f\"], [0.2222222222222222, \"#7201a8\"], [0.3333333333333333, \"#9c179e\"], [0.4444444444444444, \"#bd3786\"], [0.5555555555555556, \"#d8576b\"], [0.6666666666666666, \"#ed7953\"], [0.7777777777777778, \"#fb9f3a\"], [0.8888888888888888, \"#fdca26\"], [1.0, \"#f0f921\"]], \"sequentialminus\": [[0.0, \"#0d0887\"], [0.1111111111111111, \"#46039f\"], [0.2222222222222222, \"#7201a8\"], [0.3333333333333333, \"#9c179e\"], [0.4444444444444444, \"#bd3786\"], [0.5555555555555556, \"#d8576b\"], [0.6666666666666666, \"#ed7953\"], [0.7777777777777778, \"#fb9f3a\"], [0.8888888888888888, \"#fdca26\"], [1.0, \"#f0f921\"]]}, \"colorway\": [\"#636efa\", \"#EF553B\", \"#00cc96\", \"#ab63fa\", \"#FFA15A\", \"#19d3f3\", \"#FF6692\", \"#B6E880\", \"#FF97FF\", \"#FECB52\"], \"font\": {\"color\": \"#2a3f5f\"}, \"geo\": {\"bgcolor\": \"white\", \"lakecolor\": \"white\", \"landcolor\": \"#E5ECF6\", \"showlakes\": true, \"showland\": true, \"subunitcolor\": \"white\"}, \"hoverlabel\": {\"align\": \"left\"}, \"hovermode\": \"closest\", \"mapbox\": {\"style\": \"light\"}, \"paper_bgcolor\": \"white\", \"plot_bgcolor\": \"#E5ECF6\", \"polar\": {\"angularaxis\": {\"gridcolor\": \"white\", \"linecolor\": \"white\", \"ticks\": \"\"}, \"bgcolor\": \"#E5ECF6\", \"radialaxis\": {\"gridcolor\": \"white\", \"linecolor\": \"white\", \"ticks\": \"\"}}, \"scene\": {\"xaxis\": {\"backgroundcolor\": \"#E5ECF6\", \"gridcolor\": \"white\", \"gridwidth\": 2, \"linecolor\": \"white\", \"showbackground\": true, \"ticks\": \"\", \"zerolinecolor\": \"white\"}, \"yaxis\": {\"backgroundcolor\": \"#E5ECF6\", \"gridcolor\": \"white\", \"gridwidth\": 2, \"linecolor\": \"white\", \"showbackground\": true, \"ticks\": \"\", \"zerolinecolor\": \"white\"}, \"zaxis\": {\"backgroundcolor\": \"#E5ECF6\", \"gridcolor\": \"white\", \"gridwidth\": 2, \"linecolor\": \"white\", \"showbackground\": true, \"ticks\": \"\", \"zerolinecolor\": \"white\"}}, \"shapedefaults\": {\"line\": {\"color\": \"#2a3f5f\"}}, \"ternary\": {\"aaxis\": {\"gridcolor\": \"white\", \"linecolor\": \"white\", \"ticks\": \"\"}, \"baxis\": {\"gridcolor\": \"white\", \"linecolor\": \"white\", \"ticks\": \"\"}, \"bgcolor\": \"#E5ECF6\", \"caxis\": {\"gridcolor\": \"white\", \"linecolor\": \"white\", \"ticks\": \"\"}}, \"title\": {\"x\": 0.05}, \"xaxis\": {\"automargin\": true, \"gridcolor\": \"white\", \"linecolor\": \"white\", \"ticks\": \"\", \"title\": {\"standoff\": 15}, \"zerolinecolor\": \"white\", \"zerolinewidth\": 2}, \"yaxis\": {\"automargin\": true, \"gridcolor\": \"white\", \"linecolor\": \"white\", \"ticks\": \"\", \"title\": {\"standoff\": 15}, \"zerolinecolor\": \"white\", \"zerolinewidth\": 2}}}, \"title\": {\"text\": \"Random Forest Feature Importance\"}, \"xaxis\": {\"showgrid\": false, \"showline\": false, \"ticklen\": 5, \"zeroline\": false}, \"yaxis\": {\"gridwidth\": 2, \"showgrid\": false, \"ticklen\": 5, \"title\": {\"text\": \"Feature Importance\"}, \"zeroline\": false}},                        {\"responsive\": true}                    ).then(function(){\n",
       "                            \n",
       "var gd = document.getElementById('12336458-ed38-44cc-8cc5-6528f1d6ccfa');\n",
       "var x = new MutationObserver(function (mutations, observer) {{\n",
       "        var display = window.getComputedStyle(gd).display;\n",
       "        if (!display || display === 'none') {{\n",
       "            console.log([gd, 'removed!']);\n",
       "            Plotly.purge(gd);\n",
       "            observer.disconnect();\n",
       "        }}\n",
       "}});\n",
       "\n",
       "// Listen for the removal of the full notebook cells\n",
       "var notebookContainer = gd.closest('#notebook-container');\n",
       "if (notebookContainer) {{\n",
       "    x.observe(notebookContainer, {childList: true});\n",
       "}}\n",
       "\n",
       "// Listen for the clearing of the current output cell\n",
       "var outputEl = gd.closest('.output');\n",
       "if (outputEl) {{\n",
       "    x.observe(outputEl, {childList: true});\n",
       "}}\n",
       "\n",
       "                        })                };                });            </script>        </div>"
      ]
     },
     "metadata": {},
     "output_type": "display_data"
    }
   ],
   "source": [
    "# Scatter plot \n",
    "trace = go.Scatter(\n",
    "    y = rf.feature_importances_,\n",
    "    x = accidents_model.columns.values,\n",
    "    mode='markers',\n",
    "    marker=dict(\n",
    "        sizemode = 'diameter',\n",
    "        sizeref = 1,\n",
    "        size = 13,\n",
    "        #size= rf.feature_importances_,\n",
    "        #color = np.random.randn(500), #set color equal to a variable\n",
    "        color = rf.feature_importances_,\n",
    "        colorscale='Portland',\n",
    "        showscale=True\n",
    "    ),\n",
    "    text = accidents_model.columns.values\n",
    ")\n",
    "data = [trace]\n",
    "\n",
    "layout= go.Layout(\n",
    "    autosize= True,\n",
    "    title= 'Random Forest Feature Importance',\n",
    "    hovermode= 'closest',\n",
    "     xaxis= dict(\n",
    "         ticklen= 5,\n",
    "         showgrid=False,\n",
    "        zeroline=False,\n",
    "        showline=False\n",
    "     ),\n",
    "    yaxis=dict(\n",
    "        title= 'Feature Importance',\n",
    "        showgrid=False,\n",
    "        zeroline=False,\n",
    "        ticklen= 5,\n",
    "        gridwidth= 2\n",
    "    ),\n",
    "    showlegend= False\n",
    ")\n",
    "fig = go.Figure(data=data, layout=layout)\n",
    "py.iplot(fig,filename='scatter2010')"
   ]
  },
  {
   "cell_type": "code",
   "execution_count": 163,
   "id": "3596a502",
   "metadata": {},
   "outputs": [],
   "source": [
    "# (Ensemble learner) Gradient Boosting Parameters\n",
    "gb_params ={\n",
    "    'n_estimators': 1500,\n",
    "    'max_features': 0.9,\n",
    "    'learning_rate' : 0.25,\n",
    "    'max_depth': 4,\n",
    "    'min_samples_leaf': 2,\n",
    "    'subsample': 1,\n",
    "    'max_features' : 'sqrt',\n",
    "    'random_state' : seed,\n",
    "    'verbose': 0,\n",
    "}"
   ]
  },
  {
   "cell_type": "code",
   "execution_count": 164,
   "id": "62f5d88f",
   "metadata": {},
   "outputs": [
    {
     "ename": "TypeError",
     "evalue": "__init__() got an unexpected keyword argument 'class_weight'",
     "output_type": "error",
     "traceback": [
      "\u001b[0;31m---------------------------------------------------------------------------\u001b[0m",
      "\u001b[0;31mTypeError\u001b[0m                                 Traceback (most recent call last)",
      "\u001b[0;32m<ipython-input-164-949dd8b10644>\u001b[0m in \u001b[0;36m<module>\u001b[0;34m\u001b[0m\n\u001b[0;32m----> 1\u001b[0;31m \u001b[0mgb\u001b[0m \u001b[0;34m=\u001b[0m \u001b[0mGradientBoostingClassifier\u001b[0m\u001b[0;34m(\u001b[0m\u001b[0;34m**\u001b[0m\u001b[0mgb_params\u001b[0m\u001b[0;34m)\u001b[0m\u001b[0;34m\u001b[0m\u001b[0;34m\u001b[0m\u001b[0m\n\u001b[0m",
      "\u001b[0;32m/Library/Frameworks/Python.framework/Versions/3.9/lib/python3.9/site-packages/sklearn/utils/validation.py\u001b[0m in \u001b[0;36minner_f\u001b[0;34m(*args, **kwargs)\u001b[0m\n\u001b[1;32m     61\u001b[0m             \u001b[0mextra_args\u001b[0m \u001b[0;34m=\u001b[0m \u001b[0mlen\u001b[0m\u001b[0;34m(\u001b[0m\u001b[0margs\u001b[0m\u001b[0;34m)\u001b[0m \u001b[0;34m-\u001b[0m \u001b[0mlen\u001b[0m\u001b[0;34m(\u001b[0m\u001b[0mall_args\u001b[0m\u001b[0;34m)\u001b[0m\u001b[0;34m\u001b[0m\u001b[0;34m\u001b[0m\u001b[0m\n\u001b[1;32m     62\u001b[0m             \u001b[0;32mif\u001b[0m \u001b[0mextra_args\u001b[0m \u001b[0;34m<=\u001b[0m \u001b[0;36m0\u001b[0m\u001b[0;34m:\u001b[0m\u001b[0;34m\u001b[0m\u001b[0;34m\u001b[0m\u001b[0m\n\u001b[0;32m---> 63\u001b[0;31m                 \u001b[0;32mreturn\u001b[0m \u001b[0mf\u001b[0m\u001b[0;34m(\u001b[0m\u001b[0;34m*\u001b[0m\u001b[0margs\u001b[0m\u001b[0;34m,\u001b[0m \u001b[0;34m**\u001b[0m\u001b[0mkwargs\u001b[0m\u001b[0;34m)\u001b[0m\u001b[0;34m\u001b[0m\u001b[0;34m\u001b[0m\u001b[0m\n\u001b[0m\u001b[1;32m     64\u001b[0m \u001b[0;34m\u001b[0m\u001b[0m\n\u001b[1;32m     65\u001b[0m             \u001b[0;31m# extra_args > 0\u001b[0m\u001b[0;34m\u001b[0m\u001b[0;34m\u001b[0m\u001b[0;34m\u001b[0m\u001b[0m\n",
      "\u001b[0;31mTypeError\u001b[0m: __init__() got an unexpected keyword argument 'class_weight'"
     ]
    }
   ],
   "source": [
    "gb = GradientBoostingClassifier(**gb_params)"
   ]
  },
  {
   "cell_type": "code",
   "execution_count": 150,
   "id": "c3cb48d8",
   "metadata": {},
   "outputs": [
    {
     "data": {
      "text/plain": [
       "GradientBoostingClassifier(learning_rate=0.25, max_depth=4, max_features='sqrt',\n",
       "                           min_samples_leaf=2, n_estimators=1500,\n",
       "                           random_state=0, subsample=1)"
      ]
     },
     "execution_count": 150,
     "metadata": {},
     "output_type": "execute_result"
    }
   ],
   "source": [
    "# Fit the model to our SMOTEd train and target\n",
    "#gb.fit(smote_train, smote_target)\n",
    "gb.fit(train,target_train)"
   ]
  },
  {
   "cell_type": "code",
   "execution_count": 151,
   "id": "7ac6d37a",
   "metadata": {},
   "outputs": [
    {
     "name": "stdout",
     "output_type": "stream",
     "text": [
      "Predictions have finished\n"
     ]
    }
   ],
   "source": [
    "# Get our predictions\n",
    "gb_predictions = gb.predict(test)\n",
    "print(\"Predictions have finished\")"
   ]
  },
  {
   "cell_type": "code",
   "execution_count": 152,
   "id": "96f1028d",
   "metadata": {},
   "outputs": [
    {
     "name": "stdout",
     "output_type": "stream",
     "text": [
      "0.6257605583392984\n",
      "              precision    recall  f1-score   support\n",
      "\n",
      "           1       0.83      0.62      0.71     15525\n",
      "           2       0.38      0.59      0.46      4857\n",
      "           3       0.47      0.75      0.58      1970\n",
      "\n",
      "    accuracy                           0.63     22352\n",
      "   macro avg       0.56      0.65      0.58     22352\n",
      "weighted avg       0.70      0.63      0.64     22352\n",
      "\n"
     ]
    }
   ],
   "source": [
    "print(accuracy_score(target_val, gb_predictions))\n",
    "print(classification_report(target_val, gb_predictions))"
   ]
  },
  {
   "cell_type": "code",
   "execution_count": null,
   "id": "db57ddc6",
   "metadata": {},
   "outputs": [],
   "source": [
    "# cross-validation with F1 score (more appropriate to imbalanced classes)\n",
    "cross_val_score(forest_1, X_train, y_train, scoring='f1_macro', n_jobs=-1)"
   ]
  },
  {
   "cell_type": "code",
   "execution_count": 153,
   "id": "502a6c06",
   "metadata": {},
   "outputs": [
    {
     "data": {
      "application/vnd.plotly.v1+json": {
       "config": {
        "linkText": "Export to plot.ly",
        "plotlyServerURL": "https://plot.ly",
        "showLink": false
       },
       "data": [
        {
         "marker": {
          "color": [
           0.02749638664162444,
           0.0425431127594571,
           0.055594667266859736,
           0.01939069932848617,
           0.07624560054601097,
           0.21545831316968364,
           0.08024876519905995,
           0.0648389151654961,
           0.06810843911225606,
           0.1772733928843137,
           0.036595666656668156,
           0.026721760238389444,
           0.0925041926924655,
           0.007703392057009947,
           0.009276696282218812
          ],
          "colorscale": [
           [
            0,
            "rgb(12,51,131)"
           ],
           [
            0.25,
            "rgb(10,136,186)"
           ],
           [
            0.5,
            "rgb(242,211,56)"
           ],
           [
            0.75,
            "rgb(242,143,56)"
           ],
           [
            1,
            "rgb(217,30,30)"
           ]
          ],
          "showscale": true,
          "size": 13,
          "sizemode": "diameter",
          "sizeref": 1
         },
         "mode": "markers",
         "text": [
          "Accident_Severity",
          "Number_of_Vehicles",
          "Number_of_Casualties",
          "Day_of_Week",
          "1st_Road_Class",
          "1st_Road_Number",
          "Road_Type",
          "2nd_Road_Number",
          "Pedestrian_Crossing-Human_Control",
          "Pedestrian_Crossing-Physical_Facilities",
          "Light_Conditions",
          "Weather_Conditions",
          "Road_Surface_Conditions",
          "Special_Conditions_at_Site",
          "Carriageway_Hazards",
          "Did_Police_Officer_Attend_Scene_of_Accident"
         ],
         "type": "scatter",
         "x": [
          "Accident_Severity",
          "Number_of_Vehicles",
          "Number_of_Casualties",
          "Day_of_Week",
          "1st_Road_Class",
          "1st_Road_Number",
          "Road_Type",
          "2nd_Road_Number",
          "Pedestrian_Crossing-Human_Control",
          "Pedestrian_Crossing-Physical_Facilities",
          "Light_Conditions",
          "Weather_Conditions",
          "Road_Surface_Conditions",
          "Special_Conditions_at_Site",
          "Carriageway_Hazards",
          "Did_Police_Officer_Attend_Scene_of_Accident"
         ],
         "y": [
          0.02749638664162444,
          0.0425431127594571,
          0.055594667266859736,
          0.01939069932848617,
          0.07624560054601097,
          0.21545831316968364,
          0.08024876519905995,
          0.0648389151654961,
          0.06810843911225606,
          0.1772733928843137,
          0.036595666656668156,
          0.026721760238389444,
          0.0925041926924655,
          0.007703392057009947,
          0.009276696282218812
         ]
        }
       ],
       "layout": {
        "autosize": true,
        "hovermode": "closest",
        "showlegend": false,
        "template": {
         "data": {
          "bar": [
           {
            "error_x": {
             "color": "#2a3f5f"
            },
            "error_y": {
             "color": "#2a3f5f"
            },
            "marker": {
             "line": {
              "color": "#E5ECF6",
              "width": 0.5
             }
            },
            "type": "bar"
           }
          ],
          "barpolar": [
           {
            "marker": {
             "line": {
              "color": "#E5ECF6",
              "width": 0.5
             }
            },
            "type": "barpolar"
           }
          ],
          "carpet": [
           {
            "aaxis": {
             "endlinecolor": "#2a3f5f",
             "gridcolor": "white",
             "linecolor": "white",
             "minorgridcolor": "white",
             "startlinecolor": "#2a3f5f"
            },
            "baxis": {
             "endlinecolor": "#2a3f5f",
             "gridcolor": "white",
             "linecolor": "white",
             "minorgridcolor": "white",
             "startlinecolor": "#2a3f5f"
            },
            "type": "carpet"
           }
          ],
          "choropleth": [
           {
            "colorbar": {
             "outlinewidth": 0,
             "ticks": ""
            },
            "type": "choropleth"
           }
          ],
          "contour": [
           {
            "colorbar": {
             "outlinewidth": 0,
             "ticks": ""
            },
            "colorscale": [
             [
              0,
              "#0d0887"
             ],
             [
              0.1111111111111111,
              "#46039f"
             ],
             [
              0.2222222222222222,
              "#7201a8"
             ],
             [
              0.3333333333333333,
              "#9c179e"
             ],
             [
              0.4444444444444444,
              "#bd3786"
             ],
             [
              0.5555555555555556,
              "#d8576b"
             ],
             [
              0.6666666666666666,
              "#ed7953"
             ],
             [
              0.7777777777777778,
              "#fb9f3a"
             ],
             [
              0.8888888888888888,
              "#fdca26"
             ],
             [
              1,
              "#f0f921"
             ]
            ],
            "type": "contour"
           }
          ],
          "contourcarpet": [
           {
            "colorbar": {
             "outlinewidth": 0,
             "ticks": ""
            },
            "type": "contourcarpet"
           }
          ],
          "heatmap": [
           {
            "colorbar": {
             "outlinewidth": 0,
             "ticks": ""
            },
            "colorscale": [
             [
              0,
              "#0d0887"
             ],
             [
              0.1111111111111111,
              "#46039f"
             ],
             [
              0.2222222222222222,
              "#7201a8"
             ],
             [
              0.3333333333333333,
              "#9c179e"
             ],
             [
              0.4444444444444444,
              "#bd3786"
             ],
             [
              0.5555555555555556,
              "#d8576b"
             ],
             [
              0.6666666666666666,
              "#ed7953"
             ],
             [
              0.7777777777777778,
              "#fb9f3a"
             ],
             [
              0.8888888888888888,
              "#fdca26"
             ],
             [
              1,
              "#f0f921"
             ]
            ],
            "type": "heatmap"
           }
          ],
          "heatmapgl": [
           {
            "colorbar": {
             "outlinewidth": 0,
             "ticks": ""
            },
            "colorscale": [
             [
              0,
              "#0d0887"
             ],
             [
              0.1111111111111111,
              "#46039f"
             ],
             [
              0.2222222222222222,
              "#7201a8"
             ],
             [
              0.3333333333333333,
              "#9c179e"
             ],
             [
              0.4444444444444444,
              "#bd3786"
             ],
             [
              0.5555555555555556,
              "#d8576b"
             ],
             [
              0.6666666666666666,
              "#ed7953"
             ],
             [
              0.7777777777777778,
              "#fb9f3a"
             ],
             [
              0.8888888888888888,
              "#fdca26"
             ],
             [
              1,
              "#f0f921"
             ]
            ],
            "type": "heatmapgl"
           }
          ],
          "histogram": [
           {
            "marker": {
             "colorbar": {
              "outlinewidth": 0,
              "ticks": ""
             }
            },
            "type": "histogram"
           }
          ],
          "histogram2d": [
           {
            "colorbar": {
             "outlinewidth": 0,
             "ticks": ""
            },
            "colorscale": [
             [
              0,
              "#0d0887"
             ],
             [
              0.1111111111111111,
              "#46039f"
             ],
             [
              0.2222222222222222,
              "#7201a8"
             ],
             [
              0.3333333333333333,
              "#9c179e"
             ],
             [
              0.4444444444444444,
              "#bd3786"
             ],
             [
              0.5555555555555556,
              "#d8576b"
             ],
             [
              0.6666666666666666,
              "#ed7953"
             ],
             [
              0.7777777777777778,
              "#fb9f3a"
             ],
             [
              0.8888888888888888,
              "#fdca26"
             ],
             [
              1,
              "#f0f921"
             ]
            ],
            "type": "histogram2d"
           }
          ],
          "histogram2dcontour": [
           {
            "colorbar": {
             "outlinewidth": 0,
             "ticks": ""
            },
            "colorscale": [
             [
              0,
              "#0d0887"
             ],
             [
              0.1111111111111111,
              "#46039f"
             ],
             [
              0.2222222222222222,
              "#7201a8"
             ],
             [
              0.3333333333333333,
              "#9c179e"
             ],
             [
              0.4444444444444444,
              "#bd3786"
             ],
             [
              0.5555555555555556,
              "#d8576b"
             ],
             [
              0.6666666666666666,
              "#ed7953"
             ],
             [
              0.7777777777777778,
              "#fb9f3a"
             ],
             [
              0.8888888888888888,
              "#fdca26"
             ],
             [
              1,
              "#f0f921"
             ]
            ],
            "type": "histogram2dcontour"
           }
          ],
          "mesh3d": [
           {
            "colorbar": {
             "outlinewidth": 0,
             "ticks": ""
            },
            "type": "mesh3d"
           }
          ],
          "parcoords": [
           {
            "line": {
             "colorbar": {
              "outlinewidth": 0,
              "ticks": ""
             }
            },
            "type": "parcoords"
           }
          ],
          "pie": [
           {
            "automargin": true,
            "type": "pie"
           }
          ],
          "scatter": [
           {
            "marker": {
             "colorbar": {
              "outlinewidth": 0,
              "ticks": ""
             }
            },
            "type": "scatter"
           }
          ],
          "scatter3d": [
           {
            "line": {
             "colorbar": {
              "outlinewidth": 0,
              "ticks": ""
             }
            },
            "marker": {
             "colorbar": {
              "outlinewidth": 0,
              "ticks": ""
             }
            },
            "type": "scatter3d"
           }
          ],
          "scattercarpet": [
           {
            "marker": {
             "colorbar": {
              "outlinewidth": 0,
              "ticks": ""
             }
            },
            "type": "scattercarpet"
           }
          ],
          "scattergeo": [
           {
            "marker": {
             "colorbar": {
              "outlinewidth": 0,
              "ticks": ""
             }
            },
            "type": "scattergeo"
           }
          ],
          "scattergl": [
           {
            "marker": {
             "colorbar": {
              "outlinewidth": 0,
              "ticks": ""
             }
            },
            "type": "scattergl"
           }
          ],
          "scattermapbox": [
           {
            "marker": {
             "colorbar": {
              "outlinewidth": 0,
              "ticks": ""
             }
            },
            "type": "scattermapbox"
           }
          ],
          "scatterpolar": [
           {
            "marker": {
             "colorbar": {
              "outlinewidth": 0,
              "ticks": ""
             }
            },
            "type": "scatterpolar"
           }
          ],
          "scatterpolargl": [
           {
            "marker": {
             "colorbar": {
              "outlinewidth": 0,
              "ticks": ""
             }
            },
            "type": "scatterpolargl"
           }
          ],
          "scatterternary": [
           {
            "marker": {
             "colorbar": {
              "outlinewidth": 0,
              "ticks": ""
             }
            },
            "type": "scatterternary"
           }
          ],
          "surface": [
           {
            "colorbar": {
             "outlinewidth": 0,
             "ticks": ""
            },
            "colorscale": [
             [
              0,
              "#0d0887"
             ],
             [
              0.1111111111111111,
              "#46039f"
             ],
             [
              0.2222222222222222,
              "#7201a8"
             ],
             [
              0.3333333333333333,
              "#9c179e"
             ],
             [
              0.4444444444444444,
              "#bd3786"
             ],
             [
              0.5555555555555556,
              "#d8576b"
             ],
             [
              0.6666666666666666,
              "#ed7953"
             ],
             [
              0.7777777777777778,
              "#fb9f3a"
             ],
             [
              0.8888888888888888,
              "#fdca26"
             ],
             [
              1,
              "#f0f921"
             ]
            ],
            "type": "surface"
           }
          ],
          "table": [
           {
            "cells": {
             "fill": {
              "color": "#EBF0F8"
             },
             "line": {
              "color": "white"
             }
            },
            "header": {
             "fill": {
              "color": "#C8D4E3"
             },
             "line": {
              "color": "white"
             }
            },
            "type": "table"
           }
          ]
         },
         "layout": {
          "annotationdefaults": {
           "arrowcolor": "#2a3f5f",
           "arrowhead": 0,
           "arrowwidth": 1
          },
          "autotypenumbers": "strict",
          "coloraxis": {
           "colorbar": {
            "outlinewidth": 0,
            "ticks": ""
           }
          },
          "colorscale": {
           "diverging": [
            [
             0,
             "#8e0152"
            ],
            [
             0.1,
             "#c51b7d"
            ],
            [
             0.2,
             "#de77ae"
            ],
            [
             0.3,
             "#f1b6da"
            ],
            [
             0.4,
             "#fde0ef"
            ],
            [
             0.5,
             "#f7f7f7"
            ],
            [
             0.6,
             "#e6f5d0"
            ],
            [
             0.7,
             "#b8e186"
            ],
            [
             0.8,
             "#7fbc41"
            ],
            [
             0.9,
             "#4d9221"
            ],
            [
             1,
             "#276419"
            ]
           ],
           "sequential": [
            [
             0,
             "#0d0887"
            ],
            [
             0.1111111111111111,
             "#46039f"
            ],
            [
             0.2222222222222222,
             "#7201a8"
            ],
            [
             0.3333333333333333,
             "#9c179e"
            ],
            [
             0.4444444444444444,
             "#bd3786"
            ],
            [
             0.5555555555555556,
             "#d8576b"
            ],
            [
             0.6666666666666666,
             "#ed7953"
            ],
            [
             0.7777777777777778,
             "#fb9f3a"
            ],
            [
             0.8888888888888888,
             "#fdca26"
            ],
            [
             1,
             "#f0f921"
            ]
           ],
           "sequentialminus": [
            [
             0,
             "#0d0887"
            ],
            [
             0.1111111111111111,
             "#46039f"
            ],
            [
             0.2222222222222222,
             "#7201a8"
            ],
            [
             0.3333333333333333,
             "#9c179e"
            ],
            [
             0.4444444444444444,
             "#bd3786"
            ],
            [
             0.5555555555555556,
             "#d8576b"
            ],
            [
             0.6666666666666666,
             "#ed7953"
            ],
            [
             0.7777777777777778,
             "#fb9f3a"
            ],
            [
             0.8888888888888888,
             "#fdca26"
            ],
            [
             1,
             "#f0f921"
            ]
           ]
          },
          "colorway": [
           "#636efa",
           "#EF553B",
           "#00cc96",
           "#ab63fa",
           "#FFA15A",
           "#19d3f3",
           "#FF6692",
           "#B6E880",
           "#FF97FF",
           "#FECB52"
          ],
          "font": {
           "color": "#2a3f5f"
          },
          "geo": {
           "bgcolor": "white",
           "lakecolor": "white",
           "landcolor": "#E5ECF6",
           "showlakes": true,
           "showland": true,
           "subunitcolor": "white"
          },
          "hoverlabel": {
           "align": "left"
          },
          "hovermode": "closest",
          "mapbox": {
           "style": "light"
          },
          "paper_bgcolor": "white",
          "plot_bgcolor": "#E5ECF6",
          "polar": {
           "angularaxis": {
            "gridcolor": "white",
            "linecolor": "white",
            "ticks": ""
           },
           "bgcolor": "#E5ECF6",
           "radialaxis": {
            "gridcolor": "white",
            "linecolor": "white",
            "ticks": ""
           }
          },
          "scene": {
           "xaxis": {
            "backgroundcolor": "#E5ECF6",
            "gridcolor": "white",
            "gridwidth": 2,
            "linecolor": "white",
            "showbackground": true,
            "ticks": "",
            "zerolinecolor": "white"
           },
           "yaxis": {
            "backgroundcolor": "#E5ECF6",
            "gridcolor": "white",
            "gridwidth": 2,
            "linecolor": "white",
            "showbackground": true,
            "ticks": "",
            "zerolinecolor": "white"
           },
           "zaxis": {
            "backgroundcolor": "#E5ECF6",
            "gridcolor": "white",
            "gridwidth": 2,
            "linecolor": "white",
            "showbackground": true,
            "ticks": "",
            "zerolinecolor": "white"
           }
          },
          "shapedefaults": {
           "line": {
            "color": "#2a3f5f"
           }
          },
          "ternary": {
           "aaxis": {
            "gridcolor": "white",
            "linecolor": "white",
            "ticks": ""
           },
           "baxis": {
            "gridcolor": "white",
            "linecolor": "white",
            "ticks": ""
           },
           "bgcolor": "#E5ECF6",
           "caxis": {
            "gridcolor": "white",
            "linecolor": "white",
            "ticks": ""
           }
          },
          "title": {
           "x": 0.05
          },
          "xaxis": {
           "automargin": true,
           "gridcolor": "white",
           "linecolor": "white",
           "ticks": "",
           "title": {
            "standoff": 15
           },
           "zerolinecolor": "white",
           "zerolinewidth": 2
          },
          "yaxis": {
           "automargin": true,
           "gridcolor": "white",
           "linecolor": "white",
           "ticks": "",
           "title": {
            "standoff": 15
           },
           "zerolinecolor": "white",
           "zerolinewidth": 2
          }
         }
        },
        "title": {
         "text": "Gradient Boosting Model Feature Importance"
        },
        "xaxis": {
         "showgrid": false,
         "showline": false,
         "ticklen": 5,
         "zeroline": false
        },
        "yaxis": {
         "gridwidth": 2,
         "showgrid": false,
         "ticklen": 5,
         "title": {
          "text": "Feature Importance"
         },
         "zeroline": false
        }
       }
      },
      "text/html": [
       "<div>                            <div id=\"6b7ecf28-0eaa-43b0-b065-aa8a8232e836\" class=\"plotly-graph-div\" style=\"height:525px; width:100%;\"></div>            <script type=\"text/javascript\">                require([\"plotly\"], function(Plotly) {                    window.PLOTLYENV=window.PLOTLYENV || {};                                    if (document.getElementById(\"6b7ecf28-0eaa-43b0-b065-aa8a8232e836\")) {                    Plotly.newPlot(                        \"6b7ecf28-0eaa-43b0-b065-aa8a8232e836\",                        [{\"marker\": {\"color\": [0.02749638664162444, 0.0425431127594571, 0.055594667266859736, 0.01939069932848617, 0.07624560054601097, 0.21545831316968364, 0.08024876519905995, 0.0648389151654961, 0.06810843911225606, 0.1772733928843137, 0.036595666656668156, 0.026721760238389444, 0.0925041926924655, 0.007703392057009947, 0.009276696282218812], \"colorscale\": [[0.0, \"rgb(12,51,131)\"], [0.25, \"rgb(10,136,186)\"], [0.5, \"rgb(242,211,56)\"], [0.75, \"rgb(242,143,56)\"], [1.0, \"rgb(217,30,30)\"]], \"showscale\": true, \"size\": 13, \"sizemode\": \"diameter\", \"sizeref\": 1}, \"mode\": \"markers\", \"text\": [\"Accident_Severity\", \"Number_of_Vehicles\", \"Number_of_Casualties\", \"Day_of_Week\", \"1st_Road_Class\", \"1st_Road_Number\", \"Road_Type\", \"2nd_Road_Number\", \"Pedestrian_Crossing-Human_Control\", \"Pedestrian_Crossing-Physical_Facilities\", \"Light_Conditions\", \"Weather_Conditions\", \"Road_Surface_Conditions\", \"Special_Conditions_at_Site\", \"Carriageway_Hazards\", \"Did_Police_Officer_Attend_Scene_of_Accident\"], \"type\": \"scatter\", \"x\": [\"Accident_Severity\", \"Number_of_Vehicles\", \"Number_of_Casualties\", \"Day_of_Week\", \"1st_Road_Class\", \"1st_Road_Number\", \"Road_Type\", \"2nd_Road_Number\", \"Pedestrian_Crossing-Human_Control\", \"Pedestrian_Crossing-Physical_Facilities\", \"Light_Conditions\", \"Weather_Conditions\", \"Road_Surface_Conditions\", \"Special_Conditions_at_Site\", \"Carriageway_Hazards\", \"Did_Police_Officer_Attend_Scene_of_Accident\"], \"y\": [0.02749638664162444, 0.0425431127594571, 0.055594667266859736, 0.01939069932848617, 0.07624560054601097, 0.21545831316968364, 0.08024876519905995, 0.0648389151654961, 0.06810843911225606, 0.1772733928843137, 0.036595666656668156, 0.026721760238389444, 0.0925041926924655, 0.007703392057009947, 0.009276696282218812]}],                        {\"autosize\": true, \"hovermode\": \"closest\", \"showlegend\": false, \"template\": {\"data\": {\"bar\": [{\"error_x\": {\"color\": \"#2a3f5f\"}, \"error_y\": {\"color\": \"#2a3f5f\"}, \"marker\": {\"line\": {\"color\": \"#E5ECF6\", \"width\": 0.5}}, \"type\": \"bar\"}], \"barpolar\": [{\"marker\": {\"line\": {\"color\": \"#E5ECF6\", \"width\": 0.5}}, \"type\": \"barpolar\"}], \"carpet\": [{\"aaxis\": {\"endlinecolor\": \"#2a3f5f\", \"gridcolor\": \"white\", \"linecolor\": \"white\", \"minorgridcolor\": \"white\", \"startlinecolor\": \"#2a3f5f\"}, \"baxis\": {\"endlinecolor\": \"#2a3f5f\", \"gridcolor\": \"white\", \"linecolor\": \"white\", \"minorgridcolor\": \"white\", \"startlinecolor\": \"#2a3f5f\"}, \"type\": \"carpet\"}], \"choropleth\": [{\"colorbar\": {\"outlinewidth\": 0, \"ticks\": \"\"}, \"type\": \"choropleth\"}], \"contour\": [{\"colorbar\": {\"outlinewidth\": 0, \"ticks\": \"\"}, \"colorscale\": [[0.0, \"#0d0887\"], [0.1111111111111111, \"#46039f\"], [0.2222222222222222, \"#7201a8\"], [0.3333333333333333, \"#9c179e\"], [0.4444444444444444, \"#bd3786\"], [0.5555555555555556, \"#d8576b\"], [0.6666666666666666, \"#ed7953\"], [0.7777777777777778, \"#fb9f3a\"], [0.8888888888888888, \"#fdca26\"], [1.0, \"#f0f921\"]], \"type\": \"contour\"}], \"contourcarpet\": [{\"colorbar\": {\"outlinewidth\": 0, \"ticks\": \"\"}, \"type\": \"contourcarpet\"}], \"heatmap\": [{\"colorbar\": {\"outlinewidth\": 0, \"ticks\": \"\"}, \"colorscale\": [[0.0, \"#0d0887\"], [0.1111111111111111, \"#46039f\"], [0.2222222222222222, \"#7201a8\"], [0.3333333333333333, \"#9c179e\"], [0.4444444444444444, \"#bd3786\"], [0.5555555555555556, \"#d8576b\"], [0.6666666666666666, \"#ed7953\"], [0.7777777777777778, \"#fb9f3a\"], [0.8888888888888888, \"#fdca26\"], [1.0, \"#f0f921\"]], \"type\": \"heatmap\"}], \"heatmapgl\": [{\"colorbar\": {\"outlinewidth\": 0, \"ticks\": \"\"}, \"colorscale\": [[0.0, \"#0d0887\"], [0.1111111111111111, \"#46039f\"], [0.2222222222222222, \"#7201a8\"], [0.3333333333333333, \"#9c179e\"], [0.4444444444444444, \"#bd3786\"], [0.5555555555555556, \"#d8576b\"], [0.6666666666666666, \"#ed7953\"], [0.7777777777777778, \"#fb9f3a\"], [0.8888888888888888, \"#fdca26\"], [1.0, \"#f0f921\"]], \"type\": \"heatmapgl\"}], \"histogram\": [{\"marker\": {\"colorbar\": {\"outlinewidth\": 0, \"ticks\": \"\"}}, \"type\": \"histogram\"}], \"histogram2d\": [{\"colorbar\": {\"outlinewidth\": 0, \"ticks\": \"\"}, \"colorscale\": [[0.0, \"#0d0887\"], [0.1111111111111111, \"#46039f\"], [0.2222222222222222, \"#7201a8\"], [0.3333333333333333, \"#9c179e\"], [0.4444444444444444, \"#bd3786\"], [0.5555555555555556, \"#d8576b\"], [0.6666666666666666, \"#ed7953\"], [0.7777777777777778, \"#fb9f3a\"], [0.8888888888888888, \"#fdca26\"], [1.0, \"#f0f921\"]], \"type\": \"histogram2d\"}], \"histogram2dcontour\": [{\"colorbar\": {\"outlinewidth\": 0, \"ticks\": \"\"}, \"colorscale\": [[0.0, \"#0d0887\"], [0.1111111111111111, \"#46039f\"], [0.2222222222222222, \"#7201a8\"], [0.3333333333333333, \"#9c179e\"], [0.4444444444444444, \"#bd3786\"], [0.5555555555555556, \"#d8576b\"], [0.6666666666666666, \"#ed7953\"], [0.7777777777777778, \"#fb9f3a\"], [0.8888888888888888, \"#fdca26\"], [1.0, \"#f0f921\"]], \"type\": \"histogram2dcontour\"}], \"mesh3d\": [{\"colorbar\": {\"outlinewidth\": 0, \"ticks\": \"\"}, \"type\": \"mesh3d\"}], \"parcoords\": [{\"line\": {\"colorbar\": {\"outlinewidth\": 0, \"ticks\": \"\"}}, \"type\": \"parcoords\"}], \"pie\": [{\"automargin\": true, \"type\": \"pie\"}], \"scatter\": [{\"marker\": {\"colorbar\": {\"outlinewidth\": 0, \"ticks\": \"\"}}, \"type\": \"scatter\"}], \"scatter3d\": [{\"line\": {\"colorbar\": {\"outlinewidth\": 0, \"ticks\": \"\"}}, \"marker\": {\"colorbar\": {\"outlinewidth\": 0, \"ticks\": \"\"}}, \"type\": \"scatter3d\"}], \"scattercarpet\": [{\"marker\": {\"colorbar\": {\"outlinewidth\": 0, \"ticks\": \"\"}}, \"type\": \"scattercarpet\"}], \"scattergeo\": [{\"marker\": {\"colorbar\": {\"outlinewidth\": 0, \"ticks\": \"\"}}, \"type\": \"scattergeo\"}], \"scattergl\": [{\"marker\": {\"colorbar\": {\"outlinewidth\": 0, \"ticks\": \"\"}}, \"type\": \"scattergl\"}], \"scattermapbox\": [{\"marker\": {\"colorbar\": {\"outlinewidth\": 0, \"ticks\": \"\"}}, \"type\": \"scattermapbox\"}], \"scatterpolar\": [{\"marker\": {\"colorbar\": {\"outlinewidth\": 0, \"ticks\": \"\"}}, \"type\": \"scatterpolar\"}], \"scatterpolargl\": [{\"marker\": {\"colorbar\": {\"outlinewidth\": 0, \"ticks\": \"\"}}, \"type\": \"scatterpolargl\"}], \"scatterternary\": [{\"marker\": {\"colorbar\": {\"outlinewidth\": 0, \"ticks\": \"\"}}, \"type\": \"scatterternary\"}], \"surface\": [{\"colorbar\": {\"outlinewidth\": 0, \"ticks\": \"\"}, \"colorscale\": [[0.0, \"#0d0887\"], [0.1111111111111111, \"#46039f\"], [0.2222222222222222, \"#7201a8\"], [0.3333333333333333, \"#9c179e\"], [0.4444444444444444, \"#bd3786\"], [0.5555555555555556, \"#d8576b\"], [0.6666666666666666, \"#ed7953\"], [0.7777777777777778, \"#fb9f3a\"], [0.8888888888888888, \"#fdca26\"], [1.0, \"#f0f921\"]], \"type\": \"surface\"}], \"table\": [{\"cells\": {\"fill\": {\"color\": \"#EBF0F8\"}, \"line\": {\"color\": \"white\"}}, \"header\": {\"fill\": {\"color\": \"#C8D4E3\"}, \"line\": {\"color\": \"white\"}}, \"type\": \"table\"}]}, \"layout\": {\"annotationdefaults\": {\"arrowcolor\": \"#2a3f5f\", \"arrowhead\": 0, \"arrowwidth\": 1}, \"autotypenumbers\": \"strict\", \"coloraxis\": {\"colorbar\": {\"outlinewidth\": 0, \"ticks\": \"\"}}, \"colorscale\": {\"diverging\": [[0, \"#8e0152\"], [0.1, \"#c51b7d\"], [0.2, \"#de77ae\"], [0.3, \"#f1b6da\"], [0.4, \"#fde0ef\"], [0.5, \"#f7f7f7\"], [0.6, \"#e6f5d0\"], [0.7, \"#b8e186\"], [0.8, \"#7fbc41\"], [0.9, \"#4d9221\"], [1, \"#276419\"]], \"sequential\": [[0.0, \"#0d0887\"], [0.1111111111111111, \"#46039f\"], [0.2222222222222222, \"#7201a8\"], [0.3333333333333333, \"#9c179e\"], [0.4444444444444444, \"#bd3786\"], [0.5555555555555556, \"#d8576b\"], [0.6666666666666666, \"#ed7953\"], [0.7777777777777778, \"#fb9f3a\"], [0.8888888888888888, \"#fdca26\"], [1.0, \"#f0f921\"]], \"sequentialminus\": [[0.0, \"#0d0887\"], [0.1111111111111111, \"#46039f\"], [0.2222222222222222, \"#7201a8\"], [0.3333333333333333, \"#9c179e\"], [0.4444444444444444, \"#bd3786\"], [0.5555555555555556, \"#d8576b\"], [0.6666666666666666, \"#ed7953\"], [0.7777777777777778, \"#fb9f3a\"], [0.8888888888888888, \"#fdca26\"], [1.0, \"#f0f921\"]]}, \"colorway\": [\"#636efa\", \"#EF553B\", \"#00cc96\", \"#ab63fa\", \"#FFA15A\", \"#19d3f3\", \"#FF6692\", \"#B6E880\", \"#FF97FF\", \"#FECB52\"], \"font\": {\"color\": \"#2a3f5f\"}, \"geo\": {\"bgcolor\": \"white\", \"lakecolor\": \"white\", \"landcolor\": \"#E5ECF6\", \"showlakes\": true, \"showland\": true, \"subunitcolor\": \"white\"}, \"hoverlabel\": {\"align\": \"left\"}, \"hovermode\": \"closest\", \"mapbox\": {\"style\": \"light\"}, \"paper_bgcolor\": \"white\", \"plot_bgcolor\": \"#E5ECF6\", \"polar\": {\"angularaxis\": {\"gridcolor\": \"white\", \"linecolor\": \"white\", \"ticks\": \"\"}, \"bgcolor\": \"#E5ECF6\", \"radialaxis\": {\"gridcolor\": \"white\", \"linecolor\": \"white\", \"ticks\": \"\"}}, \"scene\": {\"xaxis\": {\"backgroundcolor\": \"#E5ECF6\", \"gridcolor\": \"white\", \"gridwidth\": 2, \"linecolor\": \"white\", \"showbackground\": true, \"ticks\": \"\", \"zerolinecolor\": \"white\"}, \"yaxis\": {\"backgroundcolor\": \"#E5ECF6\", \"gridcolor\": \"white\", \"gridwidth\": 2, \"linecolor\": \"white\", \"showbackground\": true, \"ticks\": \"\", \"zerolinecolor\": \"white\"}, \"zaxis\": {\"backgroundcolor\": \"#E5ECF6\", \"gridcolor\": \"white\", \"gridwidth\": 2, \"linecolor\": \"white\", \"showbackground\": true, \"ticks\": \"\", \"zerolinecolor\": \"white\"}}, \"shapedefaults\": {\"line\": {\"color\": \"#2a3f5f\"}}, \"ternary\": {\"aaxis\": {\"gridcolor\": \"white\", \"linecolor\": \"white\", \"ticks\": \"\"}, \"baxis\": {\"gridcolor\": \"white\", \"linecolor\": \"white\", \"ticks\": \"\"}, \"bgcolor\": \"#E5ECF6\", \"caxis\": {\"gridcolor\": \"white\", \"linecolor\": \"white\", \"ticks\": \"\"}}, \"title\": {\"x\": 0.05}, \"xaxis\": {\"automargin\": true, \"gridcolor\": \"white\", \"linecolor\": \"white\", \"ticks\": \"\", \"title\": {\"standoff\": 15}, \"zerolinecolor\": \"white\", \"zerolinewidth\": 2}, \"yaxis\": {\"automargin\": true, \"gridcolor\": \"white\", \"linecolor\": \"white\", \"ticks\": \"\", \"title\": {\"standoff\": 15}, \"zerolinecolor\": \"white\", \"zerolinewidth\": 2}}}, \"title\": {\"text\": \"Gradient Boosting Model Feature Importance\"}, \"xaxis\": {\"showgrid\": false, \"showline\": false, \"ticklen\": 5, \"zeroline\": false}, \"yaxis\": {\"gridwidth\": 2, \"showgrid\": false, \"ticklen\": 5, \"title\": {\"text\": \"Feature Importance\"}, \"zeroline\": false}},                        {\"responsive\": true}                    ).then(function(){\n",
       "                            \n",
       "var gd = document.getElementById('6b7ecf28-0eaa-43b0-b065-aa8a8232e836');\n",
       "var x = new MutationObserver(function (mutations, observer) {{\n",
       "        var display = window.getComputedStyle(gd).display;\n",
       "        if (!display || display === 'none') {{\n",
       "            console.log([gd, 'removed!']);\n",
       "            Plotly.purge(gd);\n",
       "            observer.disconnect();\n",
       "        }}\n",
       "}});\n",
       "\n",
       "// Listen for the removal of the full notebook cells\n",
       "var notebookContainer = gd.closest('#notebook-container');\n",
       "if (notebookContainer) {{\n",
       "    x.observe(notebookContainer, {childList: true});\n",
       "}}\n",
       "\n",
       "// Listen for the clearing of the current output cell\n",
       "var outputEl = gd.closest('.output');\n",
       "if (outputEl) {{\n",
       "    x.observe(outputEl, {childList: true});\n",
       "}}\n",
       "\n",
       "                        })                };                });            </script>        </div>"
      ]
     },
     "metadata": {},
     "output_type": "display_data"
    }
   ],
   "source": [
    "# Scatter plot \n",
    "trace = go.Scatter(\n",
    "    y = gb.feature_importances_,\n",
    "    x = accidents_model.columns.values,\n",
    "    mode='markers',\n",
    "    marker=dict(\n",
    "        sizemode = 'diameter',\n",
    "        sizeref = 1,\n",
    "        size = 13,\n",
    "        #size= rf.feature_importances_,\n",
    "        #color = np.random.randn(500), #set color equal to a variable\n",
    "        color = gb.feature_importances_,\n",
    "        colorscale='Portland',\n",
    "        showscale=True\n",
    "    ),\n",
    "    text = accidents_model.columns.values\n",
    ")\n",
    "data = [trace]\n",
    "\n",
    "layout= go.Layout(\n",
    "    autosize= True,\n",
    "    title= 'Gradient Boosting Model Feature Importance',\n",
    "    hovermode= 'closest',\n",
    "     xaxis= dict(\n",
    "         ticklen= 5,\n",
    "         showgrid=False,\n",
    "        zeroline=False,\n",
    "        showline=False\n",
    "     ),\n",
    "    yaxis=dict(\n",
    "        title= 'Feature Importance',\n",
    "        showgrid=False,\n",
    "        zeroline=False,\n",
    "        ticklen= 5,\n",
    "        gridwidth= 2\n",
    "    ),\n",
    "    showlegend= False\n",
    ")\n",
    "fig = go.Figure(data=data, layout=layout)\n",
    "py.iplot(fig,filename='scatter')"
   ]
  },
  {
   "cell_type": "code",
   "execution_count": null,
   "id": "46ef80a0",
   "metadata": {},
   "outputs": [],
   "source": []
  }
 ],
 "metadata": {
  "kernelspec": {
   "display_name": "Python 3",
   "language": "python",
   "name": "python3"
  },
  "language_info": {
   "codemirror_mode": {
    "name": "ipython",
    "version": 3
   },
   "file_extension": ".py",
   "mimetype": "text/x-python",
   "name": "python",
   "nbconvert_exporter": "python",
   "pygments_lexer": "ipython3",
   "version": "3.9.5"
  }
 },
 "nbformat": 4,
 "nbformat_minor": 5
}
